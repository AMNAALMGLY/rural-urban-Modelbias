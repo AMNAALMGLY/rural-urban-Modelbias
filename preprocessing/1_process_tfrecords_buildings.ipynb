{
 "cells": [
  {
   "cell_type": "markdown",
   "metadata": {
    "toc": true
   },
   "source": [
    "<h1>Table of Contents<span class=\"tocSkip\"></span></h1>\n",
    "<div class=\"toc\"><ul class=\"toc-item\"><li><span><a href=\"#Pre-requisites\" data-toc-modified-id=\"Pre-requisites-1\"><span class=\"toc-item-num\">1&nbsp;&nbsp;</span>Pre-requisites</a></span></li><li><span><a href=\"#Instructions\" data-toc-modified-id=\"Instructions-2\"><span class=\"toc-item-num\">2&nbsp;&nbsp;</span>Instructions</a></span></li><li><span><a href=\"#Imports-and-Constants\" data-toc-modified-id=\"Imports-and-Constants-3\"><span class=\"toc-item-num\">3&nbsp;&nbsp;</span>Imports and Constants</a></span></li><li><span><a href=\"#Validate-and-Split-Exported-TFRecords\" data-toc-modified-id=\"Validate-and-Split-Exported-TFRecords-4\"><span class=\"toc-item-num\">4&nbsp;&nbsp;</span>Validate and Split Exported TFRecords</a></span></li><li><span><a href=\"#Calculate-Mean-and-Std-Dev-for-Each-Band\" data-toc-modified-id=\"Calculate-Mean-and-Std-Dev-for-Each-Band-5\"><span class=\"toc-item-num\">5&nbsp;&nbsp;</span>Calculate Mean and Std-Dev for Each Band</a></span></li></ul></div>"
   ]
  },
  {
   "cell_type": "markdown",
   "metadata": {
    "jp-MarkdownHeadingCollapsed": true,
    "tags": []
   },
   "source": [
    "## Pre-requisites\n",
    "\n",
    "Go through the [`preprocessing/0_export_tfrecords.ipynb`](./0_export_tfrecords.ipynb) notebook.\n",
    "\n",
    "Before running this notebook, you should have the following structure under the `data/` directory:\n",
    "\n",
    "```\n",
    "data/\n",
    "    dhs_tfrecords_raw/\n",
    "        angola_2011_00.tfrecord.gz\n",
    "        ...\n",
    "        zimbabwe_2015_XX.tfrecord.gz\n",
    "    dhsnl_tfrecords_raw/\n",
    "        angola_2010_00.tfrecord.gz\n",
    "        ...\n",
    "        zimbabwe_2016_XX.tfrecord.gz\n",
    "    lsms_tfrecords_raw/\n",
    "        ethiopia_2011_00.tfrecord.gz\n",
    "        ...\n",
    "        uganda_2013_XX.tfrecord.gz\n",
    "```\n",
    "\n",
    "## Instructions\n",
    "\n",
    "This notebook processes the exported TFRecords as follows:\n",
    "1. Verifies that the fields in the TFRecords match the original CSV files.\n",
    "2. Splits each monolithic TFRecord file exported from Google Earth Engine into one file per record.\n",
    "\n",
    "After running this notebook, you should have three new folders (`dhs_tfrecords`, `dhsnl_tfrecords`, and `lsms_tfrecords`) under `data/`:\n",
    "\n",
    "```\n",
    "data/\n",
    "    dhs_tfrecords/\n",
    "        angola_2011/\n",
    "            00000.tfrecord.gz\n",
    "            ...\n",
    "            00229.tfrecord.gz\n",
    "        ...\n",
    "        zimbabwe_2015/\n",
    "            00000.tfrecord.gz\n",
    "            ...\n",
    "            00399.tfrecord.gz\n",
    "    dhsnl_tfrecords/\n",
    "        angola_2010/\n",
    "            00000.tfrecord.gz\n",
    "            ...\n",
    "            07734.tfrecord.gz\n",
    "        zimbabwe_2016/\n",
    "            00000.tfrecord.gz\n",
    "            ...\n",
    "            03584.tfrecord.gz\n",
    "    lsms_tfrecords/\n",
    "        ethiopia_2011/\n",
    "            00000.tfrecord.gz\n",
    "            ...\n",
    "            00326.tfrecord.gz\n",
    "        uganda_2013/\n",
    "            00000.tfrecord.gz\n",
    "            ...\n",
    "            00164.tfrecord.gz\n",
    "```\n",
    "\n",
    "This notebook also calculates the mean and standard deviation of each band across each of the 3 datasets."
   ]
  },
  {
   "cell_type": "markdown",
   "metadata": {},
   "source": [
    "## Imports and Constants"
   ]
  },
  {
   "cell_type": "code",
   "execution_count": 1,
   "metadata": {},
   "outputs": [
    {
     "name": "stdout",
     "output_type": "stream",
     "text": [
      "/atlas/u/erikrozi/rural-urban-Modelbias\n",
      "/atlas/u/erikrozi/rural-urban-Modelbias\n"
     ]
    }
   ],
   "source": [
    "%load_ext autoreload\n",
    "%autoreload 2\n",
    "\n",
    "\n",
    "# change directory to repo root, and verify\n",
    "%cd '../'\n",
    "!pwd"
   ]
  },
  {
   "cell_type": "code",
   "execution_count": 51,
   "metadata": {},
   "outputs": [],
   "source": [
    "from __future__ import annotations\n",
    "\n",
    "from collections.abc import Iterable\n",
    "from glob import glob\n",
    "from pprint import pprint\n",
    "import os\n",
    "from typing import Optional\n",
    "\n",
    "import numpy as np\n",
    "import pandas as pd\n",
    "import tensorflow as tf\n",
    "from tqdm import tqdm\n",
    "import re\n",
    "\n",
    "from batchers import batcher, tfrecord_paths_utils\n",
    "from preprocessing.helper import (\n",
    "    analyze_tfrecord_batch,\n",
    "    per_band_mean_std,\n",
    "    print_analysis_results)"
   ]
  },
  {
   "cell_type": "code",
   "execution_count": 5,
   "metadata": {},
   "outputs": [],
   "source": [
    "REQUIRED_BANDS = ['long','lat']\n",
    "BUILDINGS_EXPORT_FOLDER ='/content/drive/MyDrive/dhs_geo'\n",
    "BUILDINGS_PROCESSED_FOLDER='/content/drive/MyDrive/dhs_geo_processed'\n",
    "#BUILDINGS_EXPORT_FOLDER = '/atlas/u/erikrozi/bias_mitigation/africa_poverty_clean/data/dhs_buildings_raw'\n",
    "#BUILDINGS_PROCESSED_FOLDER = '/atlas/u/erikrozi/bias_mitigation/africa_poverty_clean/data/dhs_buildings'"
   ]
  },
  {
   "cell_type": "markdown",
   "metadata": {},
   "source": [
    "## Validate and Split Exported TFRecords"
   ]
  },
  {
   "cell_type": "code",
   "execution_count": 54,
   "metadata": {},
   "outputs": [],
   "source": [
    "def process_dataset(csv_path: str, input_dir: str, processed_dir: str) -> None:\n",
    "    '''\n",
    "    Args\n",
    "    - csv_path: str, path to CSV of DHS or LSMS clusters\n",
    "    - input_dir: str, path to TFRecords exported from Google Earth Engine\n",
    "    - processed_dir: str, folder where to save processed TFRecords\n",
    "    '''\n",
    "    df = pd.read_csv(csv_path, float_precision='high', index_col=False)\n",
    "    surveys = list(df.groupby(['country', 'year']).groups.keys())  # (country, year) tuples\n",
    "    for country, year in surveys:\n",
    "        country_year = f'{country}_{year}'\n",
    "        print('Processing:', country_year)\n",
    "        tfrecord_paths = glob(os.path.join(input_dir, country_year + '*')).sort(key=lambda f: int(re.sub('\\D', '', f)))\n",
    "        out_dir = os.path.join(processed_dir, country_year)\n",
    "        os.makedirs(out_dir, exist_ok=True)\n",
    "        subset_df = df[(df['country'] == country) & (df['year'] == year)].reset_index(drop=True)\n",
    "        validate_and_split_tfrecords(\n",
    "            tfrecord_paths=tfrecord_paths, out_dir=out_dir, df=subset_df)\n",
    "def validate_and_split_tfrecords(\n",
    "        tfrecord_paths: Iterable[str],\n",
    "        out_dir: str,\n",
    "        df: pd.DataFrame\n",
    "        ) -> None:\n",
    "    '''Validates and splits a list of exported TFRecord files (for a\n",
    "    given country-year survey) into individual TFrecords, one per cluster.\n",
    "    \"Validating\" a TFRecord comprises of 2 parts\n",
    "    1) verifying that it contains the required bands\n",
    "    2) verifying that its other features match the values from the dataset CSV\n",
    "    Args\n",
    "    - tfrecord_paths: list of str, paths to exported TFRecords files\n",
    "    - out_dir: str, path to dir to save processed individual TFRecords\n",
    "    - df: pd.DataFrame, index is sequential and starts at 0\n",
    "    '''\n",
    "    print(tfrecord_paths)\n",
    "    # Create an iterator over the TFRecords file. The iterator yields\n",
    "    # the binary representations of Example messages as strings.\n",
    "    options = tf.io.TFRecordOptions(tf.compat.v1.io.TFRecordCompressionType.GZIP)\n",
    "    # cast float64 => float32 and str => bytes\n",
    "    for col in df.columns:\n",
    "        if df[col].dtype == np.float64:\n",
    "            df[col] = df[col].astype(np.float32)\n",
    "        elif df[col].dtype == object:  # pandas uses 'object' type for str\n",
    "            df[col] = df[col].astype(bytes)\n",
    "    i = 0\n",
    "    progbar = tqdm(total=len(df))\n",
    "    print(df[df['lat']==-10.556163787841797])\n",
    "    for tfrecord_path in tfrecord_paths:\n",
    "        iterator = tf.compat.v1.io.tf_record_iterator(tfrecord_path, options=options)\n",
    "        for record_str in iterator:\n",
    "            # parse into an actual Example message\n",
    "            ex = tf.train.Example.FromString(record_str)\n",
    "            feature_map = ex.features.feature\n",
    "            # verify required bands exist\n",
    "            for band in REQUIRED_BANDS:\n",
    "                assert band in feature_map, f'Band \"{band}\" not in record {i} of {tfrecord_path}'\n",
    "            # compare feature map values against CSV values\n",
    "            csv_feats = df.loc[i, :].to_dict()\n",
    "            for col, val in csv_feats.items():\n",
    "                ft_type = feature_map[col].WhichOneof('kind')\n",
    "                ex_val = feature_map[col].__getattribute__(ft_type).value[0]\n",
    "                assert val == ex_val, f'Expected {col}={val}, but found {ex_val} instead'\n",
    "            # serialize to string and write to file\n",
    "            out_path = os.path.join(out_dir, f'{i:05d}.tfrecord.gz')  # all surveys have < 1e6 clusters\n",
    "            with tf.io.TFRecordWriter(out_path, options=options) as writer:\n",
    "                writer.write(ex.SerializeToString())\n",
    "            i += 1\n",
    "            progbar.update(1)\n",
    "    progbar.close()"
   ]
  },
  {
   "cell_type": "code",
   "execution_count": 53,
   "metadata": {},
   "outputs": [
    {
     "name": "stdout",
     "output_type": "stream",
     "text": [
      "Processing: angola_2011\n",
      "None\n",
      "['/atlas/u/erikrozi/bias_mitigation/africa_poverty_clean/data/dhs_buildings_raw/angola_2011_00.tfrecord.gz', '/atlas/u/erikrozi/bias_mitigation/africa_poverty_clean/data/dhs_buildings_raw/angola_2011_01.tfrecord.gz', '/atlas/u/erikrozi/bias_mitigation/africa_poverty_clean/data/dhs_buildings_raw/angola_2011_02.tfrecord.gz', '/atlas/u/erikrozi/bias_mitigation/africa_poverty_clean/data/dhs_buildings_raw/angola_2011_03.tfrecord.gz', '/atlas/u/erikrozi/bias_mitigation/africa_poverty_clean/data/dhs_buildings_raw/angola_2011_04.tfrecord.gz', '/atlas/u/erikrozi/bias_mitigation/africa_poverty_clean/data/dhs_buildings_raw/angola_2011_05.tfrecord.gz', '/atlas/u/erikrozi/bias_mitigation/africa_poverty_clean/data/dhs_buildings_raw/angola_2011_06.tfrecord.gz', '/atlas/u/erikrozi/bias_mitigation/africa_poverty_clean/data/dhs_buildings_raw/angola_2011_07.tfrecord.gz', '/atlas/u/erikrozi/bias_mitigation/africa_poverty_clean/data/dhs_buildings_raw/angola_2011_08.tfrecord.gz', '/atlas/u/erikrozi/bias_mitigation/africa_poverty_clean/data/dhs_buildings_raw/angola_2011_09.tfrecord.gz', '/atlas/u/erikrozi/bias_mitigation/africa_poverty_clean/data/dhs_buildings_raw/angola_2011_10.tfrecord.gz', '/atlas/u/erikrozi/bias_mitigation/africa_poverty_clean/data/dhs_buildings_raw/angola_2011_11.tfrecord.gz', '/atlas/u/erikrozi/bias_mitigation/africa_poverty_clean/data/dhs_buildings_raw/angola_2011_12.tfrecord.gz', '/atlas/u/erikrozi/bias_mitigation/africa_poverty_clean/data/dhs_buildings_raw/angola_2011_13.tfrecord.gz', '/atlas/u/erikrozi/bias_mitigation/africa_poverty_clean/data/dhs_buildings_raw/angola_2011_14.tfrecord.gz', '/atlas/u/erikrozi/bias_mitigation/africa_poverty_clean/data/dhs_buildings_raw/angola_2011_15.tfrecord.gz', '/atlas/u/erikrozi/bias_mitigation/africa_poverty_clean/data/dhs_buildings_raw/angola_2011_16.tfrecord.gz', '/atlas/u/erikrozi/bias_mitigation/africa_poverty_clean/data/dhs_buildings_raw/angola_2011_17.tfrecord.gz', '/atlas/u/erikrozi/bias_mitigation/africa_poverty_clean/data/dhs_buildings_raw/angola_2011_18.tfrecord.gz', '/atlas/u/erikrozi/bias_mitigation/africa_poverty_clean/data/dhs_buildings_raw/angola_2011_19.tfrecord.gz', '/atlas/u/erikrozi/bias_mitigation/africa_poverty_clean/data/dhs_buildings_raw/angola_2011_20.tfrecord.gz', '/atlas/u/erikrozi/bias_mitigation/africa_poverty_clean/data/dhs_buildings_raw/angola_2011_21.tfrecord.gz', '/atlas/u/erikrozi/bias_mitigation/africa_poverty_clean/data/dhs_buildings_raw/angola_2011_22.tfrecord.gz', '/atlas/u/erikrozi/bias_mitigation/africa_poverty_clean/data/dhs_buildings_raw/angola_2011_23.tfrecord.gz', '/atlas/u/erikrozi/bias_mitigation/africa_poverty_clean/data/dhs_buildings_raw/angola_2011_24.tfrecord.gz', '/atlas/u/erikrozi/bias_mitigation/africa_poverty_clean/data/dhs_buildings_raw/angola_2011_25.tfrecord.gz', '/atlas/u/erikrozi/bias_mitigation/africa_poverty_clean/data/dhs_buildings_raw/angola_2011_26.tfrecord.gz', '/atlas/u/erikrozi/bias_mitigation/africa_poverty_clean/data/dhs_buildings_raw/angola_2011_27.tfrecord.gz', '/atlas/u/erikrozi/bias_mitigation/africa_poverty_clean/data/dhs_buildings_raw/angola_2011_28.tfrecord.gz', '/atlas/u/erikrozi/bias_mitigation/africa_poverty_clean/data/dhs_buildings_raw/angola_2011_29.tfrecord.gz', '/atlas/u/erikrozi/bias_mitigation/africa_poverty_clean/data/dhs_buildings_raw/angola_2011_30.tfrecord.gz', '/atlas/u/erikrozi/bias_mitigation/africa_poverty_clean/data/dhs_buildings_raw/angola_2011_31.tfrecord.gz', '/atlas/u/erikrozi/bias_mitigation/africa_poverty_clean/data/dhs_buildings_raw/angola_2011_32.tfrecord.gz', '/atlas/u/erikrozi/bias_mitigation/africa_poverty_clean/data/dhs_buildings_raw/angola_2011_33.tfrecord.gz', '/atlas/u/erikrozi/bias_mitigation/africa_poverty_clean/data/dhs_buildings_raw/angola_2011_34.tfrecord.gz', '/atlas/u/erikrozi/bias_mitigation/africa_poverty_clean/data/dhs_buildings_raw/angola_2011_35.tfrecord.gz', '/atlas/u/erikrozi/bias_mitigation/africa_poverty_clean/data/dhs_buildings_raw/angola_2011_36.tfrecord.gz', '/atlas/u/erikrozi/bias_mitigation/africa_poverty_clean/data/dhs_buildings_raw/angola_2011_37.tfrecord.gz', '/atlas/u/erikrozi/bias_mitigation/africa_poverty_clean/data/dhs_buildings_raw/angola_2011_38.tfrecord.gz', '/atlas/u/erikrozi/bias_mitigation/africa_poverty_clean/data/dhs_buildings_raw/angola_2011_39.tfrecord.gz', '/atlas/u/erikrozi/bias_mitigation/africa_poverty_clean/data/dhs_buildings_raw/angola_2011_40.tfrecord.gz', '/atlas/u/erikrozi/bias_mitigation/africa_poverty_clean/data/dhs_buildings_raw/angola_2011_41.tfrecord.gz', '/atlas/u/erikrozi/bias_mitigation/africa_poverty_clean/data/dhs_buildings_raw/angola_2011_42.tfrecord.gz', '/atlas/u/erikrozi/bias_mitigation/africa_poverty_clean/data/dhs_buildings_raw/angola_2011_43.tfrecord.gz', '/atlas/u/erikrozi/bias_mitigation/africa_poverty_clean/data/dhs_buildings_raw/angola_2011_44.tfrecord.gz', '/atlas/u/erikrozi/bias_mitigation/africa_poverty_clean/data/dhs_buildings_raw/angola_2011_45.tfrecord.gz']\n"
     ]
    },
    {
     "name": "stderr",
     "output_type": "stream",
     "text": [
      "  0%|          | 1/230 [00:00<00:43,  5.25it/s]"
     ]
    },
    {
     "name": "stdout",
     "output_type": "stream",
     "text": [
      "      country  year        lat        lon      GID_1        GID_2  \\\n",
      "70  b'angola'  2011 -10.556164  22.039558  b'AGO.13'  b'AGO.13.3'   \n",
      "\n",
      "    wealthpooled  households  urban_rural  \n",
      "70     -1.128011          37            0  \n"
     ]
    },
    {
     "name": "stderr",
     "output_type": "stream",
     "text": [
      "100%|██████████| 230/230 [00:06<00:00, 34.35it/s]\n"
     ]
    },
    {
     "name": "stdout",
     "output_type": "stream",
     "text": [
      "Processing: angola_2015\n",
      "None\n",
      "['/atlas/u/erikrozi/bias_mitigation/africa_poverty_clean/data/dhs_buildings_raw/angola_2015_00.tfrecord.gz']\n"
     ]
    },
    {
     "name": "stderr",
     "output_type": "stream",
     "text": [
      "  1%|          | 7/625 [00:00<00:09, 61.89it/s]"
     ]
    },
    {
     "name": "stdout",
     "output_type": "stream",
     "text": [
      "Empty DataFrame\n",
      "Columns: [country, year, lat, lon, GID_1, GID_2, wealthpooled, households, urban_rural]\n",
      "Index: []\n"
     ]
    },
    {
     "name": "stderr",
     "output_type": "stream",
     "text": [
      "100%|██████████| 625/625 [00:07<00:00, 83.31it/s] \n"
     ]
    },
    {
     "name": "stdout",
     "output_type": "stream",
     "text": [
      "Processing: benin_2012\n",
      "None\n",
      "['/atlas/u/erikrozi/bias_mitigation/africa_poverty_clean/data/dhs_buildings_raw/benin_2012_00.tfrecord.gz']\n"
     ]
    },
    {
     "name": "stderr",
     "output_type": "stream",
     "text": [
      "  3%|▎         | 19/746 [00:00<00:04, 178.87it/s]"
     ]
    },
    {
     "name": "stdout",
     "output_type": "stream",
     "text": [
      "Empty DataFrame\n",
      "Columns: [country, year, lat, lon, GID_1, GID_2, wealthpooled, households, urban_rural]\n",
      "Index: []\n"
     ]
    },
    {
     "name": "stderr",
     "output_type": "stream",
     "text": [
      "100%|██████████| 746/746 [00:07<00:00, 96.04it/s] \n"
     ]
    },
    {
     "name": "stdout",
     "output_type": "stream",
     "text": [
      "Processing: burkina_faso_2010\n",
      "None\n",
      "['/atlas/u/erikrozi/bias_mitigation/africa_poverty_clean/data/dhs_buildings_raw/burkina_faso_2010_00.tfrecord.gz']\n"
     ]
    },
    {
     "name": "stderr",
     "output_type": "stream",
     "text": [
      "  1%|▏         | 8/541 [00:00<00:07, 75.69it/s]"
     ]
    },
    {
     "name": "stdout",
     "output_type": "stream",
     "text": [
      "Empty DataFrame\n",
      "Columns: [country, year, lat, lon, GID_1, GID_2, wealthpooled, households, urban_rural]\n",
      "Index: []\n"
     ]
    },
    {
     "name": "stderr",
     "output_type": "stream",
     "text": [
      "100%|██████████| 541/541 [00:04<00:00, 111.46it/s]\n"
     ]
    },
    {
     "name": "stdout",
     "output_type": "stream",
     "text": [
      "Processing: burkina_faso_2014\n",
      "None\n",
      "['/atlas/u/erikrozi/bias_mitigation/africa_poverty_clean/data/dhs_buildings_raw/burkina_faso_2014_00.tfrecord.gz']\n"
     ]
    },
    {
     "name": "stderr",
     "output_type": "stream",
     "text": [
      "  7%|▋         | 17/248 [00:00<00:01, 167.87it/s]"
     ]
    },
    {
     "name": "stdout",
     "output_type": "stream",
     "text": [
      "Empty DataFrame\n",
      "Columns: [country, year, lat, lon, GID_1, GID_2, wealthpooled, households, urban_rural]\n",
      "Index: []\n"
     ]
    },
    {
     "name": "stderr",
     "output_type": "stream",
     "text": [
      "100%|██████████| 248/248 [00:02<00:00, 111.94it/s]\n"
     ]
    },
    {
     "name": "stdout",
     "output_type": "stream",
     "text": [
      "Processing: cameroon_2011\n",
      "None\n",
      "['/atlas/u/erikrozi/bias_mitigation/africa_poverty_clean/data/dhs_buildings_raw/cameroon_2011_00.tfrecord.gz']\n"
     ]
    },
    {
     "name": "stderr",
     "output_type": "stream",
     "text": [
      "  4%|▍         | 23/576 [00:00<00:02, 222.33it/s]"
     ]
    },
    {
     "name": "stdout",
     "output_type": "stream",
     "text": [
      "Empty DataFrame\n",
      "Columns: [country, year, lat, lon, GID_1, GID_2, wealthpooled, households, urban_rural]\n",
      "Index: []\n"
     ]
    },
    {
     "name": "stderr",
     "output_type": "stream",
     "text": [
      "100%|██████████| 576/576 [00:02<00:00, 227.62it/s]\n"
     ]
    },
    {
     "name": "stdout",
     "output_type": "stream",
     "text": [
      "Processing: cote_d_ivoire_2012\n",
      "None\n",
      "['/atlas/u/erikrozi/bias_mitigation/africa_poverty_clean/data/dhs_buildings_raw/cote_d_ivoire_2012_00.tfrecord.gz']\n"
     ]
    },
    {
     "name": "stderr",
     "output_type": "stream",
     "text": [
      "  3%|▎         | 9/341 [00:00<00:05, 65.51it/s]"
     ]
    },
    {
     "name": "stdout",
     "output_type": "stream",
     "text": [
      "Empty DataFrame\n",
      "Columns: [country, year, lat, lon, GID_1, GID_2, wealthpooled, households, urban_rural]\n",
      "Index: []\n"
     ]
    },
    {
     "name": "stderr",
     "output_type": "stream",
     "text": [
      "100%|██████████| 341/341 [00:03<00:00, 91.00it/s] \n"
     ]
    },
    {
     "name": "stdout",
     "output_type": "stream",
     "text": [
      "Processing: democratic_republic_of_congo_2013\n",
      "None\n",
      "['/atlas/u/erikrozi/bias_mitigation/africa_poverty_clean/data/dhs_buildings_raw/democratic_republic_of_congo_2013_00.tfrecord.gz']\n"
     ]
    },
    {
     "name": "stderr",
     "output_type": "stream",
     "text": [
      "  1%|▏         | 7/492 [00:00<00:07, 63.88it/s]"
     ]
    },
    {
     "name": "stdout",
     "output_type": "stream",
     "text": [
      "Empty DataFrame\n",
      "Columns: [country, year, lat, lon, GID_1, GID_2, wealthpooled, households, urban_rural]\n",
      "Index: []\n"
     ]
    },
    {
     "name": "stderr",
     "output_type": "stream",
     "text": [
      "100%|██████████| 492/492 [00:04<00:00, 111.47it/s]\n"
     ]
    },
    {
     "name": "stdout",
     "output_type": "stream",
     "text": [
      "Processing: ethiopia_2010\n",
      "None\n",
      "['/atlas/u/erikrozi/bias_mitigation/africa_poverty_clean/data/dhs_buildings_raw/ethiopia_2010_00.tfrecord.gz']\n"
     ]
    },
    {
     "name": "stderr",
     "output_type": "stream",
     "text": [
      "  2%|▏         | 9/571 [00:00<00:06, 81.77it/s]"
     ]
    },
    {
     "name": "stdout",
     "output_type": "stream",
     "text": [
      "Empty DataFrame\n",
      "Columns: [country, year, lat, lon, GID_1, GID_2, wealthpooled, households, urban_rural]\n",
      "Index: []\n"
     ]
    },
    {
     "name": "stderr",
     "output_type": "stream",
     "text": [
      "100%|██████████| 571/571 [00:05<00:00, 108.35it/s]\n"
     ]
    },
    {
     "name": "stdout",
     "output_type": "stream",
     "text": [
      "Processing: ethiopia_2016\n",
      "None\n",
      "['/atlas/u/erikrozi/bias_mitigation/africa_poverty_clean/data/dhs_buildings_raw/ethiopia_2016_00.tfrecord.gz']\n"
     ]
    },
    {
     "name": "stderr",
     "output_type": "stream",
     "text": [
      "  2%|▏         | 10/622 [00:00<00:06, 96.36it/s]"
     ]
    },
    {
     "name": "stdout",
     "output_type": "stream",
     "text": [
      "Empty DataFrame\n",
      "Columns: [country, year, lat, lon, GID_1, GID_2, wealthpooled, households, urban_rural]\n",
      "Index: []\n"
     ]
    },
    {
     "name": "stderr",
     "output_type": "stream",
     "text": [
      "100%|██████████| 622/622 [00:06<00:00, 94.69it/s] \n"
     ]
    },
    {
     "name": "stdout",
     "output_type": "stream",
     "text": [
      "Processing: ghana_2014\n",
      "None\n",
      "['/atlas/u/erikrozi/bias_mitigation/africa_poverty_clean/data/dhs_buildings_raw/ghana_2014_00.tfrecord.gz']\n"
     ]
    },
    {
     "name": "stderr",
     "output_type": "stream",
     "text": [
      "  1%|          | 4/422 [00:00<00:10, 39.30it/s]"
     ]
    },
    {
     "name": "stdout",
     "output_type": "stream",
     "text": [
      "Empty DataFrame\n",
      "Columns: [country, year, lat, lon, GID_1, GID_2, wealthpooled, households, urban_rural]\n",
      "Index: []\n"
     ]
    },
    {
     "name": "stderr",
     "output_type": "stream",
     "text": [
      "100%|██████████| 422/422 [00:05<00:00, 81.63it/s] \n"
     ]
    },
    {
     "name": "stdout",
     "output_type": "stream",
     "text": [
      "Processing: ghana_2016\n",
      "None\n",
      "['/atlas/u/erikrozi/bias_mitigation/africa_poverty_clean/data/dhs_buildings_raw/ghana_2016_00.tfrecord.gz']\n"
     ]
    },
    {
     "name": "stderr",
     "output_type": "stream",
     "text": [
      "  5%|▍         | 9/192 [00:00<00:02, 87.66it/s]"
     ]
    },
    {
     "name": "stdout",
     "output_type": "stream",
     "text": [
      "Empty DataFrame\n",
      "Columns: [country, year, lat, lon, GID_1, GID_2, wealthpooled, households, urban_rural]\n",
      "Index: []\n"
     ]
    },
    {
     "name": "stderr",
     "output_type": "stream",
     "text": [
      "100%|██████████| 192/192 [00:02<00:00, 88.40it/s] \n"
     ]
    },
    {
     "name": "stdout",
     "output_type": "stream",
     "text": [
      "Processing: guinea_2012\n",
      "None\n",
      "['/atlas/u/erikrozi/bias_mitigation/africa_poverty_clean/data/dhs_buildings_raw/guinea_2012_00.tfrecord.gz']\n"
     ]
    },
    {
     "name": "stderr",
     "output_type": "stream",
     "text": [
      "  3%|▎         | 8/300 [00:00<00:03, 76.95it/s]"
     ]
    },
    {
     "name": "stdout",
     "output_type": "stream",
     "text": [
      "Empty DataFrame\n",
      "Columns: [country, year, lat, lon, GID_1, GID_2, wealthpooled, households, urban_rural]\n",
      "Index: []\n"
     ]
    },
    {
     "name": "stderr",
     "output_type": "stream",
     "text": [
      "100%|██████████| 300/300 [00:02<00:00, 104.71it/s]\n"
     ]
    },
    {
     "name": "stdout",
     "output_type": "stream",
     "text": [
      "Processing: kenya_2014\n",
      "None\n",
      "['/atlas/u/erikrozi/bias_mitigation/africa_poverty_clean/data/dhs_buildings_raw/kenya_2014_00.tfrecord.gz']\n"
     ]
    },
    {
     "name": "stderr",
     "output_type": "stream",
     "text": [
      "  0%|          | 3/1585 [00:00<01:11, 22.11it/s]"
     ]
    },
    {
     "name": "stdout",
     "output_type": "stream",
     "text": [
      "Empty DataFrame\n",
      "Columns: [country, year, lat, lon, GID_1, GID_2, wealthpooled, households, urban_rural]\n",
      "Index: []\n"
     ]
    },
    {
     "name": "stderr",
     "output_type": "stream",
     "text": [
      "100%|██████████| 1585/1585 [00:15<00:00, 103.64it/s]\n"
     ]
    },
    {
     "name": "stdout",
     "output_type": "stream",
     "text": [
      "Processing: kenya_2015\n",
      "None\n",
      "['/atlas/u/erikrozi/bias_mitigation/africa_poverty_clean/data/dhs_buildings_raw/kenya_2015_00.tfrecord.gz']\n"
     ]
    },
    {
     "name": "stderr",
     "output_type": "stream",
     "text": [
      "  2%|▏         | 5/245 [00:00<00:04, 49.54it/s]"
     ]
    },
    {
     "name": "stdout",
     "output_type": "stream",
     "text": [
      "Empty DataFrame\n",
      "Columns: [country, year, lat, lon, GID_1, GID_2, wealthpooled, households, urban_rural]\n",
      "Index: []\n"
     ]
    },
    {
     "name": "stderr",
     "output_type": "stream",
     "text": [
      "100%|██████████| 245/245 [00:02<00:00, 97.34it/s] \n"
     ]
    },
    {
     "name": "stdout",
     "output_type": "stream",
     "text": [
      "Processing: lesotho_2009\n",
      "None\n",
      "['/atlas/u/erikrozi/bias_mitigation/africa_poverty_clean/data/dhs_buildings_raw/lesotho_2009_00.tfrecord.gz']\n"
     ]
    },
    {
     "name": "stderr",
     "output_type": "stream",
     "text": [
      "  3%|▎         | 13/395 [00:00<00:03, 124.97it/s]"
     ]
    },
    {
     "name": "stdout",
     "output_type": "stream",
     "text": [
      "Empty DataFrame\n",
      "Columns: [country, year, lat, lon, GID_1, GID_2, wealthpooled, households, urban_rural]\n",
      "Index: []\n"
     ]
    },
    {
     "name": "stderr",
     "output_type": "stream",
     "text": [
      "100%|██████████| 395/395 [00:02<00:00, 138.73it/s]\n"
     ]
    },
    {
     "name": "stdout",
     "output_type": "stream",
     "text": [
      "Processing: lesotho_2014\n",
      "None\n",
      "['/atlas/u/erikrozi/bias_mitigation/africa_poverty_clean/data/dhs_buildings_raw/lesotho_2014_00.tfrecord.gz']\n"
     ]
    },
    {
     "name": "stderr",
     "output_type": "stream",
     "text": [
      "  2%|▏         | 9/399 [00:00<00:04, 89.59it/s]"
     ]
    },
    {
     "name": "stdout",
     "output_type": "stream",
     "text": [
      "Empty DataFrame\n",
      "Columns: [country, year, lat, lon, GID_1, GID_2, wealthpooled, households, urban_rural]\n",
      "Index: []\n"
     ]
    },
    {
     "name": "stderr",
     "output_type": "stream",
     "text": [
      "100%|██████████| 399/399 [00:03<00:00, 128.17it/s]\n"
     ]
    },
    {
     "name": "stdout",
     "output_type": "stream",
     "text": [
      "Processing: malawi_2010\n",
      "None\n",
      "['/atlas/u/erikrozi/bias_mitigation/africa_poverty_clean/data/dhs_buildings_raw/malawi_2010_00.tfrecord.gz']\n"
     ]
    },
    {
     "name": "stderr",
     "output_type": "stream",
     "text": [
      "  2%|▏         | 15/827 [00:00<00:05, 141.29it/s]"
     ]
    },
    {
     "name": "stdout",
     "output_type": "stream",
     "text": [
      "Empty DataFrame\n",
      "Columns: [country, year, lat, lon, GID_1, GID_2, wealthpooled, households, urban_rural]\n",
      "Index: []\n"
     ]
    },
    {
     "name": "stderr",
     "output_type": "stream",
     "text": [
      "100%|██████████| 827/827 [00:07<00:00, 117.81it/s]\n"
     ]
    },
    {
     "name": "stdout",
     "output_type": "stream",
     "text": [
      "Processing: malawi_2012\n",
      "None\n",
      "['/atlas/u/erikrozi/bias_mitigation/africa_poverty_clean/data/dhs_buildings_raw/malawi_2012_00.tfrecord.gz']\n"
     ]
    },
    {
     "name": "stderr",
     "output_type": "stream",
     "text": [
      " 10%|█         | 14/140 [00:00<00:00, 136.38it/s]"
     ]
    },
    {
     "name": "stdout",
     "output_type": "stream",
     "text": [
      "Empty DataFrame\n",
      "Columns: [country, year, lat, lon, GID_1, GID_2, wealthpooled, households, urban_rural]\n",
      "Index: []\n"
     ]
    },
    {
     "name": "stderr",
     "output_type": "stream",
     "text": [
      "100%|██████████| 140/140 [00:01<00:00, 98.50it/s] \n"
     ]
    },
    {
     "name": "stdout",
     "output_type": "stream",
     "text": [
      "Processing: malawi_2014\n",
      "None\n",
      "['/atlas/u/erikrozi/bias_mitigation/africa_poverty_clean/data/dhs_buildings_raw/malawi_2014_00.tfrecord.gz']\n"
     ]
    },
    {
     "name": "stderr",
     "output_type": "stream",
     "text": [
      " 11%|█▏        | 16/140 [00:00<00:00, 152.92it/s]"
     ]
    },
    {
     "name": "stdout",
     "output_type": "stream",
     "text": [
      "Empty DataFrame\n",
      "Columns: [country, year, lat, lon, GID_1, GID_2, wealthpooled, households, urban_rural]\n",
      "Index: []\n"
     ]
    },
    {
     "name": "stderr",
     "output_type": "stream",
     "text": [
      "100%|██████████| 140/140 [00:01<00:00, 105.58it/s]\n"
     ]
    },
    {
     "name": "stdout",
     "output_type": "stream",
     "text": [
      "Processing: malawi_2015\n",
      "None\n",
      "['/atlas/u/erikrozi/bias_mitigation/africa_poverty_clean/data/dhs_buildings_raw/malawi_2015_00.tfrecord.gz']\n"
     ]
    },
    {
     "name": "stderr",
     "output_type": "stream",
     "text": [
      "  2%|▏         | 18/850 [00:00<00:04, 172.53it/s]"
     ]
    },
    {
     "name": "stdout",
     "output_type": "stream",
     "text": [
      "Empty DataFrame\n",
      "Columns: [country, year, lat, lon, GID_1, GID_2, wealthpooled, households, urban_rural]\n",
      "Index: []\n"
     ]
    },
    {
     "name": "stderr",
     "output_type": "stream",
     "text": [
      "100%|██████████| 850/850 [00:05<00:00, 142.40it/s]\n"
     ]
    },
    {
     "name": "stdout",
     "output_type": "stream",
     "text": [
      "Processing: mali_2012\n",
      "None\n",
      "['/atlas/u/erikrozi/bias_mitigation/africa_poverty_clean/data/dhs_buildings_raw/mali_2012_00.tfrecord.gz']\n"
     ]
    },
    {
     "name": "stderr",
     "output_type": "stream",
     "text": [
      "  6%|▌         | 23/413 [00:00<00:01, 227.69it/s]"
     ]
    },
    {
     "name": "stdout",
     "output_type": "stream",
     "text": [
      "Empty DataFrame\n",
      "Columns: [country, year, lat, lon, GID_1, GID_2, wealthpooled, households, urban_rural]\n",
      "Index: []\n"
     ]
    },
    {
     "name": "stderr",
     "output_type": "stream",
     "text": [
      "100%|██████████| 413/413 [00:01<00:00, 229.89it/s]\n"
     ]
    },
    {
     "name": "stdout",
     "output_type": "stream",
     "text": [
      "Processing: mali_2015\n",
      "None\n",
      "['/atlas/u/erikrozi/bias_mitigation/africa_poverty_clean/data/dhs_buildings_raw/mali_2015_00.tfrecord.gz']\n"
     ]
    },
    {
     "name": "stderr",
     "output_type": "stream",
     "text": [
      " 13%|█▎        | 23/177 [00:00<00:00, 225.58it/s]"
     ]
    },
    {
     "name": "stdout",
     "output_type": "stream",
     "text": [
      "Empty DataFrame\n",
      "Columns: [country, year, lat, lon, GID_1, GID_2, wealthpooled, households, urban_rural]\n",
      "Index: []\n"
     ]
    },
    {
     "name": "stderr",
     "output_type": "stream",
     "text": [
      "100%|██████████| 177/177 [00:00<00:00, 225.91it/s]\n"
     ]
    },
    {
     "name": "stdout",
     "output_type": "stream",
     "text": [
      "Processing: mozambique_2009\n",
      "None\n",
      "['/atlas/u/erikrozi/bias_mitigation/africa_poverty_clean/data/dhs_buildings_raw/mozambique_2009_00.tfrecord.gz']\n"
     ]
    },
    {
     "name": "stderr",
     "output_type": "stream",
     "text": [
      "  3%|▎         | 9/270 [00:00<00:03, 83.99it/s]"
     ]
    },
    {
     "name": "stdout",
     "output_type": "stream",
     "text": [
      "Empty DataFrame\n",
      "Columns: [country, year, lat, lon, GID_1, GID_2, wealthpooled, households, urban_rural]\n",
      "Index: []\n"
     ]
    },
    {
     "name": "stderr",
     "output_type": "stream",
     "text": [
      "100%|██████████| 270/270 [00:05<00:00, 45.82it/s] \n"
     ]
    },
    {
     "name": "stdout",
     "output_type": "stream",
     "text": [
      "Processing: mozambique_2011\n",
      "None\n",
      "['/atlas/u/erikrozi/bias_mitigation/africa_poverty_clean/data/dhs_buildings_raw/mozambique_2011_00.tfrecord.gz', '/atlas/u/erikrozi/bias_mitigation/africa_poverty_clean/data/dhs_buildings_raw/mozambique_2011_01.tfrecord.gz', '/atlas/u/erikrozi/bias_mitigation/africa_poverty_clean/data/dhs_buildings_raw/mozambique_2011_02.tfrecord.gz', '/atlas/u/erikrozi/bias_mitigation/africa_poverty_clean/data/dhs_buildings_raw/mozambique_2011_03.tfrecord.gz', '/atlas/u/erikrozi/bias_mitigation/africa_poverty_clean/data/dhs_buildings_raw/mozambique_2011_04.tfrecord.gz', '/atlas/u/erikrozi/bias_mitigation/africa_poverty_clean/data/dhs_buildings_raw/mozambique_2011_05.tfrecord.gz', '/atlas/u/erikrozi/bias_mitigation/africa_poverty_clean/data/dhs_buildings_raw/mozambique_2011_06.tfrecord.gz', '/atlas/u/erikrozi/bias_mitigation/africa_poverty_clean/data/dhs_buildings_raw/mozambique_2011_07.tfrecord.gz', '/atlas/u/erikrozi/bias_mitigation/africa_poverty_clean/data/dhs_buildings_raw/mozambique_2011_08.tfrecord.gz', '/atlas/u/erikrozi/bias_mitigation/africa_poverty_clean/data/dhs_buildings_raw/mozambique_2011_09.tfrecord.gz', '/atlas/u/erikrozi/bias_mitigation/africa_poverty_clean/data/dhs_buildings_raw/mozambique_2011_10.tfrecord.gz', '/atlas/u/erikrozi/bias_mitigation/africa_poverty_clean/data/dhs_buildings_raw/mozambique_2011_11.tfrecord.gz', '/atlas/u/erikrozi/bias_mitigation/africa_poverty_clean/data/dhs_buildings_raw/mozambique_2011_12.tfrecord.gz', '/atlas/u/erikrozi/bias_mitigation/africa_poverty_clean/data/dhs_buildings_raw/mozambique_2011_13.tfrecord.gz', '/atlas/u/erikrozi/bias_mitigation/africa_poverty_clean/data/dhs_buildings_raw/mozambique_2011_14.tfrecord.gz', '/atlas/u/erikrozi/bias_mitigation/africa_poverty_clean/data/dhs_buildings_raw/mozambique_2011_15.tfrecord.gz', '/atlas/u/erikrozi/bias_mitigation/africa_poverty_clean/data/dhs_buildings_raw/mozambique_2011_16.tfrecord.gz', '/atlas/u/erikrozi/bias_mitigation/africa_poverty_clean/data/dhs_buildings_raw/mozambique_2011_17.tfrecord.gz', '/atlas/u/erikrozi/bias_mitigation/africa_poverty_clean/data/dhs_buildings_raw/mozambique_2011_18.tfrecord.gz', '/atlas/u/erikrozi/bias_mitigation/africa_poverty_clean/data/dhs_buildings_raw/mozambique_2011_19.tfrecord.gz', '/atlas/u/erikrozi/bias_mitigation/africa_poverty_clean/data/dhs_buildings_raw/mozambique_2011_20.tfrecord.gz', '/atlas/u/erikrozi/bias_mitigation/africa_poverty_clean/data/dhs_buildings_raw/mozambique_2011_21.tfrecord.gz', '/atlas/u/erikrozi/bias_mitigation/africa_poverty_clean/data/dhs_buildings_raw/mozambique_2011_22.tfrecord.gz', '/atlas/u/erikrozi/bias_mitigation/africa_poverty_clean/data/dhs_buildings_raw/mozambique_2011_23.tfrecord.gz', '/atlas/u/erikrozi/bias_mitigation/africa_poverty_clean/data/dhs_buildings_raw/mozambique_2011_24.tfrecord.gz', '/atlas/u/erikrozi/bias_mitigation/africa_poverty_clean/data/dhs_buildings_raw/mozambique_2011_25.tfrecord.gz', '/atlas/u/erikrozi/bias_mitigation/africa_poverty_clean/data/dhs_buildings_raw/mozambique_2011_26.tfrecord.gz', '/atlas/u/erikrozi/bias_mitigation/africa_poverty_clean/data/dhs_buildings_raw/mozambique_2011_27.tfrecord.gz', '/atlas/u/erikrozi/bias_mitigation/africa_poverty_clean/data/dhs_buildings_raw/mozambique_2011_28.tfrecord.gz', '/atlas/u/erikrozi/bias_mitigation/africa_poverty_clean/data/dhs_buildings_raw/mozambique_2011_29.tfrecord.gz', '/atlas/u/erikrozi/bias_mitigation/africa_poverty_clean/data/dhs_buildings_raw/mozambique_2011_30.tfrecord.gz', '/atlas/u/erikrozi/bias_mitigation/africa_poverty_clean/data/dhs_buildings_raw/mozambique_2011_31.tfrecord.gz', '/atlas/u/erikrozi/bias_mitigation/africa_poverty_clean/data/dhs_buildings_raw/mozambique_2011_32.tfrecord.gz', '/atlas/u/erikrozi/bias_mitigation/africa_poverty_clean/data/dhs_buildings_raw/mozambique_2011_33.tfrecord.gz', '/atlas/u/erikrozi/bias_mitigation/africa_poverty_clean/data/dhs_buildings_raw/mozambique_2011_34.tfrecord.gz', '/atlas/u/erikrozi/bias_mitigation/africa_poverty_clean/data/dhs_buildings_raw/mozambique_2011_35.tfrecord.gz', '/atlas/u/erikrozi/bias_mitigation/africa_poverty_clean/data/dhs_buildings_raw/mozambique_2011_36.tfrecord.gz', '/atlas/u/erikrozi/bias_mitigation/africa_poverty_clean/data/dhs_buildings_raw/mozambique_2011_37.tfrecord.gz', '/atlas/u/erikrozi/bias_mitigation/africa_poverty_clean/data/dhs_buildings_raw/mozambique_2011_38.tfrecord.gz', '/atlas/u/erikrozi/bias_mitigation/africa_poverty_clean/data/dhs_buildings_raw/mozambique_2011_39.tfrecord.gz', '/atlas/u/erikrozi/bias_mitigation/africa_poverty_clean/data/dhs_buildings_raw/mozambique_2011_40.tfrecord.gz', '/atlas/u/erikrozi/bias_mitigation/africa_poverty_clean/data/dhs_buildings_raw/mozambique_2011_41.tfrecord.gz', '/atlas/u/erikrozi/bias_mitigation/africa_poverty_clean/data/dhs_buildings_raw/mozambique_2011_42.tfrecord.gz', '/atlas/u/erikrozi/bias_mitigation/africa_poverty_clean/data/dhs_buildings_raw/mozambique_2011_43.tfrecord.gz', '/atlas/u/erikrozi/bias_mitigation/africa_poverty_clean/data/dhs_buildings_raw/mozambique_2011_44.tfrecord.gz', '/atlas/u/erikrozi/bias_mitigation/africa_poverty_clean/data/dhs_buildings_raw/mozambique_2011_45.tfrecord.gz', '/atlas/u/erikrozi/bias_mitigation/africa_poverty_clean/data/dhs_buildings_raw/mozambique_2011_46.tfrecord.gz', '/atlas/u/erikrozi/bias_mitigation/africa_poverty_clean/data/dhs_buildings_raw/mozambique_2011_47.tfrecord.gz', '/atlas/u/erikrozi/bias_mitigation/africa_poverty_clean/data/dhs_buildings_raw/mozambique_2011_48.tfrecord.gz', '/atlas/u/erikrozi/bias_mitigation/africa_poverty_clean/data/dhs_buildings_raw/mozambique_2011_49.tfrecord.gz', '/atlas/u/erikrozi/bias_mitigation/africa_poverty_clean/data/dhs_buildings_raw/mozambique_2011_50.tfrecord.gz', '/atlas/u/erikrozi/bias_mitigation/africa_poverty_clean/data/dhs_buildings_raw/mozambique_2011_51.tfrecord.gz', '/atlas/u/erikrozi/bias_mitigation/africa_poverty_clean/data/dhs_buildings_raw/mozambique_2011_52.tfrecord.gz', '/atlas/u/erikrozi/bias_mitigation/africa_poverty_clean/data/dhs_buildings_raw/mozambique_2011_53.tfrecord.gz', '/atlas/u/erikrozi/bias_mitigation/africa_poverty_clean/data/dhs_buildings_raw/mozambique_2011_54.tfrecord.gz', '/atlas/u/erikrozi/bias_mitigation/africa_poverty_clean/data/dhs_buildings_raw/mozambique_2011_55.tfrecord.gz', '/atlas/u/erikrozi/bias_mitigation/africa_poverty_clean/data/dhs_buildings_raw/mozambique_2011_56.tfrecord.gz', '/atlas/u/erikrozi/bias_mitigation/africa_poverty_clean/data/dhs_buildings_raw/mozambique_2011_57.tfrecord.gz', '/atlas/u/erikrozi/bias_mitigation/africa_poverty_clean/data/dhs_buildings_raw/mozambique_2011_58.tfrecord.gz', '/atlas/u/erikrozi/bias_mitigation/africa_poverty_clean/data/dhs_buildings_raw/mozambique_2011_59.tfrecord.gz', '/atlas/u/erikrozi/bias_mitigation/africa_poverty_clean/data/dhs_buildings_raw/mozambique_2011_60.tfrecord.gz']\n"
     ]
    },
    {
     "name": "stderr",
     "output_type": "stream",
     "text": [
      "  0%|          | 1/609 [00:00<01:06,  9.12it/s]"
     ]
    },
    {
     "name": "stdout",
     "output_type": "stream",
     "text": [
      "Empty DataFrame\n",
      "Columns: [country, year, lat, lon, GID_1, GID_2, wealthpooled, households, urban_rural]\n",
      "Index: []\n"
     ]
    },
    {
     "name": "stderr",
     "output_type": "stream",
     "text": [
      "100%|██████████| 609/609 [00:15<00:00, 38.08it/s]\n"
     ]
    },
    {
     "name": "stdout",
     "output_type": "stream",
     "text": [
      "Processing: nigeria_2010\n",
      "None\n",
      "['/atlas/u/erikrozi/bias_mitigation/africa_poverty_clean/data/dhs_buildings_raw/nigeria_2010_00.tfrecord.gz']\n"
     ]
    },
    {
     "name": "stderr",
     "output_type": "stream",
     "text": [
      "  0%|          | 0/239 [00:00<?, ?it/s]"
     ]
    },
    {
     "name": "stdout",
     "output_type": "stream",
     "text": [
      "Empty DataFrame\n",
      "Columns: [country, year, lat, lon, GID_1, GID_2, wealthpooled, households, urban_rural]\n",
      "Index: []\n"
     ]
    },
    {
     "name": "stderr",
     "output_type": "stream",
     "text": [
      "100%|██████████| 239/239 [00:04<00:00, 52.30it/s] \n"
     ]
    },
    {
     "name": "stdout",
     "output_type": "stream",
     "text": [
      "Processing: nigeria_2013\n",
      "None\n",
      "['/atlas/u/erikrozi/bias_mitigation/africa_poverty_clean/data/dhs_buildings_raw/nigeria_2013_00.tfrecord.gz', '/atlas/u/erikrozi/bias_mitigation/africa_poverty_clean/data/dhs_buildings_raw/nigeria_2013_01.tfrecord.gz', '/atlas/u/erikrozi/bias_mitigation/africa_poverty_clean/data/dhs_buildings_raw/nigeria_2013_02.tfrecord.gz', '/atlas/u/erikrozi/bias_mitigation/africa_poverty_clean/data/dhs_buildings_raw/nigeria_2013_03.tfrecord.gz', '/atlas/u/erikrozi/bias_mitigation/africa_poverty_clean/data/dhs_buildings_raw/nigeria_2013_04.tfrecord.gz', '/atlas/u/erikrozi/bias_mitigation/africa_poverty_clean/data/dhs_buildings_raw/nigeria_2013_05.tfrecord.gz', '/atlas/u/erikrozi/bias_mitigation/africa_poverty_clean/data/dhs_buildings_raw/nigeria_2013_06.tfrecord.gz', '/atlas/u/erikrozi/bias_mitigation/africa_poverty_clean/data/dhs_buildings_raw/nigeria_2013_07.tfrecord.gz', '/atlas/u/erikrozi/bias_mitigation/africa_poverty_clean/data/dhs_buildings_raw/nigeria_2013_08.tfrecord.gz', '/atlas/u/erikrozi/bias_mitigation/africa_poverty_clean/data/dhs_buildings_raw/nigeria_2013_09.tfrecord.gz', '/atlas/u/erikrozi/bias_mitigation/africa_poverty_clean/data/dhs_buildings_raw/nigeria_2013_10.tfrecord.gz', '/atlas/u/erikrozi/bias_mitigation/africa_poverty_clean/data/dhs_buildings_raw/nigeria_2013_11.tfrecord.gz', '/atlas/u/erikrozi/bias_mitigation/africa_poverty_clean/data/dhs_buildings_raw/nigeria_2013_12.tfrecord.gz', '/atlas/u/erikrozi/bias_mitigation/africa_poverty_clean/data/dhs_buildings_raw/nigeria_2013_13.tfrecord.gz', '/atlas/u/erikrozi/bias_mitigation/africa_poverty_clean/data/dhs_buildings_raw/nigeria_2013_14.tfrecord.gz', '/atlas/u/erikrozi/bias_mitigation/africa_poverty_clean/data/dhs_buildings_raw/nigeria_2013_15.tfrecord.gz', '/atlas/u/erikrozi/bias_mitigation/africa_poverty_clean/data/dhs_buildings_raw/nigeria_2013_16.tfrecord.gz', '/atlas/u/erikrozi/bias_mitigation/africa_poverty_clean/data/dhs_buildings_raw/nigeria_2013_17.tfrecord.gz', '/atlas/u/erikrozi/bias_mitigation/africa_poverty_clean/data/dhs_buildings_raw/nigeria_2013_18.tfrecord.gz', '/atlas/u/erikrozi/bias_mitigation/africa_poverty_clean/data/dhs_buildings_raw/nigeria_2013_19.tfrecord.gz', '/atlas/u/erikrozi/bias_mitigation/africa_poverty_clean/data/dhs_buildings_raw/nigeria_2013_20.tfrecord.gz', '/atlas/u/erikrozi/bias_mitigation/africa_poverty_clean/data/dhs_buildings_raw/nigeria_2013_21.tfrecord.gz', '/atlas/u/erikrozi/bias_mitigation/africa_poverty_clean/data/dhs_buildings_raw/nigeria_2013_22.tfrecord.gz', '/atlas/u/erikrozi/bias_mitigation/africa_poverty_clean/data/dhs_buildings_raw/nigeria_2013_23.tfrecord.gz', '/atlas/u/erikrozi/bias_mitigation/africa_poverty_clean/data/dhs_buildings_raw/nigeria_2013_24.tfrecord.gz', '/atlas/u/erikrozi/bias_mitigation/africa_poverty_clean/data/dhs_buildings_raw/nigeria_2013_25.tfrecord.gz', '/atlas/u/erikrozi/bias_mitigation/africa_poverty_clean/data/dhs_buildings_raw/nigeria_2013_26.tfrecord.gz', '/atlas/u/erikrozi/bias_mitigation/africa_poverty_clean/data/dhs_buildings_raw/nigeria_2013_27.tfrecord.gz', '/atlas/u/erikrozi/bias_mitigation/africa_poverty_clean/data/dhs_buildings_raw/nigeria_2013_28.tfrecord.gz', '/atlas/u/erikrozi/bias_mitigation/africa_poverty_clean/data/dhs_buildings_raw/nigeria_2013_29.tfrecord.gz', '/atlas/u/erikrozi/bias_mitigation/africa_poverty_clean/data/dhs_buildings_raw/nigeria_2013_30.tfrecord.gz', '/atlas/u/erikrozi/bias_mitigation/africa_poverty_clean/data/dhs_buildings_raw/nigeria_2013_31.tfrecord.gz', '/atlas/u/erikrozi/bias_mitigation/africa_poverty_clean/data/dhs_buildings_raw/nigeria_2013_32.tfrecord.gz', '/atlas/u/erikrozi/bias_mitigation/africa_poverty_clean/data/dhs_buildings_raw/nigeria_2013_33.tfrecord.gz', '/atlas/u/erikrozi/bias_mitigation/africa_poverty_clean/data/dhs_buildings_raw/nigeria_2013_34.tfrecord.gz', '/atlas/u/erikrozi/bias_mitigation/africa_poverty_clean/data/dhs_buildings_raw/nigeria_2013_35.tfrecord.gz', '/atlas/u/erikrozi/bias_mitigation/africa_poverty_clean/data/dhs_buildings_raw/nigeria_2013_36.tfrecord.gz', '/atlas/u/erikrozi/bias_mitigation/africa_poverty_clean/data/dhs_buildings_raw/nigeria_2013_37.tfrecord.gz', '/atlas/u/erikrozi/bias_mitigation/africa_poverty_clean/data/dhs_buildings_raw/nigeria_2013_38.tfrecord.gz', '/atlas/u/erikrozi/bias_mitigation/africa_poverty_clean/data/dhs_buildings_raw/nigeria_2013_39.tfrecord.gz', '/atlas/u/erikrozi/bias_mitigation/africa_poverty_clean/data/dhs_buildings_raw/nigeria_2013_40.tfrecord.gz', '/atlas/u/erikrozi/bias_mitigation/africa_poverty_clean/data/dhs_buildings_raw/nigeria_2013_41.tfrecord.gz', '/atlas/u/erikrozi/bias_mitigation/africa_poverty_clean/data/dhs_buildings_raw/nigeria_2013_42.tfrecord.gz', '/atlas/u/erikrozi/bias_mitigation/africa_poverty_clean/data/dhs_buildings_raw/nigeria_2013_43.tfrecord.gz', '/atlas/u/erikrozi/bias_mitigation/africa_poverty_clean/data/dhs_buildings_raw/nigeria_2013_44.tfrecord.gz', '/atlas/u/erikrozi/bias_mitigation/africa_poverty_clean/data/dhs_buildings_raw/nigeria_2013_45.tfrecord.gz', '/atlas/u/erikrozi/bias_mitigation/africa_poverty_clean/data/dhs_buildings_raw/nigeria_2013_46.tfrecord.gz', '/atlas/u/erikrozi/bias_mitigation/africa_poverty_clean/data/dhs_buildings_raw/nigeria_2013_47.tfrecord.gz', '/atlas/u/erikrozi/bias_mitigation/africa_poverty_clean/data/dhs_buildings_raw/nigeria_2013_48.tfrecord.gz', '/atlas/u/erikrozi/bias_mitigation/africa_poverty_clean/data/dhs_buildings_raw/nigeria_2013_49.tfrecord.gz', '/atlas/u/erikrozi/bias_mitigation/africa_poverty_clean/data/dhs_buildings_raw/nigeria_2013_50.tfrecord.gz', '/atlas/u/erikrozi/bias_mitigation/africa_poverty_clean/data/dhs_buildings_raw/nigeria_2013_51.tfrecord.gz', '/atlas/u/erikrozi/bias_mitigation/africa_poverty_clean/data/dhs_buildings_raw/nigeria_2013_52.tfrecord.gz', '/atlas/u/erikrozi/bias_mitigation/africa_poverty_clean/data/dhs_buildings_raw/nigeria_2013_53.tfrecord.gz', '/atlas/u/erikrozi/bias_mitigation/africa_poverty_clean/data/dhs_buildings_raw/nigeria_2013_54.tfrecord.gz', '/atlas/u/erikrozi/bias_mitigation/africa_poverty_clean/data/dhs_buildings_raw/nigeria_2013_55.tfrecord.gz', '/atlas/u/erikrozi/bias_mitigation/africa_poverty_clean/data/dhs_buildings_raw/nigeria_2013_56.tfrecord.gz', '/atlas/u/erikrozi/bias_mitigation/africa_poverty_clean/data/dhs_buildings_raw/nigeria_2013_57.tfrecord.gz', '/atlas/u/erikrozi/bias_mitigation/africa_poverty_clean/data/dhs_buildings_raw/nigeria_2013_58.tfrecord.gz', '/atlas/u/erikrozi/bias_mitigation/africa_poverty_clean/data/dhs_buildings_raw/nigeria_2013_59.tfrecord.gz', '/atlas/u/erikrozi/bias_mitigation/africa_poverty_clean/data/dhs_buildings_raw/nigeria_2013_60.tfrecord.gz', '/atlas/u/erikrozi/bias_mitigation/africa_poverty_clean/data/dhs_buildings_raw/nigeria_2013_61.tfrecord.gz', '/atlas/u/erikrozi/bias_mitigation/africa_poverty_clean/data/dhs_buildings_raw/nigeria_2013_62.tfrecord.gz', '/atlas/u/erikrozi/bias_mitigation/africa_poverty_clean/data/dhs_buildings_raw/nigeria_2013_63.tfrecord.gz', '/atlas/u/erikrozi/bias_mitigation/africa_poverty_clean/data/dhs_buildings_raw/nigeria_2013_64.tfrecord.gz', '/atlas/u/erikrozi/bias_mitigation/africa_poverty_clean/data/dhs_buildings_raw/nigeria_2013_65.tfrecord.gz', '/atlas/u/erikrozi/bias_mitigation/africa_poverty_clean/data/dhs_buildings_raw/nigeria_2013_66.tfrecord.gz', '/atlas/u/erikrozi/bias_mitigation/africa_poverty_clean/data/dhs_buildings_raw/nigeria_2013_67.tfrecord.gz', '/atlas/u/erikrozi/bias_mitigation/africa_poverty_clean/data/dhs_buildings_raw/nigeria_2013_68.tfrecord.gz', '/atlas/u/erikrozi/bias_mitigation/africa_poverty_clean/data/dhs_buildings_raw/nigeria_2013_69.tfrecord.gz', '/atlas/u/erikrozi/bias_mitigation/africa_poverty_clean/data/dhs_buildings_raw/nigeria_2013_70.tfrecord.gz', '/atlas/u/erikrozi/bias_mitigation/africa_poverty_clean/data/dhs_buildings_raw/nigeria_2013_71.tfrecord.gz', '/atlas/u/erikrozi/bias_mitigation/africa_poverty_clean/data/dhs_buildings_raw/nigeria_2013_72.tfrecord.gz', '/atlas/u/erikrozi/bias_mitigation/africa_poverty_clean/data/dhs_buildings_raw/nigeria_2013_73.tfrecord.gz', '/atlas/u/erikrozi/bias_mitigation/africa_poverty_clean/data/dhs_buildings_raw/nigeria_2013_74.tfrecord.gz', '/atlas/u/erikrozi/bias_mitigation/africa_poverty_clean/data/dhs_buildings_raw/nigeria_2013_75.tfrecord.gz', '/atlas/u/erikrozi/bias_mitigation/africa_poverty_clean/data/dhs_buildings_raw/nigeria_2013_76.tfrecord.gz', '/atlas/u/erikrozi/bias_mitigation/africa_poverty_clean/data/dhs_buildings_raw/nigeria_2013_77.tfrecord.gz', '/atlas/u/erikrozi/bias_mitigation/africa_poverty_clean/data/dhs_buildings_raw/nigeria_2013_78.tfrecord.gz', '/atlas/u/erikrozi/bias_mitigation/africa_poverty_clean/data/dhs_buildings_raw/nigeria_2013_79.tfrecord.gz', '/atlas/u/erikrozi/bias_mitigation/africa_poverty_clean/data/dhs_buildings_raw/nigeria_2013_80.tfrecord.gz', '/atlas/u/erikrozi/bias_mitigation/africa_poverty_clean/data/dhs_buildings_raw/nigeria_2013_81.tfrecord.gz', '/atlas/u/erikrozi/bias_mitigation/africa_poverty_clean/data/dhs_buildings_raw/nigeria_2013_82.tfrecord.gz', '/atlas/u/erikrozi/bias_mitigation/africa_poverty_clean/data/dhs_buildings_raw/nigeria_2013_83.tfrecord.gz', '/atlas/u/erikrozi/bias_mitigation/africa_poverty_clean/data/dhs_buildings_raw/nigeria_2013_84.tfrecord.gz', '/atlas/u/erikrozi/bias_mitigation/africa_poverty_clean/data/dhs_buildings_raw/nigeria_2013_85.tfrecord.gz', '/atlas/u/erikrozi/bias_mitigation/africa_poverty_clean/data/dhs_buildings_raw/nigeria_2013_86.tfrecord.gz', '/atlas/u/erikrozi/bias_mitigation/africa_poverty_clean/data/dhs_buildings_raw/nigeria_2013_87.tfrecord.gz', '/atlas/u/erikrozi/bias_mitigation/africa_poverty_clean/data/dhs_buildings_raw/nigeria_2013_88.tfrecord.gz', '/atlas/u/erikrozi/bias_mitigation/africa_poverty_clean/data/dhs_buildings_raw/nigeria_2013_89.tfrecord.gz', '/atlas/u/erikrozi/bias_mitigation/africa_poverty_clean/data/dhs_buildings_raw/nigeria_2013_90.tfrecord.gz', '/atlas/u/erikrozi/bias_mitigation/africa_poverty_clean/data/dhs_buildings_raw/nigeria_2013_91.tfrecord.gz', '/atlas/u/erikrozi/bias_mitigation/africa_poverty_clean/data/dhs_buildings_raw/nigeria_2013_92.tfrecord.gz', '/atlas/u/erikrozi/bias_mitigation/africa_poverty_clean/data/dhs_buildings_raw/nigeria_2013_93.tfrecord.gz', '/atlas/u/erikrozi/bias_mitigation/africa_poverty_clean/data/dhs_buildings_raw/nigeria_2013_94.tfrecord.gz', '/atlas/u/erikrozi/bias_mitigation/africa_poverty_clean/data/dhs_buildings_raw/nigeria_2013_95.tfrecord.gz', '/atlas/u/erikrozi/bias_mitigation/africa_poverty_clean/data/dhs_buildings_raw/nigeria_2013_96.tfrecord.gz', '/atlas/u/erikrozi/bias_mitigation/africa_poverty_clean/data/dhs_buildings_raw/nigeria_2013_97.tfrecord.gz', '/atlas/u/erikrozi/bias_mitigation/africa_poverty_clean/data/dhs_buildings_raw/nigeria_2013_98.tfrecord.gz', '/atlas/u/erikrozi/bias_mitigation/africa_poverty_clean/data/dhs_buildings_raw/nigeria_2013_99.tfrecord.gz', '/atlas/u/erikrozi/bias_mitigation/africa_poverty_clean/data/dhs_buildings_raw/nigeria_2013_100.tfrecord.gz', '/atlas/u/erikrozi/bias_mitigation/africa_poverty_clean/data/dhs_buildings_raw/nigeria_2013_101.tfrecord.gz', '/atlas/u/erikrozi/bias_mitigation/africa_poverty_clean/data/dhs_buildings_raw/nigeria_2013_102.tfrecord.gz', '/atlas/u/erikrozi/bias_mitigation/africa_poverty_clean/data/dhs_buildings_raw/nigeria_2013_103.tfrecord.gz', '/atlas/u/erikrozi/bias_mitigation/africa_poverty_clean/data/dhs_buildings_raw/nigeria_2013_104.tfrecord.gz', '/atlas/u/erikrozi/bias_mitigation/africa_poverty_clean/data/dhs_buildings_raw/nigeria_2013_105.tfrecord.gz', '/atlas/u/erikrozi/bias_mitigation/africa_poverty_clean/data/dhs_buildings_raw/nigeria_2013_106.tfrecord.gz', '/atlas/u/erikrozi/bias_mitigation/africa_poverty_clean/data/dhs_buildings_raw/nigeria_2013_107.tfrecord.gz', '/atlas/u/erikrozi/bias_mitigation/africa_poverty_clean/data/dhs_buildings_raw/nigeria_2013_108.tfrecord.gz', '/atlas/u/erikrozi/bias_mitigation/africa_poverty_clean/data/dhs_buildings_raw/nigeria_2013_109.tfrecord.gz', '/atlas/u/erikrozi/bias_mitigation/africa_poverty_clean/data/dhs_buildings_raw/nigeria_2013_110.tfrecord.gz', '/atlas/u/erikrozi/bias_mitigation/africa_poverty_clean/data/dhs_buildings_raw/nigeria_2013_111.tfrecord.gz', '/atlas/u/erikrozi/bias_mitigation/africa_poverty_clean/data/dhs_buildings_raw/nigeria_2013_112.tfrecord.gz', '/atlas/u/erikrozi/bias_mitigation/africa_poverty_clean/data/dhs_buildings_raw/nigeria_2013_113.tfrecord.gz', '/atlas/u/erikrozi/bias_mitigation/africa_poverty_clean/data/dhs_buildings_raw/nigeria_2013_114.tfrecord.gz', '/atlas/u/erikrozi/bias_mitigation/africa_poverty_clean/data/dhs_buildings_raw/nigeria_2013_115.tfrecord.gz', '/atlas/u/erikrozi/bias_mitigation/africa_poverty_clean/data/dhs_buildings_raw/nigeria_2013_116.tfrecord.gz', '/atlas/u/erikrozi/bias_mitigation/africa_poverty_clean/data/dhs_buildings_raw/nigeria_2013_117.tfrecord.gz', '/atlas/u/erikrozi/bias_mitigation/africa_poverty_clean/data/dhs_buildings_raw/nigeria_2013_118.tfrecord.gz', '/atlas/u/erikrozi/bias_mitigation/africa_poverty_clean/data/dhs_buildings_raw/nigeria_2013_119.tfrecord.gz', '/atlas/u/erikrozi/bias_mitigation/africa_poverty_clean/data/dhs_buildings_raw/nigeria_2013_120.tfrecord.gz', '/atlas/u/erikrozi/bias_mitigation/africa_poverty_clean/data/dhs_buildings_raw/nigeria_2013_121.tfrecord.gz', '/atlas/u/erikrozi/bias_mitigation/africa_poverty_clean/data/dhs_buildings_raw/nigeria_2013_122.tfrecord.gz', '/atlas/u/erikrozi/bias_mitigation/africa_poverty_clean/data/dhs_buildings_raw/nigeria_2013_123.tfrecord.gz', '/atlas/u/erikrozi/bias_mitigation/africa_poverty_clean/data/dhs_buildings_raw/nigeria_2013_124.tfrecord.gz', '/atlas/u/erikrozi/bias_mitigation/africa_poverty_clean/data/dhs_buildings_raw/nigeria_2013_125.tfrecord.gz', '/atlas/u/erikrozi/bias_mitigation/africa_poverty_clean/data/dhs_buildings_raw/nigeria_2013_126.tfrecord.gz', '/atlas/u/erikrozi/bias_mitigation/africa_poverty_clean/data/dhs_buildings_raw/nigeria_2013_127.tfrecord.gz', '/atlas/u/erikrozi/bias_mitigation/africa_poverty_clean/data/dhs_buildings_raw/nigeria_2013_128.tfrecord.gz', '/atlas/u/erikrozi/bias_mitigation/africa_poverty_clean/data/dhs_buildings_raw/nigeria_2013_129.tfrecord.gz', '/atlas/u/erikrozi/bias_mitigation/africa_poverty_clean/data/dhs_buildings_raw/nigeria_2013_130.tfrecord.gz', '/atlas/u/erikrozi/bias_mitigation/africa_poverty_clean/data/dhs_buildings_raw/nigeria_2013_131.tfrecord.gz', '/atlas/u/erikrozi/bias_mitigation/africa_poverty_clean/data/dhs_buildings_raw/nigeria_2013_132.tfrecord.gz', '/atlas/u/erikrozi/bias_mitigation/africa_poverty_clean/data/dhs_buildings_raw/nigeria_2013_133.tfrecord.gz', '/atlas/u/erikrozi/bias_mitigation/africa_poverty_clean/data/dhs_buildings_raw/nigeria_2013_134.tfrecord.gz', '/atlas/u/erikrozi/bias_mitigation/africa_poverty_clean/data/dhs_buildings_raw/nigeria_2013_135.tfrecord.gz', '/atlas/u/erikrozi/bias_mitigation/africa_poverty_clean/data/dhs_buildings_raw/nigeria_2013_136.tfrecord.gz', '/atlas/u/erikrozi/bias_mitigation/africa_poverty_clean/data/dhs_buildings_raw/nigeria_2013_137.tfrecord.gz', '/atlas/u/erikrozi/bias_mitigation/africa_poverty_clean/data/dhs_buildings_raw/nigeria_2013_138.tfrecord.gz', '/atlas/u/erikrozi/bias_mitigation/africa_poverty_clean/data/dhs_buildings_raw/nigeria_2013_139.tfrecord.gz', '/atlas/u/erikrozi/bias_mitigation/africa_poverty_clean/data/dhs_buildings_raw/nigeria_2013_140.tfrecord.gz', '/atlas/u/erikrozi/bias_mitigation/africa_poverty_clean/data/dhs_buildings_raw/nigeria_2013_141.tfrecord.gz', '/atlas/u/erikrozi/bias_mitigation/africa_poverty_clean/data/dhs_buildings_raw/nigeria_2013_142.tfrecord.gz', '/atlas/u/erikrozi/bias_mitigation/africa_poverty_clean/data/dhs_buildings_raw/nigeria_2013_143.tfrecord.gz', '/atlas/u/erikrozi/bias_mitigation/africa_poverty_clean/data/dhs_buildings_raw/nigeria_2013_144.tfrecord.gz', '/atlas/u/erikrozi/bias_mitigation/africa_poverty_clean/data/dhs_buildings_raw/nigeria_2013_145.tfrecord.gz', '/atlas/u/erikrozi/bias_mitigation/africa_poverty_clean/data/dhs_buildings_raw/nigeria_2013_146.tfrecord.gz', '/atlas/u/erikrozi/bias_mitigation/africa_poverty_clean/data/dhs_buildings_raw/nigeria_2013_147.tfrecord.gz', '/atlas/u/erikrozi/bias_mitigation/africa_poverty_clean/data/dhs_buildings_raw/nigeria_2013_148.tfrecord.gz', '/atlas/u/erikrozi/bias_mitigation/africa_poverty_clean/data/dhs_buildings_raw/nigeria_2013_149.tfrecord.gz', '/atlas/u/erikrozi/bias_mitigation/africa_poverty_clean/data/dhs_buildings_raw/nigeria_2013_150.tfrecord.gz', '/atlas/u/erikrozi/bias_mitigation/africa_poverty_clean/data/dhs_buildings_raw/nigeria_2013_151.tfrecord.gz', '/atlas/u/erikrozi/bias_mitigation/africa_poverty_clean/data/dhs_buildings_raw/nigeria_2013_152.tfrecord.gz', '/atlas/u/erikrozi/bias_mitigation/africa_poverty_clean/data/dhs_buildings_raw/nigeria_2013_153.tfrecord.gz', '/atlas/u/erikrozi/bias_mitigation/africa_poverty_clean/data/dhs_buildings_raw/nigeria_2013_154.tfrecord.gz', '/atlas/u/erikrozi/bias_mitigation/africa_poverty_clean/data/dhs_buildings_raw/nigeria_2013_155.tfrecord.gz', '/atlas/u/erikrozi/bias_mitigation/africa_poverty_clean/data/dhs_buildings_raw/nigeria_2013_156.tfrecord.gz', '/atlas/u/erikrozi/bias_mitigation/africa_poverty_clean/data/dhs_buildings_raw/nigeria_2013_157.tfrecord.gz', '/atlas/u/erikrozi/bias_mitigation/africa_poverty_clean/data/dhs_buildings_raw/nigeria_2013_158.tfrecord.gz', '/atlas/u/erikrozi/bias_mitigation/africa_poverty_clean/data/dhs_buildings_raw/nigeria_2013_159.tfrecord.gz', '/atlas/u/erikrozi/bias_mitigation/africa_poverty_clean/data/dhs_buildings_raw/nigeria_2013_160.tfrecord.gz', '/atlas/u/erikrozi/bias_mitigation/africa_poverty_clean/data/dhs_buildings_raw/nigeria_2013_161.tfrecord.gz', '/atlas/u/erikrozi/bias_mitigation/africa_poverty_clean/data/dhs_buildings_raw/nigeria_2013_162.tfrecord.gz', '/atlas/u/erikrozi/bias_mitigation/africa_poverty_clean/data/dhs_buildings_raw/nigeria_2013_163.tfrecord.gz', '/atlas/u/erikrozi/bias_mitigation/africa_poverty_clean/data/dhs_buildings_raw/nigeria_2013_164.tfrecord.gz', '/atlas/u/erikrozi/bias_mitigation/africa_poverty_clean/data/dhs_buildings_raw/nigeria_2013_165.tfrecord.gz', '/atlas/u/erikrozi/bias_mitigation/africa_poverty_clean/data/dhs_buildings_raw/nigeria_2013_166.tfrecord.gz', '/atlas/u/erikrozi/bias_mitigation/africa_poverty_clean/data/dhs_buildings_raw/nigeria_2013_167.tfrecord.gz', '/atlas/u/erikrozi/bias_mitigation/africa_poverty_clean/data/dhs_buildings_raw/nigeria_2013_168.tfrecord.gz', '/atlas/u/erikrozi/bias_mitigation/africa_poverty_clean/data/dhs_buildings_raw/nigeria_2013_169.tfrecord.gz', '/atlas/u/erikrozi/bias_mitigation/africa_poverty_clean/data/dhs_buildings_raw/nigeria_2013_170.tfrecord.gz', '/atlas/u/erikrozi/bias_mitigation/africa_poverty_clean/data/dhs_buildings_raw/nigeria_2013_171.tfrecord.gz', '/atlas/u/erikrozi/bias_mitigation/africa_poverty_clean/data/dhs_buildings_raw/nigeria_2013_172.tfrecord.gz', '/atlas/u/erikrozi/bias_mitigation/africa_poverty_clean/data/dhs_buildings_raw/nigeria_2013_173.tfrecord.gz', '/atlas/u/erikrozi/bias_mitigation/africa_poverty_clean/data/dhs_buildings_raw/nigeria_2013_174.tfrecord.gz', '/atlas/u/erikrozi/bias_mitigation/africa_poverty_clean/data/dhs_buildings_raw/nigeria_2013_175.tfrecord.gz', '/atlas/u/erikrozi/bias_mitigation/africa_poverty_clean/data/dhs_buildings_raw/nigeria_2013_176.tfrecord.gz', '/atlas/u/erikrozi/bias_mitigation/africa_poverty_clean/data/dhs_buildings_raw/nigeria_2013_177.tfrecord.gz']\n"
     ]
    },
    {
     "name": "stderr",
     "output_type": "stream",
     "text": [
      "  1%|          | 6/889 [00:00<00:23, 37.50it/s]"
     ]
    },
    {
     "name": "stdout",
     "output_type": "stream",
     "text": [
      "Empty DataFrame\n",
      "Columns: [country, year, lat, lon, GID_1, GID_2, wealthpooled, households, urban_rural]\n",
      "Index: []\n"
     ]
    },
    {
     "name": "stderr",
     "output_type": "stream",
     "text": [
      "100%|██████████| 889/889 [00:50<00:00, 17.52it/s]\n"
     ]
    },
    {
     "name": "stdout",
     "output_type": "stream",
     "text": [
      "Processing: nigeria_2015\n",
      "None\n",
      "['/atlas/u/erikrozi/bias_mitigation/africa_poverty_clean/data/dhs_buildings_raw/nigeria_2015_00.tfrecord.gz']\n"
     ]
    },
    {
     "name": "stderr",
     "output_type": "stream",
     "text": [
      "  0%|          | 0/322 [00:00<?, ?it/s]"
     ]
    },
    {
     "name": "stdout",
     "output_type": "stream",
     "text": [
      "Empty DataFrame\n",
      "Columns: [country, year, lat, lon, GID_1, GID_2, wealthpooled, households, urban_rural]\n",
      "Index: []\n"
     ]
    },
    {
     "name": "stderr",
     "output_type": "stream",
     "text": [
      "100%|██████████| 322/322 [00:08<00:00, 38.96it/s] \n"
     ]
    },
    {
     "name": "stdout",
     "output_type": "stream",
     "text": [
      "Processing: rwanda_2010\n",
      "None\n",
      "['/atlas/u/erikrozi/bias_mitigation/africa_poverty_clean/data/dhs_buildings_raw/rwanda_2010_00.tfrecord.gz']\n"
     ]
    },
    {
     "name": "stderr",
     "output_type": "stream",
     "text": [
      "  0%|          | 0/492 [00:00<?, ?it/s]"
     ]
    },
    {
     "name": "stdout",
     "output_type": "stream",
     "text": [
      "Empty DataFrame\n",
      "Columns: [country, year, lat, lon, GID_1, GID_2, wealthpooled, households, urban_rural]\n",
      "Index: []\n"
     ]
    },
    {
     "name": "stderr",
     "output_type": "stream",
     "text": [
      "100%|██████████| 492/492 [00:04<00:00, 104.36it/s]\n"
     ]
    },
    {
     "name": "stdout",
     "output_type": "stream",
     "text": [
      "Processing: rwanda_2014\n",
      "None\n",
      "['/atlas/u/erikrozi/bias_mitigation/africa_poverty_clean/data/dhs_buildings_raw/rwanda_2014_00.tfrecord.gz']\n"
     ]
    },
    {
     "name": "stderr",
     "output_type": "stream",
     "text": [
      "  0%|          | 0/492 [00:00<?, ?it/s]"
     ]
    },
    {
     "name": "stdout",
     "output_type": "stream",
     "text": [
      "Empty DataFrame\n",
      "Columns: [country, year, lat, lon, GID_1, GID_2, wealthpooled, households, urban_rural]\n",
      "Index: []\n"
     ]
    },
    {
     "name": "stderr",
     "output_type": "stream",
     "text": [
      "100%|██████████| 492/492 [00:04<00:00, 99.68it/s] \n"
     ]
    },
    {
     "name": "stdout",
     "output_type": "stream",
     "text": [
      "Processing: senegal_2010\n",
      "None\n",
      "['/atlas/u/erikrozi/bias_mitigation/africa_poverty_clean/data/dhs_buildings_raw/senegal_2010_00.tfrecord.gz']\n"
     ]
    },
    {
     "name": "stderr",
     "output_type": "stream",
     "text": [
      "  0%|          | 0/385 [00:00<?, ?it/s]"
     ]
    },
    {
     "name": "stdout",
     "output_type": "stream",
     "text": [
      "Empty DataFrame\n",
      "Columns: [country, year, lat, lon, GID_1, GID_2, wealthpooled, households, urban_rural]\n",
      "Index: []\n"
     ]
    },
    {
     "name": "stderr",
     "output_type": "stream",
     "text": [
      "100%|██████████| 385/385 [00:02<00:00, 128.63it/s]\n"
     ]
    },
    {
     "name": "stdout",
     "output_type": "stream",
     "text": [
      "Processing: senegal_2012\n",
      "None\n",
      "['/atlas/u/erikrozi/bias_mitigation/africa_poverty_clean/data/dhs_buildings_raw/senegal_2012_00.tfrecord.gz']\n"
     ]
    },
    {
     "name": "stderr",
     "output_type": "stream",
     "text": [
      "  0%|          | 0/200 [00:00<?, ?it/s]"
     ]
    },
    {
     "name": "stdout",
     "output_type": "stream",
     "text": [
      "Empty DataFrame\n",
      "Columns: [country, year, lat, lon, GID_1, GID_2, wealthpooled, households, urban_rural]\n",
      "Index: []\n"
     ]
    },
    {
     "name": "stderr",
     "output_type": "stream",
     "text": [
      "100%|██████████| 200/200 [00:02<00:00, 99.32it/s] \n"
     ]
    },
    {
     "name": "stdout",
     "output_type": "stream",
     "text": [
      "Processing: sierra_leone_2013\n",
      "None\n",
      "['/atlas/u/erikrozi/bias_mitigation/africa_poverty_clean/data/dhs_buildings_raw/sierra_leone_2013_00.tfrecord.gz']\n"
     ]
    },
    {
     "name": "stderr",
     "output_type": "stream",
     "text": [
      "  0%|          | 0/435 [00:00<?, ?it/s]"
     ]
    },
    {
     "name": "stdout",
     "output_type": "stream",
     "text": [
      "Empty DataFrame\n",
      "Columns: [country, year, lat, lon, GID_1, GID_2, wealthpooled, households, urban_rural]\n",
      "Index: []\n"
     ]
    },
    {
     "name": "stderr",
     "output_type": "stream",
     "text": [
      "100%|██████████| 435/435 [00:03<00:00, 139.39it/s]\n"
     ]
    },
    {
     "name": "stdout",
     "output_type": "stream",
     "text": [
      "Processing: tanzania_2010\n",
      "None\n",
      "['/atlas/u/erikrozi/bias_mitigation/africa_poverty_clean/data/dhs_buildings_raw/tanzania_2010_00.tfrecord.gz']\n"
     ]
    },
    {
     "name": "stderr",
     "output_type": "stream",
     "text": [
      "  0%|          | 0/458 [00:00<?, ?it/s]"
     ]
    },
    {
     "name": "stdout",
     "output_type": "stream",
     "text": [
      "Empty DataFrame\n",
      "Columns: [country, year, lat, lon, GID_1, GID_2, wealthpooled, households, urban_rural]\n",
      "Index: []\n"
     ]
    },
    {
     "name": "stderr",
     "output_type": "stream",
     "text": [
      "100%|██████████| 458/458 [00:04<00:00, 113.88it/s]\n"
     ]
    },
    {
     "name": "stdout",
     "output_type": "stream",
     "text": [
      "Processing: tanzania_2011\n",
      "None\n",
      "['/atlas/u/erikrozi/bias_mitigation/africa_poverty_clean/data/dhs_buildings_raw/tanzania_2011_00.tfrecord.gz']\n"
     ]
    },
    {
     "name": "stderr",
     "output_type": "stream",
     "text": [
      "  0%|          | 0/573 [00:00<?, ?it/s]"
     ]
    },
    {
     "name": "stdout",
     "output_type": "stream",
     "text": [
      "Empty DataFrame\n",
      "Columns: [country, year, lat, lon, GID_1, GID_2, wealthpooled, households, urban_rural]\n",
      "Index: []\n"
     ]
    },
    {
     "name": "stderr",
     "output_type": "stream",
     "text": [
      "100%|██████████| 573/573 [00:04<00:00, 121.29it/s]\n"
     ]
    },
    {
     "name": "stdout",
     "output_type": "stream",
     "text": [
      "Processing: tanzania_2015\n",
      "None\n",
      "['/atlas/u/erikrozi/bias_mitigation/africa_poverty_clean/data/dhs_buildings_raw/tanzania_2015_00.tfrecord.gz']\n"
     ]
    },
    {
     "name": "stderr",
     "output_type": "stream",
     "text": [
      "  0%|          | 0/608 [00:00<?, ?it/s]"
     ]
    },
    {
     "name": "stdout",
     "output_type": "stream",
     "text": [
      "Empty DataFrame\n",
      "Columns: [country, year, lat, lon, GID_1, GID_2, wealthpooled, households, urban_rural]\n",
      "Index: []\n"
     ]
    },
    {
     "name": "stderr",
     "output_type": "stream",
     "text": [
      "100%|██████████| 608/608 [00:05<00:00, 114.66it/s]\n"
     ]
    },
    {
     "name": "stdout",
     "output_type": "stream",
     "text": [
      "Processing: togo_2013\n",
      "None\n",
      "['/atlas/u/erikrozi/bias_mitigation/africa_poverty_clean/data/dhs_buildings_raw/togo_2013_00.tfrecord.gz']\n"
     ]
    },
    {
     "name": "stderr",
     "output_type": "stream",
     "text": [
      "  0%|          | 0/330 [00:00<?, ?it/s]"
     ]
    },
    {
     "name": "stdout",
     "output_type": "stream",
     "text": [
      "Empty DataFrame\n",
      "Columns: [country, year, lat, lon, GID_1, GID_2, wealthpooled, households, urban_rural]\n",
      "Index: []\n"
     ]
    },
    {
     "name": "stderr",
     "output_type": "stream",
     "text": [
      "100%|██████████| 330/330 [00:03<00:00, 99.79it/s] \n"
     ]
    },
    {
     "name": "stdout",
     "output_type": "stream",
     "text": [
      "Processing: uganda_2009\n",
      "None\n",
      "['/atlas/u/erikrozi/bias_mitigation/africa_poverty_clean/data/dhs_buildings_raw/uganda_2009_00.tfrecord.gz']\n"
     ]
    },
    {
     "name": "stderr",
     "output_type": "stream",
     "text": [
      "  0%|          | 0/170 [00:00<?, ?it/s]"
     ]
    },
    {
     "name": "stdout",
     "output_type": "stream",
     "text": [
      "Empty DataFrame\n",
      "Columns: [country, year, lat, lon, GID_1, GID_2, wealthpooled, households, urban_rural]\n",
      "Index: []\n"
     ]
    },
    {
     "name": "stderr",
     "output_type": "stream",
     "text": [
      "100%|██████████| 170/170 [00:01<00:00, 92.86it/s] \n"
     ]
    },
    {
     "name": "stdout",
     "output_type": "stream",
     "text": [
      "Processing: uganda_2011\n",
      "None\n",
      "['/atlas/u/erikrozi/bias_mitigation/africa_poverty_clean/data/dhs_buildings_raw/uganda_2011_00.tfrecord.gz']\n"
     ]
    },
    {
     "name": "stderr",
     "output_type": "stream",
     "text": [
      "  0%|          | 0/400 [00:00<?, ?it/s]"
     ]
    },
    {
     "name": "stdout",
     "output_type": "stream",
     "text": [
      "Empty DataFrame\n",
      "Columns: [country, year, lat, lon, GID_1, GID_2, wealthpooled, households, urban_rural]\n",
      "Index: []\n"
     ]
    },
    {
     "name": "stderr",
     "output_type": "stream",
     "text": [
      "100%|██████████| 400/400 [00:03<00:00, 101.10it/s]\n"
     ]
    },
    {
     "name": "stdout",
     "output_type": "stream",
     "text": [
      "Processing: uganda_2014\n",
      "None\n",
      "['/atlas/u/erikrozi/bias_mitigation/africa_poverty_clean/data/dhs_buildings_raw/uganda_2014_00.tfrecord.gz']\n"
     ]
    },
    {
     "name": "stderr",
     "output_type": "stream",
     "text": [
      "  0%|          | 0/208 [00:00<?, ?it/s]"
     ]
    },
    {
     "name": "stdout",
     "output_type": "stream",
     "text": [
      "Empty DataFrame\n",
      "Columns: [country, year, lat, lon, GID_1, GID_2, wealthpooled, households, urban_rural]\n",
      "Index: []\n"
     ]
    },
    {
     "name": "stderr",
     "output_type": "stream",
     "text": [
      "100%|██████████| 208/208 [00:01<00:00, 105.90it/s]\n"
     ]
    },
    {
     "name": "stdout",
     "output_type": "stream",
     "text": [
      "Processing: zambia_2013\n",
      "None\n",
      "['/atlas/u/erikrozi/bias_mitigation/africa_poverty_clean/data/dhs_buildings_raw/zambia_2013_00.tfrecord.gz']\n"
     ]
    },
    {
     "name": "stderr",
     "output_type": "stream",
     "text": [
      "  0%|          | 0/719 [00:00<?, ?it/s]"
     ]
    },
    {
     "name": "stdout",
     "output_type": "stream",
     "text": [
      "Empty DataFrame\n",
      "Columns: [country, year, lat, lon, GID_1, GID_2, wealthpooled, households, urban_rural]\n",
      "Index: []\n"
     ]
    },
    {
     "name": "stderr",
     "output_type": "stream",
     "text": [
      "100%|██████████| 719/719 [00:05<00:00, 121.81it/s]\n"
     ]
    },
    {
     "name": "stdout",
     "output_type": "stream",
     "text": [
      "Processing: zimbabwe_2010\n",
      "None\n",
      "['/atlas/u/erikrozi/bias_mitigation/africa_poverty_clean/data/dhs_buildings_raw/zimbabwe_2010_00.tfrecord.gz']\n"
     ]
    },
    {
     "name": "stderr",
     "output_type": "stream",
     "text": [
      "  0%|          | 0/393 [00:00<?, ?it/s]"
     ]
    },
    {
     "name": "stdout",
     "output_type": "stream",
     "text": [
      "Empty DataFrame\n",
      "Columns: [country, year, lat, lon, GID_1, GID_2, wealthpooled, households, urban_rural]\n",
      "Index: []\n"
     ]
    },
    {
     "name": "stderr",
     "output_type": "stream",
     "text": [
      "100%|██████████| 393/393 [00:03<00:00, 117.85it/s]\n"
     ]
    },
    {
     "name": "stdout",
     "output_type": "stream",
     "text": [
      "Processing: zimbabwe_2015\n",
      "None\n",
      "['/atlas/u/erikrozi/bias_mitigation/africa_poverty_clean/data/dhs_buildings_raw/zimbabwe_2015_00.tfrecord.gz']\n"
     ]
    },
    {
     "name": "stderr",
     "output_type": "stream",
     "text": [
      "  0%|          | 0/400 [00:00<?, ?it/s]"
     ]
    },
    {
     "name": "stdout",
     "output_type": "stream",
     "text": [
      "Empty DataFrame\n",
      "Columns: [country, year, lat, lon, GID_1, GID_2, wealthpooled, households, urban_rural]\n",
      "Index: []\n"
     ]
    },
    {
     "name": "stderr",
     "output_type": "stream",
     "text": [
      "100%|██████████| 400/400 [00:03<00:00, 123.13it/s]\n"
     ]
    }
   ],
   "source": [
    "process_dataset(\n",
    "    csv_path='/atlas/u/erikrozi/bias_mitigation/africa_poverty_clean/data/dhs_clusters.csv',\n",
    "    input_dir=BUILDINGS_EXPORT_FOLDER,\n",
    "    processed_dir=BUILDINGS_PROCESSED_FOLDER)"
   ]
  }
 ],
 "metadata": {
  "kernelspec": {
   "display_name": "Python 3",
   "language": "python",
   "name": "python3"
  },
  "language_info": {
   "codemirror_mode": {
    "name": "ipython",
    "version": 3
   },
   "file_extension": ".py",
   "mimetype": "text/x-python",
   "name": "python",
   "nbconvert_exporter": "python",
   "pygments_lexer": "ipython3",
   "version": "3.8.12"
  },
  "toc": {
   "base_numbering": 1,
   "nav_menu": {},
   "number_sections": true,
   "sideBar": true,
   "skip_h1_title": false,
   "title_cell": "Table of Contents",
   "title_sidebar": "Contents",
   "toc_cell": true,
   "toc_position": {
    "height": "calc(100% - 180px)",
    "left": "10px",
    "top": "150px",
    "width": "307.2px"
   },
   "toc_section_display": true,
   "toc_window_display": true
  }
 },
 "nbformat": 4,
 "nbformat_minor": 4
}