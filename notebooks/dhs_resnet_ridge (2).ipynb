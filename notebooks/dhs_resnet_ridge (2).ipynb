{
 "cells": [
  {
   "cell_type": "code",
   "execution_count": 1,
   "id": "mWAaY4VqZPSk",
   "metadata": {
    "colab": {
     "base_uri": "https://localhost:8080/"
    },
    "id": "mWAaY4VqZPSk",
    "outputId": "af154eda-95b2-4196-8e7f-be2a29201451"
   },
   "outputs": [
    {
     "name": "stdout",
     "output_type": "stream",
     "text": [
      "Cloning into 'africa_poverty_clean'...\n",
      "remote: Enumerating objects: 372, done.\u001B[K\n",
      "remote: Counting objects: 100% (372/372), done.\u001B[K\n",
      "remote: Compressing objects: 100% (224/224), done.\u001B[K\n",
      "remote: Total 372 (delta 237), reused 281 (delta 146), pack-reused 0\u001B[K\n",
      "Receiving objects: 100% (372/372), 3.56 MiB | 992.00 KiB/s, done.\n",
      "Resolving deltas: 100% (237/237), done.\n"
     ]
    }
   ],
   "source": [
    " !git clone https://github.com/chrisyeh96/africa_poverty_clean.git"
   ]
  },
  {
   "cell_type": "code",
   "execution_count": 2,
   "id": "vtm7ddj4ZcZP",
   "metadata": {
    "colab": {
     "base_uri": "https://localhost:8080/"
    },
    "id": "vtm7ddj4ZcZP",
    "outputId": "810b3664-2763-4a1c-a1d2-75876c763d85"
   },
   "outputs": [
    {
     "name": "stdout",
     "output_type": "stream",
     "text": [
      "/home/aimsg/PycharmProjects/demo/africa_poverty_clean\r\n"
     ]
    }
   ],
   "source": [
    "!pwd"
   ]
  },
  {
   "cell_type": "code",
   "execution_count": 3,
   "id": "KT7qKB4XZ5XC",
   "metadata": {
    "colab": {
     "base_uri": "https://localhost:8080/"
    },
    "id": "KT7qKB4XZ5XC",
    "outputId": "394a0428-962b-4061-8995-efec85237724"
   },
   "outputs": [
    {
     "name": "stdout",
     "output_type": "stream",
     "text": [
      "bash: ./4_download_model_checkpoints.sh: No such file or directory\r\n"
     ]
    }
   ],
   "source": [
    "!bash ./4_download_model_checkpoints.sh"
   ]
  },
  {
   "cell_type": "markdown",
   "id": "2ded0ef8-22f8-4b13-98c0-d1d879171ab3",
   "metadata": {
    "id": "2ded0ef8-22f8-4b13-98c0-d1d879171ab3"
   },
   "source": [
    "## Pre-requisites\n",
    "\n",
    "Before running this notebook, you should have already used the `extract_features.py` script to extract features from models trained on DHS data. You should have the following structure under the `outputs/` directory:\n",
    "\n",
    "```\n",
    "dhs_ooc/\n",
    "    DHS_OOC_A_ms_samescaled_b64_fc01_conv01_lr0001/\n",
    "        features.npz\n",
    "    ...\n",
    "    DHS_OOC_E_rgb_same_b64_fc001_conv001_lr0001/\n",
    "        features.npz\n",
    "dhs_incountry/\n",
    "    DHS_Incountry_A_ms_samescaled_b64_fc01_conv01_lr001/\n",
    "        features.npz\n",
    "    ...\n",
    "    DHS_Incountry_E_nl_random_b64_fc01_conv01_lr001/\n",
    "        features.npz\n",
    "transfer/\n",
    "    transfer_nlcenter_ms_b64_fc001_conv001_lr0001/\n",
    "        features.npz\n",
    "    transfer_nlcenter_rgb_b64_fc001_conv001_lr0001/\n",
    "        features.npz\n",
    "        \n",
    "\n",
    "TODO: update when keep-frac models are added\n",
    "```\n",
    "\n",
    "## Instructions\n",
    "\n",
    "This notebook essentially performs fine-tuning of the final-layer of the Resnet-18 models. However, instead of directly fine-tuning the Resnet-18 models in TensorFlow, we train ridge-regression models using the extracted features. We take this approach for two reasons:\n",
    "\n",
    "1. It is easier to perform leave-one-group-out (\"logo\") cross-validated ridge regression using scikit-learn, as opposed to TensorFlow. For out-of-country (OOC) experiments, the left-out group is the test country. For in-country experiments, the left-out group is the test split.\n",
    "2. We can concatenate the 512-dim features from the RGB/MS CNN models with the 512-dim features from the NL CNN models to form a larger 1024-dim feature vector capturing RGB/MS + NL imagery information. We do this instead of training a CNN with the MS+NL imagery stacked together as an input because we found it to result in better performance.\n",
    "\n",
    "Because of the extensive cross-validation, each \"logo\" CV run may take ~2-4 hours. In total, this notebook may take upwards of 15 hours to complete.\n",
    "\n",
    "After you complete this notebook, use the `model_analysis/dhs_ooc.ipynb` and `model_analysis/dhs_incountry.ipynb` (TODO) notebooks to analyze the final performance of the fine-tuned Resnet-18 models."
   ]
  },
  {
   "cell_type": "code",
   "execution_count": 4,
   "id": "8UMmwkwRTChY",
   "metadata": {
    "id": "8UMmwkwRTChY"
   },
   "outputs": [],
   "source": [
    "#!cp -R '/content/africa_poverty_clean' '/content/Baselines'"
   ]
  },
  {
   "cell_type": "code",
   "execution_count": 5,
   "id": "rFY4zQ2HTopp",
   "metadata": {
    "id": "rFY4zQ2HTopp"
   },
   "outputs": [],
   "source": [
    "#!cp -R '/content/drive/MyDrive/dhs_tfrecords' '/content/africa_poverty_clean'"
   ]
  },
  {
   "cell_type": "markdown",
   "id": "166c1303-d7ba-4a45-8967-2ee8a0a46af1",
   "metadata": {
    "id": "166c1303-d7ba-4a45-8967-2ee8a0a46af1"
   },
   "source": [
    "## Imports and Constants"
   ]
  },
  {
   "cell_type": "code",
   "execution_count": 1,
   "id": "7f0dc827-40b1-401b-8f83-5b8555f4c54a",
   "metadata": {
    "colab": {
     "base_uri": "https://localhost:8080/"
    },
    "id": "7f0dc827-40b1-401b-8f83-5b8555f4c54a",
    "outputId": "6ee845dc-4eb8-4d8f-fcb2-1660a46062bf"
   },
   "outputs": [],
   "source": [
    "#%cd '../'\n",
    "%load_ext autoreload\n",
    "%autoreload 2\n",
    "%matplotlib inline"
   ]
  },
  {
   "cell_type": "code",
   "execution_count": 7,
   "id": "b2f7ca43",
   "metadata": {},
   "outputs": [
    {
     "name": "stdout",
     "output_type": "stream",
     "text": [
      "/home/aimsg/PycharmProjects/demo/africa_poverty_clean/africa_poverty_clean\n"
     ]
    }
   ],
   "source": [
    "%cd ./africa_poverty_clean\n"
   ]
  },
  {
   "cell_type": "code",
   "execution_count": 2,
   "id": "b933c7a7",
   "metadata": {},
   "outputs": [
    {
     "name": "stdout",
     "output_type": "stream",
     "text": [
      "Requirement already satisfied: geopandas in /home/aimsg/PycharmProjects/demo/demo/lib/python3.7/site-packages (0.10.1)\n",
      "Requirement already satisfied: jupyter_contrib_nbextensions in /home/aimsg/PycharmProjects/demo/demo/lib/python3.7/site-packages (0.5.1)\n",
      "Requirement already satisfied: jupyterlab in /home/aimsg/PycharmProjects/demo/demo/lib/python3.7/site-packages (3.1.18)\n",
      "Requirement already satisfied: matplotlib in /home/aimsg/PycharmProjects/demo/demo/lib/python3.7/site-packages (3.4.3)\n",
      "Requirement already satisfied: mypy in /home/aimsg/PycharmProjects/demo/demo/lib/python3.7/site-packages (0.910)\n",
      "Requirement already satisfied: numpy in /home/aimsg/PycharmProjects/demo/demo/lib/python3.7/site-packages (1.18.5)\n",
      "Requirement already satisfied: pandas in /home/aimsg/PycharmProjects/demo/demo/lib/python3.7/site-packages (1.3.3)\n",
      "Requirement already satisfied: pillow in /home/aimsg/PycharmProjects/demo/demo/lib/python3.7/site-packages (8.3.2)\n",
      "Requirement already satisfied: scikit-learn in /home/aimsg/PycharmProjects/demo/demo/lib/python3.7/site-packages (1.0)\n",
      "Requirement already satisfied: scipy in /home/aimsg/PycharmProjects/demo/demo/lib/python3.7/site-packages (1.7.1)\n",
      "Requirement already satisfied: seaborn in /home/aimsg/PycharmProjects/demo/demo/lib/python3.7/site-packages (0.11.2)\n",
      "Requirement already satisfied: tqdm in /home/aimsg/PycharmProjects/demo/demo/lib/python3.7/site-packages (4.62.3)\n",
      "Requirement already satisfied: tensorflow in /home/aimsg/PycharmProjects/demo/demo/lib/python3.7/site-packages (1.15.5)\n",
      "Requirement already satisfied: pyproj>=2.2.0 in /home/aimsg/PycharmProjects/demo/demo/lib/python3.7/site-packages (from geopandas) (3.2.1)\n",
      "Requirement already satisfied: fiona>=1.8 in /home/aimsg/PycharmProjects/demo/demo/lib/python3.7/site-packages (from geopandas) (1.8.20)\n",
      "Requirement already satisfied: shapely>=1.6 in /home/aimsg/PycharmProjects/demo/demo/lib/python3.7/site-packages (from geopandas) (1.7.1)\n",
      "Requirement already satisfied: python-dateutil>=2.7.3 in /home/aimsg/PycharmProjects/demo/demo/lib/python3.7/site-packages (from pandas) (2.8.2)\n",
      "Requirement already satisfied: pytz>=2017.3 in /home/aimsg/PycharmProjects/demo/demo/lib/python3.7/site-packages (from pandas) (2021.3)\n",
      "Requirement already satisfied: certifi in /home/aimsg/PycharmProjects/demo/demo/lib/python3.7/site-packages (from fiona>=1.8->geopandas) (2021.10.8)\n",
      "Requirement already satisfied: click-plugins>=1.0 in /home/aimsg/PycharmProjects/demo/demo/lib/python3.7/site-packages (from fiona>=1.8->geopandas) (1.1.1)\n",
      "Requirement already satisfied: cligj>=0.5 in /home/aimsg/PycharmProjects/demo/demo/lib/python3.7/site-packages (from fiona>=1.8->geopandas) (0.7.2)\n",
      "Requirement already satisfied: six>=1.7 in /home/aimsg/PycharmProjects/demo/demo/lib/python3.7/site-packages (from fiona>=1.8->geopandas) (1.15.0)\n",
      "Requirement already satisfied: setuptools in /home/aimsg/PycharmProjects/demo/demo/lib/python3.7/site-packages (from fiona>=1.8->geopandas) (57.0.0)\n",
      "Requirement already satisfied: click>=4.0 in /home/aimsg/PycharmProjects/demo/demo/lib/python3.7/site-packages (from fiona>=1.8->geopandas) (8.0.3)\n",
      "Requirement already satisfied: munch in /home/aimsg/PycharmProjects/demo/demo/lib/python3.7/site-packages (from fiona>=1.8->geopandas) (2.5.0)\n",
      "Requirement already satisfied: attrs>=17 in /home/aimsg/PycharmProjects/demo/demo/lib/python3.7/site-packages (from fiona>=1.8->geopandas) (21.2.0)\n",
      "Requirement already satisfied: importlib-metadata in /home/aimsg/PycharmProjects/demo/demo/lib/python3.7/site-packages (from click>=4.0->fiona>=1.8->geopandas) (4.8.1)\n",
      "Requirement already satisfied: lxml in /home/aimsg/PycharmProjects/demo/demo/lib/python3.7/site-packages (from jupyter_contrib_nbextensions) (4.6.3)\n",
      "Requirement already satisfied: nbconvert>=4.2 in /home/aimsg/PycharmProjects/demo/demo/lib/python3.7/site-packages (from jupyter_contrib_nbextensions) (6.2.0)\n",
      "Requirement already satisfied: jupyter-highlight-selected-word>=0.1.1 in /home/aimsg/PycharmProjects/demo/demo/lib/python3.7/site-packages (from jupyter_contrib_nbextensions) (0.2.0)\n",
      "Requirement already satisfied: traitlets>=4.1 in /home/aimsg/PycharmProjects/demo/demo/lib/python3.7/site-packages (from jupyter_contrib_nbextensions) (5.1.0)\n",
      "Requirement already satisfied: ipython-genutils in /home/aimsg/PycharmProjects/demo/demo/lib/python3.7/site-packages (from jupyter_contrib_nbextensions) (0.2.0)\n",
      "Requirement already satisfied: notebook>=4.0 in /home/aimsg/PycharmProjects/demo/demo/lib/python3.7/site-packages (from jupyter_contrib_nbextensions) (6.4.4)\n",
      "Requirement already satisfied: jupyter-nbextensions-configurator>=0.4.0 in /home/aimsg/PycharmProjects/demo/demo/lib/python3.7/site-packages (from jupyter_contrib_nbextensions) (0.4.1)\n",
      "Requirement already satisfied: jupyter-contrib-core>=0.3.3 in /home/aimsg/PycharmProjects/demo/demo/lib/python3.7/site-packages (from jupyter_contrib_nbextensions) (0.3.3)\n",
      "Requirement already satisfied: tornado in /home/aimsg/PycharmProjects/demo/demo/lib/python3.7/site-packages (from jupyter_contrib_nbextensions) (6.1)\n",
      "Requirement already satisfied: jupyter-latex-envs>=1.3.8 in /home/aimsg/PycharmProjects/demo/demo/lib/python3.7/site-packages (from jupyter_contrib_nbextensions) (1.4.6)\n",
      "Requirement already satisfied: pyyaml in /home/aimsg/PycharmProjects/demo/demo/lib/python3.7/site-packages (from jupyter_contrib_nbextensions) (5.4.1)\n",
      "Requirement already satisfied: jupyter-core in /home/aimsg/PycharmProjects/demo/demo/lib/python3.7/site-packages (from jupyter_contrib_nbextensions) (4.8.1)\n",
      "Requirement already satisfied: ipython in /home/aimsg/PycharmProjects/demo/demo/lib/python3.7/site-packages (from jupyter-latex-envs>=1.3.8->jupyter_contrib_nbextensions) (7.28.0)\n",
      "Requirement already satisfied: pandocfilters>=1.4.1 in /home/aimsg/PycharmProjects/demo/demo/lib/python3.7/site-packages (from nbconvert>=4.2->jupyter_contrib_nbextensions) (1.5.0)\n",
      "Requirement already satisfied: testpath in /home/aimsg/PycharmProjects/demo/demo/lib/python3.7/site-packages (from nbconvert>=4.2->jupyter_contrib_nbextensions) (0.5.0)\n",
      "Requirement already satisfied: defusedxml in /home/aimsg/PycharmProjects/demo/demo/lib/python3.7/site-packages (from nbconvert>=4.2->jupyter_contrib_nbextensions) (0.7.1)\n",
      "Requirement already satisfied: nbclient<0.6.0,>=0.5.0 in /home/aimsg/PycharmProjects/demo/demo/lib/python3.7/site-packages (from nbconvert>=4.2->jupyter_contrib_nbextensions) (0.5.4)\n",
      "Requirement already satisfied: jupyterlab-pygments in /home/aimsg/PycharmProjects/demo/demo/lib/python3.7/site-packages (from nbconvert>=4.2->jupyter_contrib_nbextensions) (0.1.2)\n",
      "Requirement already satisfied: nbformat>=4.4 in /home/aimsg/PycharmProjects/demo/demo/lib/python3.7/site-packages (from nbconvert>=4.2->jupyter_contrib_nbextensions) (5.1.3)\n",
      "Requirement already satisfied: entrypoints>=0.2.2 in /home/aimsg/PycharmProjects/demo/demo/lib/python3.7/site-packages (from nbconvert>=4.2->jupyter_contrib_nbextensions) (0.3)\n",
      "Requirement already satisfied: pygments>=2.4.1 in /home/aimsg/PycharmProjects/demo/demo/lib/python3.7/site-packages (from nbconvert>=4.2->jupyter_contrib_nbextensions) (2.10.0)\n",
      "Requirement already satisfied: bleach in /home/aimsg/PycharmProjects/demo/demo/lib/python3.7/site-packages (from nbconvert>=4.2->jupyter_contrib_nbextensions) (4.1.0)\n",
      "Requirement already satisfied: jinja2>=2.4 in /home/aimsg/PycharmProjects/demo/demo/lib/python3.7/site-packages (from nbconvert>=4.2->jupyter_contrib_nbextensions) (3.0.2)\n",
      "Requirement already satisfied: mistune<2,>=0.8.1 in /home/aimsg/PycharmProjects/demo/demo/lib/python3.7/site-packages (from nbconvert>=4.2->jupyter_contrib_nbextensions) (0.8.4)\n",
      "Requirement already satisfied: MarkupSafe>=2.0 in /home/aimsg/PycharmProjects/demo/demo/lib/python3.7/site-packages (from jinja2>=2.4->nbconvert>=4.2->jupyter_contrib_nbextensions) (2.0.1)\n",
      "Requirement already satisfied: nest-asyncio in /home/aimsg/PycharmProjects/demo/demo/lib/python3.7/site-packages (from nbclient<0.6.0,>=0.5.0->nbconvert>=4.2->jupyter_contrib_nbextensions) (1.5.1)\n",
      "Requirement already satisfied: jupyter-client>=6.1.5 in /home/aimsg/PycharmProjects/demo/demo/lib/python3.7/site-packages (from nbclient<0.6.0,>=0.5.0->nbconvert>=4.2->jupyter_contrib_nbextensions) (7.0.6)\n"
     ]
    },
    {
     "name": "stdout",
     "output_type": "stream",
     "text": [
      "Requirement already satisfied: pyzmq>=13 in /home/aimsg/PycharmProjects/demo/demo/lib/python3.7/site-packages (from jupyter-client>=6.1.5->nbclient<0.6.0,>=0.5.0->nbconvert>=4.2->jupyter_contrib_nbextensions) (22.3.0)\n",
      "Requirement already satisfied: jsonschema!=2.5.0,>=2.4 in /home/aimsg/PycharmProjects/demo/demo/lib/python3.7/site-packages (from nbformat>=4.4->nbconvert>=4.2->jupyter_contrib_nbextensions) (4.1.0)\n",
      "Requirement already satisfied: pyrsistent!=0.17.0,!=0.17.1,!=0.17.2,>=0.14.0 in /home/aimsg/PycharmProjects/demo/demo/lib/python3.7/site-packages (from jsonschema!=2.5.0,>=2.4->nbformat>=4.4->nbconvert>=4.2->jupyter_contrib_nbextensions) (0.18.0)\n",
      "Requirement already satisfied: prometheus-client in /home/aimsg/PycharmProjects/demo/demo/lib/python3.7/site-packages (from notebook>=4.0->jupyter_contrib_nbextensions) (0.11.0)\n",
      "Requirement already satisfied: argon2-cffi in /home/aimsg/PycharmProjects/demo/demo/lib/python3.7/site-packages (from notebook>=4.0->jupyter_contrib_nbextensions) (21.1.0)\n",
      "Requirement already satisfied: terminado>=0.8.3 in /home/aimsg/PycharmProjects/demo/demo/lib/python3.7/site-packages (from notebook>=4.0->jupyter_contrib_nbextensions) (0.12.1)\n",
      "Requirement already satisfied: ipykernel in /home/aimsg/PycharmProjects/demo/demo/lib/python3.7/site-packages (from notebook>=4.0->jupyter_contrib_nbextensions) (6.4.1)\n",
      "Requirement already satisfied: Send2Trash>=1.5.0 in /home/aimsg/PycharmProjects/demo/demo/lib/python3.7/site-packages (from notebook>=4.0->jupyter_contrib_nbextensions) (1.8.0)\n",
      "Requirement already satisfied: ptyprocess in /home/aimsg/PycharmProjects/demo/demo/lib/python3.7/site-packages (from terminado>=0.8.3->notebook>=4.0->jupyter_contrib_nbextensions) (0.7.0)\n",
      "Requirement already satisfied: nbclassic~=0.2 in /home/aimsg/PycharmProjects/demo/demo/lib/python3.7/site-packages (from jupyterlab) (0.3.2)\n",
      "Requirement already satisfied: packaging in /home/aimsg/PycharmProjects/demo/demo/lib/python3.7/site-packages (from jupyterlab) (21.0)\n",
      "Requirement already satisfied: jupyter-server~=1.4 in /home/aimsg/PycharmProjects/demo/demo/lib/python3.7/site-packages (from jupyterlab) (1.11.1)\n",
      "Requirement already satisfied: jupyterlab-server~=2.3 in /home/aimsg/PycharmProjects/demo/demo/lib/python3.7/site-packages (from jupyterlab) (2.8.2)\n",
      "Requirement already satisfied: websocket-client in /home/aimsg/PycharmProjects/demo/demo/lib/python3.7/site-packages (from jupyter-server~=1.4->jupyterlab) (1.2.1)\n",
      "Requirement already satisfied: requests-unixsocket in /home/aimsg/PycharmProjects/demo/demo/lib/python3.7/site-packages (from jupyter-server~=1.4->jupyterlab) (0.2.0)\n",
      "Requirement already satisfied: anyio<4,>=3.1.0 in /home/aimsg/PycharmProjects/demo/demo/lib/python3.7/site-packages (from jupyter-server~=1.4->jupyterlab) (3.3.3)\n",
      "Requirement already satisfied: idna>=2.8 in /home/aimsg/PycharmProjects/demo/demo/lib/python3.7/site-packages (from anyio<4,>=3.1.0->jupyter-server~=1.4->jupyterlab) (3.2)\n",
      "Requirement already satisfied: typing-extensions in /home/aimsg/PycharmProjects/demo/demo/lib/python3.7/site-packages (from anyio<4,>=3.1.0->jupyter-server~=1.4->jupyterlab) (3.7.4.3)\n",
      "Requirement already satisfied: sniffio>=1.1 in /home/aimsg/PycharmProjects/demo/demo/lib/python3.7/site-packages (from anyio<4,>=3.1.0->jupyter-server~=1.4->jupyterlab) (1.2.0)\n",
      "Requirement already satisfied: requests in /home/aimsg/PycharmProjects/demo/demo/lib/python3.7/site-packages (from jupyterlab-server~=2.3->jupyterlab) (2.26.0)\n",
      "Requirement already satisfied: json5 in /home/aimsg/PycharmProjects/demo/demo/lib/python3.7/site-packages (from jupyterlab-server~=2.3->jupyterlab) (0.9.6)\n",
      "Requirement already satisfied: babel in /home/aimsg/PycharmProjects/demo/demo/lib/python3.7/site-packages (from jupyterlab-server~=2.3->jupyterlab) (2.9.1)\n",
      "Requirement already satisfied: pyparsing>=2.2.1 in /home/aimsg/PycharmProjects/demo/demo/lib/python3.7/site-packages (from matplotlib) (2.4.7)\n",
      "Requirement already satisfied: cycler>=0.10 in /home/aimsg/PycharmProjects/demo/demo/lib/python3.7/site-packages (from matplotlib) (0.10.0)\n",
      "Requirement already satisfied: kiwisolver>=1.0.1 in /home/aimsg/PycharmProjects/demo/demo/lib/python3.7/site-packages (from matplotlib) (1.3.2)\n",
      "Requirement already satisfied: typed-ast<1.5.0,>=1.4.0 in /home/aimsg/PycharmProjects/demo/demo/lib/python3.7/site-packages (from mypy) (1.4.3)\n",
      "Requirement already satisfied: toml in /home/aimsg/PycharmProjects/demo/demo/lib/python3.7/site-packages (from mypy) (0.10.2)\n",
      "Requirement already satisfied: mypy-extensions<0.5.0,>=0.4.3 in /home/aimsg/PycharmProjects/demo/demo/lib/python3.7/site-packages (from mypy) (0.4.3)\n",
      "Requirement already satisfied: threadpoolctl>=2.0.0 in /home/aimsg/PycharmProjects/demo/demo/lib/python3.7/site-packages (from scikit-learn) (3.0.0)\n",
      "Requirement already satisfied: joblib>=0.11 in /home/aimsg/PycharmProjects/demo/demo/lib/python3.7/site-packages (from scikit-learn) (1.1.0)\n",
      "Requirement already satisfied: grpcio>=1.8.6 in /home/aimsg/PycharmProjects/demo/demo/lib/python3.7/site-packages (from tensorflow) (1.41.0)\n",
      "Requirement already satisfied: absl-py>=0.7.0 in /home/aimsg/PycharmProjects/demo/demo/lib/python3.7/site-packages (from tensorflow) (0.14.1)\n",
      "Requirement already satisfied: gast==0.2.2 in /home/aimsg/PycharmProjects/demo/demo/lib/python3.7/site-packages (from tensorflow) (0.2.2)\n",
      "Requirement already satisfied: h5py<=2.10.0 in /home/aimsg/PycharmProjects/demo/demo/lib/python3.7/site-packages (from tensorflow) (2.10.0)\n",
      "Requirement already satisfied: keras-applications>=1.0.8 in /home/aimsg/PycharmProjects/demo/demo/lib/python3.7/site-packages (from tensorflow) (1.0.8)\n",
      "Requirement already satisfied: keras-preprocessing>=1.0.5 in /home/aimsg/PycharmProjects/demo/demo/lib/python3.7/site-packages (from tensorflow) (1.1.2)\n",
      "Requirement already satisfied: tensorboard<1.16.0,>=1.15.0 in /home/aimsg/PycharmProjects/demo/demo/lib/python3.7/site-packages (from tensorflow) (1.15.0)\n",
      "Requirement already satisfied: astor>=0.6.0 in /home/aimsg/PycharmProjects/demo/demo/lib/python3.7/site-packages (from tensorflow) (0.8.1)\n",
      "Requirement already satisfied: wrapt>=1.11.1 in /home/aimsg/PycharmProjects/demo/demo/lib/python3.7/site-packages (from tensorflow) (1.12.1)\n",
      "Requirement already satisfied: protobuf>=3.6.1 in /home/aimsg/PycharmProjects/demo/demo/lib/python3.7/site-packages (from tensorflow) (3.18.1)\n",
      "Requirement already satisfied: opt-einsum>=2.3.2 in /home/aimsg/PycharmProjects/demo/demo/lib/python3.7/site-packages (from tensorflow) (3.3.0)\n",
      "Requirement already satisfied: termcolor>=1.1.0 in /home/aimsg/PycharmProjects/demo/demo/lib/python3.7/site-packages (from tensorflow) (1.1.0)\n",
      "Requirement already satisfied: wheel>=0.26 in /home/aimsg/PycharmProjects/demo/demo/lib/python3.7/site-packages (from tensorflow) (0.36.2)\n",
      "Requirement already satisfied: google-pasta>=0.1.6 in /home/aimsg/PycharmProjects/demo/demo/lib/python3.7/site-packages (from tensorflow) (0.2.0)\n",
      "Requirement already satisfied: tensorflow-estimator==1.15.1 in /home/aimsg/PycharmProjects/demo/demo/lib/python3.7/site-packages (from tensorflow) (1.15.1)\n",
      "Requirement already satisfied: werkzeug>=0.11.15 in /home/aimsg/PycharmProjects/demo/demo/lib/python3.7/site-packages (from tensorboard<1.16.0,>=1.15.0->tensorflow) (2.0.2)\n",
      "Requirement already satisfied: markdown>=2.6.8 in /home/aimsg/PycharmProjects/demo/demo/lib/python3.7/site-packages (from tensorboard<1.16.0,>=1.15.0->tensorflow) (3.3.4)\n",
      "Requirement already satisfied: cffi>=1.0.0 in /home/aimsg/PycharmProjects/demo/demo/lib/python3.7/site-packages (from argon2-cffi->notebook>=4.0->jupyter_contrib_nbextensions) (1.14.6)\n",
      "Requirement already satisfied: pycparser in /home/aimsg/PycharmProjects/demo/demo/lib/python3.7/site-packages (from cffi>=1.0.0->argon2-cffi->notebook>=4.0->jupyter_contrib_nbextensions) (2.20)\n",
      "Requirement already satisfied: webencodings in /home/aimsg/PycharmProjects/demo/demo/lib/python3.7/site-packages (from bleach->nbconvert>=4.2->jupyter_contrib_nbextensions) (0.5.1)\n",
      "Requirement already satisfied: zipp>=0.5 in /home/aimsg/PycharmProjects/demo/demo/lib/python3.7/site-packages (from importlib-metadata->click>=4.0->fiona>=1.8->geopandas) (3.6.0)\n",
      "Requirement already satisfied: argcomplete>=1.12.3 in /home/aimsg/PycharmProjects/demo/demo/lib/python3.7/site-packages (from ipykernel->notebook>=4.0->jupyter_contrib_nbextensions) (1.12.3)\n",
      "Requirement already satisfied: debugpy<2.0,>=1.0.0 in /home/aimsg/PycharmProjects/demo/demo/lib/python3.7/site-packages (from ipykernel->notebook>=4.0->jupyter_contrib_nbextensions) (1.5.0)\n",
      "Requirement already satisfied: matplotlib-inline<0.2.0,>=0.1.0 in /home/aimsg/PycharmProjects/demo/demo/lib/python3.7/site-packages (from ipykernel->notebook>=4.0->jupyter_contrib_nbextensions) (0.1.3)\n"
     ]
    },
    {
     "name": "stdout",
     "output_type": "stream",
     "text": [
      "Requirement already satisfied: pickleshare in /home/aimsg/PycharmProjects/demo/demo/lib/python3.7/site-packages (from ipython->jupyter-latex-envs>=1.3.8->jupyter_contrib_nbextensions) (0.7.5)\n",
      "Requirement already satisfied: decorator in /home/aimsg/PycharmProjects/demo/demo/lib/python3.7/site-packages (from ipython->jupyter-latex-envs>=1.3.8->jupyter_contrib_nbextensions) (5.1.0)\n",
      "Requirement already satisfied: jedi>=0.16 in /home/aimsg/PycharmProjects/demo/demo/lib/python3.7/site-packages (from ipython->jupyter-latex-envs>=1.3.8->jupyter_contrib_nbextensions) (0.18.0)\n",
      "Requirement already satisfied: pexpect>4.3 in /home/aimsg/PycharmProjects/demo/demo/lib/python3.7/site-packages (from ipython->jupyter-latex-envs>=1.3.8->jupyter_contrib_nbextensions) (4.8.0)\n",
      "Requirement already satisfied: prompt-toolkit!=3.0.0,!=3.0.1,<3.1.0,>=2.0.0 in /home/aimsg/PycharmProjects/demo/demo/lib/python3.7/site-packages (from ipython->jupyter-latex-envs>=1.3.8->jupyter_contrib_nbextensions) (3.0.20)\n",
      "Requirement already satisfied: backcall in /home/aimsg/PycharmProjects/demo/demo/lib/python3.7/site-packages (from ipython->jupyter-latex-envs>=1.3.8->jupyter_contrib_nbextensions) (0.2.0)\n",
      "Requirement already satisfied: parso<0.9.0,>=0.8.0 in /home/aimsg/PycharmProjects/demo/demo/lib/python3.7/site-packages (from jedi>=0.16->ipython->jupyter-latex-envs>=1.3.8->jupyter_contrib_nbextensions) (0.8.2)\n",
      "Requirement already satisfied: wcwidth in /home/aimsg/PycharmProjects/demo/demo/lib/python3.7/site-packages (from prompt-toolkit!=3.0.0,!=3.0.1,<3.1.0,>=2.0.0->ipython->jupyter-latex-envs>=1.3.8->jupyter_contrib_nbextensions) (0.2.5)\n",
      "Requirement already satisfied: charset-normalizer~=2.0.0 in /home/aimsg/PycharmProjects/demo/demo/lib/python3.7/site-packages (from requests->jupyterlab-server~=2.3->jupyterlab) (2.0.6)\n",
      "Requirement already satisfied: urllib3<1.27,>=1.21.1 in /home/aimsg/PycharmProjects/demo/demo/lib/python3.7/site-packages (from requests->jupyterlab-server~=2.3->jupyterlab) (1.26.7)\n",
      "\u001B[33mWARNING: You are using pip version 21.1.2; however, version 21.2.4 is available.\n",
      "You should consider upgrading via the '/home/aimsg/PycharmProjects/demo/demo/bin/python -m pip install --upgrade pip' command.\u001B[0m\n"
     ]
    }
   ],
   "source": [
    "!pip install geopandas jupyter_contrib_nbextensions jupyterlab matplotlib  mypy  numpy pandas pillow scikit-learn scipy seaborn tqdm tensorflow\n",
    "#!pip install tensorflow-gpu==1.15  # for GPU"
   ]
  },
  {
   "cell_type": "code",
   "execution_count": 3,
   "id": "f372d82e-7417-44a8-bb8b-806de4e4836c",
   "metadata": {
    "id": "f372d82e-7417-44a8-bb8b-806de4e4836c"
   },
   "outputs": [],
   "source": [
    "from __future__ import annotations\n",
    "\n",
    "from collections.abc import Iterable\n",
    "import os\n",
    "import pickle\n",
    "import numpy as np\n",
    "import pandas as pd\n",
    "from batchers import dataset_constants_buildings\n",
    "from models.linear_model import ridge_cv\n",
    "from utils.utils import load_npz\n",
    "#from utils.general import load_npz"
   ]
  },
  {
   "cell_type": "markdown",
   "id": "wEaKDYp5-JBN",
   "metadata": {
    "id": "wEaKDYp5-JBN"
   },
   "source": [
    "#Install dependencies "
   ]
  },
  {
   "cell_type": "code",
   "execution_count": null,
   "id": "ny6qEbUw-MqW",
   "metadata": {
    "colab": {
     "base_uri": "https://localhost:8080/"
    },
    "id": "ny6qEbUw-MqW",
    "outputId": "53c43d8e-14d1-483a-e8f3-af7059da2ecc"
   },
   "outputs": [
    {
     "name": "stdout",
     "output_type": "stream",
     "text": [
      "Collecting cartopy\n",
      "  Using cached Cartopy-0.20.1.tar.gz (10.8 MB)\n",
      "  Installing build dependencies ... \u001B[?25ldone\n",
      "\u001B[?25h  Getting requirements to build wheel ... \u001B[?25lerror\n",
      "\u001B[31m  ERROR: Command errored out with exit status 1:\n",
      "   command: /home/aimsg/PycharmProjects/demo/demo/bin/python /home/aimsg/PycharmProjects/demo/demo/lib/python3.7/site-packages/pip/_vendor/pep517/in_process/_in_process.py get_requires_for_build_wheel /tmp/tmpzc0rqb_t\n",
      "       cwd: /tmp/pip-install-5ik40nz0/cartopy_7ef6007fe9e649b48654971c1b82a287\n",
      "  Complete output (3 lines):\n",
      "  setup.py:120: UserWarning: Unable to determine GEOS version. Ensure you have 3.7.2 or later installed, or installation may fail.\n",
      "    '.'.join(str(v) for v in GEOS_MIN_VERSION), ))\n",
      "  Proj version 5.2.0 is installed, but cartopy requires at least version 8.0.0.\n",
      "  ----------------------------------------\u001B[0m\n",
      "\u001B[33mWARNING: Discarding https://files.pythonhosted.org/packages/fc/59/aa52698e3838f4cd0e7eaa75bd86837e9e0b05041dbdaee3cda2fffced06/Cartopy-0.20.1.tar.gz#sha256=91f87b130e2574547a20cd634498df97d797abd12dcfd0235bc0cdbcec8b05e3 (from https://pypi.org/simple/cartopy/) (requires-python:>=3.7). Command errored out with exit status 1: /home/aimsg/PycharmProjects/demo/demo/bin/python /home/aimsg/PycharmProjects/demo/demo/lib/python3.7/site-packages/pip/_vendor/pep517/in_process/_in_process.py get_requires_for_build_wheel /tmp/tmpzc0rqb_t Check the logs for full command output.\u001B[0m\n",
      "\u001B[?25h  Using cached Cartopy-0.20.0.tar.gz (10.8 MB)\n",
      "  Installing build dependencies ... \u001B[?25l\\"
     ]
    }
   ],
   "source": [
    "!pip install cartopy  earthengine-api==0.1.236 flake8==3.9.1 geopandas==0.7.0 jupyter_contrib_nbextensions==0.5.1 jupyterlab==3.0.15 matplotlib==3.4.1  mypy==0.812  numpy pandas==1.2.4 pillow==8.1.2 scikit-learn==0.24.2 scipy==1.6.3 seaborn==0.10.1 tqdm==4.60.0 tensorflow==1.15.*\n",
    "#!pip install tensorflow-gpu==1.15  # for GPU"
   ]
  },
  {
   "cell_type": "markdown",
   "id": "SU3GN2fwS6vh",
   "metadata": {
    "id": "SU3GN2fwS6vh"
   },
   "source": [
    "#Start"
   ]
  },
  {
   "cell_type": "code",
   "execution_count": 4,
   "id": "9351ed9a-1dc4-4f41-b18a-f366fac14eff",
   "metadata": {
    "colab": {
     "base_uri": "https://localhost:8080/"
    },
    "id": "9351ed9a-1dc4-4f41-b18a-f366fac14eff",
    "outputId": "9518eb26-a0b1-4e98-ab82-f32af93dbde4"
   },
   "outputs": [],
   "source": [
    "FOLDS = ['A', 'B', 'C', 'D', 'E']\n",
    "SPLITS = ['train', 'val', 'test']\n",
    "OUTPUTS_ROOT_DIR = 'outputs'\n",
    "COUNTRIES = dataset_constants_buildings.DHS_COUNTRIES\n",
    "\n",
    "KEEPS = [0.05, 0.1, 0.25, 0.5]\n",
    "SEEDS = [123, 456, 789]\n",
    "\n"
   ]
  },
  {
   "cell_type": "code",
   "execution_count": 5,
   "id": "94479345-c2c7-40ae-a434-5349de96e296",
   "metadata": {
    "id": "94479345-c2c7-40ae-a434-5349de96e296"
   },
   "outputs": [],
   "source": [
    "MODEL_DIRS = {\n",
    "    'resnet_ms_A':'DHS_OOC_A_building_attn_pretrained_355P100_b32_fce-05_conve-05_lre-05_crop355',\n",
    "    'resnet_ms_B':'DHS_OOC_B_building_attn_pretrained_355P100_b32_fce-05_conve-05_lre-05_crop355',\n",
    "    'resnet_ms_C':'DHS_OOC_C_building_attn_pretrained_attn_355P100_b32_fce-05_conve-05_lr0001_crop355',\n",
    "    'resnet_ms_D':'DHS_OOC_D_building_attn_pretrained_355P100_b32_fce-05_conve-05_lre-05_crop355',\n",
    "    'resnet_ms_E':'DHS_OOC_E_building_attn_pretrained_355P100_b32_fce-05_conve-05_lre-05_crop355',\n",
    "    # Build=>\n",
    "      'resnet_nl_A':'DHS_OOC_A_NL_attn_pretrained_355P100_b32_fce-05_conve-05_lr0000000000000004e-05_crop355',\n",
    "   'resnet_nl_B': 'DHS_OOC_C_NL_attn_pretrained_355P100_b32_fce-05_conve-05_lr0000000000000004e-05_crop355',\n",
    "    'resnet_nl_C':'DHS_OOC_NL_attn_pretrained_355P100_b32_fc0003_conv0003_lre-05_crop355_foldB',\n",
    "    'resnet_nl_D':'DHS_OOC_D_NL_attn_pretrained_355P100_b32_fce-05_conve-05_lr0000000000000004e-05_crop355',\n",
    "   'resnet_nl_E': 'DHS_OOC_E_NL_attn_pretrained_355P100_b32_fc1_conv1_lr0001_crop355',\n",
    "    # OOC models\n",
    "   # 'resnet_ms_A': 'DHS_OOC_A_ms_samescaled_b16_fc01_conv01_lr0001',\n",
    "   # 'resnet_ms_B': 'DHS_OOC_B_ms_samescaled_b32_fc001_conv001_lr0001',\n",
    "   # 'resnet_ms_C': 'DHS_OOC_C_ms_samescaled_b32_fc001_conv001_lr001',\n",
    "  #  'resnet_ms_D': 'DHS_OOC_D_ms_samescaled_b32_fc001_conv001_lr01',\n",
    "  # 'resnet_ms_E': 'DHS_OOC_E_ms_random_b32_fc01_conv01_lr001',\n",
    "    # 'resnet_ms_A':'DHS_OOC_A_NL_pretrained_attnP224stride140_b32_fce-05_conve-05_lr0001_crop511',\n",
    "\n",
    "     # 'resnet_ms_B':'DHS_OOC_B_NL_new_attn_pretrained_P224_stride140_b32_fce-05_conve-05_lr0001_crop511',\n",
    "      #'resnet_ms_C':'DHS_OOC_C_NL_pretrained_attnP224stride140_b32_fce-05_conve-05_lr0001_crop511',\n",
    "      #'resnet_ms_D':'DHS_OOC_D_NL_pretrained_attnP224stride140_b32_fce-05_conve-05_lr0001_crop511',\n",
    "      #'resnet_ms_E':'DHS_OOC_E_NL_pretrained_attnP224stride140_b32_fce-05_conve-05_lr0001_crop511',\n",
    "   # 'resnet_ms_A': 'DHS_OOC_A_ms_samescaled_keep0.25_seed456_b64_fc01_conv01_lr001',\n",
    "   # 'resnet_ms_B': 'DHS_OOC_B_ms_samescaled_keep0.25_seed456_b64_fc001_conv001_lr0001',\n",
    "   # 'resnet_ms_C': 'DHS_OOC_C_ms_samescaled_keep0.25_seed456_b64_fc001_conv001_lr001',\n",
    "   # 'resnet_ms_D': 'DHS_OOC_D_ms_samescaled_keep0.25_seed456_b64_fc001_conv001_lr01',\n",
    "   # 'resnet_ms_E': 'DHS_OOC_E_ms_samescaled_keep0.25_seed456_b64_fc01_conv01_lr001',\n",
    "   # 'resnet_ms_A': 'DHS_OOC_A_ms_samescaled_keep0.25_seed456_b64_fc01_conv01_lr0001',\n",
    "    #'resnet_ms_B': 'DHS_OOC_B_ms_samescaled_keep0.25_seed456_b64_fc001_conv001_lr0001/',\n",
    "    #'resnet_ms_C': 'DHS_OOC_C_ms_samescaled_keep0.25_seed456_b64_fc001_conv001_lr001/',\n",
    "    #'resnet_ms_D': 'DHS_OOC_D_ms_samescaled_keep0.25_seed456_b64_fc001_conv001_lr01/',\n",
    "    #'resnet_ms_E': 'DHS_OOC_E_ms_samescaled_keep0.25_seed456_b64_fc01_conv01_lr001/',\n",
    "   # 'resnet_nl_A':  'DHS_OOC_A_NL_pretrained_attnP224stride140_uniform_b32_fce-05_conve-05_lr0001_crop511',\n",
    "   #  'resnet_nl_B':   'DHS_OOC_B_NL_new_attn_pretrained_P224_uniform_stride140_b32_fce-05_conve-05_lr0001_crop511',\n",
    "   #  'resnet_nl_C':    'DHS_OOC_C_NL_pretrained_attnP224stride140_uniform_b32_fce-05_conve-05_lr0001_crop511',\n",
    "   #  'resnet_nl_D':  'DHS_OOC_D_NL_pretrained_attnP224stride140_uniform_b32_fce-05_conve-05_lr0001_crop511',\n",
    "   #   'resnet_nl_E':'DHS_OOC_E_NL_pretrained_attnP224stride140_uniform_b32_fce-05_conve-05_lr0001_crop511',\n",
    "\n",
    "\n",
    "     # 'resnet_ms_A':'DHS_OOC_A_NL_new_no_attn_P224_b32_fce-05_conve-05_lr0001_crop0',\n",
    "  #'resnet_ms_B':'DHS_OOC_B_NL_new_no_attn_P224_b32_fce-05_conve-05_lr0001_crop0',\n",
    "   #'resnet_ms_C':'DHS_OOC_C_NL_new_no_attn_P224_b32_fce-05_conve-05_lr0001_crop0',\n",
    "   #'resnet_ms_D':'DHS_OOC_D_NL_new_no_attn_P224_b32_fce-05_conve-05_lr0001_crop0',\n",
    "   # 'resnet_ms_E':'DHS_OOC_E_NL_new_no_attn_P224_b32_fce-05_conve-05_lr0001_crop0',\n",
    "            #   'resnet_nl_A'  :'DHS_OOC_A_NL_Noise_validation_offsetCent_test_b64_fc_conv_lr0001_crop224',\n",
    "     #'resnet_nl_B'  :'DHS_OOC_B_NL_Noise_validation_offsetCent_test_b64_fc_conv_lr0001_crop224',\n",
    "     #'resnet_nl_C'  :'DHS_OOC_C_NL_Noise_validation_offsetCent_test_b64_fc_conv_lr0001_crop224',\n",
    "     #'resnet_nl_D'  :'DHS_OOC_D_NL_Noise_validation_offsetCent_test_b64_fc_conv_lr0001_crop224',\n",
    "     #   'resnet_nl_E'  :'DHS_OOC_E_NL_Noise_validation_offsetCent_test_b64_fc_conv_lr0001_crop224',\n",
    "   #'resnet_nl_A'  :'DHS_OOC_A_NL_Noise_cent_nooffset_attn_b64_fc01_conv01_lr0001_crop0',\n",
    "   #  'resnet_nl_B'  :'DHS_OOC_B_NL_Noise_cent_nooffset_attn_b64_fc01_conv01_lr0001_crop0',\n",
    "    # 'resnet_nl_C'  :'DHS_OOC_C_NL_Noise_cent_nooffset_attn_b64_fc01_conv01_lr0001_crop0',\n",
    "     #'resnet_nl_D'  :'DHS_OOC_D_NL_Noise_cent_nooffset_attn_b64_fc01_conv01_lr0001_crop0',\n",
    "     #   'resnet_nl_E'  :'DHS_OOC_E_NL_Noise_cent_nooffset_attn_b64_fc01_conv01_lr0001_crop0',\n",
    "\n",
    " #   'resnet_nl_A': 'DHS_OOC_A_NL_new_pooling_wealth_511_P100_b32_fce-05_conve-05_lr0001_crop0',\n",
    "#'resnet_nl_B':'DHS_OOC_B_NL_new_pooling_wealth_511_P100_b32_fce-05_conve-05_lr0001_crop0',\n",
    "#'resnet_nl_C':'DHS_OOC_C_NL_new_pooling_wealth_511_P100_b32_fce-05_conve-05_lr0001_crop0',\n",
    "#'resnet_nl_D':'DHS_OOC_D_NL_new_pooling_wealth_511_P100_b32_fce-05_conve-05_lr0001_crop0',\n",
    "#'resnet_nl_E':'DHS_OOC_E_NL_new_pooling_wealth_511_P100_b32_fce-05_conve-05_lr0001_crop0',\n",
    "\n",
    "#'resnet_nl_A':'DHS_OOC_A_NL_no_attn_PE100_b32_fce-05_conve-05_lr0001_crop0',\n",
    "#'resnet_nl_B':'DHS_OOC_B_NL_no_attn_PE100_b32_fce-05_conve-05_lr0001_crop0',\n",
    "#'resnet_nl_C':'DHS_OOC_C_NL_new_no_attn_PE100_b32_fce-05_conve-05_lr0001_crop0',\n",
    "#'resnet_nl_D':'DHS_OOC_D_NL_no_attn_PE100_b32_fce-05_conve-05_lr0001_crop0',\n",
    "#'resnet_nl_E':'DHS_OOC_E_NL_no_attn_PE100_b32_fce-05_conve-05_lr0001_crop0',\n",
    "\n",
    "    #'resnet_rgb_A': 'DHS_OOC_A_NL_new_pooling_wealth_511_b32_fce-05_conve-05_lr0001_crop0',\n",
    "    #'resnet_rgb_B': 'DHS_OOC_B_NL_new_pooling_wealth_511_b32_fce-05_conve-05_lr0001_crop0',\n",
    "    #'resnet_rgb_C': 'DHS_OOC_C_NL_new_pooling_wealth_511_b32_fce-05_conve-05_lr0001_crop0',\n",
    "    #'resnet_rgb_D': 'DHS_OOC_D_NL_new_pooling_wealth_511_b32_fce-05_conve-05_lr0001_crop0',\n",
    "    #'resnet_rgb_E': 'DHS_OOC_E_NL_new_pooling_wealth_511_b32_fce-05_conve-05_lr0001_crop0',\n",
    "      #'resnet_nl_A'  :'dhs_buildings/DHS_OOC_A_nl_random_b32_fc1.0_conv1.0_lr0001',\n",
    "    # 'resnet_nl_B'  :'dhs_buildings/DHS_OOC_B_nl_random_b32_fc1.0_conv1.0_lr0001',\n",
    "    # 'resnet_nl_C'  :'dhs_buildings/DHS_OOC_c_nl_random_b32_fc1.0_conv1.0_lr0001',\n",
    "  #   'resnet_nl_D'  :'dhs_buildings/DHS_OOC_D_nl_random_b32_fc1.0_conv1.0_lr0001',\n",
    "  #   'resnet_nl_E'  :'dhs_buildings/DHS_OOC_E_nl_random_b32_fc1.0_conv1.0_lr0001',\n",
    "    # incountry models\n",
    "    'incountry_resnet_ms_A': 'DHS_Incountry_A_ms_samescaled_b64_fc01_conv01_lr001',\n",
    "    'incountry_resnet_ms_B': 'DHS_Incountry_B_ms_samescaled_b64_fc1_conv1_lr001',\n",
    "    'incountry_resnet_ms_C': 'DHS_Incountry_C_ms_samescaled_b64_fc1.0_conv1.0_lr0001',\n",
    "    'incountry_resnet_ms_D': 'DHS_Incountry_D_ms_samescaled_b64_fc001_conv001_lr0001',\n",
    "    'incountry_resnet_ms_E': 'DHS_Incountry_E_ms_samescaled_b64_fc001_conv001_lr0001',\n",
    "#     'incountry_resnet_nl_A': 'DHS_Incountry_A_nl_random_b64_fc1.0_conv1.0_lr0001',\n",
    "#     'incountry_resnet_nl_B': 'DHS_Incountry_B_nl_random_b64_fc1.0_conv1.0_lr0001',\n",
    "#     'incountry_resnet_nl_C': 'DHS_Incountry_C_nl_random_b64_fc1.0_conv1.0_lr0001',\n",
    "#     'incountry_resnet_nl_D': 'DHS_Incountry_D_nl_random_b64_fc1.0_conv1.0_lr0001',\n",
    "#     'incountry_resnet_nl_E': 'DHS_Incountry_E_nl_random_b64_fc01_conv01_lr001',\n",
    "\n",
    "    # transfer models\n",
    "#     'transfer_resnet_ms': 'transfer_nlcenter_ms_b64_fc001_conv001_lr0001',\n",
    "#     'transfer_resnet_rgb': 'transfer_nlcenter_rgb_b64_fc001_conv001_lr0001',\n",
    "\n",
    "    # keep-frac models\n",
    "    # TODO\n",
    "}"
   ]
  },
  {
   "cell_type": "markdown",
   "id": "065c0e12-8172-4857-8b4e-cf550f73d0e0",
   "metadata": {
    "id": "065c0e12-8172-4857-8b4e-cf550f73d0e0"
   },
   "source": [
    "## Load data"
   ]
  },
  {
   "cell_type": "markdown",
   "id": "c631ee92-dd4b-4185-bb2d-d77fa496617c",
   "metadata": {
    "id": "c631ee92-dd4b-4185-bb2d-d77fa496617c"
   },
   "source": [
    "`country_labels` is a `np.ndarray` that shows which country each cluster belongs to. Countries are indexed by their position in `dataset_constants.DHS_COUNTRIES`.\n",
    "```python\n",
    "array([ 0,  0,  0, ..., 22, 22, 22])\n",
    "```\n",
    "\n",
    "`incountry_group_labels` is a `np.ndarray` that shows which \"test\" fold each cluster belongs to. The first cluster belongs to the \"test\" split of fold \"B\" (folds here are 0-indexed).\n",
    "```python\n",
    "array([1, 1, 4, ..., 1, 0, 3])\n",
    "```"
   ]
  },
  {
   "cell_type": "code",
   "execution_count": 15,
   "id": "eebae76e-cc90-444c-9f57-7200f90ff5bc",
   "metadata": {
    "id": "eebae76e-cc90-444c-9f57-7200f90ff5bc"
   },
   "outputs": [],
   "source": [
    "from __future__ import annotations\n",
    "\n",
    "from collections.abc import Iterable\n",
    "import os\n",
    "import pickle\n",
    "\n",
    "import numpy as np\n",
    "import pandas as pd\n",
    "\n",
    "from batchers import dataset_constants\n",
    "from models.linear_model import ridge_cv\n",
    "from utils.general import load_npz\n",
    "df = pd.read_csv('data/dhs_clusters.csv', float_precision='high', index_col=False)\n",
    "labels = df[df['country'].isin(COUNTRIES)]['wealthpooled'].to_numpy(dtype=np.float32)\n",
    "locs = df[df['country'].isin(COUNTRIES)][['lat', 'lon']].to_numpy(dtype=np.float32)\n",
    "urban=df[df['country'].isin(COUNTRIES)]['urban_rural'].to_numpy(dtype=np.float32)\n",
    "country_labels = df[df['country'].isin(COUNTRIES)]['country'].map(COUNTRIES.index).to_numpy()\n",
    "num_examples=len(labels)\n",
    "years=df[df['country'].isin(COUNTRIES)]['year'].to_numpy(dtype=np.float32)\n",
    "with open('data/dhs_incountry_folds.pkl', 'rb') as f:\n",
    "    incountry_folds = pickle.load(f)\n",
    "incountry_group_labels = np.zeros(len(df), dtype=np.int64)\n",
    "for i, fold in enumerate(FOLDS):\n",
    "    test_indices = incountry_folds[fold]['test']\n",
    "    incountry_group_labels[test_indices] = i\n"
   ]
  },
  {
   "cell_type": "code",
   "execution_count": 16,
   "id": "ad3a78f1",
   "metadata": {},
   "outputs": [],
   "source": []
  },
  {
   "cell_type": "code",
   "execution_count": null,
   "id": "7cfe41d2",
   "metadata": {},
   "outputs": [
    {
     "name": "stdout",
     "output_type": "stream",
     "text": [
      "Collecting torch\n",
      "  Downloading torch-1.10.0-cp37-cp37m-manylinux1_x86_64.whl (881.9 MB)\n",
      "\u001B[K     |████████████████████████████▋   | 788.1 MB 146 kB/s eta 0:10:41:21:40     |████▎                           | 116.7 MB 203 kB/s eta 1:02:33     |█████▍                          | 148.9 MB 98 kB/s eta 2:03:54     |██████                          | 162.6 MB 270 kB/s eta 0:44:19     |██████▍                         | 176.3 MB 160 kB/s eta 1:13:24     |██████▉                         | 187.7 MB 238 kB/s eta 0:48:34     |███████                         | 195.9 MB 113 kB/s eta 1:40:50     |███████▍                        | 203.3 MB 191 kB/s eta 0:59:06     |████████▏                       | 225.8 MB 423 kB/s eta 0:25:48     |█████████                       | 248.4 MB 278 kB/s eta 0:37:52     |█████████▋                      | 265.2 MB 1.0 MB/s eta 0:10:06     |██████████                      | 275.5 MB 526 kB/s eta 0:19:12     |████████████▎                   | 338.9 MB 172 kB/s eta 0:52:25     |█████████████▎                  | 364.9 MB 90 kB/s eta 1:34:56     |█████████████▋                  | 374.9 MB 478 kB/s eta 0:17:40     |███████████████████████▏        | 639.0 MB 1.1 MB/s eta 0:03:44     |████████████████████████▌       | 675.7 MB 162 kB/s eta 0:21:09     |█████████████████████████▍      | 699.5 MB 97 kB/s eta 0:31:04     |██████████████████████████      | 716.3 MB 342 kB/s eta 0:08:04     |███████████████████████████▏    | 748.3 MB 654 kB/s eta 0:03:25"
     ]
    }
   ],
   "source": [
    "!pip install torch"
   ]
  },
  {
   "cell_type": "code",
   "execution_count": 21,
   "id": "e2903a1b",
   "metadata": {},
   "outputs": [
    {
     "ename": "ModuleNotFoundError",
     "evalue": "No module named 'torch'",
     "output_type": "error",
     "traceback": [
      "\u001B[0;31m---------------------------------------------------------------------------\u001B[0m",
      "\u001B[0;31mModuleNotFoundError\u001B[0m                       Traceback (most recent call last)",
      "\u001B[0;32m/tmp/ipykernel_21281/3390658013.py\u001B[0m in \u001B[0;36m<module>\u001B[0;34m\u001B[0m\n\u001B[0;32m----> 1\u001B[0;31m \u001B[0;32mimport\u001B[0m \u001B[0mtorch\u001B[0m\u001B[0;34m\u001B[0m\u001B[0;34m\u001B[0m\u001B[0m\n\u001B[0m\u001B[1;32m      2\u001B[0m \u001B[0;32mimport\u001B[0m \u001B[0mtorch\u001B[0m\u001B[0;34m.\u001B[0m\u001B[0mnn\u001B[0m \u001B[0;32mas\u001B[0m \u001B[0mnn\u001B[0m\u001B[0;34m\u001B[0m\u001B[0;34m\u001B[0m\u001B[0m\n\u001B[1;32m      3\u001B[0m \u001B[0;34m\u001B[0m\u001B[0m\n\u001B[1;32m      4\u001B[0m \u001B[0;32mclass\u001B[0m \u001B[0mModel\u001B[0m\u001B[0;34m(\u001B[0m\u001B[0mnn\u001B[0m\u001B[0;34m.\u001B[0m\u001B[0mModule\u001B[0m\u001B[0;34m)\u001B[0m\u001B[0;34m:\u001B[0m\u001B[0;34m\u001B[0m\u001B[0;34m\u001B[0m\u001B[0m\n\u001B[1;32m      5\u001B[0m    \u001B[0;32mdef\u001B[0m \u001B[0m__init__\u001B[0m\u001B[0;34m(\u001B[0m\u001B[0mself\u001B[0m\u001B[0;34m,\u001B[0m \u001B[0minput_dim\u001B[0m\u001B[0;34m,\u001B[0m \u001B[0moutput_dim\u001B[0m\u001B[0;34m)\u001B[0m\u001B[0;34m:\u001B[0m\u001B[0;34m\u001B[0m\u001B[0;34m\u001B[0m\u001B[0m\n",
      "\u001B[0;31mModuleNotFoundError\u001B[0m: No module named 'torch'"
     ]
    }
   ],
   "source": [
    "#First Experiment :NN model for urban/loc data\n",
    "import torch\n",
    "import torch.nn as nn\n",
    "class Model(nn.Module):\n",
    "   def __init__(self, input_dim, output_dim):\n",
    "      super().__init__()\n",
    "      self.input_dim=input_dim\n",
    "      self.output_dim=output_dim\n",
    "      self.layer1=nn.Linear(input_dim,output_dim*2)\n",
    "      self.layer2=nn.Linear(output_dim*2,output_dim)\n",
    "      self.layer3=nn.Linear(output_dim,1)\n",
    "      self.relu=nn.ReLU()\n",
    "   def forward(self,x):\n",
    "       return self.layer3(self.relu(self.layer2( self.relu(self.layer1(x)))))\n",
    "\n",
    "\n",
    "\n",
    "      \n",
    "   \n",
    "\n"
   ]
  },
  {
   "cell_type": "code",
   "execution_count": 20,
   "id": "28c03b4f",
   "metadata": {},
   "outputs": [
    {
     "ename": "NameError",
     "evalue": "name 'Model' is not defined",
     "output_type": "error",
     "traceback": [
      "\u001B[0;31m---------------------------------------------------------------------------\u001B[0m",
      "\u001B[0;31mNameError\u001B[0m                                 Traceback (most recent call last)",
      "\u001B[0;32m/tmp/ipykernel_21281/4108996433.py\u001B[0m in \u001B[0;36m<module>\u001B[0;34m\u001B[0m\n\u001B[0;32m----> 1\u001B[0;31m \u001B[0mmodel\u001B[0m\u001B[0;34m=\u001B[0m\u001B[0mModel\u001B[0m\u001B[0;34m(\u001B[0m\u001B[0minput_dim\u001B[0m\u001B[0;34m=\u001B[0m\u001B[0;36m3\u001B[0m\u001B[0;34m,\u001B[0m \u001B[0moutput_dim\u001B[0m\u001B[0;34m=\u001B[0m\u001B[0;36m512\u001B[0m\u001B[0;34m)\u001B[0m\u001B[0;34m\u001B[0m\u001B[0;34m\u001B[0m\u001B[0m\n\u001B[0m\u001B[1;32m      2\u001B[0m \u001B[0mds\u001B[0m\u001B[0;34m=\u001B[0m\u001B[0mtorch\u001B[0m\u001B[0;34m.\u001B[0m\u001B[0mutils\u001B[0m\u001B[0;34m.\u001B[0m\u001B[0mdata\u001B[0m\u001B[0;34m.\u001B[0m\u001B[0mTensorDataset\u001B[0m\u001B[0;34m(\u001B[0m\u001B[0mx\u001B[0m\u001B[0;34m)\u001B[0m\u001B[0;34m\u001B[0m\u001B[0;34m\u001B[0m\u001B[0m\n\u001B[1;32m      3\u001B[0m \u001B[0mloader\u001B[0m\u001B[0;34m=\u001B[0m \u001B[0mtorch\u001B[0m\u001B[0;34m.\u001B[0m\u001B[0mutils\u001B[0m\u001B[0;34m.\u001B[0m\u001B[0mdata\u001B[0m\u001B[0;34m.\u001B[0m\u001B[0mDataLoader\u001B[0m \u001B[0;34m(\u001B[0m\u001B[0mds\u001B[0m\u001B[0;34m,\u001B[0m\u001B[0mbatch_size\u001B[0m\u001B[0;34m=\u001B[0m\u001B[0;36m64\u001B[0m\u001B[0;34m)\u001B[0m\u001B[0;34m\u001B[0m\u001B[0;34m\u001B[0m\u001B[0m\n\u001B[1;32m      4\u001B[0m \u001B[0mnext\u001B[0m\u001B[0;34m(\u001B[0m\u001B[0miter\u001B[0m\u001B[0;34m(\u001B[0m\u001B[0mloader\u001B[0m\u001B[0;34m)\u001B[0m\u001B[0;34m)\u001B[0m\u001B[0;34m\u001B[0m\u001B[0;34m\u001B[0m\u001B[0m\n",
      "\u001B[0;31mNameError\u001B[0m: name 'Model' is not defined"
     ]
    }
   ],
   "source": [
    "#TODO validation /test sets\n",
    "import torch.optim as optim\n",
    "import torch.nn.functional as F\n",
    "model=Model(input_dim=2, output_dim=8)\n",
    "urban=np.expand_dims(urban, axis=1)\n",
    "#x=torch.tensor(np.hstack((locs,urban)),device='cuda')\n",
    "x=torch.tensor(locs)\n",
    "y=torch.tensor(labels)\n",
    "ds=torch.utils.data.TensorDataset(x,y)\n",
    "loader= torch.utils.data.DataLoader (ds,batch_size=64)\n",
    "#next(iter(loader))\n",
    "def train(model, loader):\n",
    "    optimizer= torch.optim.Adam(model.parameters(), lr=1e-4,\n",
    "                               weight_decay=0.01)\n",
    "    criterion = nn.MSELoss()\n",
    "    for epoch in range(200):\n",
    "        epoch_loss=0\n",
    "        model.train()\n",
    "        for x,y in loader:\n",
    "            output=model(x)\n",
    "            x=torch.tensor(x,device='cpu')\n",
    "            loss=criterion(output.squeeze(),y)\n",
    "            optimizer.zero_grad()\n",
    "            loss.backward()\n",
    "            optimizer.step()\n",
    "            epoch_loss+=loss.item()\n",
    "        print(epoch_loss/len(loader))\n",
    "    return epoch_loss/len(loader)\n",
    "loss=train(model,loader)\n",
    "features_urban=model.layer2(nn.functional.relu(model.layer1(x))).detach()\n",
    "features_urban=(features_urban-torch.mean(features_urban))/(torch.std(features_urban))\n",
    "print(features_urban[:10])   #is it normalized? NOT normalized\n",
    "def ridgecv_ooc_wrapper_concat(model_name: str, savedir: str) -> None:\n",
    "    features_dict = {}\n",
    "    for f in FOLDS:\n",
    "        model_fold_name = f'{model_name}_{f}'\n",
    "        model_dir = MODEL_DIRS[model_fold_name]\n",
    "        npz_path = os.path.join(OUTPUTS_ROOT_DIR, 'dhs_ooc', model_dir, 'features.npz')\n",
    "        npz = load_npz(npz_path, check={'labels': labels})\n",
    "        features = torch.tensor(npz['features'])\n",
    "        #stack image and urban features\n",
    "        features=torch.tensor(torch.hstack((features,features_urban)))\n",
    "        #normalize features\n",
    "        features=((features-torch.mean(features))/torch.std(features))\n",
    "        for country in dataset_constants_buildings.SURVEY_NAMES[f'DHS_OOC_{f}']['test']:\n",
    "            features_dict[country] = features\n",
    "    ridge_cv(features=features_dict,labels=labels, group_labels=country_labels, group_names=COUNTRIES,do_plot=True,savedir=savedir,save_weights=True,save_dict=dict(locs=locs))\n",
    "\n",
    "model_name = 'resnet_nl'\n",
    "savedir = os.path.join(OUTPUTS_ROOT_DIR, 'dhs_ooc','resnet_locs_concat')\n",
    "ridgecv_ooc_wrapper_concat(model_name, savedir)"
   ]
  },
  {
   "cell_type": "code",
   "execution_count": null,
   "id": "43642b63",
   "metadata": {},
   "outputs": [],
   "source": [
    "def ridgecv_ooc_wrapper_concat_train(model_name: str, savedir: str) -> None:\n",
    "    features_dict = {}\n",
    "    for f in FOLDS:\n",
    "        model_fold_name = f'{model_name}_{f}'\n",
    "        model_dir = MODEL_DIRS[model_fold_name]\n",
    "        npz_path = os.path.join(OUTPUTS_ROOT_DIR, 'dhs_ooc', model_dir, 'features.npz')\n",
    "        npz = load_npz(npz_path, check={'labels': labels})\n",
    "        features = torch.tensor(npz['features'])\n",
    "        #stack image and urban features\n",
    "        features=torch.tensor(torch.hstack((features,features_urban)))\n",
    "        #normalize features\n",
    "        features=(features-torch.mean(features))/torch.std(features)\n",
    "        #train the model\n",
    "        ds=torch.utils.data.TensorDataset(features,y)\n",
    "        loader= torch.utils.data.DataLoader(ds,batch_size=64)\n",
    "        loss=train(model2,loader)\n",
    "        LOGS_ROOT_DIR = './outputs/'\n",
    "DATASET_NAME = '2009-17'\n",
    "\n",
    "MODEL_NAME_TO_DIR={\n",
    "    #'resnet_ms':'dhs_ooc/resnet_ridgeRural',\n",
    "               #   'resnet_rgb':'dhs_ooc/resnet_rgb',\n",
    "            # 'resnet_ms':'dhs_ooc/resnet_msnl_concat/',\n",
    "            'resnet_ms_preact':'dhs_ooc/resnet_encouder_b_nl',\n",
    "          #  'resnet_urban':'dhs_ooc/resnet_urban_model',\n",
    "\n",
    "            #'resnet_rural':'dhs_ooc/resnet_rural_model',\n",
    "            #'resnet_concat':'dhs_ooc/resnet_ridge_concat_train'\n",
    "\n",
    "                 # 'resnet_nl':'dhs_ooc/resnet_build_customLoss',\n",
    "                 # 'resnet_ms_decemb':'dhs_ooc/resnet_ms_decemb'\n",
    "                # 'resnet_nl':'dhs_buildings/resnet_nl_decemb'\n",
    "               #    'resnet_msnl_concat':'dhs_ooc/resnet_msnl_concat'\n",
    "                  }\n",
    "MODEL_NAMES = sorted(MODEL_NAME_TO_DIR.keys())\n",
    "        print('loss ',loss)\n",
    "        features=model2.layer2(nn.functional.relu(model2.layer1(features))).detach()\n",
    "        for country in dataset_constants.SURVEY_NAMES[f'DHS_OOC_{f}']['test']:\n",
    "            features_dict[country] = features\n",
    "    ridge_cv(features=features_dict,labels=labels, group_labels=country_labels, group_names=COUNTRIES,do_plot=True,savedir=savedir,save_weights=True,save_dict=dict(locs=locs))\n",
    "#Experiment 2 :concat features and train again\n",
    "model2=Model(input_dim=576, output_dim=512).to('cuda')\n",
    "y=torch.tensor(labels,device='cuda')\n",
    "def ridgecv_ooc_wrapper_concat_train(model_name: str, savedir: str) -> None:\n",
    "    features_dict = {}\n",
    "    for f in FOLDS:\n",
    "        model_fold_name = f'{model_name}_{f}'\n",
    "        model_dir = MODEL_DIRS[model_fold_name]\n",
    "        npz_path = os.path.join(OUTPUTS_ROOT_DIR, 'dhs_ooc', model_dir, 'features.npz')\n",
    "        npz = load_npz(npz_path, check={'labels': labels})\n",
    "        features = torch.tensor(npz['features'],device='cuda')\n",
    "        #stack image and urban features\n",
    "        features=torch.tensor(torch.hstack((features,features_urban)))\n",
    "        #normalize features\n",
    "        features=(features-torch.mean(features))/torch.std(features)\n",
    "        #train the model\n",
    "        ds=torch.utils.data.TensorDataset(features,y)\n",
    "        loader= torch.utils.data.DataLoader(ds,batch_size=64)\n",
    "        loss=train(model2,loader)\n",
    "        print('loss ',loss)\n",
    "        features=model2.layer2(nn.functional.relu(model2.layer1(features))).detach()\n",
    "        for country in dataset_constants.SURVEY_NAMES[f'DHS_OOC_{f}']['test']:\n",
    "            features_dict[country] = features\n",
    "    ridge_cv(features=features_dict,labels=labels, group_labels=country_labels, group_names=COUNTRIES,do_plot=True,savedir=savedir,save_weights=True,save_dict=dict(locs=locs))\n",
    "model_name = 'resnet_ms'\n",
    "savedir = os.path.join(OUTPUTS_ROOT_DIR, 'dhs_ooc','resnet_ridge_concat_train')\n",
    "ridgecv_ooc_wrapper_concat_train(model_name, savedir)\n",
    "\n",
    "#Experiment 3 : urban-rual model seperation\n",
    "\n",
    "loc_dict_path = './data/dhs_loc_dict.pkl'\n",
    "with open(loc_dict_path, 'rb') as f:\n",
    "    loc_dict = pickle.load(f)\n",
    "def get_urban_rural_indices(locs, loc_dict):\n",
    "    urban_indices = []\n",
    "    rural_indices = []\n",
    "    for i, loc in enumerate(locs):\n",
    "        loc = tuple(loc)\n",
    "        if loc_dict[loc]['urban'] == 0:\n",
    "            rural_indices.append(i)\n",
    "        else:\n",
    "            urban_indices.append(i)\n",
    "    urban_indices = np.asarray(urban_indices)\n",
    "    rural_indices = np.asarray(rural_indices)\n",
    "    print(f'num urban: {len(urban_indices)}\\t num rural: {len(rural_indices)}')\n",
    "    return urban_indices, rural_indices\n",
    "\n",
    "urban_indices, rural_indices = get_urban_rural_indices(locs, loc_dict)\n",
    "\n",
    "#getting each fold urban indices:\n",
    "'''\n",
    "urban_indices_byFold=defalutdict(list)\n",
    "for f in FOLDS:\n",
    "    urban_indices_byFold[f]=[]\n",
    "    a=list(dataset_constants.SURVEY_NAMES[f'DHS_OOC_{f}'].values())\n",
    "    a=list(itertools.chain(*a))\n",
    "    for country in a:\n",
    "         for loc in loc_dict:\n",
    "             if loc_dict[loc]['country']==country:\n",
    "                 urban_indices_byFold[f].append(loc_dict[loc]['urban'])\n",
    "print(urban_indices_byFold['A'])\n",
    "'''\n",
    "def ridgecv_ooc_wrapper_urban(model_name: str, savedir: str) -> None:\n",
    "    features_dict = {}\n",
    "    country_labels_urban=country_labels[urban_indices]\n",
    "    labels_urban=labels[urban_indices]\n",
    "    for f in FOLDS:\n",
    "        model_fold_name = f'{model_name}_{f}'\n",
    "        model_dir = MODEL_DIRS[model_fold_name]\n",
    "        npz_path = os.path.join(OUTPUTS_ROOT_DIR, 'dhs_ooc', model_dir, 'features.npz')\n",
    "        npz = load_npz(npz_path,)\n",
    "        #features = torch.tensor(npz['features'],device='cuda')\n",
    "        features=npz['features']\n",
    "        #extract urban_features\n",
    "        features=features\n",
    "        print(len(features))\n",
    "        for country in dataset_constants.SURVEY_NAMES[f'DHS_OOC_{f}']['test']:\n",
    "            features_dict[country] = features\n",
    "    ridge_cv(features=features_dict,labels=labels_urban, group_labels=country_labels_urban, group_names=COUNTRIES,do_plot=True,savedir=savedir,save_weights=True,save_dict=dict(locs=locs))\n",
    "\n",
    "\n",
    "model_name = 'resnet_nl'\n",
    "savedir = os.path.join(OUTPUTS_ROOT_DIR, 'dhs_ooc','resnet_urban_model')\n",
    "ridgecv_ooc_wrapper_urban(model_name, savedir)\n",
    "#Rural Model\n",
    "def ridgecv_ooc_wrapper_rural(model_name: str, savedir: str) -> None:\n",
    "    features_dict = {}\n",
    "    country_labels_rural=country_labels[rural_indices]\n",
    "    labels_rural=labels[rural_indices]\n",
    "    for f in FOLDS:\n",
    "        model_fold_name = f'{model_name}_{f}'\n",
    "        model_dir = MODEL_DIRS[model_fold_name]\n",
    "        npz_path = os.path.join(OUTPUTS_ROOT_DIR, 'dhs_ooc', model_dir, 'features.npz')\n",
    "        npz = load_npz(npz_path, check={'labels': labels})\n",
    "        #features = torch.tensor(npz['features'],device='cuda')\n",
    "        features=npz['features']\n",
    "        #extract urban_features\n",
    "        features=features[rural_indices]\n",
    "        print(len(features))\n",
    "        for country in dataset_constants.SURVEY_NAMES[f'DHS_OOC_{f}']['test']:\n",
    "            features_dict[country] = features\n",
    "    ridge_cv(features=features_dict,labels=labels_rural, group_labels=country_labels_rural, group_names=COUNTRIES,do_plot=True,savedir=savedir,save_weights=True,save_dict=dict(locs=locs))\n",
    "\n",
    "model_name = 'resnet_ms'\n",
    "savedir = os.path.join(OUTPUTS_ROOT_DIR, 'dhs_ooc','attn_NL_uni')\n",
    "ridgecv_ooc_wrapper(model_name, savedir)"
   ]
  },
  {
   "cell_type": "markdown",
   "id": "d9484a4b-9255-41fb-bcc1-609843e2f0fd",
   "metadata": {
    "id": "d9484a4b-9255-41fb-bcc1-609843e2f0fd"
   },
   "source": [
    "## OOC\n"
   ]
  },
  {
   "cell_type": "code",
   "execution_count": null,
   "id": "b18d791d-07b6-4f91-83d0-feb529c2bc39",
   "metadata": {
    "colab": {
     "base_uri": "https://localhost:8080/"
    },
    "id": "b18d791d-07b6-4f91-83d0-feb529c2bc39",
    "outputId": "85ceca24-db86-4349-b237-e1d1dccb4525",
    "pycharm": {
     "name": "#%%=locs)\n"
    }
   },
   "outputs": [],
   "source": [
    "    "
   ]
  },
  {
   "cell_type": "code",
   "execution_count": 11,
   "id": "9120f664",
   "metadata": {},
   "outputs": [],
   "source": [
    "#Experiment 4 :AutoEncoders\n",
    "class Encoder(nn.Module):\n",
    " def __init__(self):\n",
    "    super(Encoder,self).__init__()\n",
    "    self.l1=nn.Linear(576,256)\n",
    "    self.l2=nn.Linear(256,128)\n",
    "    self.l3=nn.Linear(128,64)\n",
    "    self.l4=nn.Linear(64,32)\n",
    "    self.l5=nn.Linear(32,256)\n",
    "    self.l6=nn.Linear(32,256)\n",
    "    self.kl=0\n",
    "    self.N=torch.distributions.normal.Normal(0,1)\n",
    "    self.N.loc = self.N.loc.cuda() # hack to get sampling on the GPU\n",
    "    self.N.scale = self.N.scale.cuda()\n",
    "    self.decoder=nn.Sequential(nn.Linear(256,32),nn.ReLU(),nn.Linear(32,64),nn.ReLU(),nn.Linear(64,128),nn.ReLU(),nn.Linear(128,256),nn.ReLU(),nn.Linear(256,576),nn.Tanh())\n",
    " def forward(self,x):\n",
    "      x=nn.functional.relu(self.l4(nn.functional.relu(self.l3(nn.functional.relu(self.l2(nn.functional.relu(self.l1(x))))))))\n",
    "      mu=self.l5(x)\n",
    "      sigma=torch.exp(self.l6(x)/0.5)\n",
    "      p = torch.distributions.Normal(torch.zeros_like(mu), torch.ones_like(sigma))\n",
    "      q = torch.distributions.Normal(mu, sigma)\n",
    "      z = q.rsample()\n",
    "      self.kl = (torch.distributions.kl_divergence(q, p)).mean()\n",
    "      #z=mu+sigma*self.N.sample(sigma.shape)\n",
    "      #self.kl=(sigma**2+mu**2-torch.log(sigma)-0.5).sum()\n",
    "      x=self.decoder(z)\n",
    "      return  x\n",
    "class Decoder(nn.Module):\n",
    " def __init__(self):\n",
    "    super().__init__()\n",
    "    self.l1=nn.Linear(128,32)\n",
    "    self.l2=nn.Linear(32,64)\n",
    "    self.l3=nn.Linear(64,128)\n",
    "    self.l4=nn.Linear(128,256)\n",
    "    self.l5=nn.Linear(256,28*28)\n",
    "    #self.l6=nn.Linear(32,128)\n",
    " def forward(self,x):\n",
    "      x=nn.functional.relu(self.l4(nn.functional.relu(self.l3(nn.functional.relu(self.l2(nn.functional.relu(self.l1(x))))))))\n",
    "      x=nn.functional.tanh(self.l5(x))\n",
    "      return x\n",
    "class VAE(nn.Module):\n",
    "    def __init__(self):\n",
    "       super(VAE,self).__init__()\n",
    "       self.encoder=Encoder()\n",
    "       self.decoder=Decoder()\n",
    "    def forward(self,x):\n",
    "        z=self.encoder(x)\n",
    "        x=self.decoder(z)\n",
    "        return x\n",
    "\n",
    "def train2(model, loader):\n",
    "    optimizer= optim.Adam(model.parameters(),lr=1e-4)\n",
    "    criterion = nn.MSELoss()\n",
    "    for epoch in range(300):\n",
    "        epoch_loss=0\n",
    "        model.train()\n",
    "        for x,_ in loader:\n",
    "            #b=x.shape[0]\n",
    "            x=torch.tensor(x,device='cuda')\n",
    "            output=model(x)\n",
    "            #print('MSE',F.mse_loss(output.squeeze(),x,reduction='mean'))\n",
    "            #print('KL',model.kl)\n",
    "            loss=F.mse_loss(output.squeeze(),x,reduction='mean')+model.kl\n",
    "            optimizer.zero_grad()\n",
    "            loss.backward()\n",
    "            optimizer.step()\n",
    "            epoch_loss+=loss.item()\n",
    "        print(epoch_loss/len(loader))\n",
    "    return epoch_loss/len(loader)\n",
    "vae=Encoder().to('cuda')\n",
    "\n",
    "def ridgecv_ooc_wrapper_concat_vae(model_name: str, savedir: str) -> None:\n",
    "    features_dict = {}\n",
    "    for f in FOLDS:\n",
    "        model_fold_name = f'{model_name}_{f}'\n",
    "        model_dir = MODEL_DIRS[model_fold_name]\n",
    "        npz_path = os.path.join(OUTPUTS_ROOT_DIR, 'dhs_ooc', model_dir, 'features.npz')\n",
    "        npz = load_npz(npz_path, check={'labels': labels})\n",
    "        features = torch.tensor(npz['features'],device='cuda')\n",
    "        #stack image and urban features\n",
    "        features=torch.tensor(torch.hstack((features,features_urban)))\n",
    "        #normalize features\n",
    "        features=(features-torch.mean(features))/torch.std(features)\n",
    "        #train the model\n",
    "        ds=torch.utils.data.TensorDataset(features,y)\n",
    "        loader= torch.utils.data.DataLoader(ds,batch_size=64)\n",
    "        loss=train2(vae,loader)\n",
    "        print('loss ',loss)\n",
    "        features=nn.functional.relu(vae.l4(nn.functional.relu(vae.l3(nn.functional.relu(vae.l2(nn.functional.relu(vae.l1(features))))))))\n",
    "        mu=vae.l5(features)\n",
    "        sigma=torch.exp(vae.l6(features)/0.5)\n",
    "        q = torch.distributions.Normal(mu, sigma)\n",
    "        features = q.rsample().cpu()\n",
    "        for country in dataset_constants.SURVEY_NAMES[f'DHS_OOC_{f}']['test']:\n",
    "            features_dict[country] = features\n",
    "    ridge_cv(features=features_dict,labels=labels, group_labels=country_labels, group_names=COUNTRIES,do_plot=True,savedir=savedir,save_weights=True,save_dict=dict(locs=locs))\n",
    "model_name = 'resnet_ms'\n",
    "savedir = os.path.join(OUTPUTS_ROOT_DIR, 'dhs_ooc','resnet_ridge_concat_vae2')\n",
    "ridgecv_ooc_wrapper_concat_vae(model_name, savedir)\n",
    "#MNIST\n",
    "import torchvision\n",
    "train_loader = torch.utils.data.DataLoader(torchvision.datasets.MNIST('./', train=True, download=True, transform=torchvision.transforms.Compose([torchvision.transforms.ToTensor(),torchvision.transforms.Normalize( (0.1307,), (0.3081,)) ])),batch_size=64, shuffle=True)\n",
    "loss=train2(vae,train_loader)\n",
    "'''\n",
    "#model2=Model(input_dim=576, output_dim=512).to('cuda')\n",
    "#AutoEncoder\n",
    "import torch\n",
    "import torchvision\n",
    "from torch import nn\n",
    "from torch.autograd import Variable\n",
    "from torch.utils.data import DataLoader\n",
    "from torchvision import transforms\n",
    "class autoencoder(nn.Module):\n",
    "    def __init__(self):\n",
    "        super(autoencoder, self).__init__()\n",
    "        self.encoder = nn.Sequential(\n",
    "            nn.Linear(576, 128),\n",
    "            nn.ReLU(True),\n",
    "            nn.Linear(128, 64),\n",
    "            nn.ReLU(True), nn.Linear(64, 32), nn.ReLU(True), nn.Linear(32, 12),nn.ReLU(True),nn.Linear(12, 256))\n",
    "        self.decoder = nn.Sequential(\n",
    "            nn.Linear(256, 12),\n",
    "            nn.ReLU(True),\n",
    "            nn.Linear(12, 32),\n",
    "             nn.ReLU(True),\n",
    "            nn.Linear(32, 64),\n",
    "            nn.ReLU(True),\n",
    "            nn.Linear(64, 128),\n",
    "            nn.ReLU(True), nn.Linear(128, 576), nn.Tanh())\n",
    "\n",
    "    def forward(self, x):\n",
    "        x = self.encoder(x)\n",
    "        x = self.decoder(x)\n",
    "        return x\n",
    "model3 = autoencoder().cuda()\n",
    "y=torch.tensor(labels,device='cuda')\n",
    "\n",
    "'''\n"
   ]
  },
  {
   "cell_type": "markdown",
   "id": "m85dzU4y98LJ",
   "metadata": {
    "id": "m85dzU4y98LJ"
   },
   "source": [
    "#Clustering:\n",
    "from sklearn.cluster import KMeans\n",
    "\n"
   ]
  },
  {
   "cell_type": "code",
   "execution_count": null,
   "id": "DrEDKPQfdX87",
   "metadata": {
    "colab": {
     "base_uri": "https://localhost:8080/"
    },
    "id": "DrEDKPQfdX87",
    "outputId": "fb4eb966-4ade-4c62-d1c5-f821b8999c15"
   },
   "outputs": [],
   "source": [
    "from sklearn.cluster import KMeans\n",
    "kmeans = KMeans(n_clusters=100,n_jobs=-1, random_state=22)\n",
    "\n",
    "def ridgecv_ooc_wrapper_rural(model_name: str, savedir: str) -> None:\n",
    "    features_dict = {}\n",
    "    country_labels_rural=country_labels[rural_indices]\n",
    "    labels_rural=labels[rural_indices]\n",
    "    for f in FOLDS:\n",
    "        u_indices=urban_indices_byFold[f]\n",
    "        print(len(u_indices))\n",
    "        model_fold_name = f'{model_name}_{f}'\n",
    "        model_dir = MODEL_DIRS[model_fold_name]\n",
    "        npz_path = os.path.join(OUTPUTS_ROOT_DIR, 'dhs_ooc', model_dir, 'features.npz')\n",
    "        npz = load_npz(npz_path, check={'labels': labels})\n",
    "        features=npz['features']\n",
    "        #clustering\n",
    "        kmeans.fit(features)\n",
    "        clusters=kmeans.labels_\n",
    "        r_indices=list(set(np.arange(len(labels)))-set(np.where(u_indices)[0]))\n",
    "        features=features[r_indices]\n",
    "        print(len(features))\n",
    "        for country in dataset_constants.SURVEY_NAMES[f'DHS_OOC_{f}']['test']:\n",
    "            features_dict[country] = features\n",
    "            print(len(labels),len(labels_rural))\n",
    "    ridge_cv(features=features_dict,labels=labels_rural, group_labels=country_labels_rural, group_names=COUNT"
   ]
  },
  {
   "cell_type": "markdown",
   "id": "3e89db96-2369-4733-9b09-36a6bd70bd94",
   "metadata": {
    "id": "3e89db96-2369-4733-9b09-36a6bd70bd94"
   },
   "source": [
    "Each of the following 3 cells make take ~2 hours each to run."
   ]
  },
  {
   "cell_type": "markdown",
   "id": "AlcZnAQm9AYh",
   "metadata": {
    "id": "AlcZnAQm9AYh"
   },
   "source": [
    "#Run the ridge model"
   ]
  },
  {
   "cell_type": "code",
   "execution_count": null,
   "id": "41686654-b283-4a41-b9c1-3dc93fa0df10",
   "metadata": {
    "id": "41686654-b283-4a41-b9c1-3dc93fa0df10"
   },
   "outputs": [],
   "source": [
    "model_name = 'DHS_OOC_A_ms_samescaled_b64_fc01_conv01_lr0001'\n",
    "savedir = os.path.join(OUTPUTS_ROOT_DIR, 'dhs_ooc', 'resnet_ms')\n",
    "ridgecv_ooc_wrapper(model_name, savedir)"
   ]
  },
  {
   "cell_type": "code",
   "execution_count": null,
   "id": "854f72bd",
   "metadata": {},
   "outputs": [],
   "source": [
    "print(savedir)"
   ]
  },
  {
   "cell_type": "code",
   "execution_count": 12,
   "id": "37cc964f",
   "metadata": {},
   "outputs": [
    {
     "name": "stdout",
     "output_type": "stream",
     "text": [
      "features: dtype=float32, shape=(19477, 512)\n",
      "preds: dtype=float32, shape=(19477,)\n",
      "labels: dtype=float32, shape=(19477,)\n",
      "locs: dtype=float32, shape=(19477, 2)\n",
      "years: dtype=int32, shape=(19477,)\n",
      "19477\n",
      "features: dtype=float32, shape=(19477, 512)\n",
      "preds: dtype=float32, shape=(19477,)\n",
      "labels: dtype=float32, shape=(19477,)\n",
      "locs: dtype=float32, shape=(19477, 2)\n",
      "years: dtype=int32, shape=(19477,)\n",
      "19477\n",
      "features: dtype=float32, shape=(19477, 512)\n",
      "preds: dtype=float32, shape=(19477,)\n",
      "labels: dtype=float32, shape=(19477,)\n",
      "locs: dtype=float32, shape=(19477, 2)\n",
      "years: dtype=int32, shape=(19477,)\n",
      "19477\n",
      "features: dtype=float32, shape=(19477, 512)\n",
      "preds: dtype=float32, shape=(19477,)\n",
      "labels: dtype=float32, shape=(19477,)\n",
      "locs: dtype=float32, shape=(19477, 2)\n",
      "years: dtype=int32, shape=(19477,)\n",
      "19477\n",
      "features: dtype=float32, shape=(19477, 512)\n",
      "preds: dtype=float32, shape=(19477,)\n",
      "labels: dtype=float32, shape=(19477,)\n",
      "locs: dtype=float32, shape=(19477, 2)\n",
      "years: dtype=int32, shape=(19477,)\n",
      "19477\n",
      "test_preds.npz\n",
      "./outputs/dhs_ooc/test_preds.npz\n",
      "Group: angola\n"
     ]
    },
    {
     "name": "stderr",
     "output_type": "stream",
     "text": [
      "/home/aimsg/PycharmProjects/demo/demo/lib/python3.7/site-packages/sklearn/linear_model/_ridge.py:156: LinAlgWarning: Ill-conditioned matrix (rcond=2.0128e-08): result may not be accurate.\n",
      "  return linalg.solve(A, Xy, sym_pos=True, overwrite_a=True).T\n",
      "/home/aimsg/PycharmProjects/demo/demo/lib/python3.7/site-packages/sklearn/linear_model/_ridge.py:156: LinAlgWarning: Ill-conditioned matrix (rcond=1.99133e-08): result may not be accurate.\n",
      "  return linalg.solve(A, Xy, sym_pos=True, overwrite_a=True).T\n",
      "/home/aimsg/PycharmProjects/demo/demo/lib/python3.7/site-packages/sklearn/linear_model/_ridge.py:156: LinAlgWarning: Ill-conditioned matrix (rcond=1.98023e-08): result may not be accurate.\n",
      "  return linalg.solve(A, Xy, sym_pos=True, overwrite_a=True).T\n",
      "/home/aimsg/PycharmProjects/demo/demo/lib/python3.7/site-packages/sklearn/linear_model/_ridge.py:156: LinAlgWarning: Ill-conditioned matrix (rcond=2.00521e-08): result may not be accurate.\n",
      "  return linalg.solve(A, Xy, sym_pos=True, overwrite_a=True).T\n",
      "/home/aimsg/PycharmProjects/demo/demo/lib/python3.7/site-packages/sklearn/linear_model/_ridge.py:156: LinAlgWarning: Ill-conditioned matrix (rcond=1.97804e-08): result may not be accurate.\n",
      "  return linalg.solve(A, Xy, sym_pos=True, overwrite_a=True).T\n",
      "/home/aimsg/PycharmProjects/demo/demo/lib/python3.7/site-packages/sklearn/linear_model/_ridge.py:156: LinAlgWarning: Ill-conditioned matrix (rcond=2.03249e-08): result may not be accurate.\n",
      "  return linalg.solve(A, Xy, sym_pos=True, overwrite_a=True).T\n",
      "/home/aimsg/PycharmProjects/demo/demo/lib/python3.7/site-packages/sklearn/linear_model/_ridge.py:156: LinAlgWarning: Ill-conditioned matrix (rcond=2.02305e-08): result may not be accurate.\n",
      "  return linalg.solve(A, Xy, sym_pos=True, overwrite_a=True).T\n",
      "/home/aimsg/PycharmProjects/demo/demo/lib/python3.7/site-packages/sklearn/linear_model/_ridge.py:156: LinAlgWarning: Ill-conditioned matrix (rcond=2.0005e-08): result may not be accurate.\n",
      "  return linalg.solve(A, Xy, sym_pos=True, overwrite_a=True).T\n",
      "/home/aimsg/PycharmProjects/demo/demo/lib/python3.7/site-packages/sklearn/linear_model/_ridge.py:156: LinAlgWarning: Ill-conditioned matrix (rcond=1.97446e-08): result may not be accurate.\n",
      "  return linalg.solve(A, Xy, sym_pos=True, overwrite_a=True).T\n",
      "/home/aimsg/PycharmProjects/demo/demo/lib/python3.7/site-packages/sklearn/linear_model/_ridge.py:156: LinAlgWarning: Ill-conditioned matrix (rcond=1.9688e-08): result may not be accurate.\n",
      "  return linalg.solve(A, Xy, sym_pos=True, overwrite_a=True).T\n",
      "/home/aimsg/PycharmProjects/demo/demo/lib/python3.7/site-packages/sklearn/linear_model/_ridge.py:156: LinAlgWarning: Ill-conditioned matrix (rcond=1.98683e-08): result may not be accurate.\n",
      "  return linalg.solve(A, Xy, sym_pos=True, overwrite_a=True).T\n",
      "/home/aimsg/PycharmProjects/demo/demo/lib/python3.7/site-packages/sklearn/linear_model/_ridge.py:156: LinAlgWarning: Ill-conditioned matrix (rcond=1.99443e-08): result may not be accurate.\n",
      "  return linalg.solve(A, Xy, sym_pos=True, overwrite_a=True).T\n",
      "/home/aimsg/PycharmProjects/demo/demo/lib/python3.7/site-packages/sklearn/linear_model/_ridge.py:156: LinAlgWarning: Ill-conditioned matrix (rcond=1.98773e-08): result may not be accurate.\n",
      "  return linalg.solve(A, Xy, sym_pos=True, overwrite_a=True).T\n",
      "/home/aimsg/PycharmProjects/demo/demo/lib/python3.7/site-packages/sklearn/linear_model/_ridge.py:156: LinAlgWarning: Ill-conditioned matrix (rcond=2.03992e-08): result may not be accurate.\n",
      "  return linalg.solve(A, Xy, sym_pos=True, overwrite_a=True).T\n",
      "/home/aimsg/PycharmProjects/demo/demo/lib/python3.7/site-packages/sklearn/linear_model/_ridge.py:156: LinAlgWarning: Ill-conditioned matrix (rcond=1.98471e-08): result may not be accurate.\n",
      "  return linalg.solve(A, Xy, sym_pos=True, overwrite_a=True).T\n",
      "/home/aimsg/PycharmProjects/demo/demo/lib/python3.7/site-packages/sklearn/linear_model/_ridge.py:156: LinAlgWarning: Ill-conditioned matrix (rcond=1.97795e-08): result may not be accurate.\n",
      "  return linalg.solve(A, Xy, sym_pos=True, overwrite_a=True).T\n",
      "/home/aimsg/PycharmProjects/demo/demo/lib/python3.7/site-packages/sklearn/linear_model/_ridge.py:156: LinAlgWarning: Ill-conditioned matrix (rcond=1.98247e-08): result may not be accurate.\n",
      "  return linalg.solve(A, Xy, sym_pos=True, overwrite_a=True).T\n",
      "/home/aimsg/PycharmProjects/demo/demo/lib/python3.7/site-packages/sklearn/linear_model/_ridge.py:156: LinAlgWarning: Ill-conditioned matrix (rcond=2.01603e-08): result may not be accurate.\n",
      "  return linalg.solve(A, Xy, sym_pos=True, overwrite_a=True).T\n",
      "/home/aimsg/PycharmProjects/demo/demo/lib/python3.7/site-packages/sklearn/linear_model/_ridge.py:156: LinAlgWarning: Ill-conditioned matrix (rcond=1.99146e-08): result may not be accurate.\n",
      "  return linalg.solve(A, Xy, sym_pos=True, overwrite_a=True).T\n",
      "/home/aimsg/PycharmProjects/demo/demo/lib/python3.7/site-packages/sklearn/linear_model/_ridge.py:156: LinAlgWarning: Ill-conditioned matrix (rcond=1.98569e-08): result may not be accurate.\n",
      "  return linalg.solve(A, Xy, sym_pos=True, overwrite_a=True).T\n",
      "/home/aimsg/PycharmProjects/demo/demo/lib/python3.7/site-packages/sklearn/linear_model/_ridge.py:156: LinAlgWarning: Ill-conditioned matrix (rcond=1.98591e-08): result may not be accurate.\n",
      "  return linalg.solve(A, Xy, sym_pos=True, overwrite_a=True).T\n",
      "/home/aimsg/PycharmProjects/demo/demo/lib/python3.7/site-packages/sklearn/linear_model/_ridge.py:156: LinAlgWarning: Ill-conditioned matrix (rcond=2.01625e-08): result may not be accurate.\n",
      "  return linalg.solve(A, Xy, sym_pos=True, overwrite_a=True).T\n"
     ]
    },
    {
     "data": {
      "image/png": "[encoded data removed]",
      "text/plain": [
       "<Figure size 662.4x331.2 with 1 Axes>"
      ]
     },
     "metadata": {
      "needs_background": "light"
     },
     "output_type": "display_data"
    },
    {
     "name": "stdout",
     "output_type": "stream",
     "text": [
      "best val mse: 0.607, best alpha: 8192.0, test mse: 0.778\n",
      "Group: benin\n",
      "best val mse: 0.631, best alpha: 65536.0, test mse: 0.256\n",
      "Group: burkina_faso\n",
      "best val mse: 0.631, best alpha: 65536.0, test mse: 0.257\n",
      "Group: cameroon\n"
     ]
    },
    {
     "name": "stderr",
     "output_type": "stream",
     "text": [
      "/home/aimsg/PycharmProjects/demo/demo/lib/python3.7/site-packages/sklearn/linear_model/_ridge.py:156: LinAlgWarning: Ill-conditioned matrix (rcond=2.13882e-09): result may not be accurate.\n",
      "  return linalg.solve(A, Xy, sym_pos=True, overwrite_a=True).T\n",
      "/home/aimsg/PycharmProjects/demo/demo/lib/python3.7/site-packages/sklearn/linear_model/_ridge.py:156: LinAlgWarning: Ill-conditioned matrix (rcond=2.0731e-09): result may not be accurate.\n",
      "  return linalg.solve(A, Xy, sym_pos=True, overwrite_a=True).T\n",
      "/home/aimsg/PycharmProjects/demo/demo/lib/python3.7/site-packages/sklearn/linear_model/_ridge.py:156: LinAlgWarning: Ill-conditioned matrix (rcond=2.05283e-09): result may not be accurate.\n",
      "  return linalg.solve(A, Xy, sym_pos=True, overwrite_a=True).T\n",
      "/home/aimsg/PycharmProjects/demo/demo/lib/python3.7/site-packages/sklearn/linear_model/_ridge.py:156: LinAlgWarning: Ill-conditioned matrix (rcond=2.00935e-09): result may not be accurate.\n",
      "  return linalg.solve(A, Xy, sym_pos=True, overwrite_a=True).T\n",
      "/home/aimsg/PycharmProjects/demo/demo/lib/python3.7/site-packages/sklearn/linear_model/_ridge.py:156: LinAlgWarning: Ill-conditioned matrix (rcond=2.01905e-09): result may not be accurate.\n",
      "  return linalg.solve(A, Xy, sym_pos=True, overwrite_a=True).T\n",
      "/home/aimsg/PycharmProjects/demo/demo/lib/python3.7/site-packages/sklearn/linear_model/_ridge.py:156: LinAlgWarning: Ill-conditioned matrix (rcond=2.14665e-09): result may not be accurate.\n",
      "  return linalg.solve(A, Xy, sym_pos=True, overwrite_a=True).T\n",
      "/home/aimsg/PycharmProjects/demo/demo/lib/python3.7/site-packages/sklearn/linear_model/_ridge.py:156: LinAlgWarning: Ill-conditioned matrix (rcond=2.06678e-09): result may not be accurate.\n",
      "  return linalg.solve(A, Xy, sym_pos=True, overwrite_a=True).T\n",
      "/home/aimsg/PycharmProjects/demo/demo/lib/python3.7/site-packages/sklearn/linear_model/_ridge.py:156: LinAlgWarning: Ill-conditioned matrix (rcond=2.00717e-09): result may not be accurate.\n",
      "  return linalg.solve(A, Xy, sym_pos=True, overwrite_a=True).T\n",
      "/home/aimsg/PycharmProjects/demo/demo/lib/python3.7/site-packages/sklearn/linear_model/_ridge.py:156: LinAlgWarning: Ill-conditioned matrix (rcond=2.11025e-09): result may not be accurate.\n",
      "  return linalg.solve(A, Xy, sym_pos=True, overwrite_a=True).T\n",
      "/home/aimsg/PycharmProjects/demo/demo/lib/python3.7/site-packages/sklearn/linear_model/_ridge.py:156: LinAlgWarning: Ill-conditioned matrix (rcond=2.03778e-09): result may not be accurate.\n",
      "  return linalg.solve(A, Xy, sym_pos=True, overwrite_a=True).T\n",
      "/home/aimsg/PycharmProjects/demo/demo/lib/python3.7/site-packages/sklearn/linear_model/_ridge.py:156: LinAlgWarning: Ill-conditioned matrix (rcond=2.14881e-09): result may not be accurate.\n",
      "  return linalg.solve(A, Xy, sym_pos=True, overwrite_a=True).T\n",
      "/home/aimsg/PycharmProjects/demo/demo/lib/python3.7/site-packages/sklearn/linear_model/_ridge.py:156: LinAlgWarning: Ill-conditioned matrix (rcond=2.0506e-09): result may not be accurate.\n",
      "  return linalg.solve(A, Xy, sym_pos=True, overwrite_a=True).T\n",
      "/home/aimsg/PycharmProjects/demo/demo/lib/python3.7/site-packages/sklearn/linear_model/_ridge.py:156: LinAlgWarning: Ill-conditioned matrix (rcond=2.59478e-09): result may not be accurate.\n",
      "  return linalg.solve(A, Xy, sym_pos=True, overwrite_a=True).T\n",
      "/home/aimsg/PycharmProjects/demo/demo/lib/python3.7/site-packages/sklearn/linear_model/_ridge.py:156: LinAlgWarning: Ill-conditioned matrix (rcond=2.23684e-09): result may not be accurate.\n",
      "  return linalg.solve(A, Xy, sym_pos=True, overwrite_a=True).T\n",
      "/home/aimsg/PycharmProjects/demo/demo/lib/python3.7/site-packages/sklearn/linear_model/_ridge.py:156: LinAlgWarning: Ill-conditioned matrix (rcond=2.07776e-09): result may not be accurate.\n",
      "  return linalg.solve(A, Xy, sym_pos=True, overwrite_a=True).T\n",
      "/home/aimsg/PycharmProjects/demo/demo/lib/python3.7/site-packages/sklearn/linear_model/_ridge.py:156: LinAlgWarning: Ill-conditioned matrix (rcond=2.77585e-09): result may not be accurate.\n",
      "  return linalg.solve(A, Xy, sym_pos=True, overwrite_a=True).T\n",
      "/home/aimsg/PycharmProjects/demo/demo/lib/python3.7/site-packages/sklearn/linear_model/_ridge.py:156: LinAlgWarning: Ill-conditioned matrix (rcond=2.18895e-09): result may not be accurate.\n",
      "  return linalg.solve(A, Xy, sym_pos=True, overwrite_a=True).T\n",
      "/home/aimsg/PycharmProjects/demo/demo/lib/python3.7/site-packages/sklearn/linear_model/_ridge.py:156: LinAlgWarning: Ill-conditioned matrix (rcond=2.16548e-09): result may not be accurate.\n",
      "  return linalg.solve(A, Xy, sym_pos=True, overwrite_a=True).T\n",
      "/home/aimsg/PycharmProjects/demo/demo/lib/python3.7/site-packages/sklearn/linear_model/_ridge.py:156: LinAlgWarning: Ill-conditioned matrix (rcond=2.02693e-09): result may not be accurate.\n",
      "  return linalg.solve(A, Xy, sym_pos=True, overwrite_a=True).T\n",
      "/home/aimsg/PycharmProjects/demo/demo/lib/python3.7/site-packages/sklearn/linear_model/_ridge.py:156: LinAlgWarning: Ill-conditioned matrix (rcond=1.96404e-09): result may not be accurate.\n",
      "  return linalg.solve(A, Xy, sym_pos=True, overwrite_a=True).T\n",
      "/home/aimsg/PycharmProjects/demo/demo/lib/python3.7/site-packages/sklearn/linear_model/_ridge.py:156: LinAlgWarning: Ill-conditioned matrix (rcond=2.06814e-09): result may not be accurate.\n",
      "  return linalg.solve(A, Xy, sym_pos=True, overwrite_a=True).T\n",
      "/home/aimsg/PycharmProjects/demo/demo/lib/python3.7/site-packages/sklearn/linear_model/_ridge.py:156: LinAlgWarning: Ill-conditioned matrix (rcond=2.06166e-09): result may not be accurate.\n",
      "  return linalg.solve(A, Xy, sym_pos=True, overwrite_a=True).T\n",
      "/home/aimsg/PycharmProjects/demo/demo/lib/python3.7/site-packages/sklearn/linear_model/_ridge.py:156: LinAlgWarning: Ill-conditioned matrix (rcond=1.60096e-08): result may not be accurate.\n",
      "  return linalg.solve(A, Xy, sym_pos=True, overwrite_a=True).T\n",
      "/home/aimsg/PycharmProjects/demo/demo/lib/python3.7/site-packages/sklearn/linear_model/_ridge.py:156: LinAlgWarning: Ill-conditioned matrix (rcond=1.54993e-08): result may not be accurate.\n",
      "  return linalg.solve(A, Xy, sym_pos=True, overwrite_a=True).T\n",
      "/home/aimsg/PycharmProjects/demo/demo/lib/python3.7/site-packages/sklearn/linear_model/_ridge.py:156: LinAlgWarning: Ill-conditioned matrix (rcond=1.53589e-08): result may not be accurate.\n",
      "  return linalg.solve(A, Xy, sym_pos=True, overwrite_a=True).T\n",
      "/home/aimsg/PycharmProjects/demo/demo/lib/python3.7/site-packages/sklearn/linear_model/_ridge.py:156: LinAlgWarning: Ill-conditioned matrix (rcond=1.51617e-08): result may not be accurate.\n",
      "  return linalg.solve(A, Xy, sym_pos=True, overwrite_a=True).T\n",
      "/home/aimsg/PycharmProjects/demo/demo/lib/python3.7/site-packages/sklearn/linear_model/_ridge.py:156: LinAlgWarning: Ill-conditioned matrix (rcond=1.518e-08): result may not be accurate.\n",
      "  return linalg.solve(A, Xy, sym_pos=True, overwrite_a=True).T\n",
      "/home/aimsg/PycharmProjects/demo/demo/lib/python3.7/site-packages/sklearn/linear_model/_ridge.py:156: LinAlgWarning: Ill-conditioned matrix (rcond=1.60527e-08): result may not be accurate.\n",
      "  return linalg.solve(A, Xy, sym_pos=True, overwrite_a=True).T\n",
      "/home/aimsg/PycharmProjects/demo/demo/lib/python3.7/site-packages/sklearn/linear_model/_ridge.py:156: LinAlgWarning: Ill-conditioned matrix (rcond=1.5539e-08): result may not be accurate.\n",
      "  return linalg.solve(A, Xy, sym_pos=True, overwrite_a=True).T\n",
      "/home/aimsg/PycharmProjects/demo/demo/lib/python3.7/site-packages/sklearn/linear_model/_ridge.py:156: LinAlgWarning: Ill-conditioned matrix (rcond=1.51547e-08): result may not be accurate.\n",
      "  return linalg.solve(A, Xy, sym_pos=True, overwrite_a=True).T\n",
      "/home/aimsg/PycharmProjects/demo/demo/lib/python3.7/site-packages/sklearn/linear_model/_ridge.py:156: LinAlgWarning: Ill-conditioned matrix (rcond=1.58267e-08): result may not be accurate.\n",
      "  return linalg.solve(A, Xy, sym_pos=True, overwrite_a=True).T\n",
      "/home/aimsg/PycharmProjects/demo/demo/lib/python3.7/site-packages/sklearn/linear_model/_ridge.py:156: LinAlgWarning: Ill-conditioned matrix (rcond=1.52679e-08): result may not be accurate.\n",
      "  return linalg.solve(A, Xy, sym_pos=True, overwrite_a=True).T\n",
      "/home/aimsg/PycharmProjects/demo/demo/lib/python3.7/site-packages/sklearn/linear_model/_ridge.py:156: LinAlgWarning: Ill-conditioned matrix (rcond=1.60958e-08): result may not be accurate.\n",
      "  return linalg.solve(A, Xy, sym_pos=True, overwrite_a=True).T\n",
      "/home/aimsg/PycharmProjects/demo/demo/lib/python3.7/site-packages/sklearn/linear_model/_ridge.py:156: LinAlgWarning: Ill-conditioned matrix (rcond=1.53783e-08): result may not be accurate.\n",
      "  return linalg.solve(A, Xy, sym_pos=True, overwrite_a=True).T\n"
     ]
    },
    {
     "name": "stderr",
     "output_type": "stream",
     "text": [
      "/home/aimsg/PycharmProjects/demo/demo/lib/python3.7/site-packages/sklearn/linear_model/_ridge.py:156: LinAlgWarning: Ill-conditioned matrix (rcond=1.55776e-08): result may not be accurate.\n",
      "  return linalg.solve(A, Xy, sym_pos=True, overwrite_a=True).T\n",
      "/home/aimsg/PycharmProjects/demo/demo/lib/python3.7/site-packages/sklearn/linear_model/_ridge.py:156: LinAlgWarning: Ill-conditioned matrix (rcond=1.62047e-08): result may not be accurate.\n",
      "  return linalg.solve(A, Xy, sym_pos=True, overwrite_a=True).T\n",
      "/home/aimsg/PycharmProjects/demo/demo/lib/python3.7/site-packages/sklearn/linear_model/_ridge.py:156: LinAlgWarning: Ill-conditioned matrix (rcond=1.55481e-08): result may not be accurate.\n",
      "  return linalg.solve(A, Xy, sym_pos=True, overwrite_a=True).T\n",
      "/home/aimsg/PycharmProjects/demo/demo/lib/python3.7/site-packages/sklearn/linear_model/_ridge.py:156: LinAlgWarning: Ill-conditioned matrix (rcond=1.53537e-08): result may not be accurate.\n",
      "  return linalg.solve(A, Xy, sym_pos=True, overwrite_a=True).T\n",
      "/home/aimsg/PycharmProjects/demo/demo/lib/python3.7/site-packages/sklearn/linear_model/_ridge.py:156: LinAlgWarning: Ill-conditioned matrix (rcond=1.9588e-08): result may not be accurate.\n",
      "  return linalg.solve(A, Xy, sym_pos=True, overwrite_a=True).T\n",
      "/home/aimsg/PycharmProjects/demo/demo/lib/python3.7/site-packages/sklearn/linear_model/_ridge.py:156: LinAlgWarning: Ill-conditioned matrix (rcond=1.62461e-08): result may not be accurate.\n",
      "  return linalg.solve(A, Xy, sym_pos=True, overwrite_a=True).T\n",
      "/home/aimsg/PycharmProjects/demo/demo/lib/python3.7/site-packages/sklearn/linear_model/_ridge.py:156: LinAlgWarning: Ill-conditioned matrix (rcond=1.52025e-08): result may not be accurate.\n",
      "  return linalg.solve(A, Xy, sym_pos=True, overwrite_a=True).T\n",
      "/home/aimsg/PycharmProjects/demo/demo/lib/python3.7/site-packages/sklearn/linear_model/_ridge.py:156: LinAlgWarning: Ill-conditioned matrix (rcond=1.54499e-08): result may not be accurate.\n",
      "  return linalg.solve(A, Xy, sym_pos=True, overwrite_a=True).T\n",
      "/home/aimsg/PycharmProjects/demo/demo/lib/python3.7/site-packages/sklearn/linear_model/_ridge.py:156: LinAlgWarning: Ill-conditioned matrix (rcond=1.5537e-08): result may not be accurate.\n",
      "  return linalg.solve(A, Xy, sym_pos=True, overwrite_a=True).T\n",
      "/home/aimsg/PycharmProjects/demo/demo/lib/python3.7/site-packages/sklearn/linear_model/_ridge.py:156: LinAlgWarning: Ill-conditioned matrix (rcond=1.54896e-08): result may not be accurate.\n",
      "  return linalg.solve(A, Xy, sym_pos=True, overwrite_a=True).T\n"
     ]
    },
    {
     "name": "stdout",
     "output_type": "stream",
     "text": [
      "best val mse: 0.628, best alpha: 1024.0, test mse: 0.603\n",
      "Group: cote_d_ivoire\n"
     ]
    },
    {
     "name": "stderr",
     "output_type": "stream",
     "text": [
      "/home/aimsg/PycharmProjects/demo/demo/lib/python3.7/site-packages/sklearn/linear_model/_ridge.py:156: LinAlgWarning: Ill-conditioned matrix (rcond=2.00521e-08): result may not be accurate.\n",
      "  return linalg.solve(A, Xy, sym_pos=True, overwrite_a=True).T\n",
      "/home/aimsg/PycharmProjects/demo/demo/lib/python3.7/site-packages/sklearn/linear_model/_ridge.py:156: LinAlgWarning: Ill-conditioned matrix (rcond=1.95575e-08): result may not be accurate.\n",
      "  return linalg.solve(A, Xy, sym_pos=True, overwrite_a=True).T\n",
      "/home/aimsg/PycharmProjects/demo/demo/lib/python3.7/site-packages/sklearn/linear_model/_ridge.py:156: LinAlgWarning: Ill-conditioned matrix (rcond=1.94213e-08): result may not be accurate.\n",
      "  return linalg.solve(A, Xy, sym_pos=True, overwrite_a=True).T\n",
      "/home/aimsg/PycharmProjects/demo/demo/lib/python3.7/site-packages/sklearn/linear_model/_ridge.py:156: LinAlgWarning: Ill-conditioned matrix (rcond=1.92571e-08): result may not be accurate.\n",
      "  return linalg.solve(A, Xy, sym_pos=True, overwrite_a=True).T\n",
      "/home/aimsg/PycharmProjects/demo/demo/lib/python3.7/site-packages/sklearn/linear_model/_ridge.py:156: LinAlgWarning: Ill-conditioned matrix (rcond=1.93126e-08): result may not be accurate.\n",
      "  return linalg.solve(A, Xy, sym_pos=True, overwrite_a=True).T\n",
      "/home/aimsg/PycharmProjects/demo/demo/lib/python3.7/site-packages/sklearn/linear_model/_ridge.py:156: LinAlgWarning: Ill-conditioned matrix (rcond=1.97823e-08): result may not be accurate.\n",
      "  return linalg.solve(A, Xy, sym_pos=True, overwrite_a=True).T\n",
      "/home/aimsg/PycharmProjects/demo/demo/lib/python3.7/site-packages/sklearn/linear_model/_ridge.py:156: LinAlgWarning: Ill-conditioned matrix (rcond=1.97181e-08): result may not be accurate.\n",
      "  return linalg.solve(A, Xy, sym_pos=True, overwrite_a=True).T\n",
      "/home/aimsg/PycharmProjects/demo/demo/lib/python3.7/site-packages/sklearn/linear_model/_ridge.py:156: LinAlgWarning: Ill-conditioned matrix (rcond=1.94564e-08): result may not be accurate.\n",
      "  return linalg.solve(A, Xy, sym_pos=True, overwrite_a=True).T\n",
      "/home/aimsg/PycharmProjects/demo/demo/lib/python3.7/site-packages/sklearn/linear_model/_ridge.py:156: LinAlgWarning: Ill-conditioned matrix (rcond=1.92395e-08): result may not be accurate.\n",
      "  return linalg.solve(A, Xy, sym_pos=True, overwrite_a=True).T\n",
      "/home/aimsg/PycharmProjects/demo/demo/lib/python3.7/site-packages/sklearn/linear_model/_ridge.py:156: LinAlgWarning: Ill-conditioned matrix (rcond=1.91785e-08): result may not be accurate.\n",
      "  return linalg.solve(A, Xy, sym_pos=True, overwrite_a=True).T\n",
      "/home/aimsg/PycharmProjects/demo/demo/lib/python3.7/site-packages/sklearn/linear_model/_ridge.py:156: LinAlgWarning: Ill-conditioned matrix (rcond=1.94124e-08): result may not be accurate.\n",
      "  return linalg.solve(A, Xy, sym_pos=True, overwrite_a=True).T\n",
      "/home/aimsg/PycharmProjects/demo/demo/lib/python3.7/site-packages/sklearn/linear_model/_ridge.py:156: LinAlgWarning: Ill-conditioned matrix (rcond=1.93913e-08): result may not be accurate.\n",
      "  return linalg.solve(A, Xy, sym_pos=True, overwrite_a=True).T\n",
      "/home/aimsg/PycharmProjects/demo/demo/lib/python3.7/site-packages/sklearn/linear_model/_ridge.py:156: LinAlgWarning: Ill-conditioned matrix (rcond=1.93647e-08): result may not be accurate.\n",
      "  return linalg.solve(A, Xy, sym_pos=True, overwrite_a=True).T\n",
      "/home/aimsg/PycharmProjects/demo/demo/lib/python3.7/site-packages/sklearn/linear_model/_ridge.py:156: LinAlgWarning: Ill-conditioned matrix (rcond=1.97924e-08): result may not be accurate.\n",
      "  return linalg.solve(A, Xy, sym_pos=True, overwrite_a=True).T\n",
      "/home/aimsg/PycharmProjects/demo/demo/lib/python3.7/site-packages/sklearn/linear_model/_ridge.py:156: LinAlgWarning: Ill-conditioned matrix (rcond=1.93635e-08): result may not be accurate.\n",
      "  return linalg.solve(A, Xy, sym_pos=True, overwrite_a=True).T\n",
      "/home/aimsg/PycharmProjects/demo/demo/lib/python3.7/site-packages/sklearn/linear_model/_ridge.py:156: LinAlgWarning: Ill-conditioned matrix (rcond=1.93134e-08): result may not be accurate.\n",
      "  return linalg.solve(A, Xy, sym_pos=True, overwrite_a=True).T\n",
      "/home/aimsg/PycharmProjects/demo/demo/lib/python3.7/site-packages/sklearn/linear_model/_ridge.py:156: LinAlgWarning: Ill-conditioned matrix (rcond=1.93351e-08): result may not be accurate.\n",
      "  return linalg.solve(A, Xy, sym_pos=True, overwrite_a=True).T\n",
      "/home/aimsg/PycharmProjects/demo/demo/lib/python3.7/site-packages/sklearn/linear_model/_ridge.py:156: LinAlgWarning: Ill-conditioned matrix (rcond=1.96154e-08): result may not be accurate.\n",
      "  return linalg.solve(A, Xy, sym_pos=True, overwrite_a=True).T\n",
      "/home/aimsg/PycharmProjects/demo/demo/lib/python3.7/site-packages/sklearn/linear_model/_ridge.py:156: LinAlgWarning: Ill-conditioned matrix (rcond=1.93958e-08): result may not be accurate.\n",
      "  return linalg.solve(A, Xy, sym_pos=True, overwrite_a=True).T\n",
      "/home/aimsg/PycharmProjects/demo/demo/lib/python3.7/site-packages/sklearn/linear_model/_ridge.py:156: LinAlgWarning: Ill-conditioned matrix (rcond=1.93722e-08): result may not be accurate.\n",
      "  return linalg.solve(A, Xy, sym_pos=True, overwrite_a=True).T\n",
      "/home/aimsg/PycharmProjects/demo/demo/lib/python3.7/site-packages/sklearn/linear_model/_ridge.py:156: LinAlgWarning: Ill-conditioned matrix (rcond=1.93535e-08): result may not be accurate.\n",
      "  return linalg.solve(A, Xy, sym_pos=True, overwrite_a=True).T\n",
      "/home/aimsg/PycharmProjects/demo/demo/lib/python3.7/site-packages/sklearn/linear_model/_ridge.py:156: LinAlgWarning: Ill-conditioned matrix (rcond=1.96538e-08): result may not be accurate.\n",
      "  return linalg.solve(A, Xy, sym_pos=True, overwrite_a=True).T\n"
     ]
    },
    {
     "name": "stdout",
     "output_type": "stream",
     "text": [
      "best val mse: 0.619, best alpha: 8192.0, test mse: 0.345\n",
      "Group: democratic_republic_of_congo\n"
     ]
    },
    {
     "name": "stderr",
     "output_type": "stream",
     "text": [
      "/home/aimsg/PycharmProjects/demo/demo/lib/python3.7/site-packages/sklearn/linear_model/_ridge.py:156: LinAlgWarning: Ill-conditioned matrix (rcond=2.72282e-09): result may not be accurate.\n",
      "  return linalg.solve(A, Xy, sym_pos=True, overwrite_a=True).T\n",
      "/home/aimsg/PycharmProjects/demo/demo/lib/python3.7/site-packages/sklearn/linear_model/_ridge.py:156: LinAlgWarning: Ill-conditioned matrix (rcond=2.58421e-09): result may not be accurate.\n",
      "  return linalg.solve(A, Xy, sym_pos=True, overwrite_a=True).T\n",
      "/home/aimsg/PycharmProjects/demo/demo/lib/python3.7/site-packages/sklearn/linear_model/_ridge.py:156: LinAlgWarning: Ill-conditioned matrix (rcond=2.52953e-09): result may not be accurate.\n",
      "  return linalg.solve(A, Xy, sym_pos=True, overwrite_a=True).T\n",
      "/home/aimsg/PycharmProjects/demo/demo/lib/python3.7/site-packages/sklearn/linear_model/_ridge.py:156: LinAlgWarning: Ill-conditioned matrix (rcond=2.56528e-09): result may not be accurate.\n",
      "  return linalg.solve(A, Xy, sym_pos=True, overwrite_a=True).T\n",
      "/home/aimsg/PycharmProjects/demo/demo/lib/python3.7/site-packages/sklearn/linear_model/_ridge.py:156: LinAlgWarning: Ill-conditioned matrix (rcond=2.52798e-09): result may not be accurate.\n",
      "  return linalg.solve(A, Xy, sym_pos=True, overwrite_a=True).T\n",
      "/home/aimsg/PycharmProjects/demo/demo/lib/python3.7/site-packages/sklearn/linear_model/_ridge.py:156: LinAlgWarning: Ill-conditioned matrix (rcond=2.62306e-09): result may not be accurate.\n",
      "  return linalg.solve(A, Xy, sym_pos=True, overwrite_a=True).T\n",
      "/home/aimsg/PycharmProjects/demo/demo/lib/python3.7/site-packages/sklearn/linear_model/_ridge.py:156: LinAlgWarning: Ill-conditioned matrix (rcond=2.60496e-09): result may not be accurate.\n",
      "  return linalg.solve(A, Xy, sym_pos=True, overwrite_a=True).T\n",
      "/home/aimsg/PycharmProjects/demo/demo/lib/python3.7/site-packages/sklearn/linear_model/_ridge.py:156: LinAlgWarning: Ill-conditioned matrix (rcond=2.49793e-09): result may not be accurate.\n",
      "  return linalg.solve(A, Xy, sym_pos=True, overwrite_a=True).T\n",
      "/home/aimsg/PycharmProjects/demo/demo/lib/python3.7/site-packages/sklearn/linear_model/_ridge.py:156: LinAlgWarning: Ill-conditioned matrix (rcond=2.60138e-09): result may not be accurate.\n",
      "  return linalg.solve(A, Xy, sym_pos=True, overwrite_a=True).T\n",
      "/home/aimsg/PycharmProjects/demo/demo/lib/python3.7/site-packages/sklearn/linear_model/_ridge.py:156: LinAlgWarning: Ill-conditioned matrix (rcond=2.55066e-09): result may not be accurate.\n",
      "  return linalg.solve(A, Xy, sym_pos=True, overwrite_a=True).T\n",
      "/home/aimsg/PycharmProjects/demo/demo/lib/python3.7/site-packages/sklearn/linear_model/_ridge.py:156: LinAlgWarning: Ill-conditioned matrix (rcond=2.68284e-09): result may not be accurate.\n",
      "  return linalg.solve(A, Xy, sym_pos=True, overwrite_a=True).T\n",
      "/home/aimsg/PycharmProjects/demo/demo/lib/python3.7/site-packages/sklearn/linear_model/_ridge.py:156: LinAlgWarning: Ill-conditioned matrix (rcond=2.54604e-09): result may not be accurate.\n",
      "  return linalg.solve(A, Xy, sym_pos=True, overwrite_a=True).T\n",
      "/home/aimsg/PycharmProjects/demo/demo/lib/python3.7/site-packages/sklearn/linear_model/_ridge.py:156: LinAlgWarning: Ill-conditioned matrix (rcond=2.59048e-09): result may not be accurate.\n",
      "  return linalg.solve(A, Xy, sym_pos=True, overwrite_a=True).T\n",
      "/home/aimsg/PycharmProjects/demo/demo/lib/python3.7/site-packages/sklearn/linear_model/_ridge.py:156: LinAlgWarning: Ill-conditioned matrix (rcond=2.68196e-09): result may not be accurate.\n",
      "  return linalg.solve(A, Xy, sym_pos=True, overwrite_a=True).T\n",
      "/home/aimsg/PycharmProjects/demo/demo/lib/python3.7/site-packages/sklearn/linear_model/_ridge.py:156: LinAlgWarning: Ill-conditioned matrix (rcond=2.56524e-09): result may not be accurate.\n",
      "  return linalg.solve(A, Xy, sym_pos=True, overwrite_a=True).T\n",
      "/home/aimsg/PycharmProjects/demo/demo/lib/python3.7/site-packages/sklearn/linear_model/_ridge.py:156: LinAlgWarning: Ill-conditioned matrix (rcond=2.52497e-09): result may not be accurate.\n",
      "  return linalg.solve(A, Xy, sym_pos=True, overwrite_a=True).T\n",
      "/home/aimsg/PycharmProjects/demo/demo/lib/python3.7/site-packages/sklearn/linear_model/_ridge.py:156: LinAlgWarning: Ill-conditioned matrix (rcond=2.5038e-09): result may not be accurate.\n",
      "  return linalg.solve(A, Xy, sym_pos=True, overwrite_a=True).T\n",
      "/home/aimsg/PycharmProjects/demo/demo/lib/python3.7/site-packages/sklearn/linear_model/_ridge.py:156: LinAlgWarning: Ill-conditioned matrix (rcond=2.6575e-09): result may not be accurate.\n",
      "  return linalg.solve(A, Xy, sym_pos=True, overwrite_a=True).T\n",
      "/home/aimsg/PycharmProjects/demo/demo/lib/python3.7/site-packages/sklearn/linear_model/_ridge.py:156: LinAlgWarning: Ill-conditioned matrix (rcond=2.51722e-09): result may not be accurate.\n",
      "  return linalg.solve(A, Xy, sym_pos=True, overwrite_a=True).T\n",
      "/home/aimsg/PycharmProjects/demo/demo/lib/python3.7/site-packages/sklearn/linear_model/_ridge.py:156: LinAlgWarning: Ill-conditioned matrix (rcond=2.56609e-09): result may not be accurate.\n",
      "  return linalg.solve(A, Xy, sym_pos=True, overwrite_a=True).T\n",
      "/home/aimsg/PycharmProjects/demo/demo/lib/python3.7/site-packages/sklearn/linear_model/_ridge.py:156: LinAlgWarning: Ill-conditioned matrix (rcond=2.57658e-09): result may not be accurate.\n",
      "  return linalg.solve(A, Xy, sym_pos=True, overwrite_a=True).T\n",
      "/home/aimsg/PycharmProjects/demo/demo/lib/python3.7/site-packages/sklearn/linear_model/_ridge.py:156: LinAlgWarning: Ill-conditioned matrix (rcond=2.5648e-09): result may not be accurate.\n",
      "  return linalg.solve(A, Xy, sym_pos=True, overwrite_a=True).T\n",
      "/home/aimsg/PycharmProjects/demo/demo/lib/python3.7/site-packages/sklearn/linear_model/_ridge.py:156: LinAlgWarning: Ill-conditioned matrix (rcond=3.43217e-08): result may not be accurate.\n",
      "  return linalg.solve(A, Xy, sym_pos=True, overwrite_a=True).T\n",
      "/home/aimsg/PycharmProjects/demo/demo/lib/python3.7/site-packages/sklearn/linear_model/_ridge.py:156: LinAlgWarning: Ill-conditioned matrix (rcond=3.27785e-08): result may not be accurate.\n",
      "  return linalg.solve(A, Xy, sym_pos=True, overwrite_a=True).T\n",
      "/home/aimsg/PycharmProjects/demo/demo/lib/python3.7/site-packages/sklearn/linear_model/_ridge.py:156: LinAlgWarning: Ill-conditioned matrix (rcond=3.22859e-08): result may not be accurate.\n",
      "  return linalg.solve(A, Xy, sym_pos=True, overwrite_a=True).T\n",
      "/home/aimsg/PycharmProjects/demo/demo/lib/python3.7/site-packages/sklearn/linear_model/_ridge.py:156: LinAlgWarning: Ill-conditioned matrix (rcond=3.24954e-08): result may not be accurate.\n",
      "  return linalg.solve(A, Xy, sym_pos=True, overwrite_a=True).T\n",
      "/home/aimsg/PycharmProjects/demo/demo/lib/python3.7/site-packages/sklearn/linear_model/_ridge.py:156: LinAlgWarning: Ill-conditioned matrix (rcond=3.20823e-08): result may not be accurate.\n",
      "  return linalg.solve(A, Xy, sym_pos=True, overwrite_a=True).T\n",
      "/home/aimsg/PycharmProjects/demo/demo/lib/python3.7/site-packages/sklearn/linear_model/_ridge.py:156: LinAlgWarning: Ill-conditioned matrix (rcond=3.31738e-08): result may not be accurate.\n",
      "  return linalg.solve(A, Xy, sym_pos=True, overwrite_a=True).T\n",
      "/home/aimsg/PycharmProjects/demo/demo/lib/python3.7/site-packages/sklearn/linear_model/_ridge.py:156: LinAlgWarning: Ill-conditioned matrix (rcond=3.30056e-08): result may not be accurate.\n",
      "  return linalg.solve(A, Xy, sym_pos=True, overwrite_a=True).T\n",
      "/home/aimsg/PycharmProjects/demo/demo/lib/python3.7/site-packages/sklearn/linear_model/_ridge.py:156: LinAlgWarning: Ill-conditioned matrix (rcond=3.17262e-08): result may not be accurate.\n",
      "  return linalg.solve(A, Xy, sym_pos=True, overwrite_a=True).T\n",
      "/home/aimsg/PycharmProjects/demo/demo/lib/python3.7/site-packages/sklearn/linear_model/_ridge.py:156: LinAlgWarning: Ill-conditioned matrix (rcond=3.29655e-08): result may not be accurate.\n",
      "  return linalg.solve(A, Xy, sym_pos=True, overwrite_a=True).T\n",
      "/home/aimsg/PycharmProjects/demo/demo/lib/python3.7/site-packages/sklearn/linear_model/_ridge.py:156: LinAlgWarning: Ill-conditioned matrix (rcond=3.21816e-08): result may not be accurate.\n",
      "  return linalg.solve(A, Xy, sym_pos=True, overwrite_a=True).T\n",
      "/home/aimsg/PycharmProjects/demo/demo/lib/python3.7/site-packages/sklearn/linear_model/_ridge.py:156: LinAlgWarning: Ill-conditioned matrix (rcond=3.38721e-08): result may not be accurate.\n",
      "  return linalg.solve(A, Xy, sym_pos=True, overwrite_a=True).T\n"
     ]
    },
    {
     "name": "stderr",
     "output_type": "stream",
     "text": [
      "/home/aimsg/PycharmProjects/demo/demo/lib/python3.7/site-packages/sklearn/linear_model/_ridge.py:156: LinAlgWarning: Ill-conditioned matrix (rcond=3.23792e-08): result may not be accurate.\n",
      "  return linalg.solve(A, Xy, sym_pos=True, overwrite_a=True).T\n",
      "/home/aimsg/PycharmProjects/demo/demo/lib/python3.7/site-packages/sklearn/linear_model/_ridge.py:156: LinAlgWarning: Ill-conditioned matrix (rcond=3.28089e-08): result may not be accurate.\n",
      "  return linalg.solve(A, Xy, sym_pos=True, overwrite_a=True).T\n",
      "/home/aimsg/PycharmProjects/demo/demo/lib/python3.7/site-packages/sklearn/linear_model/_ridge.py:156: LinAlgWarning: Ill-conditioned matrix (rcond=3.40631e-08): result may not be accurate.\n",
      "  return linalg.solve(A, Xy, sym_pos=True, overwrite_a=True).T\n",
      "/home/aimsg/PycharmProjects/demo/demo/lib/python3.7/site-packages/sklearn/linear_model/_ridge.py:156: LinAlgWarning: Ill-conditioned matrix (rcond=3.25298e-08): result may not be accurate.\n",
      "  return linalg.solve(A, Xy, sym_pos=True, overwrite_a=True).T\n",
      "/home/aimsg/PycharmProjects/demo/demo/lib/python3.7/site-packages/sklearn/linear_model/_ridge.py:156: LinAlgWarning: Ill-conditioned matrix (rcond=3.21314e-08): result may not be accurate.\n",
      "  return linalg.solve(A, Xy, sym_pos=True, overwrite_a=True).T\n",
      "/home/aimsg/PycharmProjects/demo/demo/lib/python3.7/site-packages/sklearn/linear_model/_ridge.py:156: LinAlgWarning: Ill-conditioned matrix (rcond=3.18007e-08): result may not be accurate.\n",
      "  return linalg.solve(A, Xy, sym_pos=True, overwrite_a=True).T\n",
      "/home/aimsg/PycharmProjects/demo/demo/lib/python3.7/site-packages/sklearn/linear_model/_ridge.py:156: LinAlgWarning: Ill-conditioned matrix (rcond=3.36775e-08): result may not be accurate.\n",
      "  return linalg.solve(A, Xy, sym_pos=True, overwrite_a=True).T\n",
      "/home/aimsg/PycharmProjects/demo/demo/lib/python3.7/site-packages/sklearn/linear_model/_ridge.py:156: LinAlgWarning: Ill-conditioned matrix (rcond=3.19614e-08): result may not be accurate.\n",
      "  return linalg.solve(A, Xy, sym_pos=True, overwrite_a=True).T\n",
      "/home/aimsg/PycharmProjects/demo/demo/lib/python3.7/site-packages/sklearn/linear_model/_ridge.py:156: LinAlgWarning: Ill-conditioned matrix (rcond=3.24857e-08): result may not be accurate.\n",
      "  return linalg.solve(A, Xy, sym_pos=True, overwrite_a=True).T\n",
      "/home/aimsg/PycharmProjects/demo/demo/lib/python3.7/site-packages/sklearn/linear_model/_ridge.py:156: LinAlgWarning: Ill-conditioned matrix (rcond=3.26189e-08): result may not be accurate.\n",
      "  return linalg.solve(A, Xy, sym_pos=True, overwrite_a=True).T\n",
      "/home/aimsg/PycharmProjects/demo/demo/lib/python3.7/site-packages/sklearn/linear_model/_ridge.py:156: LinAlgWarning: Ill-conditioned matrix (rcond=3.24965e-08): result may not be accurate.\n",
      "  return linalg.solve(A, Xy, sym_pos=True, overwrite_a=True).T\n"
     ]
    },
    {
     "name": "stdout",
     "output_type": "stream",
     "text": [
      "best val mse: 0.615, best alpha: 2.0, test mse: 0.516\n",
      "Group: ethiopia\n"
     ]
    },
    {
     "name": "stderr",
     "output_type": "stream",
     "text": [
      "/home/aimsg/PycharmProjects/demo/demo/lib/python3.7/site-packages/sklearn/linear_model/_ridge.py:156: LinAlgWarning: Ill-conditioned matrix (rcond=2.03249e-08): result may not be accurate.\n",
      "  return linalg.solve(A, Xy, sym_pos=True, overwrite_a=True).T\n",
      "/home/aimsg/PycharmProjects/demo/demo/lib/python3.7/site-packages/sklearn/linear_model/_ridge.py:156: LinAlgWarning: Ill-conditioned matrix (rcond=1.97536e-08): result may not be accurate.\n",
      "  return linalg.solve(A, Xy, sym_pos=True, overwrite_a=True).T\n",
      "/home/aimsg/PycharmProjects/demo/demo/lib/python3.7/site-packages/sklearn/linear_model/_ridge.py:156: LinAlgWarning: Ill-conditioned matrix (rcond=1.96054e-08): result may not be accurate.\n",
      "  return linalg.solve(A, Xy, sym_pos=True, overwrite_a=True).T\n",
      "/home/aimsg/PycharmProjects/demo/demo/lib/python3.7/site-packages/sklearn/linear_model/_ridge.py:156: LinAlgWarning: Ill-conditioned matrix (rcond=1.94695e-08): result may not be accurate.\n",
      "  return linalg.solve(A, Xy, sym_pos=True, overwrite_a=True).T\n",
      "/home/aimsg/PycharmProjects/demo/demo/lib/python3.7/site-packages/sklearn/linear_model/_ridge.py:156: LinAlgWarning: Ill-conditioned matrix (rcond=1.97823e-08): result may not be accurate.\n",
      "  return linalg.solve(A, Xy, sym_pos=True, overwrite_a=True).T\n",
      "/home/aimsg/PycharmProjects/demo/demo/lib/python3.7/site-packages/sklearn/linear_model/_ridge.py:156: LinAlgWarning: Ill-conditioned matrix (rcond=1.95271e-08): result may not be accurate.\n",
      "  return linalg.solve(A, Xy, sym_pos=True, overwrite_a=True).T\n",
      "/home/aimsg/PycharmProjects/demo/demo/lib/python3.7/site-packages/sklearn/linear_model/_ridge.py:156: LinAlgWarning: Ill-conditioned matrix (rcond=1.99288e-08): result may not be accurate.\n",
      "  return linalg.solve(A, Xy, sym_pos=True, overwrite_a=True).T\n",
      "/home/aimsg/PycharmProjects/demo/demo/lib/python3.7/site-packages/sklearn/linear_model/_ridge.py:156: LinAlgWarning: Ill-conditioned matrix (rcond=1.96896e-08): result may not be accurate.\n",
      "  return linalg.solve(A, Xy, sym_pos=True, overwrite_a=True).T\n",
      "/home/aimsg/PycharmProjects/demo/demo/lib/python3.7/site-packages/sklearn/linear_model/_ridge.py:156: LinAlgWarning: Ill-conditioned matrix (rcond=1.94261e-08): result may not be accurate.\n",
      "  return linalg.solve(A, Xy, sym_pos=True, overwrite_a=True).T\n",
      "/home/aimsg/PycharmProjects/demo/demo/lib/python3.7/site-packages/sklearn/linear_model/_ridge.py:156: LinAlgWarning: Ill-conditioned matrix (rcond=1.93854e-08): result may not be accurate.\n",
      "  return linalg.solve(A, Xy, sym_pos=True, overwrite_a=True).T\n",
      "/home/aimsg/PycharmProjects/demo/demo/lib/python3.7/site-packages/sklearn/linear_model/_ridge.py:156: LinAlgWarning: Ill-conditioned matrix (rcond=1.96741e-08): result may not be accurate.\n",
      "  return linalg.solve(A, Xy, sym_pos=True, overwrite_a=True).T\n",
      "/home/aimsg/PycharmProjects/demo/demo/lib/python3.7/site-packages/sklearn/linear_model/_ridge.py:156: LinAlgWarning: Ill-conditioned matrix (rcond=1.96316e-08): result may not be accurate.\n",
      "  return linalg.solve(A, Xy, sym_pos=True, overwrite_a=True).T\n",
      "/home/aimsg/PycharmProjects/demo/demo/lib/python3.7/site-packages/sklearn/linear_model/_ridge.py:156: LinAlgWarning: Ill-conditioned matrix (rcond=1.95702e-08): result may not be accurate.\n",
      "  return linalg.solve(A, Xy, sym_pos=True, overwrite_a=True).T\n",
      "/home/aimsg/PycharmProjects/demo/demo/lib/python3.7/site-packages/sklearn/linear_model/_ridge.py:156: LinAlgWarning: Ill-conditioned matrix (rcond=2.00479e-08): result may not be accurate.\n",
      "  return linalg.solve(A, Xy, sym_pos=True, overwrite_a=True).T\n",
      "/home/aimsg/PycharmProjects/demo/demo/lib/python3.7/site-packages/sklearn/linear_model/_ridge.py:156: LinAlgWarning: Ill-conditioned matrix (rcond=1.95639e-08): result may not be accurate.\n",
      "  return linalg.solve(A, Xy, sym_pos=True, overwrite_a=True).T\n",
      "/home/aimsg/PycharmProjects/demo/demo/lib/python3.7/site-packages/sklearn/linear_model/_ridge.py:156: LinAlgWarning: Ill-conditioned matrix (rcond=1.94821e-08): result may not be accurate.\n",
      "  return linalg.solve(A, Xy, sym_pos=True, overwrite_a=True).T\n",
      "/home/aimsg/PycharmProjects/demo/demo/lib/python3.7/site-packages/sklearn/linear_model/_ridge.py:156: LinAlgWarning: Ill-conditioned matrix (rcond=1.95035e-08): result may not be accurate.\n",
      "  return linalg.solve(A, Xy, sym_pos=True, overwrite_a=True).T\n",
      "/home/aimsg/PycharmProjects/demo/demo/lib/python3.7/site-packages/sklearn/linear_model/_ridge.py:156: LinAlgWarning: Ill-conditioned matrix (rcond=1.98713e-08): result may not be accurate.\n",
      "  return linalg.solve(A, Xy, sym_pos=True, overwrite_a=True).T\n",
      "/home/aimsg/PycharmProjects/demo/demo/lib/python3.7/site-packages/sklearn/linear_model/_ridge.py:156: LinAlgWarning: Ill-conditioned matrix (rcond=1.95741e-08): result may not be accurate.\n",
      "  return linalg.solve(A, Xy, sym_pos=True, overwrite_a=True).T\n",
      "/home/aimsg/PycharmProjects/demo/demo/lib/python3.7/site-packages/sklearn/linear_model/_ridge.py:156: LinAlgWarning: Ill-conditioned matrix (rcond=1.95607e-08): result may not be accurate.\n",
      "  return linalg.solve(A, Xy, sym_pos=True, overwrite_a=True).T\n",
      "/home/aimsg/PycharmProjects/demo/demo/lib/python3.7/site-packages/sklearn/linear_model/_ridge.py:156: LinAlgWarning: Ill-conditioned matrix (rcond=1.9575e-08): result may not be accurate.\n",
      "  return linalg.solve(A, Xy, sym_pos=True, overwrite_a=True).T\n",
      "/home/aimsg/PycharmProjects/demo/demo/lib/python3.7/site-packages/sklearn/linear_model/_ridge.py:156: LinAlgWarning: Ill-conditioned matrix (rcond=1.98433e-08): result may not be accurate.\n",
      "  return linalg.solve(A, Xy, sym_pos=True, overwrite_a=True).T\n"
     ]
    },
    {
     "name": "stdout",
     "output_type": "stream",
     "text": [
      "best val mse: 0.615, best alpha: 8192.0, test mse: 0.619\n",
      "Group: ghana\n"
     ]
    },
    {
     "name": "stderr",
     "output_type": "stream",
     "text": [
      "/home/aimsg/PycharmProjects/demo/demo/lib/python3.7/site-packages/sklearn/linear_model/_ridge.py:156: LinAlgWarning: Ill-conditioned matrix (rcond=2.17294e-09): result may not be accurate.\n",
      "  return linalg.solve(A, Xy, sym_pos=True, overwrite_a=True).T\n",
      "/home/aimsg/PycharmProjects/demo/demo/lib/python3.7/site-packages/sklearn/linear_model/_ridge.py:156: LinAlgWarning: Ill-conditioned matrix (rcond=2.11832e-09): result may not be accurate.\n",
      "  return linalg.solve(A, Xy, sym_pos=True, overwrite_a=True).T\n",
      "/home/aimsg/PycharmProjects/demo/demo/lib/python3.7/site-packages/sklearn/linear_model/_ridge.py:156: LinAlgWarning: Ill-conditioned matrix (rcond=2.09325e-09): result may not be accurate.\n",
      "  return linalg.solve(A, Xy, sym_pos=True, overwrite_a=True).T\n",
      "/home/aimsg/PycharmProjects/demo/demo/lib/python3.7/site-packages/sklearn/linear_model/_ridge.py:156: LinAlgWarning: Ill-conditioned matrix (rcond=2.06678e-09): result may not be accurate.\n",
      "  return linalg.solve(A, Xy, sym_pos=True, overwrite_a=True).T\n",
      "/home/aimsg/PycharmProjects/demo/demo/lib/python3.7/site-packages/sklearn/linear_model/_ridge.py:156: LinAlgWarning: Ill-conditioned matrix (rcond=2.05464e-09): result may not be accurate.\n",
      "  return linalg.solve(A, Xy, sym_pos=True, overwrite_a=True).T\n",
      "/home/aimsg/PycharmProjects/demo/demo/lib/python3.7/site-packages/sklearn/linear_model/_ridge.py:156: LinAlgWarning: Ill-conditioned matrix (rcond=2.0602e-09): result may not be accurate.\n",
      "  return linalg.solve(A, Xy, sym_pos=True, overwrite_a=True).T\n",
      "/home/aimsg/PycharmProjects/demo/demo/lib/python3.7/site-packages/sklearn/linear_model/_ridge.py:156: LinAlgWarning: Ill-conditioned matrix (rcond=2.18771e-09): result may not be accurate.\n",
      "  return linalg.solve(A, Xy, sym_pos=True, overwrite_a=True).T\n",
      "/home/aimsg/PycharmProjects/demo/demo/lib/python3.7/site-packages/sklearn/linear_model/_ridge.py:156: LinAlgWarning: Ill-conditioned matrix (rcond=2.0667e-09): result may not be accurate.\n",
      "  return linalg.solve(A, Xy, sym_pos=True, overwrite_a=True).T\n",
      "/home/aimsg/PycharmProjects/demo/demo/lib/python3.7/site-packages/sklearn/linear_model/_ridge.py:156: LinAlgWarning: Ill-conditioned matrix (rcond=2.55986e-09): result may not be accurate.\n",
      "  return linalg.solve(A, Xy, sym_pos=True, overwrite_a=True).T\n",
      "/home/aimsg/PycharmProjects/demo/demo/lib/python3.7/site-packages/sklearn/linear_model/_ridge.py:156: LinAlgWarning: Ill-conditioned matrix (rcond=2.0765e-09): result may not be accurate.\n",
      "  return linalg.solve(A, Xy, sym_pos=True, overwrite_a=True).T\n",
      "/home/aimsg/PycharmProjects/demo/demo/lib/python3.7/site-packages/sklearn/linear_model/_ridge.py:156: LinAlgWarning: Ill-conditioned matrix (rcond=2.3403e-09): result may not be accurate.\n",
      "  return linalg.solve(A, Xy, sym_pos=True, overwrite_a=True).T\n",
      "/home/aimsg/PycharmProjects/demo/demo/lib/python3.7/site-packages/sklearn/linear_model/_ridge.py:156: LinAlgWarning: Ill-conditioned matrix (rcond=2.09279e-09): result may not be accurate.\n",
      "  return linalg.solve(A, Xy, sym_pos=True, overwrite_a=True).T\n",
      "/home/aimsg/PycharmProjects/demo/demo/lib/python3.7/site-packages/sklearn/linear_model/_ridge.py:156: LinAlgWarning: Ill-conditioned matrix (rcond=9.31451e-10): result may not be accurate.\n",
      "  return linalg.solve(A, Xy, sym_pos=True, overwrite_a=True).T\n",
      "/home/aimsg/PycharmProjects/demo/demo/lib/python3.7/site-packages/sklearn/linear_model/_ridge.py:156: LinAlgWarning: Ill-conditioned matrix (rcond=2.21351e-09): result may not be accurate.\n",
      "  return linalg.solve(A, Xy, sym_pos=True, overwrite_a=True).T\n",
      "/home/aimsg/PycharmProjects/demo/demo/lib/python3.7/site-packages/sklearn/linear_model/_ridge.py:156: LinAlgWarning: Ill-conditioned matrix (rcond=2.11199e-09): result may not be accurate.\n",
      "  return linalg.solve(A, Xy, sym_pos=True, overwrite_a=True).T\n",
      "/home/aimsg/PycharmProjects/demo/demo/lib/python3.7/site-packages/sklearn/linear_model/_ridge.py:156: LinAlgWarning: Ill-conditioned matrix (rcond=2.09611e-09): result may not be accurate.\n",
      "  return linalg.solve(A, Xy, sym_pos=True, overwrite_a=True).T\n",
      "/home/aimsg/PycharmProjects/demo/demo/lib/python3.7/site-packages/sklearn/linear_model/_ridge.py:156: LinAlgWarning: Ill-conditioned matrix (rcond=2.0616e-09): result may not be accurate.\n",
      "  return linalg.solve(A, Xy, sym_pos=True, overwrite_a=True).T\n",
      "/home/aimsg/PycharmProjects/demo/demo/lib/python3.7/site-packages/sklearn/linear_model/_ridge.py:156: LinAlgWarning: Ill-conditioned matrix (rcond=2.22364e-09): result may not be accurate.\n",
      "  return linalg.solve(A, Xy, sym_pos=True, overwrite_a=True).T\n",
      "/home/aimsg/PycharmProjects/demo/demo/lib/python3.7/site-packages/sklearn/linear_model/_ridge.py:156: LinAlgWarning: Ill-conditioned matrix (rcond=2.06581e-09): result may not be accurate.\n",
      "  return linalg.solve(A, Xy, sym_pos=True, overwrite_a=True).T\n",
      "/home/aimsg/PycharmProjects/demo/demo/lib/python3.7/site-packages/sklearn/linear_model/_ridge.py:156: LinAlgWarning: Ill-conditioned matrix (rcond=2.09623e-09): result may not be accurate.\n",
      "  return linalg.solve(A, Xy, sym_pos=True, overwrite_a=True).T\n",
      "/home/aimsg/PycharmProjects/demo/demo/lib/python3.7/site-packages/sklearn/linear_model/_ridge.py:156: LinAlgWarning: Ill-conditioned matrix (rcond=2.10632e-09): result may not be accurate.\n",
      "  return linalg.solve(A, Xy, sym_pos=True, overwrite_a=True).T\n",
      "/home/aimsg/PycharmProjects/demo/demo/lib/python3.7/site-packages/sklearn/linear_model/_ridge.py:156: LinAlgWarning: Ill-conditioned matrix (rcond=2.11004e-09): result may not be accurate.\n",
      "  return linalg.solve(A, Xy, sym_pos=True, overwrite_a=True).T\n",
      "/home/aimsg/PycharmProjects/demo/demo/lib/python3.7/site-packages/sklearn/linear_model/_ridge.py:156: LinAlgWarning: Ill-conditioned matrix (rcond=1.63761e-08): result may not be accurate.\n",
      "  return linalg.solve(A, Xy, sym_pos=True, overwrite_a=True).T\n",
      "/home/aimsg/PycharmProjects/demo/demo/lib/python3.7/site-packages/sklearn/linear_model/_ridge.py:156: LinAlgWarning: Ill-conditioned matrix (rcond=1.58523e-08): result may not be accurate.\n",
      "  return linalg.solve(A, Xy, sym_pos=True, overwrite_a=True).T\n",
      "/home/aimsg/PycharmProjects/demo/demo/lib/python3.7/site-packages/sklearn/linear_model/_ridge.py:156: LinAlgWarning: Ill-conditioned matrix (rcond=1.56654e-08): result may not be accurate.\n",
      "  return linalg.solve(A, Xy, sym_pos=True, overwrite_a=True).T\n",
      "/home/aimsg/PycharmProjects/demo/demo/lib/python3.7/site-packages/sklearn/linear_model/_ridge.py:156: LinAlgWarning: Ill-conditioned matrix (rcond=1.5539e-08): result may not be accurate.\n",
      "  return linalg.solve(A, Xy, sym_pos=True, overwrite_a=True).T\n",
      "/home/aimsg/PycharmProjects/demo/demo/lib/python3.7/site-packages/sklearn/linear_model/_ridge.py:156: LinAlgWarning: Ill-conditioned matrix (rcond=1.54906e-08): result may not be accurate.\n",
      "  return linalg.solve(A, Xy, sym_pos=True, overwrite_a=True).T\n",
      "/home/aimsg/PycharmProjects/demo/demo/lib/python3.7/site-packages/sklearn/linear_model/_ridge.py:156: LinAlgWarning: Ill-conditioned matrix (rcond=1.54932e-08): result may not be accurate.\n",
      "  return linalg.solve(A, Xy, sym_pos=True, overwrite_a=True).T\n",
      "/home/aimsg/PycharmProjects/demo/demo/lib/python3.7/site-packages/sklearn/linear_model/_ridge.py:156: LinAlgWarning: Ill-conditioned matrix (rcond=1.64118e-08): result may not be accurate.\n",
      "  return linalg.solve(A, Xy, sym_pos=True, overwrite_a=True).T\n",
      "/home/aimsg/PycharmProjects/demo/demo/lib/python3.7/site-packages/sklearn/linear_model/_ridge.py:156: LinAlgWarning: Ill-conditioned matrix (rcond=1.548e-08): result may not be accurate.\n",
      "  return linalg.solve(A, Xy, sym_pos=True, overwrite_a=True).T\n",
      "/home/aimsg/PycharmProjects/demo/demo/lib/python3.7/site-packages/sklearn/linear_model/_ridge.py:156: LinAlgWarning: Ill-conditioned matrix (rcond=1.61612e-08): result may not be accurate.\n",
      "  return linalg.solve(A, Xy, sym_pos=True, overwrite_a=True).T\n",
      "/home/aimsg/PycharmProjects/demo/demo/lib/python3.7/site-packages/sklearn/linear_model/_ridge.py:156: LinAlgWarning: Ill-conditioned matrix (rcond=1.56072e-08): result may not be accurate.\n",
      "  return linalg.solve(A, Xy, sym_pos=True, overwrite_a=True).T\n",
      "/home/aimsg/PycharmProjects/demo/demo/lib/python3.7/site-packages/sklearn/linear_model/_ridge.py:156: LinAlgWarning: Ill-conditioned matrix (rcond=1.64544e-08): result may not be accurate.\n",
      "  return linalg.solve(A, Xy, sym_pos=True, overwrite_a=True).T\n",
      "/home/aimsg/PycharmProjects/demo/demo/lib/python3.7/site-packages/sklearn/linear_model/_ridge.py:156: LinAlgWarning: Ill-conditioned matrix (rcond=1.57129e-08): result may not be accurate.\n",
      "  return linalg.solve(A, Xy, sym_pos=True, overwrite_a=True).T\n"
     ]
    },
    {
     "name": "stderr",
     "output_type": "stream",
     "text": [
      "/home/aimsg/PycharmProjects/demo/demo/lib/python3.7/site-packages/sklearn/linear_model/_ridge.py:156: LinAlgWarning: Ill-conditioned matrix (rcond=1.59177e-08): result may not be accurate.\n",
      "  return linalg.solve(A, Xy, sym_pos=True, overwrite_a=True).T\n",
      "/home/aimsg/PycharmProjects/demo/demo/lib/python3.7/site-packages/sklearn/linear_model/_ridge.py:156: LinAlgWarning: Ill-conditioned matrix (rcond=1.65764e-08): result may not be accurate.\n",
      "  return linalg.solve(A, Xy, sym_pos=True, overwrite_a=True).T\n",
      "/home/aimsg/PycharmProjects/demo/demo/lib/python3.7/site-packages/sklearn/linear_model/_ridge.py:156: LinAlgWarning: Ill-conditioned matrix (rcond=1.5872e-08): result may not be accurate.\n",
      "  return linalg.solve(A, Xy, sym_pos=True, overwrite_a=True).T\n",
      "/home/aimsg/PycharmProjects/demo/demo/lib/python3.7/site-packages/sklearn/linear_model/_ridge.py:156: LinAlgWarning: Ill-conditioned matrix (rcond=1.56895e-08): result may not be accurate.\n",
      "  return linalg.solve(A, Xy, sym_pos=True, overwrite_a=True).T\n",
      "/home/aimsg/PycharmProjects/demo/demo/lib/python3.7/site-packages/sklearn/linear_model/_ridge.py:156: LinAlgWarning: Ill-conditioned matrix (rcond=1.55365e-08): result may not be accurate.\n",
      "  return linalg.solve(A, Xy, sym_pos=True, overwrite_a=True).T\n",
      "/home/aimsg/PycharmProjects/demo/demo/lib/python3.7/site-packages/sklearn/linear_model/_ridge.py:156: LinAlgWarning: Ill-conditioned matrix (rcond=1.66206e-08): result may not be accurate.\n",
      "  return linalg.solve(A, Xy, sym_pos=True, overwrite_a=True).T\n",
      "/home/aimsg/PycharmProjects/demo/demo/lib/python3.7/site-packages/sklearn/linear_model/_ridge.py:156: LinAlgWarning: Ill-conditioned matrix (rcond=1.55245e-08): result may not be accurate.\n",
      "  return linalg.solve(A, Xy, sym_pos=True, overwrite_a=True).T\n",
      "/home/aimsg/PycharmProjects/demo/demo/lib/python3.7/site-packages/sklearn/linear_model/_ridge.py:156: LinAlgWarning: Ill-conditioned matrix (rcond=1.57858e-08): result may not be accurate.\n",
      "  return linalg.solve(A, Xy, sym_pos=True, overwrite_a=True).T\n",
      "/home/aimsg/PycharmProjects/demo/demo/lib/python3.7/site-packages/sklearn/linear_model/_ridge.py:156: LinAlgWarning: Ill-conditioned matrix (rcond=1.58558e-08): result may not be accurate.\n",
      "  return linalg.solve(A, Xy, sym_pos=True, overwrite_a=True).T\n",
      "/home/aimsg/PycharmProjects/demo/demo/lib/python3.7/site-packages/sklearn/linear_model/_ridge.py:156: LinAlgWarning: Ill-conditioned matrix (rcond=1.58038e-08): result may not be accurate.\n",
      "  return linalg.solve(A, Xy, sym_pos=True, overwrite_a=True).T\n"
     ]
    },
    {
     "name": "stdout",
     "output_type": "stream",
     "text": [
      "best val mse: 0.621, best alpha: 65536.0, test mse: 0.879\n",
      "Group: guinea\n",
      "best val mse: 0.613, best alpha: 65536.0, test mse: 0.773\n",
      "Group: kenya\n"
     ]
    },
    {
     "name": "stderr",
     "output_type": "stream",
     "text": [
      "/home/aimsg/PycharmProjects/demo/demo/lib/python3.7/site-packages/sklearn/linear_model/_ridge.py:156: LinAlgWarning: Ill-conditioned matrix (rcond=1.58469e-08): result may not be accurate.\n",
      "  return linalg.solve(A, Xy, sym_pos=True, overwrite_a=True).T\n",
      "/home/aimsg/PycharmProjects/demo/demo/lib/python3.7/site-packages/sklearn/linear_model/_ridge.py:156: LinAlgWarning: Ill-conditioned matrix (rcond=1.53598e-08): result may not be accurate.\n",
      "  return linalg.solve(A, Xy, sym_pos=True, overwrite_a=True).T\n",
      "/home/aimsg/PycharmProjects/demo/demo/lib/python3.7/site-packages/sklearn/linear_model/_ridge.py:156: LinAlgWarning: Ill-conditioned matrix (rcond=1.49714e-08): result may not be accurate.\n",
      "  return linalg.solve(A, Xy, sym_pos=True, overwrite_a=True).T\n",
      "/home/aimsg/PycharmProjects/demo/demo/lib/python3.7/site-packages/sklearn/linear_model/_ridge.py:156: LinAlgWarning: Ill-conditioned matrix (rcond=1.53539e-08): result may not be accurate.\n",
      "  return linalg.solve(A, Xy, sym_pos=True, overwrite_a=True).T\n",
      "/home/aimsg/PycharmProjects/demo/demo/lib/python3.7/site-packages/sklearn/linear_model/_ridge.py:156: LinAlgWarning: Ill-conditioned matrix (rcond=1.51327e-08): result may not be accurate.\n",
      "  return linalg.solve(A, Xy, sym_pos=True, overwrite_a=True).T\n",
      "/home/aimsg/PycharmProjects/demo/demo/lib/python3.7/site-packages/sklearn/linear_model/_ridge.py:156: LinAlgWarning: Ill-conditioned matrix (rcond=1.49241e-08): result may not be accurate.\n",
      "  return linalg.solve(A, Xy, sym_pos=True, overwrite_a=True).T\n",
      "/home/aimsg/PycharmProjects/demo/demo/lib/python3.7/site-packages/sklearn/linear_model/_ridge.py:156: LinAlgWarning: Ill-conditioned matrix (rcond=1.56518e-08): result may not be accurate.\n",
      "  return linalg.solve(A, Xy, sym_pos=True, overwrite_a=True).T\n",
      "/home/aimsg/PycharmProjects/demo/demo/lib/python3.7/site-packages/sklearn/linear_model/_ridge.py:156: LinAlgWarning: Ill-conditioned matrix (rcond=1.54108e-08): result may not be accurate.\n",
      "  return linalg.solve(A, Xy, sym_pos=True, overwrite_a=True).T\n",
      "/home/aimsg/PycharmProjects/demo/demo/lib/python3.7/site-packages/sklearn/linear_model/_ridge.py:156: LinAlgWarning: Ill-conditioned matrix (rcond=1.4822e-08): result may not be accurate.\n",
      "  return linalg.solve(A, Xy, sym_pos=True, overwrite_a=True).T\n",
      "/home/aimsg/PycharmProjects/demo/demo/lib/python3.7/site-packages/sklearn/linear_model/_ridge.py:156: LinAlgWarning: Ill-conditioned matrix (rcond=1.49021e-08): result may not be accurate.\n",
      "  return linalg.solve(A, Xy, sym_pos=True, overwrite_a=True).T\n",
      "/home/aimsg/PycharmProjects/demo/demo/lib/python3.7/site-packages/sklearn/linear_model/_ridge.py:156: LinAlgWarning: Ill-conditioned matrix (rcond=1.56825e-08): result may not be accurate.\n",
      "  return linalg.solve(A, Xy, sym_pos=True, overwrite_a=True).T\n",
      "/home/aimsg/PycharmProjects/demo/demo/lib/python3.7/site-packages/sklearn/linear_model/_ridge.py:156: LinAlgWarning: Ill-conditioned matrix (rcond=1.50877e-08): result may not be accurate.\n",
      "  return linalg.solve(A, Xy, sym_pos=True, overwrite_a=True).T\n",
      "/home/aimsg/PycharmProjects/demo/demo/lib/python3.7/site-packages/sklearn/linear_model/_ridge.py:156: LinAlgWarning: Ill-conditioned matrix (rcond=1.53148e-08): result may not be accurate.\n",
      "  return linalg.solve(A, Xy, sym_pos=True, overwrite_a=True).T\n",
      "/home/aimsg/PycharmProjects/demo/demo/lib/python3.7/site-packages/sklearn/linear_model/_ridge.py:156: LinAlgWarning: Ill-conditioned matrix (rcond=1.61559e-08): result may not be accurate.\n",
      "  return linalg.solve(A, Xy, sym_pos=True, overwrite_a=True).T\n",
      "/home/aimsg/PycharmProjects/demo/demo/lib/python3.7/site-packages/sklearn/linear_model/_ridge.py:156: LinAlgWarning: Ill-conditioned matrix (rcond=1.51554e-08): result may not be accurate.\n",
      "  return linalg.solve(A, Xy, sym_pos=True, overwrite_a=True).T\n",
      "/home/aimsg/PycharmProjects/demo/demo/lib/python3.7/site-packages/sklearn/linear_model/_ridge.py:156: LinAlgWarning: Ill-conditioned matrix (rcond=1.49512e-08): result may not be accurate.\n",
      "  return linalg.solve(A, Xy, sym_pos=True, overwrite_a=True).T\n",
      "/home/aimsg/PycharmProjects/demo/demo/lib/python3.7/site-packages/sklearn/linear_model/_ridge.py:156: LinAlgWarning: Ill-conditioned matrix (rcond=1.48325e-08): result may not be accurate.\n",
      "  return linalg.solve(A, Xy, sym_pos=True, overwrite_a=True).T\n",
      "/home/aimsg/PycharmProjects/demo/demo/lib/python3.7/site-packages/sklearn/linear_model/_ridge.py:156: LinAlgWarning: Ill-conditioned matrix (rcond=1.58324e-08): result may not be accurate.\n",
      "  return linalg.solve(A, Xy, sym_pos=True, overwrite_a=True).T\n",
      "/home/aimsg/PycharmProjects/demo/demo/lib/python3.7/site-packages/sklearn/linear_model/_ridge.py:156: LinAlgWarning: Ill-conditioned matrix (rcond=1.48891e-08): result may not be accurate.\n",
      "  return linalg.solve(A, Xy, sym_pos=True, overwrite_a=True).T\n",
      "/home/aimsg/PycharmProjects/demo/demo/lib/python3.7/site-packages/sklearn/linear_model/_ridge.py:156: LinAlgWarning: Ill-conditioned matrix (rcond=1.5185e-08): result may not be accurate.\n",
      "  return linalg.solve(A, Xy, sym_pos=True, overwrite_a=True).T\n",
      "/home/aimsg/PycharmProjects/demo/demo/lib/python3.7/site-packages/sklearn/linear_model/_ridge.py:156: LinAlgWarning: Ill-conditioned matrix (rcond=1.52199e-08): result may not be accurate.\n",
      "  return linalg.solve(A, Xy, sym_pos=True, overwrite_a=True).T\n",
      "/home/aimsg/PycharmProjects/demo/demo/lib/python3.7/site-packages/sklearn/linear_model/_ridge.py:156: LinAlgWarning: Ill-conditioned matrix (rcond=1.51317e-08): result may not be accurate.\n",
      "  return linalg.solve(A, Xy, sym_pos=True, overwrite_a=True).T\n"
     ]
    },
    {
     "name": "stdout",
     "output_type": "stream",
     "text": [
      "best val mse: 0.611, best alpha: 0.25, test mse: 0.518\n",
      "Group: lesotho\n"
     ]
    },
    {
     "name": "stderr",
     "output_type": "stream",
     "text": [
      "/home/aimsg/PycharmProjects/demo/demo/lib/python3.7/site-packages/sklearn/linear_model/_ridge.py:156: LinAlgWarning: Ill-conditioned matrix (rcond=1.52344e-08): result may not be accurate.\n",
      "  return linalg.solve(A, Xy, sym_pos=True, overwrite_a=True).T\n",
      "/home/aimsg/PycharmProjects/demo/demo/lib/python3.7/site-packages/sklearn/linear_model/_ridge.py:156: LinAlgWarning: Ill-conditioned matrix (rcond=1.47726e-08): result may not be accurate.\n",
      "  return linalg.solve(A, Xy, sym_pos=True, overwrite_a=True).T\n",
      "/home/aimsg/PycharmProjects/demo/demo/lib/python3.7/site-packages/sklearn/linear_model/_ridge.py:156: LinAlgWarning: Ill-conditioned matrix (rcond=1.43974e-08): result may not be accurate.\n",
      "  return linalg.solve(A, Xy, sym_pos=True, overwrite_a=True).T\n",
      "/home/aimsg/PycharmProjects/demo/demo/lib/python3.7/site-packages/sklearn/linear_model/_ridge.py:156: LinAlgWarning: Ill-conditioned matrix (rcond=1.47271e-08): result may not be accurate.\n",
      "  return linalg.solve(A, Xy, sym_pos=True, overwrite_a=True).T\n",
      "/home/aimsg/PycharmProjects/demo/demo/lib/python3.7/site-packages/sklearn/linear_model/_ridge.py:156: LinAlgWarning: Ill-conditioned matrix (rcond=1.45772e-08): result may not be accurate.\n",
      "  return linalg.solve(A, Xy, sym_pos=True, overwrite_a=True).T\n",
      "/home/aimsg/PycharmProjects/demo/demo/lib/python3.7/site-packages/sklearn/linear_model/_ridge.py:156: LinAlgWarning: Ill-conditioned matrix (rcond=1.43816e-08): result may not be accurate.\n",
      "  return linalg.solve(A, Xy, sym_pos=True, overwrite_a=True).T\n",
      "/home/aimsg/PycharmProjects/demo/demo/lib/python3.7/site-packages/sklearn/linear_model/_ridge.py:156: LinAlgWarning: Ill-conditioned matrix (rcond=1.50505e-08): result may not be accurate.\n",
      "  return linalg.solve(A, Xy, sym_pos=True, overwrite_a=True).T\n",
      "/home/aimsg/PycharmProjects/demo/demo/lib/python3.7/site-packages/sklearn/linear_model/_ridge.py:156: LinAlgWarning: Ill-conditioned matrix (rcond=1.48189e-08): result may not be accurate.\n",
      "  return linalg.solve(A, Xy, sym_pos=True, overwrite_a=True).T\n",
      "/home/aimsg/PycharmProjects/demo/demo/lib/python3.7/site-packages/sklearn/linear_model/_ridge.py:156: LinAlgWarning: Ill-conditioned matrix (rcond=1.43178e-08): result may not be accurate.\n",
      "  return linalg.solve(A, Xy, sym_pos=True, overwrite_a=True).T\n",
      "/home/aimsg/PycharmProjects/demo/demo/lib/python3.7/site-packages/sklearn/linear_model/_ridge.py:156: LinAlgWarning: Ill-conditioned matrix (rcond=1.49021e-08): result may not be accurate.\n",
      "  return linalg.solve(A, Xy, sym_pos=True, overwrite_a=True).T\n",
      "/home/aimsg/PycharmProjects/demo/demo/lib/python3.7/site-packages/sklearn/linear_model/_ridge.py:156: LinAlgWarning: Ill-conditioned matrix (rcond=1.51438e-08): result may not be accurate.\n",
      "  return linalg.solve(A, Xy, sym_pos=True, overwrite_a=True).T\n",
      "/home/aimsg/PycharmProjects/demo/demo/lib/python3.7/site-packages/sklearn/linear_model/_ridge.py:156: LinAlgWarning: Ill-conditioned matrix (rcond=1.44599e-08): result may not be accurate.\n",
      "  return linalg.solve(A, Xy, sym_pos=True, overwrite_a=True).T\n",
      "/home/aimsg/PycharmProjects/demo/demo/lib/python3.7/site-packages/sklearn/linear_model/_ridge.py:156: LinAlgWarning: Ill-conditioned matrix (rcond=1.47107e-08): result may not be accurate.\n",
      "  return linalg.solve(A, Xy, sym_pos=True, overwrite_a=True).T\n",
      "/home/aimsg/PycharmProjects/demo/demo/lib/python3.7/site-packages/sklearn/linear_model/_ridge.py:156: LinAlgWarning: Ill-conditioned matrix (rcond=1.54065e-08): result may not be accurate.\n",
      "  return linalg.solve(A, Xy, sym_pos=True, overwrite_a=True).T\n",
      "/home/aimsg/PycharmProjects/demo/demo/lib/python3.7/site-packages/sklearn/linear_model/_ridge.py:156: LinAlgWarning: Ill-conditioned matrix (rcond=1.46139e-08): result may not be accurate.\n",
      "  return linalg.solve(A, Xy, sym_pos=True, overwrite_a=True).T\n",
      "/home/aimsg/PycharmProjects/demo/demo/lib/python3.7/site-packages/sklearn/linear_model/_ridge.py:156: LinAlgWarning: Ill-conditioned matrix (rcond=1.44224e-08): result may not be accurate.\n",
      "  return linalg.solve(A, Xy, sym_pos=True, overwrite_a=True).T\n",
      "/home/aimsg/PycharmProjects/demo/demo/lib/python3.7/site-packages/sklearn/linear_model/_ridge.py:156: LinAlgWarning: Ill-conditioned matrix (rcond=1.4328e-08): result may not be accurate.\n",
      "  return linalg.solve(A, Xy, sym_pos=True, overwrite_a=True).T\n",
      "/home/aimsg/PycharmProjects/demo/demo/lib/python3.7/site-packages/sklearn/linear_model/_ridge.py:156: LinAlgWarning: Ill-conditioned matrix (rcond=1.51841e-08): result may not be accurate.\n",
      "  return linalg.solve(A, Xy, sym_pos=True, overwrite_a=True).T\n",
      "/home/aimsg/PycharmProjects/demo/demo/lib/python3.7/site-packages/sklearn/linear_model/_ridge.py:156: LinAlgWarning: Ill-conditioned matrix (rcond=1.4374e-08): result may not be accurate.\n",
      "  return linalg.solve(A, Xy, sym_pos=True, overwrite_a=True).T\n",
      "/home/aimsg/PycharmProjects/demo/demo/lib/python3.7/site-packages/sklearn/linear_model/_ridge.py:156: LinAlgWarning: Ill-conditioned matrix (rcond=1.4587e-08): result may not be accurate.\n",
      "  return linalg.solve(A, Xy, sym_pos=True, overwrite_a=True).T\n",
      "/home/aimsg/PycharmProjects/demo/demo/lib/python3.7/site-packages/sklearn/linear_model/_ridge.py:156: LinAlgWarning: Ill-conditioned matrix (rcond=1.46759e-08): result may not be accurate.\n",
      "  return linalg.solve(A, Xy, sym_pos=True, overwrite_a=True).T\n",
      "/home/aimsg/PycharmProjects/demo/demo/lib/python3.7/site-packages/sklearn/linear_model/_ridge.py:156: LinAlgWarning: Ill-conditioned matrix (rcond=1.45562e-08): result may not be accurate.\n",
      "  return linalg.solve(A, Xy, sym_pos=True, overwrite_a=True).T\n",
      "/home/aimsg/PycharmProjects/demo/demo/lib/python3.7/site-packages/sklearn/linear_model/_ridge.py:156: LinAlgWarning: Ill-conditioned matrix (rcond=1.39826e-08): result may not be accurate.\n",
      "  return linalg.solve(A, Xy, sym_pos=True, overwrite_a=True).T\n",
      "/home/aimsg/PycharmProjects/demo/demo/lib/python3.7/site-packages/sklearn/linear_model/_ridge.py:156: LinAlgWarning: Ill-conditioned matrix (rcond=2.28132e-09): result may not be accurate.\n",
      "  return linalg.solve(A, Xy, sym_pos=True, overwrite_a=True).T\n"
     ]
    },
    {
     "name": "stdout",
     "output_type": "stream",
     "text": [
      "best val mse: 0.605, best alpha: 0.03125, test mse: 0.516\n",
      "Group: malawi\n"
     ]
    },
    {
     "name": "stderr",
     "output_type": "stream",
     "text": [
      "/home/aimsg/PycharmProjects/demo/demo/lib/python3.7/site-packages/sklearn/linear_model/_ridge.py:156: LinAlgWarning: Ill-conditioned matrix (rcond=2.2028e-09): result may not be accurate.\n",
      "  return linalg.solve(A, Xy, sym_pos=True, overwrite_a=True).T\n",
      "/home/aimsg/PycharmProjects/demo/demo/lib/python3.7/site-packages/sklearn/linear_model/_ridge.py:156: LinAlgWarning: Ill-conditioned matrix (rcond=2.18304e-09): result may not be accurate.\n",
      "  return linalg.solve(A, Xy, sym_pos=True, overwrite_a=True).T\n",
      "/home/aimsg/PycharmProjects/demo/demo/lib/python3.7/site-packages/sklearn/linear_model/_ridge.py:156: LinAlgWarning: Ill-conditioned matrix (rcond=2.14881e-09): result may not be accurate.\n",
      "  return linalg.solve(A, Xy, sym_pos=True, overwrite_a=True).T\n",
      "/home/aimsg/PycharmProjects/demo/demo/lib/python3.7/site-packages/sklearn/linear_model/_ridge.py:156: LinAlgWarning: Ill-conditioned matrix (rcond=2.14577e-09): result may not be accurate.\n",
      "  return linalg.solve(A, Xy, sym_pos=True, overwrite_a=True).T\n",
      "/home/aimsg/PycharmProjects/demo/demo/lib/python3.7/site-packages/sklearn/linear_model/_ridge.py:156: LinAlgWarning: Ill-conditioned matrix (rcond=2.39202e-09): result may not be accurate.\n",
      "  return linalg.solve(A, Xy, sym_pos=True, overwrite_a=True).T\n",
      "/home/aimsg/PycharmProjects/demo/demo/lib/python3.7/site-packages/sklearn/linear_model/_ridge.py:156: LinAlgWarning: Ill-conditioned matrix (rcond=2.28739e-09): result may not be accurate.\n",
      "  return linalg.solve(A, Xy, sym_pos=True, overwrite_a=True).T\n",
      "/home/aimsg/PycharmProjects/demo/demo/lib/python3.7/site-packages/sklearn/linear_model/_ridge.py:156: LinAlgWarning: Ill-conditioned matrix (rcond=2.3403e-09): result may not be accurate.\n",
      "  return linalg.solve(A, Xy, sym_pos=True, overwrite_a=True).T\n",
      "/home/aimsg/PycharmProjects/demo/demo/lib/python3.7/site-packages/sklearn/linear_model/_ridge.py:156: LinAlgWarning: Ill-conditioned matrix (rcond=2.1465e-09): result may not be accurate.\n",
      "  return linalg.solve(A, Xy, sym_pos=True, overwrite_a=True).T\n",
      "/home/aimsg/PycharmProjects/demo/demo/lib/python3.7/site-packages/sklearn/linear_model/_ridge.py:156: LinAlgWarning: Ill-conditioned matrix (rcond=2.24968e-09): result may not be accurate.\n",
      "  return linalg.solve(A, Xy, sym_pos=True, overwrite_a=True).T\n",
      "/home/aimsg/PycharmProjects/demo/demo/lib/python3.7/site-packages/sklearn/linear_model/_ridge.py:156: LinAlgWarning: Ill-conditioned matrix (rcond=2.44922e-09): result may not be accurate.\n",
      "  return linalg.solve(A, Xy, sym_pos=True, overwrite_a=True).T\n",
      "/home/aimsg/PycharmProjects/demo/demo/lib/python3.7/site-packages/sklearn/linear_model/_ridge.py:156: LinAlgWarning: Ill-conditioned matrix (rcond=2.4631e-09): result may not be accurate.\n",
      "  return linalg.solve(A, Xy, sym_pos=True, overwrite_a=True).T\n",
      "/home/aimsg/PycharmProjects/demo/demo/lib/python3.7/site-packages/sklearn/linear_model/_ridge.py:156: LinAlgWarning: Ill-conditioned matrix (rcond=2.21353e-09): result may not be accurate.\n",
      "  return linalg.solve(A, Xy, sym_pos=True, overwrite_a=True).T\n",
      "/home/aimsg/PycharmProjects/demo/demo/lib/python3.7/site-packages/sklearn/linear_model/_ridge.py:156: LinAlgWarning: Ill-conditioned matrix (rcond=2.23703e-09): result may not be accurate.\n",
      "  return linalg.solve(A, Xy, sym_pos=True, overwrite_a=True).T\n",
      "/home/aimsg/PycharmProjects/demo/demo/lib/python3.7/site-packages/sklearn/linear_model/_ridge.py:156: LinAlgWarning: Ill-conditioned matrix (rcond=2.2059e-09): result may not be accurate.\n",
      "  return linalg.solve(A, Xy, sym_pos=True, overwrite_a=True).T\n",
      "/home/aimsg/PycharmProjects/demo/demo/lib/python3.7/site-packages/sklearn/linear_model/_ridge.py:156: LinAlgWarning: Ill-conditioned matrix (rcond=2.7478e-09): result may not be accurate.\n",
      "  return linalg.solve(A, Xy, sym_pos=True, overwrite_a=True).T\n",
      "/home/aimsg/PycharmProjects/demo/demo/lib/python3.7/site-packages/sklearn/linear_model/_ridge.py:156: LinAlgWarning: Ill-conditioned matrix (rcond=1.93005e-09): result may not be accurate.\n",
      "  return linalg.solve(A, Xy, sym_pos=True, overwrite_a=True).T\n",
      "/home/aimsg/PycharmProjects/demo/demo/lib/python3.7/site-packages/sklearn/linear_model/_ridge.py:156: LinAlgWarning: Ill-conditioned matrix (rcond=2.2837e-09): result may not be accurate.\n",
      "  return linalg.solve(A, Xy, sym_pos=True, overwrite_a=True).T\n",
      "/home/aimsg/PycharmProjects/demo/demo/lib/python3.7/site-packages/sklearn/linear_model/_ridge.py:156: LinAlgWarning: Ill-conditioned matrix (rcond=1.36968e-09): result may not be accurate.\n",
      "  return linalg.solve(A, Xy, sym_pos=True, overwrite_a=True).T\n",
      "/home/aimsg/PycharmProjects/demo/demo/lib/python3.7/site-packages/sklearn/linear_model/_ridge.py:156: LinAlgWarning: Ill-conditioned matrix (rcond=2.19537e-09): result may not be accurate.\n",
      "  return linalg.solve(A, Xy, sym_pos=True, overwrite_a=True).T\n",
      "/home/aimsg/PycharmProjects/demo/demo/lib/python3.7/site-packages/sklearn/linear_model/_ridge.py:156: LinAlgWarning: Ill-conditioned matrix (rcond=2.20248e-09): result may not be accurate.\n",
      "  return linalg.solve(A, Xy, sym_pos=True, overwrite_a=True).T\n",
      "/home/aimsg/PycharmProjects/demo/demo/lib/python3.7/site-packages/sklearn/linear_model/_ridge.py:156: LinAlgWarning: Ill-conditioned matrix (rcond=2.33261e-09): result may not be accurate.\n",
      "  return linalg.solve(A, Xy, sym_pos=True, overwrite_a=True).T\n",
      "/home/aimsg/PycharmProjects/demo/demo/lib/python3.7/site-packages/sklearn/linear_model/_ridge.py:156: LinAlgWarning: Ill-conditioned matrix (rcond=1.69647e-08): result may not be accurate.\n",
      "  return linalg.solve(A, Xy, sym_pos=True, overwrite_a=True).T\n",
      "/home/aimsg/PycharmProjects/demo/demo/lib/python3.7/site-packages/sklearn/linear_model/_ridge.py:156: LinAlgWarning: Ill-conditioned matrix (rcond=1.6423e-08): result may not be accurate.\n",
      "  return linalg.solve(A, Xy, sym_pos=True, overwrite_a=True).T\n",
      "/home/aimsg/PycharmProjects/demo/demo/lib/python3.7/site-packages/sklearn/linear_model/_ridge.py:156: LinAlgWarning: Ill-conditioned matrix (rcond=1.62732e-08): result may not be accurate.\n",
      "  return linalg.solve(A, Xy, sym_pos=True, overwrite_a=True).T\n",
      "/home/aimsg/PycharmProjects/demo/demo/lib/python3.7/site-packages/sklearn/linear_model/_ridge.py:156: LinAlgWarning: Ill-conditioned matrix (rcond=1.60958e-08): result may not be accurate.\n",
      "  return linalg.solve(A, Xy, sym_pos=True, overwrite_a=True).T\n",
      "/home/aimsg/PycharmProjects/demo/demo/lib/python3.7/site-packages/sklearn/linear_model/_ridge.py:156: LinAlgWarning: Ill-conditioned matrix (rcond=1.60586e-08): result may not be accurate.\n",
      "  return linalg.solve(A, Xy, sym_pos=True, overwrite_a=True).T\n",
      "/home/aimsg/PycharmProjects/demo/demo/lib/python3.7/site-packages/sklearn/linear_model/_ridge.py:156: LinAlgWarning: Ill-conditioned matrix (rcond=1.60826e-08): result may not be accurate.\n",
      "  return linalg.solve(A, Xy, sym_pos=True, overwrite_a=True).T\n",
      "/home/aimsg/PycharmProjects/demo/demo/lib/python3.7/site-packages/sklearn/linear_model/_ridge.py:156: LinAlgWarning: Ill-conditioned matrix (rcond=1.70659e-08): result may not be accurate.\n",
      "  return linalg.solve(A, Xy, sym_pos=True, overwrite_a=True).T\n",
      "/home/aimsg/PycharmProjects/demo/demo/lib/python3.7/site-packages/sklearn/linear_model/_ridge.py:156: LinAlgWarning: Ill-conditioned matrix (rcond=1.64544e-08): result may not be accurate.\n",
      "  return linalg.solve(A, Xy, sym_pos=True, overwrite_a=True).T\n",
      "/home/aimsg/PycharmProjects/demo/demo/lib/python3.7/site-packages/sklearn/linear_model/_ridge.py:156: LinAlgWarning: Ill-conditioned matrix (rcond=1.60463e-08): result may not be accurate.\n",
      "  return linalg.solve(A, Xy, sym_pos=True, overwrite_a=True).T\n",
      "/home/aimsg/PycharmProjects/demo/demo/lib/python3.7/site-packages/sklearn/linear_model/_ridge.py:156: LinAlgWarning: Ill-conditioned matrix (rcond=1.67771e-08): result may not be accurate.\n",
      "  return linalg.solve(A, Xy, sym_pos=True, overwrite_a=True).T\n",
      "/home/aimsg/PycharmProjects/demo/demo/lib/python3.7/site-packages/sklearn/linear_model/_ridge.py:156: LinAlgWarning: Ill-conditioned matrix (rcond=1.61812e-08): result may not be accurate.\n",
      "  return linalg.solve(A, Xy, sym_pos=True, overwrite_a=True).T\n",
      "/home/aimsg/PycharmProjects/demo/demo/lib/python3.7/site-packages/sklearn/linear_model/_ridge.py:156: LinAlgWarning: Ill-conditioned matrix (rcond=1.63015e-08): result may not be accurate.\n",
      "  return linalg.solve(A, Xy, sym_pos=True, overwrite_a=True).T\n",
      "/home/aimsg/PycharmProjects/demo/demo/lib/python3.7/site-packages/sklearn/linear_model/_ridge.py:156: LinAlgWarning: Ill-conditioned matrix (rcond=1.65269e-08): result may not be accurate.\n",
      "  return linalg.solve(A, Xy, sym_pos=True, overwrite_a=True).T\n"
     ]
    },
    {
     "name": "stderr",
     "output_type": "stream",
     "text": [
      "/home/aimsg/PycharmProjects/demo/demo/lib/python3.7/site-packages/sklearn/linear_model/_ridge.py:156: LinAlgWarning: Ill-conditioned matrix (rcond=1.72239e-08): result may not be accurate.\n",
      "  return linalg.solve(A, Xy, sym_pos=True, overwrite_a=True).T\n",
      "/home/aimsg/PycharmProjects/demo/demo/lib/python3.7/site-packages/sklearn/linear_model/_ridge.py:156: LinAlgWarning: Ill-conditioned matrix (rcond=1.64834e-08): result may not be accurate.\n",
      "  return linalg.solve(A, Xy, sym_pos=True, overwrite_a=True).T\n",
      "/home/aimsg/PycharmProjects/demo/demo/lib/python3.7/site-packages/sklearn/linear_model/_ridge.py:156: LinAlgWarning: Ill-conditioned matrix (rcond=1.62637e-08): result may not be accurate.\n",
      "  return linalg.solve(A, Xy, sym_pos=True, overwrite_a=True).T\n",
      "/home/aimsg/PycharmProjects/demo/demo/lib/python3.7/site-packages/sklearn/linear_model/_ridge.py:156: LinAlgWarning: Ill-conditioned matrix (rcond=1.60847e-08): result may not be accurate.\n",
      "  return linalg.solve(A, Xy, sym_pos=True, overwrite_a=True).T\n",
      "/home/aimsg/PycharmProjects/demo/demo/lib/python3.7/site-packages/sklearn/linear_model/_ridge.py:156: LinAlgWarning: Ill-conditioned matrix (rcond=1.72885e-08): result may not be accurate.\n",
      "  return linalg.solve(A, Xy, sym_pos=True, overwrite_a=True).T\n",
      "/home/aimsg/PycharmProjects/demo/demo/lib/python3.7/site-packages/sklearn/linear_model/_ridge.py:156: LinAlgWarning: Ill-conditioned matrix (rcond=1.61173e-08): result may not be accurate.\n",
      "  return linalg.solve(A, Xy, sym_pos=True, overwrite_a=True).T\n",
      "/home/aimsg/PycharmProjects/demo/demo/lib/python3.7/site-packages/sklearn/linear_model/_ridge.py:156: LinAlgWarning: Ill-conditioned matrix (rcond=1.64018e-08): result may not be accurate.\n",
      "  return linalg.solve(A, Xy, sym_pos=True, overwrite_a=True).T\n",
      "/home/aimsg/PycharmProjects/demo/demo/lib/python3.7/site-packages/sklearn/linear_model/_ridge.py:156: LinAlgWarning: Ill-conditioned matrix (rcond=1.64511e-08): result may not be accurate.\n",
      "  return linalg.solve(A, Xy, sym_pos=True, overwrite_a=True).T\n",
      "/home/aimsg/PycharmProjects/demo/demo/lib/python3.7/site-packages/sklearn/linear_model/_ridge.py:156: LinAlgWarning: Ill-conditioned matrix (rcond=1.64085e-08): result may not be accurate.\n",
      "  return linalg.solve(A, Xy, sym_pos=True, overwrite_a=True).T\n"
     ]
    },
    {
     "name": "stdout",
     "output_type": "stream",
     "text": [
      "best val mse: 0.647, best alpha: 65536.0, test mse: 0.455\n",
      "Group: mali\n"
     ]
    },
    {
     "name": "stderr",
     "output_type": "stream",
     "text": [
      "/home/aimsg/PycharmProjects/demo/demo/lib/python3.7/site-packages/sklearn/linear_model/_ridge.py:156: LinAlgWarning: Ill-conditioned matrix (rcond=1.99443e-08): result may not be accurate.\n",
      "  return linalg.solve(A, Xy, sym_pos=True, overwrite_a=True).T\n",
      "/home/aimsg/PycharmProjects/demo/demo/lib/python3.7/site-packages/sklearn/linear_model/_ridge.py:156: LinAlgWarning: Ill-conditioned matrix (rcond=1.94219e-08): result may not be accurate.\n",
      "  return linalg.solve(A, Xy, sym_pos=True, overwrite_a=True).T\n",
      "/home/aimsg/PycharmProjects/demo/demo/lib/python3.7/site-packages/sklearn/linear_model/_ridge.py:156: LinAlgWarning: Ill-conditioned matrix (rcond=1.92982e-08): result may not be accurate.\n",
      "  return linalg.solve(A, Xy, sym_pos=True, overwrite_a=True).T\n",
      "/home/aimsg/PycharmProjects/demo/demo/lib/python3.7/site-packages/sklearn/linear_model/_ridge.py:156: LinAlgWarning: Ill-conditioned matrix (rcond=1.91859e-08): result may not be accurate.\n",
      "  return linalg.solve(A, Xy, sym_pos=True, overwrite_a=True).T\n",
      "/home/aimsg/PycharmProjects/demo/demo/lib/python3.7/site-packages/sklearn/linear_model/_ridge.py:156: LinAlgWarning: Ill-conditioned matrix (rcond=1.93913e-08): result may not be accurate.\n",
      "  return linalg.solve(A, Xy, sym_pos=True, overwrite_a=True).T\n",
      "/home/aimsg/PycharmProjects/demo/demo/lib/python3.7/site-packages/sklearn/linear_model/_ridge.py:156: LinAlgWarning: Ill-conditioned matrix (rcond=1.92303e-08): result may not be accurate.\n",
      "  return linalg.solve(A, Xy, sym_pos=True, overwrite_a=True).T\n",
      "/home/aimsg/PycharmProjects/demo/demo/lib/python3.7/site-packages/sklearn/linear_model/_ridge.py:156: LinAlgWarning: Ill-conditioned matrix (rcond=1.96316e-08): result may not be accurate.\n",
      "  return linalg.solve(A, Xy, sym_pos=True, overwrite_a=True).T\n",
      "/home/aimsg/PycharmProjects/demo/demo/lib/python3.7/site-packages/sklearn/linear_model/_ridge.py:156: LinAlgWarning: Ill-conditioned matrix (rcond=1.95819e-08): result may not be accurate.\n",
      "  return linalg.solve(A, Xy, sym_pos=True, overwrite_a=True).T\n",
      "/home/aimsg/PycharmProjects/demo/demo/lib/python3.7/site-packages/sklearn/linear_model/_ridge.py:156: LinAlgWarning: Ill-conditioned matrix (rcond=1.93912e-08): result may not be accurate.\n",
      "  return linalg.solve(A, Xy, sym_pos=True, overwrite_a=True).T\n",
      "/home/aimsg/PycharmProjects/demo/demo/lib/python3.7/site-packages/sklearn/linear_model/_ridge.py:156: LinAlgWarning: Ill-conditioned matrix (rcond=1.91177e-08): result may not be accurate.\n",
      "  return linalg.solve(A, Xy, sym_pos=True, overwrite_a=True).T\n",
      "/home/aimsg/PycharmProjects/demo/demo/lib/python3.7/site-packages/sklearn/linear_model/_ridge.py:156: LinAlgWarning: Ill-conditioned matrix (rcond=1.90331e-08): result may not be accurate.\n",
      "  return linalg.solve(A, Xy, sym_pos=True, overwrite_a=True).T\n",
      "/home/aimsg/PycharmProjects/demo/demo/lib/python3.7/site-packages/sklearn/linear_model/_ridge.py:156: LinAlgWarning: Ill-conditioned matrix (rcond=1.93118e-08): result may not be accurate.\n",
      "  return linalg.solve(A, Xy, sym_pos=True, overwrite_a=True).T\n",
      "/home/aimsg/PycharmProjects/demo/demo/lib/python3.7/site-packages/sklearn/linear_model/_ridge.py:156: LinAlgWarning: Ill-conditioned matrix (rcond=1.91983e-08): result may not be accurate.\n",
      "  return linalg.solve(A, Xy, sym_pos=True, overwrite_a=True).T\n",
      "/home/aimsg/PycharmProjects/demo/demo/lib/python3.7/site-packages/sklearn/linear_model/_ridge.py:156: LinAlgWarning: Ill-conditioned matrix (rcond=1.96627e-08): result may not be accurate.\n",
      "  return linalg.solve(A, Xy, sym_pos=True, overwrite_a=True).T\n",
      "/home/aimsg/PycharmProjects/demo/demo/lib/python3.7/site-packages/sklearn/linear_model/_ridge.py:156: LinAlgWarning: Ill-conditioned matrix (rcond=1.92479e-08): result may not be accurate.\n",
      "  return linalg.solve(A, Xy, sym_pos=True, overwrite_a=True).T\n",
      "/home/aimsg/PycharmProjects/demo/demo/lib/python3.7/site-packages/sklearn/linear_model/_ridge.py:156: LinAlgWarning: Ill-conditioned matrix (rcond=1.91987e-08): result may not be accurate.\n",
      "  return linalg.solve(A, Xy, sym_pos=True, overwrite_a=True).T\n",
      "/home/aimsg/PycharmProjects/demo/demo/lib/python3.7/site-packages/sklearn/linear_model/_ridge.py:156: LinAlgWarning: Ill-conditioned matrix (rcond=1.92254e-08): result may not be accurate.\n",
      "  return linalg.solve(A, Xy, sym_pos=True, overwrite_a=True).T\n",
      "/home/aimsg/PycharmProjects/demo/demo/lib/python3.7/site-packages/sklearn/linear_model/_ridge.py:156: LinAlgWarning: Ill-conditioned matrix (rcond=1.95395e-08): result may not be accurate.\n",
      "  return linalg.solve(A, Xy, sym_pos=True, overwrite_a=True).T\n",
      "/home/aimsg/PycharmProjects/demo/demo/lib/python3.7/site-packages/sklearn/linear_model/_ridge.py:156: LinAlgWarning: Ill-conditioned matrix (rcond=1.93213e-08): result may not be accurate.\n",
      "  return linalg.solve(A, Xy, sym_pos=True, overwrite_a=True).T\n",
      "/home/aimsg/PycharmProjects/demo/demo/lib/python3.7/site-packages/sklearn/linear_model/_ridge.py:156: LinAlgWarning: Ill-conditioned matrix (rcond=1.93013e-08): result may not be accurate.\n",
      "  return linalg.solve(A, Xy, sym_pos=True, overwrite_a=True).T\n",
      "/home/aimsg/PycharmProjects/demo/demo/lib/python3.7/site-packages/sklearn/linear_model/_ridge.py:156: LinAlgWarning: Ill-conditioned matrix (rcond=1.92672e-08): result may not be accurate.\n",
      "  return linalg.solve(A, Xy, sym_pos=True, overwrite_a=True).T\n",
      "/home/aimsg/PycharmProjects/demo/demo/lib/python3.7/site-packages/sklearn/linear_model/_ridge.py:156: LinAlgWarning: Ill-conditioned matrix (rcond=1.94951e-08): result may not be accurate.\n",
      "  return linalg.solve(A, Xy, sym_pos=True, overwrite_a=True).T\n"
     ]
    },
    {
     "name": "stdout",
     "output_type": "stream",
     "text": [
      "best val mse: 0.614, best alpha: 8192.0, test mse: 0.627\n",
      "Group: mozambique\n"
     ]
    },
    {
     "name": "stderr",
     "output_type": "stream",
     "text": [
      "/home/aimsg/PycharmProjects/demo/demo/lib/python3.7/site-packages/sklearn/linear_model/_ridge.py:156: LinAlgWarning: Ill-conditioned matrix (rcond=2.81032e-09): result may not be accurate.\n",
      "  return linalg.solve(A, Xy, sym_pos=True, overwrite_a=True).T\n",
      "/home/aimsg/PycharmProjects/demo/demo/lib/python3.7/site-packages/sklearn/linear_model/_ridge.py:156: LinAlgWarning: Ill-conditioned matrix (rcond=2.6695e-09): result may not be accurate.\n",
      "  return linalg.solve(A, Xy, sym_pos=True, overwrite_a=True).T\n",
      "/home/aimsg/PycharmProjects/demo/demo/lib/python3.7/site-packages/sklearn/linear_model/_ridge.py:156: LinAlgWarning: Ill-conditioned matrix (rcond=2.60989e-09): result may not be accurate.\n",
      "  return linalg.solve(A, Xy, sym_pos=True, overwrite_a=True).T\n",
      "/home/aimsg/PycharmProjects/demo/demo/lib/python3.7/site-packages/sklearn/linear_model/_ridge.py:156: LinAlgWarning: Ill-conditioned matrix (rcond=2.64897e-09): result may not be accurate.\n",
      "  return linalg.solve(A, Xy, sym_pos=True, overwrite_a=True).T\n",
      "/home/aimsg/PycharmProjects/demo/demo/lib/python3.7/site-packages/sklearn/linear_model/_ridge.py:156: LinAlgWarning: Ill-conditioned matrix (rcond=2.60488e-09): result may not be accurate.\n",
      "  return linalg.solve(A, Xy, sym_pos=True, overwrite_a=True).T\n",
      "/home/aimsg/PycharmProjects/demo/demo/lib/python3.7/site-packages/sklearn/linear_model/_ridge.py:156: LinAlgWarning: Ill-conditioned matrix (rcond=2.59048e-09): result may not be accurate.\n",
      "  return linalg.solve(A, Xy, sym_pos=True, overwrite_a=True).T\n",
      "/home/aimsg/PycharmProjects/demo/demo/lib/python3.7/site-packages/sklearn/linear_model/_ridge.py:156: LinAlgWarning: Ill-conditioned matrix (rcond=2.70185e-09): result may not be accurate.\n",
      "  return linalg.solve(A, Xy, sym_pos=True, overwrite_a=True).T\n",
      "/home/aimsg/PycharmProjects/demo/demo/lib/python3.7/site-packages/sklearn/linear_model/_ridge.py:156: LinAlgWarning: Ill-conditioned matrix (rcond=2.68235e-09): result may not be accurate.\n",
      "  return linalg.solve(A, Xy, sym_pos=True, overwrite_a=True).T\n",
      "/home/aimsg/PycharmProjects/demo/demo/lib/python3.7/site-packages/sklearn/linear_model/_ridge.py:156: LinAlgWarning: Ill-conditioned matrix (rcond=2.57908e-09): result may not be accurate.\n",
      "  return linalg.solve(A, Xy, sym_pos=True, overwrite_a=True).T\n",
      "/home/aimsg/PycharmProjects/demo/demo/lib/python3.7/site-packages/sklearn/linear_model/_ridge.py:156: LinAlgWarning: Ill-conditioned matrix (rcond=2.68671e-09): result may not be accurate.\n",
      "  return linalg.solve(A, Xy, sym_pos=True, overwrite_a=True).T\n",
      "/home/aimsg/PycharmProjects/demo/demo/lib/python3.7/site-packages/sklearn/linear_model/_ridge.py:156: LinAlgWarning: Ill-conditioned matrix (rcond=2.62757e-09): result may not be accurate.\n",
      "  return linalg.solve(A, Xy, sym_pos=True, overwrite_a=True).T\n",
      "/home/aimsg/PycharmProjects/demo/demo/lib/python3.7/site-packages/sklearn/linear_model/_ridge.py:156: LinAlgWarning: Ill-conditioned matrix (rcond=2.76196e-09): result may not be accurate.\n",
      "  return linalg.solve(A, Xy, sym_pos=True, overwrite_a=True).T\n",
      "/home/aimsg/PycharmProjects/demo/demo/lib/python3.7/site-packages/sklearn/linear_model/_ridge.py:156: LinAlgWarning: Ill-conditioned matrix (rcond=2.63113e-09): result may not be accurate.\n",
      "  return linalg.solve(A, Xy, sym_pos=True, overwrite_a=True).T\n",
      "/home/aimsg/PycharmProjects/demo/demo/lib/python3.7/site-packages/sklearn/linear_model/_ridge.py:156: LinAlgWarning: Ill-conditioned matrix (rcond=2.76837e-09): result may not be accurate.\n",
      "  return linalg.solve(A, Xy, sym_pos=True, overwrite_a=True).T\n",
      "/home/aimsg/PycharmProjects/demo/demo/lib/python3.7/site-packages/sklearn/linear_model/_ridge.py:156: LinAlgWarning: Ill-conditioned matrix (rcond=2.64468e-09): result may not be accurate.\n",
      "  return linalg.solve(A, Xy, sym_pos=True, overwrite_a=True).T\n",
      "/home/aimsg/PycharmProjects/demo/demo/lib/python3.7/site-packages/sklearn/linear_model/_ridge.py:156: LinAlgWarning: Ill-conditioned matrix (rcond=2.60506e-09): result may not be accurate.\n",
      "  return linalg.solve(A, Xy, sym_pos=True, overwrite_a=True).T\n",
      "/home/aimsg/PycharmProjects/demo/demo/lib/python3.7/site-packages/sklearn/linear_model/_ridge.py:156: LinAlgWarning: Ill-conditioned matrix (rcond=2.58226e-09): result may not be accurate.\n",
      "  return linalg.solve(A, Xy, sym_pos=True, overwrite_a=True).T\n",
      "/home/aimsg/PycharmProjects/demo/demo/lib/python3.7/site-packages/sklearn/linear_model/_ridge.py:156: LinAlgWarning: Ill-conditioned matrix (rcond=2.73974e-09): result may not be accurate.\n",
      "  return linalg.solve(A, Xy, sym_pos=True, overwrite_a=True).T\n",
      "/home/aimsg/PycharmProjects/demo/demo/lib/python3.7/site-packages/sklearn/linear_model/_ridge.py:156: LinAlgWarning: Ill-conditioned matrix (rcond=2.60251e-09): result may not be accurate.\n",
      "  return linalg.solve(A, Xy, sym_pos=True, overwrite_a=True).T\n",
      "/home/aimsg/PycharmProjects/demo/demo/lib/python3.7/site-packages/sklearn/linear_model/_ridge.py:156: LinAlgWarning: Ill-conditioned matrix (rcond=2.64133e-09): result may not be accurate.\n",
      "  return linalg.solve(A, Xy, sym_pos=True, overwrite_a=True).T\n",
      "/home/aimsg/PycharmProjects/demo/demo/lib/python3.7/site-packages/sklearn/linear_model/_ridge.py:156: LinAlgWarning: Ill-conditioned matrix (rcond=2.65637e-09): result may not be accurate.\n",
      "  return linalg.solve(A, Xy, sym_pos=True, overwrite_a=True).T\n",
      "/home/aimsg/PycharmProjects/demo/demo/lib/python3.7/site-packages/sklearn/linear_model/_ridge.py:156: LinAlgWarning: Ill-conditioned matrix (rcond=2.64562e-09): result may not be accurate.\n",
      "  return linalg.solve(A, Xy, sym_pos=True, overwrite_a=True).T\n",
      "/home/aimsg/PycharmProjects/demo/demo/lib/python3.7/site-packages/sklearn/linear_model/_ridge.py:156: LinAlgWarning: Ill-conditioned matrix (rcond=3.68905e-08): result may not be accurate.\n",
      "  return linalg.solve(A, Xy, sym_pos=True, overwrite_a=True).T\n",
      "/home/aimsg/PycharmProjects/demo/demo/lib/python3.7/site-packages/sklearn/linear_model/_ridge.py:156: LinAlgWarning: Ill-conditioned matrix (rcond=3.49696e-08): result may not be accurate.\n",
      "  return linalg.solve(A, Xy, sym_pos=True, overwrite_a=True).T\n",
      "/home/aimsg/PycharmProjects/demo/demo/lib/python3.7/site-packages/sklearn/linear_model/_ridge.py:156: LinAlgWarning: Ill-conditioned matrix (rcond=3.32331e-08): result may not be accurate.\n",
      "  return linalg.solve(A, Xy, sym_pos=True, overwrite_a=True).T\n",
      "/home/aimsg/PycharmProjects/demo/demo/lib/python3.7/site-packages/sklearn/linear_model/_ridge.py:156: LinAlgWarning: Ill-conditioned matrix (rcond=3.34591e-08): result may not be accurate.\n",
      "  return linalg.solve(A, Xy, sym_pos=True, overwrite_a=True).T\n",
      "/home/aimsg/PycharmProjects/demo/demo/lib/python3.7/site-packages/sklearn/linear_model/_ridge.py:156: LinAlgWarning: Ill-conditioned matrix (rcond=3.30232e-08): result may not be accurate.\n",
      "  return linalg.solve(A, Xy, sym_pos=True, overwrite_a=True).T\n",
      "/home/aimsg/PycharmProjects/demo/demo/lib/python3.7/site-packages/sklearn/linear_model/_ridge.py:156: LinAlgWarning: Ill-conditioned matrix (rcond=3.28089e-08): result may not be accurate.\n",
      "  return linalg.solve(A, Xy, sym_pos=True, overwrite_a=True).T\n",
      "/home/aimsg/PycharmProjects/demo/demo/lib/python3.7/site-packages/sklearn/linear_model/_ridge.py:156: LinAlgWarning: Ill-conditioned matrix (rcond=3.41669e-08): result may not be accurate.\n",
      "  return linalg.solve(A, Xy, sym_pos=True, overwrite_a=True).T\n",
      "/home/aimsg/PycharmProjects/demo/demo/lib/python3.7/site-packages/sklearn/linear_model/_ridge.py:156: LinAlgWarning: Ill-conditioned matrix (rcond=3.40095e-08): result may not be accurate.\n",
      "  return linalg.solve(A, Xy, sym_pos=True, overwrite_a=True).T\n",
      "/home/aimsg/PycharmProjects/demo/demo/lib/python3.7/site-packages/sklearn/linear_model/_ridge.py:156: LinAlgWarning: Ill-conditioned matrix (rcond=3.26424e-08): result may not be accurate.\n",
      "  return linalg.solve(A, Xy, sym_pos=True, overwrite_a=True).T\n",
      "/home/aimsg/PycharmProjects/demo/demo/lib/python3.7/site-packages/sklearn/linear_model/_ridge.py:156: LinAlgWarning: Ill-conditioned matrix (rcond=3.39473e-08): result may not be accurate.\n",
      "  return linalg.solve(A, Xy, sym_pos=True, overwrite_a=True).T\n",
      "/home/aimsg/PycharmProjects/demo/demo/lib/python3.7/site-packages/sklearn/linear_model/_ridge.py:156: LinAlgWarning: Ill-conditioned matrix (rcond=3.31214e-08): result may not be accurate.\n",
      "  return linalg.solve(A, Xy, sym_pos=True, overwrite_a=True).T\n",
      "/home/aimsg/PycharmProjects/demo/demo/lib/python3.7/site-packages/sklearn/linear_model/_ridge.py:156: LinAlgWarning: Ill-conditioned matrix (rcond=3.49021e-08): result may not be accurate.\n",
      "  return linalg.solve(A, Xy, sym_pos=True, overwrite_a=True).T\n"
     ]
    },
    {
     "name": "stderr",
     "output_type": "stream",
     "text": [
      "/home/aimsg/PycharmProjects/demo/demo/lib/python3.7/site-packages/sklearn/linear_model/_ridge.py:156: LinAlgWarning: Ill-conditioned matrix (rcond=3.33373e-08): result may not be accurate.\n",
      "  return linalg.solve(A, Xy, sym_pos=True, overwrite_a=True).T\n",
      "/home/aimsg/PycharmProjects/demo/demo/lib/python3.7/site-packages/sklearn/linear_model/_ridge.py:156: LinAlgWarning: Ill-conditioned matrix (rcond=3.51247e-08): result may not be accurate.\n",
      "  return linalg.solve(A, Xy, sym_pos=True, overwrite_a=True).T\n",
      "/home/aimsg/PycharmProjects/demo/demo/lib/python3.7/site-packages/sklearn/linear_model/_ridge.py:156: LinAlgWarning: Ill-conditioned matrix (rcond=3.34854e-08): result may not be accurate.\n",
      "  return linalg.solve(A, Xy, sym_pos=True, overwrite_a=True).T\n",
      "/home/aimsg/PycharmProjects/demo/demo/lib/python3.7/site-packages/sklearn/linear_model/_ridge.py:156: LinAlgWarning: Ill-conditioned matrix (rcond=3.30723e-08): result may not be accurate.\n",
      "  return linalg.solve(A, Xy, sym_pos=True, overwrite_a=True).T\n",
      "/home/aimsg/PycharmProjects/demo/demo/lib/python3.7/site-packages/sklearn/linear_model/_ridge.py:156: LinAlgWarning: Ill-conditioned matrix (rcond=3.27201e-08): result may not be accurate.\n",
      "  return linalg.solve(A, Xy, sym_pos=True, overwrite_a=True).T\n",
      "/home/aimsg/PycharmProjects/demo/demo/lib/python3.7/site-packages/sklearn/linear_model/_ridge.py:156: LinAlgWarning: Ill-conditioned matrix (rcond=3.47058e-08): result may not be accurate.\n",
      "  return linalg.solve(A, Xy, sym_pos=True, overwrite_a=True).T\n",
      "/home/aimsg/PycharmProjects/demo/demo/lib/python3.7/site-packages/sklearn/linear_model/_ridge.py:156: LinAlgWarning: Ill-conditioned matrix (rcond=3.28944e-08): result may not be accurate.\n",
      "  return linalg.solve(A, Xy, sym_pos=True, overwrite_a=True).T\n",
      "/home/aimsg/PycharmProjects/demo/demo/lib/python3.7/site-packages/sklearn/linear_model/_ridge.py:156: LinAlgWarning: Ill-conditioned matrix (rcond=3.3442e-08): result may not be accurate.\n",
      "  return linalg.solve(A, Xy, sym_pos=True, overwrite_a=True).T\n",
      "/home/aimsg/PycharmProjects/demo/demo/lib/python3.7/site-packages/sklearn/linear_model/_ridge.py:156: LinAlgWarning: Ill-conditioned matrix (rcond=3.35885e-08): result may not be accurate.\n",
      "  return linalg.solve(A, Xy, sym_pos=True, overwrite_a=True).T\n",
      "/home/aimsg/PycharmProjects/demo/demo/lib/python3.7/site-packages/sklearn/linear_model/_ridge.py:156: LinAlgWarning: Ill-conditioned matrix (rcond=3.34572e-08): result may not be accurate.\n",
      "  return linalg.solve(A, Xy, sym_pos=True, overwrite_a=True).T\n"
     ]
    },
    {
     "name": "stdout",
     "output_type": "stream",
     "text": [
      "best val mse: 0.604, best alpha: 2.0, test mse: 0.794\n",
      "Group: nigeria\n"
     ]
    },
    {
     "name": "stderr",
     "output_type": "stream",
     "text": [
      "/home/aimsg/PycharmProjects/demo/demo/lib/python3.7/site-packages/sklearn/linear_model/_ridge.py:156: LinAlgWarning: Ill-conditioned matrix (rcond=2.92102e-09): result may not be accurate.\n",
      "  return linalg.solve(A, Xy, sym_pos=True, overwrite_a=True).T\n",
      "/home/aimsg/PycharmProjects/demo/demo/lib/python3.7/site-packages/sklearn/linear_model/_ridge.py:156: LinAlgWarning: Ill-conditioned matrix (rcond=2.76627e-09): result may not be accurate.\n",
      "  return linalg.solve(A, Xy, sym_pos=True, overwrite_a=True).T\n",
      "/home/aimsg/PycharmProjects/demo/demo/lib/python3.7/site-packages/sklearn/linear_model/_ridge.py:156: LinAlgWarning: Ill-conditioned matrix (rcond=2.70621e-09): result may not be accurate.\n",
      "  return linalg.solve(A, Xy, sym_pos=True, overwrite_a=True).T\n",
      "/home/aimsg/PycharmProjects/demo/demo/lib/python3.7/site-packages/sklearn/linear_model/_ridge.py:156: LinAlgWarning: Ill-conditioned matrix (rcond=2.743e-09): result may not be accurate.\n",
      "  return linalg.solve(A, Xy, sym_pos=True, overwrite_a=True).T\n",
      "/home/aimsg/PycharmProjects/demo/demo/lib/python3.7/site-packages/sklearn/linear_model/_ridge.py:156: LinAlgWarning: Ill-conditioned matrix (rcond=2.69465e-09): result may not be accurate.\n",
      "  return linalg.solve(A, Xy, sym_pos=True, overwrite_a=True).T\n",
      "/home/aimsg/PycharmProjects/demo/demo/lib/python3.7/site-packages/sklearn/linear_model/_ridge.py:156: LinAlgWarning: Ill-conditioned matrix (rcond=2.68196e-09): result may not be accurate.\n",
      "  return linalg.solve(A, Xy, sym_pos=True, overwrite_a=True).T\n",
      "/home/aimsg/PycharmProjects/demo/demo/lib/python3.7/site-packages/sklearn/linear_model/_ridge.py:156: LinAlgWarning: Ill-conditioned matrix (rcond=2.79925e-09): result may not be accurate.\n",
      "  return linalg.solve(A, Xy, sym_pos=True, overwrite_a=True).T\n",
      "/home/aimsg/PycharmProjects/demo/demo/lib/python3.7/site-packages/sklearn/linear_model/_ridge.py:156: LinAlgWarning: Ill-conditioned matrix (rcond=2.78581e-09): result may not be accurate.\n",
      "  return linalg.solve(A, Xy, sym_pos=True, overwrite_a=True).T\n",
      "/home/aimsg/PycharmProjects/demo/demo/lib/python3.7/site-packages/sklearn/linear_model/_ridge.py:156: LinAlgWarning: Ill-conditioned matrix (rcond=2.66923e-09): result may not be accurate.\n",
      "  return linalg.solve(A, Xy, sym_pos=True, overwrite_a=True).T\n",
      "/home/aimsg/PycharmProjects/demo/demo/lib/python3.7/site-packages/sklearn/linear_model/_ridge.py:156: LinAlgWarning: Ill-conditioned matrix (rcond=2.78259e-09): result may not be accurate.\n",
      "  return linalg.solve(A, Xy, sym_pos=True, overwrite_a=True).T\n",
      "/home/aimsg/PycharmProjects/demo/demo/lib/python3.7/site-packages/sklearn/linear_model/_ridge.py:156: LinAlgWarning: Ill-conditioned matrix (rcond=2.71727e-09): result may not be accurate.\n",
      "  return linalg.solve(A, Xy, sym_pos=True, overwrite_a=True).T\n",
      "/home/aimsg/PycharmProjects/demo/demo/lib/python3.7/site-packages/sklearn/linear_model/_ridge.py:156: LinAlgWarning: Ill-conditioned matrix (rcond=2.86714e-09): result may not be accurate.\n",
      "  return linalg.solve(A, Xy, sym_pos=True, overwrite_a=True).T\n",
      "/home/aimsg/PycharmProjects/demo/demo/lib/python3.7/site-packages/sklearn/linear_model/_ridge.py:156: LinAlgWarning: Ill-conditioned matrix (rcond=2.72184e-09): result may not be accurate.\n",
      "  return linalg.solve(A, Xy, sym_pos=True, overwrite_a=True).T\n",
      "/home/aimsg/PycharmProjects/demo/demo/lib/python3.7/site-packages/sklearn/linear_model/_ridge.py:156: LinAlgWarning: Ill-conditioned matrix (rcond=2.76837e-09): result may not be accurate.\n",
      "  return linalg.solve(A, Xy, sym_pos=True, overwrite_a=True).T\n",
      "/home/aimsg/PycharmProjects/demo/demo/lib/python3.7/site-packages/sklearn/linear_model/_ridge.py:156: LinAlgWarning: Ill-conditioned matrix (rcond=2.73356e-09): result may not be accurate.\n",
      "  return linalg.solve(A, Xy, sym_pos=True, overwrite_a=True).T\n",
      "/home/aimsg/PycharmProjects/demo/demo/lib/python3.7/site-packages/sklearn/linear_model/_ridge.py:156: LinAlgWarning: Ill-conditioned matrix (rcond=2.69705e-09): result may not be accurate.\n",
      "  return linalg.solve(A, Xy, sym_pos=True, overwrite_a=True).T\n",
      "/home/aimsg/PycharmProjects/demo/demo/lib/python3.7/site-packages/sklearn/linear_model/_ridge.py:156: LinAlgWarning: Ill-conditioned matrix (rcond=2.67346e-09): result may not be accurate.\n",
      "  return linalg.solve(A, Xy, sym_pos=True, overwrite_a=True).T\n",
      "/home/aimsg/PycharmProjects/demo/demo/lib/python3.7/site-packages/sklearn/linear_model/_ridge.py:156: LinAlgWarning: Ill-conditioned matrix (rcond=2.8437e-09): result may not be accurate.\n",
      "  return linalg.solve(A, Xy, sym_pos=True, overwrite_a=True).T\n",
      "/home/aimsg/PycharmProjects/demo/demo/lib/python3.7/site-packages/sklearn/linear_model/_ridge.py:156: LinAlgWarning: Ill-conditioned matrix (rcond=2.68567e-09): result may not be accurate.\n",
      "  return linalg.solve(A, Xy, sym_pos=True, overwrite_a=True).T\n",
      "/home/aimsg/PycharmProjects/demo/demo/lib/python3.7/site-packages/sklearn/linear_model/_ridge.py:156: LinAlgWarning: Ill-conditioned matrix (rcond=2.73181e-09): result may not be accurate.\n",
      "  return linalg.solve(A, Xy, sym_pos=True, overwrite_a=True).T\n",
      "/home/aimsg/PycharmProjects/demo/demo/lib/python3.7/site-packages/sklearn/linear_model/_ridge.py:156: LinAlgWarning: Ill-conditioned matrix (rcond=2.75156e-09): result may not be accurate.\n",
      "  return linalg.solve(A, Xy, sym_pos=True, overwrite_a=True).T\n",
      "/home/aimsg/PycharmProjects/demo/demo/lib/python3.7/site-packages/sklearn/linear_model/_ridge.py:156: LinAlgWarning: Ill-conditioned matrix (rcond=2.7383e-09): result may not be accurate.\n",
      "  return linalg.solve(A, Xy, sym_pos=True, overwrite_a=True).T\n",
      "/home/aimsg/PycharmProjects/demo/demo/lib/python3.7/site-packages/sklearn/linear_model/_ridge.py:156: LinAlgWarning: Ill-conditioned matrix (rcond=3.69005e-08): result may not be accurate.\n",
      "  return linalg.solve(A, Xy, sym_pos=True, overwrite_a=True).T\n",
      "/home/aimsg/PycharmProjects/demo/demo/lib/python3.7/site-packages/sklearn/linear_model/_ridge.py:156: LinAlgWarning: Ill-conditioned matrix (rcond=3.51245e-08): result may not be accurate.\n",
      "  return linalg.solve(A, Xy, sym_pos=True, overwrite_a=True).T\n",
      "/home/aimsg/PycharmProjects/demo/demo/lib/python3.7/site-packages/sklearn/linear_model/_ridge.py:156: LinAlgWarning: Ill-conditioned matrix (rcond=3.55932e-08): result may not be accurate.\n",
      "  return linalg.solve(A, Xy, sym_pos=True, overwrite_a=True).T\n",
      "/home/aimsg/PycharmProjects/demo/demo/lib/python3.7/site-packages/sklearn/linear_model/_ridge.py:156: LinAlgWarning: Ill-conditioned matrix (rcond=3.47784e-08): result may not be accurate.\n",
      "  return linalg.solve(A, Xy, sym_pos=True, overwrite_a=True).T\n",
      "/home/aimsg/PycharmProjects/demo/demo/lib/python3.7/site-packages/sklearn/linear_model/_ridge.py:156: LinAlgWarning: Ill-conditioned matrix (rcond=3.43142e-08): result may not be accurate.\n",
      "  return linalg.solve(A, Xy, sym_pos=True, overwrite_a=True).T\n",
      "/home/aimsg/PycharmProjects/demo/demo/lib/python3.7/site-packages/sklearn/linear_model/_ridge.py:156: LinAlgWarning: Ill-conditioned matrix (rcond=3.40631e-08): result may not be accurate.\n",
      "  return linalg.solve(A, Xy, sym_pos=True, overwrite_a=True).T\n",
      "/home/aimsg/PycharmProjects/demo/demo/lib/python3.7/site-packages/sklearn/linear_model/_ridge.py:156: LinAlgWarning: Ill-conditioned matrix (rcond=3.55174e-08): result may not be accurate.\n",
      "  return linalg.solve(A, Xy, sym_pos=True, overwrite_a=True).T\n",
      "/home/aimsg/PycharmProjects/demo/demo/lib/python3.7/site-packages/sklearn/linear_model/_ridge.py:156: LinAlgWarning: Ill-conditioned matrix (rcond=3.53865e-08): result may not be accurate.\n",
      "  return linalg.solve(A, Xy, sym_pos=True, overwrite_a=True).T\n",
      "/home/aimsg/PycharmProjects/demo/demo/lib/python3.7/site-packages/sklearn/linear_model/_ridge.py:156: LinAlgWarning: Ill-conditioned matrix (rcond=3.39011e-08): result may not be accurate.\n",
      "  return linalg.solve(A, Xy, sym_pos=True, overwrite_a=True).T\n",
      "/home/aimsg/PycharmProjects/demo/demo/lib/python3.7/site-packages/sklearn/linear_model/_ridge.py:156: LinAlgWarning: Ill-conditioned matrix (rcond=3.52857e-08): result may not be accurate.\n",
      "  return linalg.solve(A, Xy, sym_pos=True, overwrite_a=True).T\n",
      "/home/aimsg/PycharmProjects/demo/demo/lib/python3.7/site-packages/sklearn/linear_model/_ridge.py:156: LinAlgWarning: Ill-conditioned matrix (rcond=3.4397e-08): result may not be accurate.\n",
      "  return linalg.solve(A, Xy, sym_pos=True, overwrite_a=True).T\n",
      "/home/aimsg/PycharmProjects/demo/demo/lib/python3.7/site-packages/sklearn/linear_model/_ridge.py:156: LinAlgWarning: Ill-conditioned matrix (rcond=3.63187e-08): result may not be accurate.\n",
      "  return linalg.solve(A, Xy, sym_pos=True, overwrite_a=True).T\n"
     ]
    },
    {
     "name": "stderr",
     "output_type": "stream",
     "text": [
      "/home/aimsg/PycharmProjects/demo/demo/lib/python3.7/site-packages/sklearn/linear_model/_ridge.py:156: LinAlgWarning: Ill-conditioned matrix (rcond=3.46673e-08): result may not be accurate.\n",
      "  return linalg.solve(A, Xy, sym_pos=True, overwrite_a=True).T\n",
      "/home/aimsg/PycharmProjects/demo/demo/lib/python3.7/site-packages/sklearn/linear_model/_ridge.py:156: LinAlgWarning: Ill-conditioned matrix (rcond=3.51247e-08): result may not be accurate.\n",
      "  return linalg.solve(A, Xy, sym_pos=True, overwrite_a=True).T\n",
      "/home/aimsg/PycharmProjects/demo/demo/lib/python3.7/site-packages/sklearn/linear_model/_ridge.py:156: LinAlgWarning: Ill-conditioned matrix (rcond=3.47903e-08): result may not be accurate.\n",
      "  return linalg.solve(A, Xy, sym_pos=True, overwrite_a=True).T\n",
      "/home/aimsg/PycharmProjects/demo/demo/lib/python3.7/site-packages/sklearn/linear_model/_ridge.py:156: LinAlgWarning: Ill-conditioned matrix (rcond=3.43787e-08): result may not be accurate.\n",
      "  return linalg.solve(A, Xy, sym_pos=True, overwrite_a=True).T\n",
      "/home/aimsg/PycharmProjects/demo/demo/lib/python3.7/site-packages/sklearn/linear_model/_ridge.py:156: LinAlgWarning: Ill-conditioned matrix (rcond=3.3972e-08): result may not be accurate.\n",
      "  return linalg.solve(A, Xy, sym_pos=True, overwrite_a=True).T\n",
      "/home/aimsg/PycharmProjects/demo/demo/lib/python3.7/site-packages/sklearn/linear_model/_ridge.py:156: LinAlgWarning: Ill-conditioned matrix (rcond=3.74898e-08): result may not be accurate.\n",
      "  return linalg.solve(A, Xy, sym_pos=True, overwrite_a=True).T\n",
      "/home/aimsg/PycharmProjects/demo/demo/lib/python3.7/site-packages/sklearn/linear_model/_ridge.py:156: LinAlgWarning: Ill-conditioned matrix (rcond=3.41644e-08): result may not be accurate.\n",
      "  return linalg.solve(A, Xy, sym_pos=True, overwrite_a=True).T\n",
      "/home/aimsg/PycharmProjects/demo/demo/lib/python3.7/site-packages/sklearn/linear_model/_ridge.py:156: LinAlgWarning: Ill-conditioned matrix (rcond=3.47398e-08): result may not be accurate.\n",
      "  return linalg.solve(A, Xy, sym_pos=True, overwrite_a=True).T\n",
      "/home/aimsg/PycharmProjects/demo/demo/lib/python3.7/site-packages/sklearn/linear_model/_ridge.py:156: LinAlgWarning: Ill-conditioned matrix (rcond=3.49185e-08): result may not be accurate.\n",
      "  return linalg.solve(A, Xy, sym_pos=True, overwrite_a=True).T\n",
      "/home/aimsg/PycharmProjects/demo/demo/lib/python3.7/site-packages/sklearn/linear_model/_ridge.py:156: LinAlgWarning: Ill-conditioned matrix (rcond=3.4775e-08): result may not be accurate.\n",
      "  return linalg.solve(A, Xy, sym_pos=True, overwrite_a=True).T\n"
     ]
    },
    {
     "name": "stdout",
     "output_type": "stream",
     "text": [
      "best val mse: 0.585, best alpha: 2.0, test mse: 0.951\n",
      "Group: rwanda\n"
     ]
    },
    {
     "name": "stderr",
     "output_type": "stream",
     "text": [
      "/home/aimsg/PycharmProjects/demo/demo/lib/python3.7/site-packages/sklearn/linear_model/_ridge.py:156: LinAlgWarning: Ill-conditioned matrix (rcond=1.98471e-08): result may not be accurate.\n",
      "  return linalg.solve(A, Xy, sym_pos=True, overwrite_a=True).T\n",
      "/home/aimsg/PycharmProjects/demo/demo/lib/python3.7/site-packages/sklearn/linear_model/_ridge.py:156: LinAlgWarning: Ill-conditioned matrix (rcond=1.93562e-08): result may not be accurate.\n",
      "  return linalg.solve(A, Xy, sym_pos=True, overwrite_a=True).T\n",
      "/home/aimsg/PycharmProjects/demo/demo/lib/python3.7/site-packages/sklearn/linear_model/_ridge.py:156: LinAlgWarning: Ill-conditioned matrix (rcond=1.92443e-08): result may not be accurate.\n",
      "  return linalg.solve(A, Xy, sym_pos=True, overwrite_a=True).T\n",
      "/home/aimsg/PycharmProjects/demo/demo/lib/python3.7/site-packages/sklearn/linear_model/_ridge.py:156: LinAlgWarning: Ill-conditioned matrix (rcond=1.91132e-08): result may not be accurate.\n",
      "  return linalg.solve(A, Xy, sym_pos=True, overwrite_a=True).T\n",
      "/home/aimsg/PycharmProjects/demo/demo/lib/python3.7/site-packages/sklearn/linear_model/_ridge.py:156: LinAlgWarning: Ill-conditioned matrix (rcond=1.93635e-08): result may not be accurate.\n",
      "  return linalg.solve(A, Xy, sym_pos=True, overwrite_a=True).T\n",
      "/home/aimsg/PycharmProjects/demo/demo/lib/python3.7/site-packages/sklearn/linear_model/_ridge.py:156: LinAlgWarning: Ill-conditioned matrix (rcond=1.91889e-08): result may not be accurate.\n",
      "  return linalg.solve(A, Xy, sym_pos=True, overwrite_a=True).T\n",
      "/home/aimsg/PycharmProjects/demo/demo/lib/python3.7/site-packages/sklearn/linear_model/_ridge.py:156: LinAlgWarning: Ill-conditioned matrix (rcond=1.95639e-08): result may not be accurate.\n",
      "  return linalg.solve(A, Xy, sym_pos=True, overwrite_a=True).T\n",
      "/home/aimsg/PycharmProjects/demo/demo/lib/python3.7/site-packages/sklearn/linear_model/_ridge.py:156: LinAlgWarning: Ill-conditioned matrix (rcond=1.95288e-08): result may not be accurate.\n",
      "  return linalg.solve(A, Xy, sym_pos=True, overwrite_a=True).T\n",
      "/home/aimsg/PycharmProjects/demo/demo/lib/python3.7/site-packages/sklearn/linear_model/_ridge.py:156: LinAlgWarning: Ill-conditioned matrix (rcond=1.92741e-08): result may not be accurate.\n",
      "  return linalg.solve(A, Xy, sym_pos=True, overwrite_a=True).T\n",
      "/home/aimsg/PycharmProjects/demo/demo/lib/python3.7/site-packages/sklearn/linear_model/_ridge.py:156: LinAlgWarning: Ill-conditioned matrix (rcond=1.89895e-08): result may not be accurate.\n",
      "  return linalg.solve(A, Xy, sym_pos=True, overwrite_a=True).T\n",
      "/home/aimsg/PycharmProjects/demo/demo/lib/python3.7/site-packages/sklearn/linear_model/_ridge.py:156: LinAlgWarning: Ill-conditioned matrix (rcond=1.8998e-08): result may not be accurate.\n",
      "  return linalg.solve(A, Xy, sym_pos=True, overwrite_a=True).T\n",
      "/home/aimsg/PycharmProjects/demo/demo/lib/python3.7/site-packages/sklearn/linear_model/_ridge.py:156: LinAlgWarning: Ill-conditioned matrix (rcond=1.92527e-08): result may not be accurate.\n",
      "  return linalg.solve(A, Xy, sym_pos=True, overwrite_a=True).T\n",
      "/home/aimsg/PycharmProjects/demo/demo/lib/python3.7/site-packages/sklearn/linear_model/_ridge.py:156: LinAlgWarning: Ill-conditioned matrix (rcond=1.92479e-08): result may not be accurate.\n",
      "  return linalg.solve(A, Xy, sym_pos=True, overwrite_a=True).T\n",
      "/home/aimsg/PycharmProjects/demo/demo/lib/python3.7/site-packages/sklearn/linear_model/_ridge.py:156: LinAlgWarning: Ill-conditioned matrix (rcond=1.91698e-08): result may not be accurate.\n",
      "  return linalg.solve(A, Xy, sym_pos=True, overwrite_a=True).T\n",
      "/home/aimsg/PycharmProjects/demo/demo/lib/python3.7/site-packages/sklearn/linear_model/_ridge.py:156: LinAlgWarning: Ill-conditioned matrix (rcond=1.96049e-08): result may not be accurate.\n",
      "  return linalg.solve(A, Xy, sym_pos=True, overwrite_a=True).T\n",
      "/home/aimsg/PycharmProjects/demo/demo/lib/python3.7/site-packages/sklearn/linear_model/_ridge.py:156: LinAlgWarning: Ill-conditioned matrix (rcond=1.90828e-08): result may not be accurate.\n",
      "  return linalg.solve(A, Xy, sym_pos=True, overwrite_a=True).T\n",
      "/home/aimsg/PycharmProjects/demo/demo/lib/python3.7/site-packages/sklearn/linear_model/_ridge.py:156: LinAlgWarning: Ill-conditioned matrix (rcond=1.91297e-08): result may not be accurate.\n",
      "  return linalg.solve(A, Xy, sym_pos=True, overwrite_a=True).T\n",
      "/home/aimsg/PycharmProjects/demo/demo/lib/python3.7/site-packages/sklearn/linear_model/_ridge.py:156: LinAlgWarning: Ill-conditioned matrix (rcond=1.94968e-08): result may not be accurate.\n",
      "  return linalg.solve(A, Xy, sym_pos=True, overwrite_a=True).T\n",
      "/home/aimsg/PycharmProjects/demo/demo/lib/python3.7/site-packages/sklearn/linear_model/_ridge.py:156: LinAlgWarning: Ill-conditioned matrix (rcond=1.92457e-08): result may not be accurate.\n",
      "  return linalg.solve(A, Xy, sym_pos=True, overwrite_a=True).T\n",
      "/home/aimsg/PycharmProjects/demo/demo/lib/python3.7/site-packages/sklearn/linear_model/_ridge.py:156: LinAlgWarning: Ill-conditioned matrix (rcond=1.91781e-08): result may not be accurate.\n",
      "  return linalg.solve(A, Xy, sym_pos=True, overwrite_a=True).T\n",
      "/home/aimsg/PycharmProjects/demo/demo/lib/python3.7/site-packages/sklearn/linear_model/_ridge.py:156: LinAlgWarning: Ill-conditioned matrix (rcond=1.91667e-08): result may not be accurate.\n",
      "  return linalg.solve(A, Xy, sym_pos=True, overwrite_a=True).T\n",
      "/home/aimsg/PycharmProjects/demo/demo/lib/python3.7/site-packages/sklearn/linear_model/_ridge.py:156: LinAlgWarning: Ill-conditioned matrix (rcond=1.94327e-08): result may not be accurate.\n",
      "  return linalg.solve(A, Xy, sym_pos=True, overwrite_a=True).T\n"
     ]
    },
    {
     "name": "stdout",
     "output_type": "stream",
     "text": [
      "best val mse: 0.624, best alpha: 8192.0, test mse: 0.435\n",
      "Group: senegal\n"
     ]
    },
    {
     "name": "stderr",
     "output_type": "stream",
     "text": [
      "/home/aimsg/PycharmProjects/demo/demo/lib/python3.7/site-packages/sklearn/linear_model/_ridge.py:156: LinAlgWarning: Ill-conditioned matrix (rcond=1.53151e-08): result may not be accurate.\n",
      "  return linalg.solve(A, Xy, sym_pos=True, overwrite_a=True).T\n",
      "/home/aimsg/PycharmProjects/demo/demo/lib/python3.7/site-packages/sklearn/linear_model/_ridge.py:156: LinAlgWarning: Ill-conditioned matrix (rcond=1.48821e-08): result may not be accurate.\n",
      "  return linalg.solve(A, Xy, sym_pos=True, overwrite_a=True).T\n",
      "/home/aimsg/PycharmProjects/demo/demo/lib/python3.7/site-packages/sklearn/linear_model/_ridge.py:156: LinAlgWarning: Ill-conditioned matrix (rcond=1.45127e-08): result may not be accurate.\n",
      "  return linalg.solve(A, Xy, sym_pos=True, overwrite_a=True).T\n",
      "/home/aimsg/PycharmProjects/demo/demo/lib/python3.7/site-packages/sklearn/linear_model/_ridge.py:156: LinAlgWarning: Ill-conditioned matrix (rcond=1.48341e-08): result may not be accurate.\n",
      "  return linalg.solve(A, Xy, sym_pos=True, overwrite_a=True).T\n",
      "/home/aimsg/PycharmProjects/demo/demo/lib/python3.7/site-packages/sklearn/linear_model/_ridge.py:156: LinAlgWarning: Ill-conditioned matrix (rcond=1.46425e-08): result may not be accurate.\n",
      "  return linalg.solve(A, Xy, sym_pos=True, overwrite_a=True).T\n",
      "/home/aimsg/PycharmProjects/demo/demo/lib/python3.7/site-packages/sklearn/linear_model/_ridge.py:156: LinAlgWarning: Ill-conditioned matrix (rcond=1.44826e-08): result may not be accurate.\n",
      "  return linalg.solve(A, Xy, sym_pos=True, overwrite_a=True).T\n",
      "/home/aimsg/PycharmProjects/demo/demo/lib/python3.7/site-packages/sklearn/linear_model/_ridge.py:156: LinAlgWarning: Ill-conditioned matrix (rcond=1.51655e-08): result may not be accurate.\n",
      "  return linalg.solve(A, Xy, sym_pos=True, overwrite_a=True).T\n",
      "/home/aimsg/PycharmProjects/demo/demo/lib/python3.7/site-packages/sklearn/linear_model/_ridge.py:156: LinAlgWarning: Ill-conditioned matrix (rcond=1.49427e-08): result may not be accurate.\n",
      "  return linalg.solve(A, Xy, sym_pos=True, overwrite_a=True).T\n",
      "/home/aimsg/PycharmProjects/demo/demo/lib/python3.7/site-packages/sklearn/linear_model/_ridge.py:156: LinAlgWarning: Ill-conditioned matrix (rcond=1.43274e-08): result may not be accurate.\n",
      "  return linalg.solve(A, Xy, sym_pos=True, overwrite_a=True).T\n",
      "/home/aimsg/PycharmProjects/demo/demo/lib/python3.7/site-packages/sklearn/linear_model/_ridge.py:156: LinAlgWarning: Ill-conditioned matrix (rcond=1.49512e-08): result may not be accurate.\n",
      "  return linalg.solve(A, Xy, sym_pos=True, overwrite_a=True).T\n",
      "/home/aimsg/PycharmProjects/demo/demo/lib/python3.7/site-packages/sklearn/linear_model/_ridge.py:156: LinAlgWarning: Ill-conditioned matrix (rcond=1.44224e-08): result may not be accurate.\n",
      "  return linalg.solve(A, Xy, sym_pos=True, overwrite_a=True).T\n",
      "/home/aimsg/PycharmProjects/demo/demo/lib/python3.7/site-packages/sklearn/linear_model/_ridge.py:156: LinAlgWarning: Ill-conditioned matrix (rcond=1.52435e-08): result may not be accurate.\n",
      "  return linalg.solve(A, Xy, sym_pos=True, overwrite_a=True).T\n",
      "/home/aimsg/PycharmProjects/demo/demo/lib/python3.7/site-packages/sklearn/linear_model/_ridge.py:156: LinAlgWarning: Ill-conditioned matrix (rcond=1.46057e-08): result may not be accurate.\n",
      "  return linalg.solve(A, Xy, sym_pos=True, overwrite_a=True).T\n",
      "/home/aimsg/PycharmProjects/demo/demo/lib/python3.7/site-packages/sklearn/linear_model/_ridge.py:156: LinAlgWarning: Ill-conditioned matrix (rcond=1.48157e-08): result may not be accurate.\n",
      "  return linalg.solve(A, Xy, sym_pos=True, overwrite_a=True).T\n",
      "/home/aimsg/PycharmProjects/demo/demo/lib/python3.7/site-packages/sklearn/linear_model/_ridge.py:156: LinAlgWarning: Ill-conditioned matrix (rcond=1.55845e-08): result may not be accurate.\n",
      "  return linalg.solve(A, Xy, sym_pos=True, overwrite_a=True).T\n",
      "/home/aimsg/PycharmProjects/demo/demo/lib/python3.7/site-packages/sklearn/linear_model/_ridge.py:156: LinAlgWarning: Ill-conditioned matrix (rcond=1.46858e-08): result may not be accurate.\n",
      "  return linalg.solve(A, Xy, sym_pos=True, overwrite_a=True).T\n",
      "/home/aimsg/PycharmProjects/demo/demo/lib/python3.7/site-packages/sklearn/linear_model/_ridge.py:156: LinAlgWarning: Ill-conditioned matrix (rcond=1.43735e-08): result may not be accurate.\n",
      "  return linalg.solve(A, Xy, sym_pos=True, overwrite_a=True).T\n",
      "/home/aimsg/PycharmProjects/demo/demo/lib/python3.7/site-packages/sklearn/linear_model/_ridge.py:156: LinAlgWarning: Ill-conditioned matrix (rcond=1.53009e-08): result may not be accurate.\n",
      "  return linalg.solve(A, Xy, sym_pos=True, overwrite_a=True).T\n",
      "/home/aimsg/PycharmProjects/demo/demo/lib/python3.7/site-packages/sklearn/linear_model/_ridge.py:156: LinAlgWarning: Ill-conditioned matrix (rcond=1.439e-08): result may not be accurate.\n",
      "  return linalg.solve(A, Xy, sym_pos=True, overwrite_a=True).T\n",
      "/home/aimsg/PycharmProjects/demo/demo/lib/python3.7/site-packages/sklearn/linear_model/_ridge.py:156: LinAlgWarning: Ill-conditioned matrix (rcond=1.46567e-08): result may not be accurate.\n",
      "  return linalg.solve(A, Xy, sym_pos=True, overwrite_a=True).T\n",
      "/home/aimsg/PycharmProjects/demo/demo/lib/python3.7/site-packages/sklearn/linear_model/_ridge.py:156: LinAlgWarning: Ill-conditioned matrix (rcond=1.47862e-08): result may not be accurate.\n",
      "  return linalg.solve(A, Xy, sym_pos=True, overwrite_a=True).T\n",
      "/home/aimsg/PycharmProjects/demo/demo/lib/python3.7/site-packages/sklearn/linear_model/_ridge.py:156: LinAlgWarning: Ill-conditioned matrix (rcond=1.46587e-08): result may not be accurate.\n",
      "  return linalg.solve(A, Xy, sym_pos=True, overwrite_a=True).T\n"
     ]
    },
    {
     "name": "stdout",
     "output_type": "stream",
     "text": [
      "best val mse: 0.596, best alpha: 0.25, test mse: 0.760\n",
      "Group: sierra_leone\n",
      "best val mse: 0.618, best alpha: 65536.0, test mse: 0.510\n",
      "Group: tanzania\n",
      "best val mse: 0.621, best alpha: 65536.0, test mse: 0.556\n",
      "Group: togo\n"
     ]
    },
    {
     "name": "stderr",
     "output_type": "stream",
     "text": [
      "/home/aimsg/PycharmProjects/demo/demo/lib/python3.7/site-packages/sklearn/linear_model/_ridge.py:156: LinAlgWarning: Ill-conditioned matrix (rcond=2.72463e-09): result may not be accurate.\n",
      "  return linalg.solve(A, Xy, sym_pos=True, overwrite_a=True).T\n",
      "/home/aimsg/PycharmProjects/demo/demo/lib/python3.7/site-packages/sklearn/linear_model/_ridge.py:156: LinAlgWarning: Ill-conditioned matrix (rcond=2.59089e-09): result may not be accurate.\n",
      "  return linalg.solve(A, Xy, sym_pos=True, overwrite_a=True).T\n",
      "/home/aimsg/PycharmProjects/demo/demo/lib/python3.7/site-packages/sklearn/linear_model/_ridge.py:156: LinAlgWarning: Ill-conditioned matrix (rcond=2.53766e-09): result may not be accurate.\n",
      "  return linalg.solve(A, Xy, sym_pos=True, overwrite_a=True).T\n",
      "/home/aimsg/PycharmProjects/demo/demo/lib/python3.7/site-packages/sklearn/linear_model/_ridge.py:156: LinAlgWarning: Ill-conditioned matrix (rcond=2.57095e-09): result may not be accurate.\n",
      "  return linalg.solve(A, Xy, sym_pos=True, overwrite_a=True).T\n",
      "/home/aimsg/PycharmProjects/demo/demo/lib/python3.7/site-packages/sklearn/linear_model/_ridge.py:156: LinAlgWarning: Ill-conditioned matrix (rcond=2.52776e-09): result may not be accurate.\n",
      "  return linalg.solve(A, Xy, sym_pos=True, overwrite_a=True).T\n",
      "/home/aimsg/PycharmProjects/demo/demo/lib/python3.7/site-packages/sklearn/linear_model/_ridge.py:156: LinAlgWarning: Ill-conditioned matrix (rcond=2.51722e-09): result may not be accurate.\n",
      "  return linalg.solve(A, Xy, sym_pos=True, overwrite_a=True).T\n",
      "/home/aimsg/PycharmProjects/demo/demo/lib/python3.7/site-packages/sklearn/linear_model/_ridge.py:156: LinAlgWarning: Ill-conditioned matrix (rcond=2.62121e-09): result may not be accurate.\n",
      "  return linalg.solve(A, Xy, sym_pos=True, overwrite_a=True).T\n",
      "/home/aimsg/PycharmProjects/demo/demo/lib/python3.7/site-packages/sklearn/linear_model/_ridge.py:156: LinAlgWarning: Ill-conditioned matrix (rcond=2.60549e-09): result may not be accurate.\n",
      "  return linalg.solve(A, Xy, sym_pos=True, overwrite_a=True).T\n",
      "/home/aimsg/PycharmProjects/demo/demo/lib/python3.7/site-packages/sklearn/linear_model/_ridge.py:156: LinAlgWarning: Ill-conditioned matrix (rcond=2.50417e-09): result may not be accurate.\n",
      "  return linalg.solve(A, Xy, sym_pos=True, overwrite_a=True).T\n",
      "/home/aimsg/PycharmProjects/demo/demo/lib/python3.7/site-packages/sklearn/linear_model/_ridge.py:156: LinAlgWarning: Ill-conditioned matrix (rcond=2.60411e-09): result may not be accurate.\n",
      "  return linalg.solve(A, Xy, sym_pos=True, overwrite_a=True).T\n",
      "/home/aimsg/PycharmProjects/demo/demo/lib/python3.7/site-packages/sklearn/linear_model/_ridge.py:156: LinAlgWarning: Ill-conditioned matrix (rcond=2.54712e-09): result may not be accurate.\n",
      "  return linalg.solve(A, Xy, sym_pos=True, overwrite_a=True).T\n",
      "/home/aimsg/PycharmProjects/demo/demo/lib/python3.7/site-packages/sklearn/linear_model/_ridge.py:156: LinAlgWarning: Ill-conditioned matrix (rcond=2.68307e-09): result may not be accurate.\n",
      "  return linalg.solve(A, Xy, sym_pos=True, overwrite_a=True).T\n",
      "/home/aimsg/PycharmProjects/demo/demo/lib/python3.7/site-packages/sklearn/linear_model/_ridge.py:156: LinAlgWarning: Ill-conditioned matrix (rcond=2.55121e-09): result may not be accurate.\n",
      "  return linalg.solve(A, Xy, sym_pos=True, overwrite_a=True).T\n",
      "/home/aimsg/PycharmProjects/demo/demo/lib/python3.7/site-packages/sklearn/linear_model/_ridge.py:156: LinAlgWarning: Ill-conditioned matrix (rcond=2.60251e-09): result may not be accurate.\n",
      "  return linalg.solve(A, Xy, sym_pos=True, overwrite_a=True).T\n",
      "/home/aimsg/PycharmProjects/demo/demo/lib/python3.7/site-packages/sklearn/linear_model/_ridge.py:156: LinAlgWarning: Ill-conditioned matrix (rcond=2.68567e-09): result may not be accurate.\n",
      "  return linalg.solve(A, Xy, sym_pos=True, overwrite_a=True).T\n",
      "/home/aimsg/PycharmProjects/demo/demo/lib/python3.7/site-packages/sklearn/linear_model/_ridge.py:156: LinAlgWarning: Ill-conditioned matrix (rcond=2.56418e-09): result may not be accurate.\n",
      "  return linalg.solve(A, Xy, sym_pos=True, overwrite_a=True).T\n",
      "/home/aimsg/PycharmProjects/demo/demo/lib/python3.7/site-packages/sklearn/linear_model/_ridge.py:156: LinAlgWarning: Ill-conditioned matrix (rcond=2.53072e-09): result may not be accurate.\n",
      "  return linalg.solve(A, Xy, sym_pos=True, overwrite_a=True).T\n",
      "/home/aimsg/PycharmProjects/demo/demo/lib/python3.7/site-packages/sklearn/linear_model/_ridge.py:156: LinAlgWarning: Ill-conditioned matrix (rcond=2.50848e-09): result may not be accurate.\n",
      "  return linalg.solve(A, Xy, sym_pos=True, overwrite_a=True).T\n",
      "/home/aimsg/PycharmProjects/demo/demo/lib/python3.7/site-packages/sklearn/linear_model/_ridge.py:156: LinAlgWarning: Ill-conditioned matrix (rcond=2.66103e-09): result may not be accurate.\n",
      "  return linalg.solve(A, Xy, sym_pos=True, overwrite_a=True).T\n",
      "/home/aimsg/PycharmProjects/demo/demo/lib/python3.7/site-packages/sklearn/linear_model/_ridge.py:156: LinAlgWarning: Ill-conditioned matrix (rcond=2.56867e-09): result may not be accurate.\n",
      "  return linalg.solve(A, Xy, sym_pos=True, overwrite_a=True).T\n",
      "/home/aimsg/PycharmProjects/demo/demo/lib/python3.7/site-packages/sklearn/linear_model/_ridge.py:156: LinAlgWarning: Ill-conditioned matrix (rcond=2.57904e-09): result may not be accurate.\n",
      "  return linalg.solve(A, Xy, sym_pos=True, overwrite_a=True).T\n",
      "/home/aimsg/PycharmProjects/demo/demo/lib/python3.7/site-packages/sklearn/linear_model/_ridge.py:156: LinAlgWarning: Ill-conditioned matrix (rcond=2.57051e-09): result may not be accurate.\n",
      "  return linalg.solve(A, Xy, sym_pos=True, overwrite_a=True).T\n",
      "/home/aimsg/PycharmProjects/demo/demo/lib/python3.7/site-packages/sklearn/linear_model/_ridge.py:156: LinAlgWarning: Ill-conditioned matrix (rcond=3.44321e-08): result may not be accurate.\n",
      "  return linalg.solve(A, Xy, sym_pos=True, overwrite_a=True).T\n",
      "/home/aimsg/PycharmProjects/demo/demo/lib/python3.7/site-packages/sklearn/linear_model/_ridge.py:156: LinAlgWarning: Ill-conditioned matrix (rcond=3.28776e-08): result may not be accurate.\n",
      "  return linalg.solve(A, Xy, sym_pos=True, overwrite_a=True).T\n",
      "/home/aimsg/PycharmProjects/demo/demo/lib/python3.7/site-packages/sklearn/linear_model/_ridge.py:156: LinAlgWarning: Ill-conditioned matrix (rcond=3.23675e-08): result may not be accurate.\n",
      "  return linalg.solve(A, Xy, sym_pos=True, overwrite_a=True).T\n",
      "/home/aimsg/PycharmProjects/demo/demo/lib/python3.7/site-packages/sklearn/linear_model/_ridge.py:156: LinAlgWarning: Ill-conditioned matrix (rcond=3.25865e-08): result may not be accurate.\n",
      "  return linalg.solve(A, Xy, sym_pos=True, overwrite_a=True).T\n",
      "/home/aimsg/PycharmProjects/demo/demo/lib/python3.7/site-packages/sklearn/linear_model/_ridge.py:156: LinAlgWarning: Ill-conditioned matrix (rcond=3.21694e-08): result may not be accurate.\n",
      "  return linalg.solve(A, Xy, sym_pos=True, overwrite_a=True).T\n",
      "/home/aimsg/PycharmProjects/demo/demo/lib/python3.7/site-packages/sklearn/linear_model/_ridge.py:156: LinAlgWarning: Ill-conditioned matrix (rcond=3.19614e-08): result may not be accurate.\n",
      "  return linalg.solve(A, Xy, sym_pos=True, overwrite_a=True).T\n",
      "/home/aimsg/PycharmProjects/demo/demo/lib/python3.7/site-packages/sklearn/linear_model/_ridge.py:156: LinAlgWarning: Ill-conditioned matrix (rcond=3.32483e-08): result may not be accurate.\n",
      "  return linalg.solve(A, Xy, sym_pos=True, overwrite_a=True).T\n",
      "/home/aimsg/PycharmProjects/demo/demo/lib/python3.7/site-packages/sklearn/linear_model/_ridge.py:156: LinAlgWarning: Ill-conditioned matrix (rcond=3.31058e-08): result may not be accurate.\n",
      "  return linalg.solve(A, Xy, sym_pos=True, overwrite_a=True).T\n",
      "/home/aimsg/PycharmProjects/demo/demo/lib/python3.7/site-packages/sklearn/linear_model/_ridge.py:156: LinAlgWarning: Ill-conditioned matrix (rcond=3.18088e-08): result may not be accurate.\n",
      "  return linalg.solve(A, Xy, sym_pos=True, overwrite_a=True).T\n",
      "/home/aimsg/PycharmProjects/demo/demo/lib/python3.7/site-packages/sklearn/linear_model/_ridge.py:156: LinAlgWarning: Ill-conditioned matrix (rcond=3.30436e-08): result may not be accurate.\n",
      "  return linalg.solve(A, Xy, sym_pos=True, overwrite_a=True).T\n",
      "/home/aimsg/PycharmProjects/demo/demo/lib/python3.7/site-packages/sklearn/linear_model/_ridge.py:156: LinAlgWarning: Ill-conditioned matrix (rcond=3.22588e-08): result may not be accurate.\n",
      "  return linalg.solve(A, Xy, sym_pos=True, overwrite_a=True).T\n",
      "/home/aimsg/PycharmProjects/demo/demo/lib/python3.7/site-packages/sklearn/linear_model/_ridge.py:156: LinAlgWarning: Ill-conditioned matrix (rcond=3.39461e-08): result may not be accurate.\n",
      "  return linalg.solve(A, Xy, sym_pos=True, overwrite_a=True).T\n"
     ]
    },
    {
     "name": "stderr",
     "output_type": "stream",
     "text": [
      "/home/aimsg/PycharmProjects/demo/demo/lib/python3.7/site-packages/sklearn/linear_model/_ridge.py:156: LinAlgWarning: Ill-conditioned matrix (rcond=3.24647e-08): result may not be accurate.\n",
      "  return linalg.solve(A, Xy, sym_pos=True, overwrite_a=True).T\n",
      "/home/aimsg/PycharmProjects/demo/demo/lib/python3.7/site-packages/sklearn/linear_model/_ridge.py:156: LinAlgWarning: Ill-conditioned matrix (rcond=3.28944e-08): result may not be accurate.\n",
      "  return linalg.solve(A, Xy, sym_pos=True, overwrite_a=True).T\n",
      "/home/aimsg/PycharmProjects/demo/demo/lib/python3.7/site-packages/sklearn/linear_model/_ridge.py:156: LinAlgWarning: Ill-conditioned matrix (rcond=3.41644e-08): result may not be accurate.\n",
      "  return linalg.solve(A, Xy, sym_pos=True, overwrite_a=True).T\n",
      "/home/aimsg/PycharmProjects/demo/demo/lib/python3.7/site-packages/sklearn/linear_model/_ridge.py:156: LinAlgWarning: Ill-conditioned matrix (rcond=3.26016e-08): result may not be accurate.\n",
      "  return linalg.solve(A, Xy, sym_pos=True, overwrite_a=True).T\n",
      "/home/aimsg/PycharmProjects/demo/demo/lib/python3.7/site-packages/sklearn/linear_model/_ridge.py:156: LinAlgWarning: Ill-conditioned matrix (rcond=3.22115e-08): result may not be accurate.\n",
      "  return linalg.solve(A, Xy, sym_pos=True, overwrite_a=True).T\n",
      "/home/aimsg/PycharmProjects/demo/demo/lib/python3.7/site-packages/sklearn/linear_model/_ridge.py:156: LinAlgWarning: Ill-conditioned matrix (rcond=3.18781e-08): result may not be accurate.\n",
      "  return linalg.solve(A, Xy, sym_pos=True, overwrite_a=True).T\n",
      "/home/aimsg/PycharmProjects/demo/demo/lib/python3.7/site-packages/sklearn/linear_model/_ridge.py:156: LinAlgWarning: Ill-conditioned matrix (rcond=3.37592e-08): result may not be accurate.\n",
      "  return linalg.solve(A, Xy, sym_pos=True, overwrite_a=True).T\n",
      "/home/aimsg/PycharmProjects/demo/demo/lib/python3.7/site-packages/sklearn/linear_model/_ridge.py:156: LinAlgWarning: Ill-conditioned matrix (rcond=3.25614e-08): result may not be accurate.\n",
      "  return linalg.solve(A, Xy, sym_pos=True, overwrite_a=True).T\n",
      "/home/aimsg/PycharmProjects/demo/demo/lib/python3.7/site-packages/sklearn/linear_model/_ridge.py:156: LinAlgWarning: Ill-conditioned matrix (rcond=3.27079e-08): result may not be accurate.\n",
      "  return linalg.solve(A, Xy, sym_pos=True, overwrite_a=True).T\n",
      "/home/aimsg/PycharmProjects/demo/demo/lib/python3.7/site-packages/sklearn/linear_model/_ridge.py:156: LinAlgWarning: Ill-conditioned matrix (rcond=3.25824e-08): result may not be accurate.\n",
      "  return linalg.solve(A, Xy, sym_pos=True, overwrite_a=True).T\n"
     ]
    },
    {
     "name": "stdout",
     "output_type": "stream",
     "text": [
      "best val mse: 0.612, best alpha: 2.0, test mse: 0.628\n",
      "Group: uganda\n"
     ]
    },
    {
     "name": "stderr",
     "output_type": "stream",
     "text": [
      "/home/aimsg/PycharmProjects/demo/demo/lib/python3.7/site-packages/sklearn/linear_model/_ridge.py:156: LinAlgWarning: Ill-conditioned matrix (rcond=2.77424e-09): result may not be accurate.\n",
      "  return linalg.solve(A, Xy, sym_pos=True, overwrite_a=True).T\n",
      "/home/aimsg/PycharmProjects/demo/demo/lib/python3.7/site-packages/sklearn/linear_model/_ridge.py:156: LinAlgWarning: Ill-conditioned matrix (rcond=2.63467e-09): result may not be accurate.\n",
      "  return linalg.solve(A, Xy, sym_pos=True, overwrite_a=True).T\n",
      "/home/aimsg/PycharmProjects/demo/demo/lib/python3.7/site-packages/sklearn/linear_model/_ridge.py:156: LinAlgWarning: Ill-conditioned matrix (rcond=2.57994e-09): result may not be accurate.\n",
      "  return linalg.solve(A, Xy, sym_pos=True, overwrite_a=True).T\n",
      "/home/aimsg/PycharmProjects/demo/demo/lib/python3.7/site-packages/sklearn/linear_model/_ridge.py:156: LinAlgWarning: Ill-conditioned matrix (rcond=2.61265e-09): result may not be accurate.\n",
      "  return linalg.solve(A, Xy, sym_pos=True, overwrite_a=True).T\n",
      "/home/aimsg/PycharmProjects/demo/demo/lib/python3.7/site-packages/sklearn/linear_model/_ridge.py:156: LinAlgWarning: Ill-conditioned matrix (rcond=2.57777e-09): result may not be accurate.\n",
      "  return linalg.solve(A, Xy, sym_pos=True, overwrite_a=True).T\n",
      "/home/aimsg/PycharmProjects/demo/demo/lib/python3.7/site-packages/sklearn/linear_model/_ridge.py:156: LinAlgWarning: Ill-conditioned matrix (rcond=2.56609e-09): result may not be accurate.\n",
      "  return linalg.solve(A, Xy, sym_pos=True, overwrite_a=True).T\n",
      "/home/aimsg/PycharmProjects/demo/demo/lib/python3.7/site-packages/sklearn/linear_model/_ridge.py:156: LinAlgWarning: Ill-conditioned matrix (rcond=2.67017e-09): result may not be accurate.\n",
      "  return linalg.solve(A, Xy, sym_pos=True, overwrite_a=True).T\n",
      "/home/aimsg/PycharmProjects/demo/demo/lib/python3.7/site-packages/sklearn/linear_model/_ridge.py:156: LinAlgWarning: Ill-conditioned matrix (rcond=2.65049e-09): result may not be accurate.\n",
      "  return linalg.solve(A, Xy, sym_pos=True, overwrite_a=True).T\n",
      "/home/aimsg/PycharmProjects/demo/demo/lib/python3.7/site-packages/sklearn/linear_model/_ridge.py:156: LinAlgWarning: Ill-conditioned matrix (rcond=2.54685e-09): result may not be accurate.\n",
      "  return linalg.solve(A, Xy, sym_pos=True, overwrite_a=True).T\n",
      "/home/aimsg/PycharmProjects/demo/demo/lib/python3.7/site-packages/sklearn/linear_model/_ridge.py:156: LinAlgWarning: Ill-conditioned matrix (rcond=2.65807e-09): result may not be accurate.\n",
      "  return linalg.solve(A, Xy, sym_pos=True, overwrite_a=True).T\n",
      "/home/aimsg/PycharmProjects/demo/demo/lib/python3.7/site-packages/sklearn/linear_model/_ridge.py:156: LinAlgWarning: Ill-conditioned matrix (rcond=2.59914e-09): result may not be accurate.\n",
      "  return linalg.solve(A, Xy, sym_pos=True, overwrite_a=True).T\n",
      "/home/aimsg/PycharmProjects/demo/demo/lib/python3.7/site-packages/sklearn/linear_model/_ridge.py:156: LinAlgWarning: Ill-conditioned matrix (rcond=2.73346e-09): result may not be accurate.\n",
      "  return linalg.solve(A, Xy, sym_pos=True, overwrite_a=True).T\n",
      "/home/aimsg/PycharmProjects/demo/demo/lib/python3.7/site-packages/sklearn/linear_model/_ridge.py:156: LinAlgWarning: Ill-conditioned matrix (rcond=2.59501e-09): result may not be accurate.\n",
      "  return linalg.solve(A, Xy, sym_pos=True, overwrite_a=True).T\n",
      "/home/aimsg/PycharmProjects/demo/demo/lib/python3.7/site-packages/sklearn/linear_model/_ridge.py:156: LinAlgWarning: Ill-conditioned matrix (rcond=2.64133e-09): result may not be accurate.\n",
      "  return linalg.solve(A, Xy, sym_pos=True, overwrite_a=True).T\n",
      "/home/aimsg/PycharmProjects/demo/demo/lib/python3.7/site-packages/sklearn/linear_model/_ridge.py:156: LinAlgWarning: Ill-conditioned matrix (rcond=2.73181e-09): result may not be accurate.\n",
      "  return linalg.solve(A, Xy, sym_pos=True, overwrite_a=True).T\n",
      "/home/aimsg/PycharmProjects/demo/demo/lib/python3.7/site-packages/sklearn/linear_model/_ridge.py:156: LinAlgWarning: Ill-conditioned matrix (rcond=2.61756e-09): result may not be accurate.\n",
      "  return linalg.solve(A, Xy, sym_pos=True, overwrite_a=True).T\n",
      "/home/aimsg/PycharmProjects/demo/demo/lib/python3.7/site-packages/sklearn/linear_model/_ridge.py:156: LinAlgWarning: Ill-conditioned matrix (rcond=2.57295e-09): result may not be accurate.\n",
      "  return linalg.solve(A, Xy, sym_pos=True, overwrite_a=True).T\n",
      "/home/aimsg/PycharmProjects/demo/demo/lib/python3.7/site-packages/sklearn/linear_model/_ridge.py:156: LinAlgWarning: Ill-conditioned matrix (rcond=2.55136e-09): result may not be accurate.\n",
      "  return linalg.solve(A, Xy, sym_pos=True, overwrite_a=True).T\n",
      "/home/aimsg/PycharmProjects/demo/demo/lib/python3.7/site-packages/sklearn/linear_model/_ridge.py:156: LinAlgWarning: Ill-conditioned matrix (rcond=2.7122e-09): result may not be accurate.\n",
      "  return linalg.solve(A, Xy, sym_pos=True, overwrite_a=True).T\n",
      "/home/aimsg/PycharmProjects/demo/demo/lib/python3.7/site-packages/sklearn/linear_model/_ridge.py:156: LinAlgWarning: Ill-conditioned matrix (rcond=2.56867e-09): result may not be accurate.\n",
      "  return linalg.solve(A, Xy, sym_pos=True, overwrite_a=True).T\n",
      "/home/aimsg/PycharmProjects/demo/demo/lib/python3.7/site-packages/sklearn/linear_model/_ridge.py:156: LinAlgWarning: Ill-conditioned matrix (rcond=2.62464e-09): result may not be accurate.\n",
      "  return linalg.solve(A, Xy, sym_pos=True, overwrite_a=True).T\n",
      "/home/aimsg/PycharmProjects/demo/demo/lib/python3.7/site-packages/sklearn/linear_model/_ridge.py:156: LinAlgWarning: Ill-conditioned matrix (rcond=2.62019e-09): result may not be accurate.\n",
      "  return linalg.solve(A, Xy, sym_pos=True, overwrite_a=True).T\n",
      "/home/aimsg/PycharmProjects/demo/demo/lib/python3.7/site-packages/sklearn/linear_model/_ridge.py:156: LinAlgWarning: Ill-conditioned matrix (rcond=3.63954e-08): result may not be accurate.\n",
      "  return linalg.solve(A, Xy, sym_pos=True, overwrite_a=True).T\n",
      "/home/aimsg/PycharmProjects/demo/demo/lib/python3.7/site-packages/sklearn/linear_model/_ridge.py:156: LinAlgWarning: Ill-conditioned matrix (rcond=3.34057e-08): result may not be accurate.\n",
      "  return linalg.solve(A, Xy, sym_pos=True, overwrite_a=True).T\n",
      "/home/aimsg/PycharmProjects/demo/demo/lib/python3.7/site-packages/sklearn/linear_model/_ridge.py:156: LinAlgWarning: Ill-conditioned matrix (rcond=3.28942e-08): result may not be accurate.\n",
      "  return linalg.solve(A, Xy, sym_pos=True, overwrite_a=True).T\n",
      "/home/aimsg/PycharmProjects/demo/demo/lib/python3.7/site-packages/sklearn/linear_model/_ridge.py:156: LinAlgWarning: Ill-conditioned matrix (rcond=3.31143e-08): result may not be accurate.\n",
      "  return linalg.solve(A, Xy, sym_pos=True, overwrite_a=True).T\n",
      "/home/aimsg/PycharmProjects/demo/demo/lib/python3.7/site-packages/sklearn/linear_model/_ridge.py:156: LinAlgWarning: Ill-conditioned matrix (rcond=3.26827e-08): result may not be accurate.\n",
      "  return linalg.solve(A, Xy, sym_pos=True, overwrite_a=True).T\n",
      "/home/aimsg/PycharmProjects/demo/demo/lib/python3.7/site-packages/sklearn/linear_model/_ridge.py:156: LinAlgWarning: Ill-conditioned matrix (rcond=3.24857e-08): result may not be accurate.\n",
      "  return linalg.solve(A, Xy, sym_pos=True, overwrite_a=True).T\n",
      "/home/aimsg/PycharmProjects/demo/demo/lib/python3.7/site-packages/sklearn/linear_model/_ridge.py:156: LinAlgWarning: Ill-conditioned matrix (rcond=3.38215e-08): result may not be accurate.\n",
      "  return linalg.solve(A, Xy, sym_pos=True, overwrite_a=True).T\n",
      "/home/aimsg/PycharmProjects/demo/demo/lib/python3.7/site-packages/sklearn/linear_model/_ridge.py:156: LinAlgWarning: Ill-conditioned matrix (rcond=3.36415e-08): result may not be accurate.\n",
      "  return linalg.solve(A, Xy, sym_pos=True, overwrite_a=True).T\n",
      "/home/aimsg/PycharmProjects/demo/demo/lib/python3.7/site-packages/sklearn/linear_model/_ridge.py:156: LinAlgWarning: Ill-conditioned matrix (rcond=3.23171e-08): result may not be accurate.\n",
      "  return linalg.solve(A, Xy, sym_pos=True, overwrite_a=True).T\n",
      "/home/aimsg/PycharmProjects/demo/demo/lib/python3.7/site-packages/sklearn/linear_model/_ridge.py:156: LinAlgWarning: Ill-conditioned matrix (rcond=3.36056e-08): result may not be accurate.\n",
      "  return linalg.solve(A, Xy, sym_pos=True, overwrite_a=True).T\n",
      "/home/aimsg/PycharmProjects/demo/demo/lib/python3.7/site-packages/sklearn/linear_model/_ridge.py:156: LinAlgWarning: Ill-conditioned matrix (rcond=3.27898e-08): result may not be accurate.\n",
      "  return linalg.solve(A, Xy, sym_pos=True, overwrite_a=True).T\n",
      "/home/aimsg/PycharmProjects/demo/demo/lib/python3.7/site-packages/sklearn/linear_model/_ridge.py:156: LinAlgWarning: Ill-conditioned matrix (rcond=3.45445e-08): result may not be accurate.\n",
      "  return linalg.solve(A, Xy, sym_pos=True, overwrite_a=True).T\n"
     ]
    },
    {
     "name": "stderr",
     "output_type": "stream",
     "text": [
      "/home/aimsg/PycharmProjects/demo/demo/lib/python3.7/site-packages/sklearn/linear_model/_ridge.py:156: LinAlgWarning: Ill-conditioned matrix (rcond=3.29936e-08): result may not be accurate.\n",
      "  return linalg.solve(A, Xy, sym_pos=True, overwrite_a=True).T\n",
      "/home/aimsg/PycharmProjects/demo/demo/lib/python3.7/site-packages/sklearn/linear_model/_ridge.py:156: LinAlgWarning: Ill-conditioned matrix (rcond=3.3442e-08): result may not be accurate.\n",
      "  return linalg.solve(A, Xy, sym_pos=True, overwrite_a=True).T\n",
      "/home/aimsg/PycharmProjects/demo/demo/lib/python3.7/site-packages/sklearn/linear_model/_ridge.py:156: LinAlgWarning: Ill-conditioned matrix (rcond=3.47398e-08): result may not be accurate.\n",
      "  return linalg.solve(A, Xy, sym_pos=True, overwrite_a=True).T\n",
      "/home/aimsg/PycharmProjects/demo/demo/lib/python3.7/site-packages/sklearn/linear_model/_ridge.py:156: LinAlgWarning: Ill-conditioned matrix (rcond=3.31544e-08): result may not be accurate.\n",
      "  return linalg.solve(A, Xy, sym_pos=True, overwrite_a=True).T\n",
      "/home/aimsg/PycharmProjects/demo/demo/lib/python3.7/site-packages/sklearn/linear_model/_ridge.py:156: LinAlgWarning: Ill-conditioned matrix (rcond=3.27336e-08): result may not be accurate.\n",
      "  return linalg.solve(A, Xy, sym_pos=True, overwrite_a=True).T\n",
      "/home/aimsg/PycharmProjects/demo/demo/lib/python3.7/site-packages/sklearn/linear_model/_ridge.py:156: LinAlgWarning: Ill-conditioned matrix (rcond=3.23937e-08): result may not be accurate.\n",
      "  return linalg.solve(A, Xy, sym_pos=True, overwrite_a=True).T\n",
      "/home/aimsg/PycharmProjects/demo/demo/lib/python3.7/site-packages/sklearn/linear_model/_ridge.py:156: LinAlgWarning: Ill-conditioned matrix (rcond=3.43448e-08): result may not be accurate.\n",
      "  return linalg.solve(A, Xy, sym_pos=True, overwrite_a=True).T\n",
      "/home/aimsg/PycharmProjects/demo/demo/lib/python3.7/site-packages/sklearn/linear_model/_ridge.py:156: LinAlgWarning: Ill-conditioned matrix (rcond=3.25614e-08): result may not be accurate.\n",
      "  return linalg.solve(A, Xy, sym_pos=True, overwrite_a=True).T\n",
      "/home/aimsg/PycharmProjects/demo/demo/lib/python3.7/site-packages/sklearn/linear_model/_ridge.py:156: LinAlgWarning: Ill-conditioned matrix (rcond=3.32417e-08): result may not be accurate.\n",
      "  return linalg.solve(A, Xy, sym_pos=True, overwrite_a=True).T\n",
      "/home/aimsg/PycharmProjects/demo/demo/lib/python3.7/site-packages/sklearn/linear_model/_ridge.py:156: LinAlgWarning: Ill-conditioned matrix (rcond=3.31139e-08): result may not be accurate.\n",
      "  return linalg.solve(A, Xy, sym_pos=True, overwrite_a=True).T\n"
     ]
    },
    {
     "name": "stdout",
     "output_type": "stream",
     "text": [
      "best val mse: 0.617, best alpha: 2.0, test mse: 0.517\n",
      "Group: zambia\n"
     ]
    },
    {
     "name": "stderr",
     "output_type": "stream",
     "text": [
      "/home/aimsg/PycharmProjects/demo/demo/lib/python3.7/site-packages/sklearn/linear_model/_ridge.py:156: LinAlgWarning: Ill-conditioned matrix (rcond=1.56462e-08): result may not be accurate.\n",
      "  return linalg.solve(A, Xy, sym_pos=True, overwrite_a=True).T\n",
      "/home/aimsg/PycharmProjects/demo/demo/lib/python3.7/site-packages/sklearn/linear_model/_ridge.py:156: LinAlgWarning: Ill-conditioned matrix (rcond=1.51681e-08): result may not be accurate.\n",
      "  return linalg.solve(A, Xy, sym_pos=True, overwrite_a=True).T\n",
      "/home/aimsg/PycharmProjects/demo/demo/lib/python3.7/site-packages/sklearn/linear_model/_ridge.py:156: LinAlgWarning: Ill-conditioned matrix (rcond=1.46928e-08): result may not be accurate.\n",
      "  return linalg.solve(A, Xy, sym_pos=True, overwrite_a=True).T\n",
      "/home/aimsg/PycharmProjects/demo/demo/lib/python3.7/site-packages/sklearn/linear_model/_ridge.py:156: LinAlgWarning: Ill-conditioned matrix (rcond=1.5143e-08): result may not be accurate.\n",
      "  return linalg.solve(A, Xy, sym_pos=True, overwrite_a=True).T\n",
      "/home/aimsg/PycharmProjects/demo/demo/lib/python3.7/site-packages/sklearn/linear_model/_ridge.py:156: LinAlgWarning: Ill-conditioned matrix (rcond=1.49414e-08): result may not be accurate.\n",
      "  return linalg.solve(A, Xy, sym_pos=True, overwrite_a=True).T\n",
      "/home/aimsg/PycharmProjects/demo/demo/lib/python3.7/site-packages/sklearn/linear_model/_ridge.py:156: LinAlgWarning: Ill-conditioned matrix (rcond=1.476e-08): result may not be accurate.\n",
      "  return linalg.solve(A, Xy, sym_pos=True, overwrite_a=True).T\n",
      "/home/aimsg/PycharmProjects/demo/demo/lib/python3.7/site-packages/sklearn/linear_model/_ridge.py:156: LinAlgWarning: Ill-conditioned matrix (rcond=1.54072e-08): result may not be accurate.\n",
      "  return linalg.solve(A, Xy, sym_pos=True, overwrite_a=True).T\n",
      "/home/aimsg/PycharmProjects/demo/demo/lib/python3.7/site-packages/sklearn/linear_model/_ridge.py:156: LinAlgWarning: Ill-conditioned matrix (rcond=1.51867e-08): result may not be accurate.\n",
      "  return linalg.solve(A, Xy, sym_pos=True, overwrite_a=True).T\n",
      "/home/aimsg/PycharmProjects/demo/demo/lib/python3.7/site-packages/sklearn/linear_model/_ridge.py:156: LinAlgWarning: Ill-conditioned matrix (rcond=1.45984e-08): result may not be accurate.\n",
      "  return linalg.solve(A, Xy, sym_pos=True, overwrite_a=True).T\n",
      "/home/aimsg/PycharmProjects/demo/demo/lib/python3.7/site-packages/sklearn/linear_model/_ridge.py:156: LinAlgWarning: Ill-conditioned matrix (rcond=1.52199e-08): result may not be accurate.\n",
      "  return linalg.solve(A, Xy, sym_pos=True, overwrite_a=True).T\n",
      "/home/aimsg/PycharmProjects/demo/demo/lib/python3.7/site-packages/sklearn/linear_model/_ridge.py:156: LinAlgWarning: Ill-conditioned matrix (rcond=1.46759e-08): result may not be accurate.\n",
      "  return linalg.solve(A, Xy, sym_pos=True, overwrite_a=True).T\n",
      "/home/aimsg/PycharmProjects/demo/demo/lib/python3.7/site-packages/sklearn/linear_model/_ridge.py:156: LinAlgWarning: Ill-conditioned matrix (rcond=1.54608e-08): result may not be accurate.\n",
      "  return linalg.solve(A, Xy, sym_pos=True, overwrite_a=True).T\n",
      "/home/aimsg/PycharmProjects/demo/demo/lib/python3.7/site-packages/sklearn/linear_model/_ridge.py:156: LinAlgWarning: Ill-conditioned matrix (rcond=1.47875e-08): result may not be accurate.\n",
      "  return linalg.solve(A, Xy, sym_pos=True, overwrite_a=True).T\n",
      "/home/aimsg/PycharmProjects/demo/demo/lib/python3.7/site-packages/sklearn/linear_model/_ridge.py:156: LinAlgWarning: Ill-conditioned matrix (rcond=1.51046e-08): result may not be accurate.\n",
      "  return linalg.solve(A, Xy, sym_pos=True, overwrite_a=True).T\n",
      "/home/aimsg/PycharmProjects/demo/demo/lib/python3.7/site-packages/sklearn/linear_model/_ridge.py:156: LinAlgWarning: Ill-conditioned matrix (rcond=1.58926e-08): result may not be accurate.\n",
      "  return linalg.solve(A, Xy, sym_pos=True, overwrite_a=True).T\n",
      "/home/aimsg/PycharmProjects/demo/demo/lib/python3.7/site-packages/sklearn/linear_model/_ridge.py:156: LinAlgWarning: Ill-conditioned matrix (rcond=1.49324e-08): result may not be accurate.\n",
      "  return linalg.solve(A, Xy, sym_pos=True, overwrite_a=True).T\n",
      "/home/aimsg/PycharmProjects/demo/demo/lib/python3.7/site-packages/sklearn/linear_model/_ridge.py:156: LinAlgWarning: Ill-conditioned matrix (rcond=1.47862e-08): result may not be accurate.\n",
      "  return linalg.solve(A, Xy, sym_pos=True, overwrite_a=True).T\n",
      "/home/aimsg/PycharmProjects/demo/demo/lib/python3.7/site-packages/sklearn/linear_model/_ridge.py:156: LinAlgWarning: Ill-conditioned matrix (rcond=1.45901e-08): result may not be accurate.\n",
      "  return linalg.solve(A, Xy, sym_pos=True, overwrite_a=True).T\n",
      "/home/aimsg/PycharmProjects/demo/demo/lib/python3.7/site-packages/sklearn/linear_model/_ridge.py:156: LinAlgWarning: Ill-conditioned matrix (rcond=1.55489e-08): result may not be accurate.\n",
      "  return linalg.solve(A, Xy, sym_pos=True, overwrite_a=True).T\n",
      "/home/aimsg/PycharmProjects/demo/demo/lib/python3.7/site-packages/sklearn/linear_model/_ridge.py:156: LinAlgWarning: Ill-conditioned matrix (rcond=1.46701e-08): result may not be accurate.\n",
      "  return linalg.solve(A, Xy, sym_pos=True, overwrite_a=True).T\n",
      "/home/aimsg/PycharmProjects/demo/demo/lib/python3.7/site-packages/sklearn/linear_model/_ridge.py:156: LinAlgWarning: Ill-conditioned matrix (rcond=1.49494e-08): result may not be accurate.\n",
      "  return linalg.solve(A, Xy, sym_pos=True, overwrite_a=True).T\n",
      "/home/aimsg/PycharmProjects/demo/demo/lib/python3.7/site-packages/sklearn/linear_model/_ridge.py:156: LinAlgWarning: Ill-conditioned matrix (rcond=1.49202e-08): result may not be accurate.\n",
      "  return linalg.solve(A, Xy, sym_pos=True, overwrite_a=True).T\n",
      "/home/aimsg/PycharmProjects/demo/demo/lib/python3.7/site-packages/sklearn/linear_model/_ridge.py:156: LinAlgWarning: Ill-conditioned matrix (rcond=1.43422e-08): result may not be accurate.\n",
      "  return linalg.solve(A, Xy, sym_pos=True, overwrite_a=True).T\n",
      "/home/aimsg/PycharmProjects/demo/demo/lib/python3.7/site-packages/sklearn/linear_model/_ridge.py:156: LinAlgWarning: Ill-conditioned matrix (rcond=2.18284e-09): result may not be accurate.\n",
      "  return linalg.solve(A, Xy, sym_pos=True, overwrite_a=True).T\n"
     ]
    },
    {
     "name": "stdout",
     "output_type": "stream",
     "text": [
      "best val mse: 0.592, best alpha: 0.03125, test mse: 0.837\n",
      "Group: zimbabwe\n"
     ]
    },
    {
     "name": "stderr",
     "output_type": "stream",
     "text": [
      "/home/aimsg/PycharmProjects/demo/demo/lib/python3.7/site-packages/sklearn/linear_model/_ridge.py:156: LinAlgWarning: Ill-conditioned matrix (rcond=2.11403e-09): result may not be accurate.\n",
      "  return linalg.solve(A, Xy, sym_pos=True, overwrite_a=True).T\n",
      "/home/aimsg/PycharmProjects/demo/demo/lib/python3.7/site-packages/sklearn/linear_model/_ridge.py:156: LinAlgWarning: Ill-conditioned matrix (rcond=2.74947e-09): result may not be accurate.\n",
      "  return linalg.solve(A, Xy, sym_pos=True, overwrite_a=True).T\n",
      "/home/aimsg/PycharmProjects/demo/demo/lib/python3.7/site-packages/sklearn/linear_model/_ridge.py:156: LinAlgWarning: Ill-conditioned matrix (rcond=2.06166e-09): result may not be accurate.\n",
      "  return linalg.solve(A, Xy, sym_pos=True, overwrite_a=True).T\n",
      "/home/aimsg/PycharmProjects/demo/demo/lib/python3.7/site-packages/sklearn/linear_model/_ridge.py:156: LinAlgWarning: Ill-conditioned matrix (rcond=2.0668e-09): result may not be accurate.\n",
      "  return linalg.solve(A, Xy, sym_pos=True, overwrite_a=True).T\n",
      "/home/aimsg/PycharmProjects/demo/demo/lib/python3.7/site-packages/sklearn/linear_model/_ridge.py:156: LinAlgWarning: Ill-conditioned matrix (rcond=2.05582e-09): result may not be accurate.\n",
      "  return linalg.solve(A, Xy, sym_pos=True, overwrite_a=True).T\n",
      "/home/aimsg/PycharmProjects/demo/demo/lib/python3.7/site-packages/sklearn/linear_model/_ridge.py:156: LinAlgWarning: Ill-conditioned matrix (rcond=2.18707e-09): result may not be accurate.\n",
      "  return linalg.solve(A, Xy, sym_pos=True, overwrite_a=True).T\n",
      "/home/aimsg/PycharmProjects/demo/demo/lib/python3.7/site-packages/sklearn/linear_model/_ridge.py:156: LinAlgWarning: Ill-conditioned matrix (rcond=2.11004e-09): result may not be accurate.\n",
      "  return linalg.solve(A, Xy, sym_pos=True, overwrite_a=True).T\n",
      "/home/aimsg/PycharmProjects/demo/demo/lib/python3.7/site-packages/sklearn/linear_model/_ridge.py:156: LinAlgWarning: Ill-conditioned matrix (rcond=2.05776e-09): result may not be accurate.\n",
      "  return linalg.solve(A, Xy, sym_pos=True, overwrite_a=True).T\n",
      "/home/aimsg/PycharmProjects/demo/demo/lib/python3.7/site-packages/sklearn/linear_model/_ridge.py:156: LinAlgWarning: Ill-conditioned matrix (rcond=2.14994e-09): result may not be accurate.\n",
      "  return linalg.solve(A, Xy, sym_pos=True, overwrite_a=True).T\n",
      "/home/aimsg/PycharmProjects/demo/demo/lib/python3.7/site-packages/sklearn/linear_model/_ridge.py:156: LinAlgWarning: Ill-conditioned matrix (rcond=1.94733e-09): result may not be accurate.\n",
      "  return linalg.solve(A, Xy, sym_pos=True, overwrite_a=True).T\n",
      "/home/aimsg/PycharmProjects/demo/demo/lib/python3.7/site-packages/sklearn/linear_model/_ridge.py:156: LinAlgWarning: Ill-conditioned matrix (rcond=2.33261e-09): result may not be accurate.\n",
      "  return linalg.solve(A, Xy, sym_pos=True, overwrite_a=True).T\n",
      "/home/aimsg/PycharmProjects/demo/demo/lib/python3.7/site-packages/sklearn/linear_model/_ridge.py:156: LinAlgWarning: Ill-conditioned matrix (rcond=2.08846e-09): result may not be accurate.\n",
      "  return linalg.solve(A, Xy, sym_pos=True, overwrite_a=True).T\n",
      "/home/aimsg/PycharmProjects/demo/demo/lib/python3.7/site-packages/sklearn/linear_model/_ridge.py:156: LinAlgWarning: Ill-conditioned matrix (rcond=1.84464e-09): result may not be accurate.\n",
      "  return linalg.solve(A, Xy, sym_pos=True, overwrite_a=True).T\n",
      "/home/aimsg/PycharmProjects/demo/demo/lib/python3.7/site-packages/sklearn/linear_model/_ridge.py:156: LinAlgWarning: Ill-conditioned matrix (rcond=2.25331e-09): result may not be accurate.\n",
      "  return linalg.solve(A, Xy, sym_pos=True, overwrite_a=True).T\n",
      "/home/aimsg/PycharmProjects/demo/demo/lib/python3.7/site-packages/sklearn/linear_model/_ridge.py:156: LinAlgWarning: Ill-conditioned matrix (rcond=1.34667e-09): result may not be accurate.\n",
      "  return linalg.solve(A, Xy, sym_pos=True, overwrite_a=True).T\n",
      "/home/aimsg/PycharmProjects/demo/demo/lib/python3.7/site-packages/sklearn/linear_model/_ridge.py:156: LinAlgWarning: Ill-conditioned matrix (rcond=2.08461e-09): result may not be accurate.\n",
      "  return linalg.solve(A, Xy, sym_pos=True, overwrite_a=True).T\n",
      "/home/aimsg/PycharmProjects/demo/demo/lib/python3.7/site-packages/sklearn/linear_model/_ridge.py:156: LinAlgWarning: Ill-conditioned matrix (rcond=2.06321e-09): result may not be accurate.\n",
      "  return linalg.solve(A, Xy, sym_pos=True, overwrite_a=True).T\n",
      "/home/aimsg/PycharmProjects/demo/demo/lib/python3.7/site-packages/sklearn/linear_model/_ridge.py:156: LinAlgWarning: Ill-conditioned matrix (rcond=2.21191e-09): result may not be accurate.\n",
      "  return linalg.solve(A, Xy, sym_pos=True, overwrite_a=True).T\n",
      "/home/aimsg/PycharmProjects/demo/demo/lib/python3.7/site-packages/sklearn/linear_model/_ridge.py:156: LinAlgWarning: Ill-conditioned matrix (rcond=2.05903e-09): result may not be accurate.\n",
      "  return linalg.solve(A, Xy, sym_pos=True, overwrite_a=True).T\n",
      "/home/aimsg/PycharmProjects/demo/demo/lib/python3.7/site-packages/sklearn/linear_model/_ridge.py:156: LinAlgWarning: Ill-conditioned matrix (rcond=2.09946e-09): result may not be accurate.\n",
      "  return linalg.solve(A, Xy, sym_pos=True, overwrite_a=True).T\n",
      "/home/aimsg/PycharmProjects/demo/demo/lib/python3.7/site-packages/sklearn/linear_model/_ridge.py:156: LinAlgWarning: Ill-conditioned matrix (rcond=2.11827e-09): result may not be accurate.\n",
      "  return linalg.solve(A, Xy, sym_pos=True, overwrite_a=True).T\n",
      "/home/aimsg/PycharmProjects/demo/demo/lib/python3.7/site-packages/sklearn/linear_model/_ridge.py:156: LinAlgWarning: Ill-conditioned matrix (rcond=1.63156e-08): result may not be accurate.\n",
      "  return linalg.solve(A, Xy, sym_pos=True, overwrite_a=True).T\n",
      "/home/aimsg/PycharmProjects/demo/demo/lib/python3.7/site-packages/sklearn/linear_model/_ridge.py:156: LinAlgWarning: Ill-conditioned matrix (rcond=1.57834e-08): result may not be accurate.\n",
      "  return linalg.solve(A, Xy, sym_pos=True, overwrite_a=True).T\n",
      "/home/aimsg/PycharmProjects/demo/demo/lib/python3.7/site-packages/sklearn/linear_model/_ridge.py:156: LinAlgWarning: Ill-conditioned matrix (rcond=1.56357e-08): result may not be accurate.\n",
      "  return linalg.solve(A, Xy, sym_pos=True, overwrite_a=True).T\n",
      "/home/aimsg/PycharmProjects/demo/demo/lib/python3.7/site-packages/sklearn/linear_model/_ridge.py:156: LinAlgWarning: Ill-conditioned matrix (rcond=1.54896e-08): result may not be accurate.\n",
      "  return linalg.solve(A, Xy, sym_pos=True, overwrite_a=True).T\n",
      "/home/aimsg/PycharmProjects/demo/demo/lib/python3.7/site-packages/sklearn/linear_model/_ridge.py:156: LinAlgWarning: Ill-conditioned matrix (rcond=1.54005e-08): result may not be accurate.\n",
      "  return linalg.solve(A, Xy, sym_pos=True, overwrite_a=True).T\n",
      "/home/aimsg/PycharmProjects/demo/demo/lib/python3.7/site-packages/sklearn/linear_model/_ridge.py:156: LinAlgWarning: Ill-conditioned matrix (rcond=1.54502e-08): result may not be accurate.\n",
      "  return linalg.solve(A, Xy, sym_pos=True, overwrite_a=True).T\n",
      "/home/aimsg/PycharmProjects/demo/demo/lib/python3.7/site-packages/sklearn/linear_model/_ridge.py:156: LinAlgWarning: Ill-conditioned matrix (rcond=1.63467e-08): result may not be accurate.\n",
      "  return linalg.solve(A, Xy, sym_pos=True, overwrite_a=True).T\n",
      "/home/aimsg/PycharmProjects/demo/demo/lib/python3.7/site-packages/sklearn/linear_model/_ridge.py:156: LinAlgWarning: Ill-conditioned matrix (rcond=1.58038e-08): result may not be accurate.\n",
      "  return linalg.solve(A, Xy, sym_pos=True, overwrite_a=True).T\n",
      "/home/aimsg/PycharmProjects/demo/demo/lib/python3.7/site-packages/sklearn/linear_model/_ridge.py:156: LinAlgWarning: Ill-conditioned matrix (rcond=1.54255e-08): result may not be accurate.\n",
      "  return linalg.solve(A, Xy, sym_pos=True, overwrite_a=True).T\n",
      "/home/aimsg/PycharmProjects/demo/demo/lib/python3.7/site-packages/sklearn/linear_model/_ridge.py:156: LinAlgWarning: Ill-conditioned matrix (rcond=1.61119e-08): result may not be accurate.\n",
      "  return linalg.solve(A, Xy, sym_pos=True, overwrite_a=True).T\n",
      "/home/aimsg/PycharmProjects/demo/demo/lib/python3.7/site-packages/sklearn/linear_model/_ridge.py:156: LinAlgWarning: Ill-conditioned matrix (rcond=1.55496e-08): result may not be accurate.\n",
      "  return linalg.solve(A, Xy, sym_pos=True, overwrite_a=True).T\n",
      "/home/aimsg/PycharmProjects/demo/demo/lib/python3.7/site-packages/sklearn/linear_model/_ridge.py:156: LinAlgWarning: Ill-conditioned matrix (rcond=1.64085e-08): result may not be accurate.\n",
      "  return linalg.solve(A, Xy, sym_pos=True, overwrite_a=True).T\n",
      "/home/aimsg/PycharmProjects/demo/demo/lib/python3.7/site-packages/sklearn/linear_model/_ridge.py:156: LinAlgWarning: Ill-conditioned matrix (rcond=1.56581e-08): result may not be accurate.\n",
      "  return linalg.solve(A, Xy, sym_pos=True, overwrite_a=True).T\n"
     ]
    },
    {
     "name": "stderr",
     "output_type": "stream",
     "text": [
      "/home/aimsg/PycharmProjects/demo/demo/lib/python3.7/site-packages/sklearn/linear_model/_ridge.py:156: LinAlgWarning: Ill-conditioned matrix (rcond=1.58593e-08): result may not be accurate.\n",
      "  return linalg.solve(A, Xy, sym_pos=True, overwrite_a=True).T\n",
      "/home/aimsg/PycharmProjects/demo/demo/lib/python3.7/site-packages/sklearn/linear_model/_ridge.py:156: LinAlgWarning: Ill-conditioned matrix (rcond=1.65068e-08): result may not be accurate.\n",
      "  return linalg.solve(A, Xy, sym_pos=True, overwrite_a=True).T\n",
      "/home/aimsg/PycharmProjects/demo/demo/lib/python3.7/site-packages/sklearn/linear_model/_ridge.py:156: LinAlgWarning: Ill-conditioned matrix (rcond=1.58201e-08): result may not be accurate.\n",
      "  return linalg.solve(A, Xy, sym_pos=True, overwrite_a=True).T\n",
      "/home/aimsg/PycharmProjects/demo/demo/lib/python3.7/site-packages/sklearn/linear_model/_ridge.py:156: LinAlgWarning: Ill-conditioned matrix (rcond=1.56338e-08): result may not be accurate.\n",
      "  return linalg.solve(A, Xy, sym_pos=True, overwrite_a=True).T\n",
      "/home/aimsg/PycharmProjects/demo/demo/lib/python3.7/site-packages/sklearn/linear_model/_ridge.py:156: LinAlgWarning: Ill-conditioned matrix (rcond=1.54905e-08): result may not be accurate.\n",
      "  return linalg.solve(A, Xy, sym_pos=True, overwrite_a=True).T\n",
      "/home/aimsg/PycharmProjects/demo/demo/lib/python3.7/site-packages/sklearn/linear_model/_ridge.py:156: LinAlgWarning: Ill-conditioned matrix (rcond=1.65501e-08): result may not be accurate.\n",
      "  return linalg.solve(A, Xy, sym_pos=True, overwrite_a=True).T\n",
      "/home/aimsg/PycharmProjects/demo/demo/lib/python3.7/site-packages/sklearn/linear_model/_ridge.py:156: LinAlgWarning: Ill-conditioned matrix (rcond=1.54861e-08): result may not be accurate.\n",
      "  return linalg.solve(A, Xy, sym_pos=True, overwrite_a=True).T\n",
      "/home/aimsg/PycharmProjects/demo/demo/lib/python3.7/site-packages/sklearn/linear_model/_ridge.py:156: LinAlgWarning: Ill-conditioned matrix (rcond=1.57484e-08): result may not be accurate.\n",
      "  return linalg.solve(A, Xy, sym_pos=True, overwrite_a=True).T\n",
      "/home/aimsg/PycharmProjects/demo/demo/lib/python3.7/site-packages/sklearn/linear_model/_ridge.py:156: LinAlgWarning: Ill-conditioned matrix (rcond=1.57993e-08): result may not be accurate.\n",
      "  return linalg.solve(A, Xy, sym_pos=True, overwrite_a=True).T\n"
     ]
    },
    {
     "name": "stdout",
     "output_type": "stream",
     "text": [
      "best val mse: 0.591, best alpha: 65536.0, test mse: 1.470\n",
      "saving test preds to: ./outputs/dhs_ooc/test_preds.npz\n",
      "saving ridge_weights to: ./outputs/dhs_ooc/ridge_weights.npz\n"
     ]
    }
   ],
   "source": [
    "model_name = 'resnet_ms'\n",
    "savedir = os.path.join(OUTPUTS_ROOT_DIR, 'dhs_ooc','resnet_attn_pretrain224stride')\n",
    "ridgecv_ooc_wrapper(model_name, savedir)"
   ]
  },
  {
   "cell_type": "code",
   "execution_count": null,
   "id": "b0gTKCn31uY5",
   "metadata": {
    "colab": {
     "base_uri": "https://localhost:8080/",
     "height": 72
    },
    "id": "b0gTKCn31uY5",
    "outputId": "5da46f91-e2bf-4a8c-b223-c2c9d8598b8e"
   },
   "outputs": [],
   "source": [
    "model_name = 'resnet_nl'\n",
    "savedir = os.path.join(OUTPUTS_ROOT_DIR, 'dhs_buildings','resnet_nl_b')\n",
    "ridgecv_ooc_wrapper(model_name, savedir)\n",
    "\n",
    "import numpy as np\n",
    "np.__version__"
   ]
  },
  {
   "cell_type": "code",
   "execution_count": null,
   "id": "cPvX9BMe5ixU",
   "metadata": {
    "colab": {
     "base_uri": "https://localhost:8080/",
     "height": 617
    },
    "id": "cPvX9BMe5ixU",
    "outputId": "e0ba118f-340f-4e70-8ec7-1eb2165e8286"
   },
   "outputs": [],
   "source": [
    "!pip install numpy==1.16"
   ]
  },
  {
   "cell_type": "code",
   "execution_count": null,
   "id": "6nAqHgkgyQzX",
   "metadata": {
    "colab": {
     "base_uri": "https://localhost:8080/",
     "height": 449
    },
    "id": "6nAqHgkgyQzX",
    "outputId": "45e36cfb-3877-476c-d95e-4d8ddcdc78a2"
   },
   "outputs": [],
   "source": [
    "import numpy as np\n",
    "with np.load('/content/africa_poverty_clean/outputs/dhs_ooc/DHS_OOC_A_ms_samescaled_b64_fc01_conv01_lr0001/features.npz') as npz:\n",
    " for key in npz.values():\n",
    "   print(key)"
   ]
  },
  {
   "cell_type": "code",
   "execution_count": null,
   "id": "PufTcEVc1ePL",
   "metadata": {
    "colab": {
     "base_uri": "https://localhost:8080/"
    },
    "id": "PufTcEVc1ePL",
    "outputId": "c070f379-98a3-4e28-99e5-efb1ed048b30"
   },
   "outputs": [],
   "source": [
    "!python --version"
   ]
  },
  {
   "cell_type": "code",
   "execution_count": null,
   "id": "8UvM9uH6ylnG",
   "metadata": {
    "id": "8UvM9uH6ylnG"
   },
   "outputs": [],
   "source": [
    "npz['features']"
   ]
  },
  {
   "cell_type": "code",
   "execution_count": null,
   "id": "74a0e400-3b78-443c-a5f5-d0e8fe97068c",
   "metadata": {
    "id": "74a0e400-3b78-443c-a5f5-d0e8fe97068c"
   },
   "outputs": [],
   "source": [
    "def ridgecv_ooc_wrapper(model_name: str, savedir: str) -> None:\n",
    "    '''\n",
    "    Args\n",
    "    - model_name: str, corresponds to keys in MODEL_DIRS (without the fold suffix)\n",
    "    - savedir: str, path to directory for saving ridge regression weights and predictions\n",
    "    '''\n",
    "    features_dict = {}\n",
    "    for f in FOLDS:\n",
    "        model_fold_name = f'{model_name}_{f}'\n",
    "        model_dir = MODEL_DIRS[model_fold_name]\n",
    "        npz_path = os.path.join(OUTPUTS_ROOT_DIR,'dhs_ooc','ablation_study',model_dir, 'features.npz')\n",
    "        npz = load_npz(npz_path, check={'labels': labels})\n",
    "        features = npz['features']\n",
    "        #features=(features-np.mean(features))/np.std(features)\n",
    "        #print(features[:10])\n",
    "        for country in dataset_constants_buildings.SURVEY_NAMES[f'DHS_OOC_{f}']['test']:\n",
    "            features_dict[country] = features\n",
    "            print(country)\n",
    "    ridge_cv(features=features_dict,labels=labels,group_labels=country_labels,group_names=COUNTRIES,do_plot=False,savedir=savedir,save_weights=True,save_dict=dict(locs=locs))\n",
    "\n",
    "model_name = 'resnet_nl'\n",
    "savedir = os.path.join(OUTPUTS_ROOT_DIR, 'dhs_ooc', 'resnet_unifor_attn224stride140')\n",
    "ridgecv_ooc_wrapper(model_name, savedir)"
   ]
  },
  {
   "cell_type": "code",
   "execution_count": null,
   "id": "98cde21f-bfd2-40f6-b404-ad41be8ae782",
   "metadata": {
    "id": "98cde21f-bfd2-40f6-b404-ad41be8ae782"
   },
   "outputs": [],
   "source": [
    "model_name = 'resnet_nl'\n",
    "savedir = os.path.join(OUTPUTS_ROOT_DIR, 'dhs_ooc', 'resnet_nl_custom')\n",
    "ridgecv_ooc_wrapper(model_name, savedir)"
   ]
  },
  {
   "cell_type": "markdown",
   "id": "17feaa0d-40df-4dff-9f91-d71f2e489960",
   "metadata": {
    "id": "17feaa0d-40df-4dff-9f91-d71f2e489960"
   },
   "source": [
    "### Concatenated RGB/MS + NL features"
   ]
  },
  {
   "cell_type": "code",
   "execution_count": null,
   "id": "b53d25c8-6bf3-4666-868a-f785a075dabf",
   "metadata": {
    "id": "b53d25c8-6bf3-4666-868a-f785a075dabf"
   },
   "outputs": [],
   "source": [
    "def ridgecv_ooc_concat_wrapper(model_names, savedir: str) -> None:\n",
    "    features_dict = {}\n",
    "    for f in FOLDS:\n",
    "        concat_features = []  # list of np.array, each shape [N, D_i]\n",
    "        for model_name in model_names:\n",
    "            model_dir = MODEL_DIRS[f'{model_name}_{f}']\n",
    "            if model_name=='resnet_nl':\n",
    "               npz_path = os.path.join(OUTPUTS_ROOT_DIR, 'dhs_ooc', model_dir, 'features.npz')\n",
    "            else:\n",
    "                 npz_path = os.path.join(OUTPUTS_ROOT_DIR, 'dhs_ooc', 'ablation_study',model_dir, 'features.npz')\n",
    "            npz = load_npz(npz_path, check={'labels': labels})\n",
    "            concat_features.append(npz['features'])\n",
    "        concat_features = np.concatenate(concat_features, axis=1)  # shape [N, D_1 + ... + D_m]\n",
    "        for country in dataset_constants_buildings.SURVEY_NAMES[f'DHS_OOC_{f}']['test']:\n",
    "            features_dict[country] = concat_features\n",
    "    ridge_cv(features=features_dict,labels=labels,group_labels=country_labels,group_names=COUNTRIES,do_plot=False,savedir=savedir,save_weights=True,save_dict=dict(locs=locs))"
   ]
  },
  {
   "cell_type": "markdown",
   "id": "098c5100-c058-4140-946a-c37504747d88",
   "metadata": {
    "id": "098c5100-c058-4140-946a-c37504747d88"
   },
   "source": [
    "Each of the following 2 cells make take ~3-4 hours each to run."
   ]
  },
  {
   "cell_type": "code",
   "execution_count": null,
   "id": "8a596125-dc4f-4528-83b5-8ce9e5b985b9",
   "metadata": {
    "id": "8a596125-dc4f-4528-83b5-8ce9e5b985b9"
   },
   "outputs": [],
   "source": [
    "model_names = ['resnet_ms', 'resnet_nl']\n",
    "savedir = os.path.join(OUTPUTS_ROOT_DIR, 'dhs_ooc', 'resnet_nl_build_noattn')\n",
    "ridgecv_ooc_concat_wrapper(model_names, savedir)"
   ]
  },
  {
   "cell_type": "code",
   "execution_count": null,
   "id": "7953099f-5e35-4ea7-91ad-a01a310b994e",
   "metadata": {
    "id": "7953099f-5e35-4ea7-91ad-a01a310b994e"
   },
   "outputs": [],
   "source": [
    "model_names = ['resnet_rgb', 'resnet_nl']\n",
    "savedir = os.path.join(OUTPUTS_ROOT_DIR, 'dhs_ooc', 'resnet_rgbnl_concat')\n",
    "ridgecv_ooc_concat_wrapper(model_names, savedir)"
   ]
  },
  {
   "cell_type": "markdown",
   "id": "bff5644e-f175-4c91-ad40-2b7a1e247eb8",
   "metadata": {
    "id": "bff5644e-f175-4c91-ad40-2b7a1e247eb8"
   },
   "source": [
    "## Incountry"
   ]
  },
  {
   "cell_type": "code",
   "execution_count": 13,
   "id": "15212b38-8469-4975-99ef-1fe711008bae",
   "metadata": {
    "id": "15212b38-8469-4975-99ef-1fe711008bae"
   },
   "outputs": [],
   "source": [
    "def ridgecv_incountry_wrapper(model_name: str, savedir: str) -> None:\n",
    "    '''\n",
    "    Args\n",
    "    - model_name: str, corresponds to keys in MODEL_DIRS (without the fold suffix)\n",
    "    - savedir: str, path to directory for saving ridge regression weights and predictions\n",
    "    '''\n",
    "    features_dict = {}\n",
    "    for f in FOLDS:\n",
    "        model_fold_name = f'{model_name}_{f}'\n",
    "        model_dir = MODEL_DIRS[model_fold_name]\n",
    "        npz_path = os.path.join(OUTPUTS_ROOT_DIR, 'dhs_incountry', model_dir, 'features.npz')\n",
    "        npz = load_npz(npz_path, check={'labels': labels})\n",
    "        features_dict[f] = npz['features']\n",
    "\n",
    "    ridge_cv(\n",
    "        features=features_dict,\n",
    "        labels=labels,\n",
    "        group_labels=incountry_group_labels,\n",
    "        group_names=FOLDS,\n",
    "        do_plot=True,\n",
    "        savedir=savedir,\n",
    "        save_weights=True,\n",
    "        verbose=True)"
   ]
  },
  {
   "cell_type": "code",
   "execution_count": 14,
   "id": "3fd59b4e-2bb5-4b91-b778-eb862964160b",
   "metadata": {
    "id": "3fd59b4e-2bb5-4b91-b778-eb862964160b"
   },
   "outputs": [
    {
     "name": "stdout",
     "output_type": "stream",
     "text": [
      "features: dtype=float32, shape=(19477, 512)\n",
      "preds: dtype=float32, shape=(19477,)\n",
      "labels: dtype=float32, shape=(19477,)\n",
      "locs: dtype=float32, shape=(19477, 2)\n",
      "years: dtype=int32, shape=(19477,)\n",
      "features: dtype=float32, shape=(19477, 512)\n",
      "preds: dtype=float32, shape=(19477,)\n",
      "labels: dtype=float32, shape=(19477,)\n",
      "locs: dtype=float32, shape=(19477, 2)\n",
      "years: dtype=int32, shape=(19477,)\n",
      "features: dtype=float32, shape=(19477, 512)\n",
      "preds: dtype=float32, shape=(19477,)\n",
      "labels: dtype=float32, shape=(19477,)\n",
      "locs: dtype=float32, shape=(19477, 2)\n",
      "years: dtype=int32, shape=(19477,)\n",
      "features: dtype=float32, shape=(19477, 512)\n",
      "preds: dtype=float32, shape=(19477,)\n",
      "labels: dtype=float32, shape=(19477,)\n",
      "locs: dtype=float32, shape=(19477, 2)\n",
      "years: dtype=int32, shape=(19477,)\n",
      "features: dtype=float32, shape=(19477, 512)\n",
      "preds: dtype=float32, shape=(19477,)\n",
      "labels: dtype=float32, shape=(19477,)\n",
      "locs: dtype=float32, shape=(19477, 2)\n",
      "years: dtype=int32, shape=(19477,)\n",
      "test_preds.npz\n",
      "./outputs/dhs_incountry/resnet_ms/test_preds.npz\n",
      "Group: A\n",
      "Alpha: 0.03125 (1/14)"
     ]
    },
    {
     "name": "stderr",
     "output_type": "stream",
     "text": [
      "/home/aimsg/PycharmProjects/demo/demo/lib/python3.7/site-packages/sklearn/linear_model/_ridge.py:156: LinAlgWarning: Ill-conditioned matrix (rcond=4.54524e-08): result may not be accurate.\n",
      "  return linalg.solve(A, Xy, sym_pos=True, overwrite_a=True).T\n",
      "/home/aimsg/PycharmProjects/demo/demo/lib/python3.7/site-packages/sklearn/linear_model/_ridge.py:156: LinAlgWarning: Ill-conditioned matrix (rcond=4.69031e-08): result may not be accurate.\n",
      "  return linalg.solve(A, Xy, sym_pos=True, overwrite_a=True).T\n",
      "/home/aimsg/PycharmProjects/demo/demo/lib/python3.7/site-packages/sklearn/linear_model/_ridge.py:156: LinAlgWarning: Ill-conditioned matrix (rcond=4.39827e-08): result may not be accurate.\n",
      "  return linalg.solve(A, Xy, sym_pos=True, overwrite_a=True).T\n",
      "/home/aimsg/PycharmProjects/demo/demo/lib/python3.7/site-packages/sklearn/linear_model/_ridge.py:156: LinAlgWarning: Ill-conditioned matrix (rcond=4.72986e-08): result may not be accurate.\n",
      "  return linalg.solve(A, Xy, sym_pos=True, overwrite_a=True).T\n"
     ]
    },
    {
     "name": "stdout",
     "output_type": "stream",
     "text": [
      "Alpha: 17179869184.0 (14/14)\n"
     ]
    },
    {
     "data": {
      "image/png": "[encoded data removed]",
      "text/plain": [
       "<Figure size 432x216 with 1 Axes>"
      ]
     },
     "metadata": {
      "needs_background": "light"
     },
     "output_type": "display_data"
    },
    {
     "name": "stderr",
     "output_type": "stream",
     "text": [
      "/home/aimsg/PycharmProjects/demo/demo/lib/python3.7/site-packages/sklearn/linear_model/_ridge.py:156: LinAlgWarning: Ill-conditioned matrix (rcond=3.33579e-08): result may not be accurate.\n",
      "  return linalg.solve(A, Xy, sym_pos=True, overwrite_a=True).T\n"
     ]
    },
    {
     "name": "stdout",
     "output_type": "stream",
     "text": [
      "best val mse: 0.576, best alpha: 0.03125, test mse: 0.590\n",
      "Group: B\n",
      "Alpha: 17179869184.0 (14/14)\n"
     ]
    },
    {
     "name": "stderr",
     "output_type": "stream",
     "text": [
      "/home/aimsg/PycharmProjects/demo/demo/lib/python3.7/site-packages/sklearn/linear_model/_ridge.py:156: LinAlgWarning: Ill-conditioned matrix (rcond=5.05337e-08): result may not be accurate.\n",
      "  return linalg.solve(A, Xy, sym_pos=True, overwrite_a=True).T\n",
      "/home/aimsg/PycharmProjects/demo/demo/lib/python3.7/site-packages/sklearn/linear_model/_ridge.py:156: LinAlgWarning: Ill-conditioned matrix (rcond=1.84675e-08): result may not be accurate.\n",
      "  return linalg.solve(A, Xy, sym_pos=True, overwrite_a=True).T\n"
     ]
    },
    {
     "name": "stdout",
     "output_type": "stream",
     "text": [
      "best val mse: 0.591, best alpha: 0.03125, test mse: 0.562\n",
      "Group: C\n",
      "\r",
      "Alpha: 0.03125 (1/14)"
     ]
    },
    {
     "name": "stderr",
     "output_type": "stream",
     "text": [
      "/home/aimsg/PycharmProjects/demo/demo/lib/python3.7/site-packages/sklearn/linear_model/_ridge.py:156: LinAlgWarning: Ill-conditioned matrix (rcond=1.9187e-08): result may not be accurate.\n",
      "  return linalg.solve(A, Xy, sym_pos=True, overwrite_a=True).T\n",
      "/home/aimsg/PycharmProjects/demo/demo/lib/python3.7/site-packages/sklearn/linear_model/_ridge.py:156: LinAlgWarning: Ill-conditioned matrix (rcond=1.83078e-08): result may not be accurate.\n",
      "  return linalg.solve(A, Xy, sym_pos=True, overwrite_a=True).T\n",
      "/home/aimsg/PycharmProjects/demo/demo/lib/python3.7/site-packages/sklearn/linear_model/_ridge.py:156: LinAlgWarning: Ill-conditioned matrix (rcond=1.90577e-08): result may not be accurate.\n",
      "  return linalg.solve(A, Xy, sym_pos=True, overwrite_a=True).T\n"
     ]
    },
    {
     "name": "stdout",
     "output_type": "stream",
     "text": [
      "Alpha: 17179869184.0 (14/14)\n",
      "best val mse: 0.572, best alpha: 2.0, test mse: 0.617\n",
      "Group: D\n",
      "Alpha: 0.03125 (1/14)"
     ]
    },
    {
     "name": "stderr",
     "output_type": "stream",
     "text": [
      "/home/aimsg/PycharmProjects/demo/demo/lib/python3.7/site-packages/sklearn/linear_model/_ridge.py:156: LinAlgWarning: Ill-conditioned matrix (rcond=3.92014e-08): result may not be accurate.\n",
      "  return linalg.solve(A, Xy, sym_pos=True, overwrite_a=True).T\n",
      "/home/aimsg/PycharmProjects/demo/demo/lib/python3.7/site-packages/sklearn/linear_model/_ridge.py:156: LinAlgWarning: Ill-conditioned matrix (rcond=5.73492e-08): result may not be accurate.\n",
      "  return linalg.solve(A, Xy, sym_pos=True, overwrite_a=True).T\n",
      "/home/aimsg/PycharmProjects/demo/demo/lib/python3.7/site-packages/sklearn/linear_model/_ridge.py:156: LinAlgWarning: Ill-conditioned matrix (rcond=5.61053e-08): result may not be accurate.\n",
      "  return linalg.solve(A, Xy, sym_pos=True, overwrite_a=True).T\n",
      "/home/aimsg/PycharmProjects/demo/demo/lib/python3.7/site-packages/sklearn/linear_model/_ridge.py:156: LinAlgWarning: Ill-conditioned matrix (rcond=3.8119e-08): result may not be accurate.\n",
      "  return linalg.solve(A, Xy, sym_pos=True, overwrite_a=True).T\n",
      "/home/aimsg/PycharmProjects/demo/demo/lib/python3.7/site-packages/sklearn/linear_model/_ridge.py:156: LinAlgWarning: Ill-conditioned matrix (rcond=3.96179e-08): result may not be accurate.\n",
      "  return linalg.solve(A, Xy, sym_pos=True, overwrite_a=True).T\n"
     ]
    },
    {
     "ename": "IndexError",
     "evalue": "index 4 is out of bounds for axis 1 with size 4",
     "output_type": "error",
     "traceback": [
      "\u001B[0;31m---------------------------------------------------------------------------\u001B[0m",
      "\u001B[0;31mIndexError\u001B[0m                                Traceback (most recent call last)",
      "\u001B[0;32m/tmp/ipykernel_19653/944502058.py\u001B[0m in \u001B[0;36m<module>\u001B[0;34m\u001B[0m\n\u001B[1;32m      1\u001B[0m \u001B[0mmodel_name\u001B[0m \u001B[0;34m=\u001B[0m \u001B[0;34m'incountry_resnet_ms'\u001B[0m\u001B[0;34m\u001B[0m\u001B[0;34m\u001B[0m\u001B[0m\n\u001B[1;32m      2\u001B[0m \u001B[0msavedir\u001B[0m \u001B[0;34m=\u001B[0m \u001B[0mos\u001B[0m\u001B[0;34m.\u001B[0m\u001B[0mpath\u001B[0m\u001B[0;34m.\u001B[0m\u001B[0mjoin\u001B[0m\u001B[0;34m(\u001B[0m\u001B[0mOUTPUTS_ROOT_DIR\u001B[0m\u001B[0;34m,\u001B[0m \u001B[0;34m'dhs_incountry'\u001B[0m\u001B[0;34m,\u001B[0m \u001B[0;34m'resnet_ms'\u001B[0m\u001B[0;34m)\u001B[0m\u001B[0;34m\u001B[0m\u001B[0;34m\u001B[0m\u001B[0m\n\u001B[0;32m----> 3\u001B[0;31m \u001B[0mridgecv_incountry_wrapper\u001B[0m\u001B[0;34m(\u001B[0m\u001B[0mmodel_name\u001B[0m\u001B[0;34m,\u001B[0m \u001B[0msavedir\u001B[0m\u001B[0;34m)\u001B[0m\u001B[0;34m\u001B[0m\u001B[0;34m\u001B[0m\u001B[0m\n\u001B[0m",
      "\u001B[0;32m/tmp/ipykernel_19653/3451241084.py\u001B[0m in \u001B[0;36mridgecv_incountry_wrapper\u001B[0;34m(model_name, savedir)\u001B[0m\n\u001B[1;32m     21\u001B[0m         \u001B[0msavedir\u001B[0m\u001B[0;34m=\u001B[0m\u001B[0msavedir\u001B[0m\u001B[0;34m,\u001B[0m\u001B[0;34m\u001B[0m\u001B[0;34m\u001B[0m\u001B[0m\n\u001B[1;32m     22\u001B[0m         \u001B[0msave_weights\u001B[0m\u001B[0;34m=\u001B[0m\u001B[0;32mTrue\u001B[0m\u001B[0;34m,\u001B[0m\u001B[0;34m\u001B[0m\u001B[0;34m\u001B[0m\u001B[0m\n\u001B[0;32m---> 23\u001B[0;31m         verbose=True)\n\u001B[0m",
      "\u001B[0;32m~/PycharmProjects/demo/africa_poverty_clean/models/linear_model.py\u001B[0m in \u001B[0;36mridge_cv\u001B[0;34m(features, labels, group_labels, group_names, savedir, weights, save_weights, do_plot, subset_indices, subset_name, save_dict, verbose)\u001B[0m\n\u001B[1;32m    205\u001B[0m             \u001B[0mplot\u001B[0m\u001B[0;34m=\u001B[0m\u001B[0mdo_plot\u001B[0m\u001B[0;34m,\u001B[0m\u001B[0;34m\u001B[0m\u001B[0;34m\u001B[0m\u001B[0m\n\u001B[1;32m    206\u001B[0m             \u001B[0mgroup_names\u001B[0m\u001B[0;34m=\u001B[0m\u001B[0mgroup_names\u001B[0m\u001B[0;34m,\u001B[0m\u001B[0;34m\u001B[0m\u001B[0;34m\u001B[0m\u001B[0m\n\u001B[0;32m--> 207\u001B[0;31m             verbose=verbose)\n\u001B[0m\u001B[1;32m    208\u001B[0m         \u001B[0mtest_preds\u001B[0m\u001B[0;34m[\u001B[0m\u001B[0mtest_indices\u001B[0m\u001B[0;34m]\u001B[0m \u001B[0;34m=\u001B[0m \u001B[0mpreds\u001B[0m\u001B[0;34m\u001B[0m\u001B[0;34m\u001B[0m\u001B[0m\n\u001B[1;32m    209\u001B[0m         \u001B[0mridge_weights\u001B[0m\u001B[0;34m[\u001B[0m\u001B[0mf\u001B[0m \u001B[0;34m+\u001B[0m \u001B[0;34m'_w'\u001B[0m\u001B[0;34m]\u001B[0m \u001B[0;34m=\u001B[0m \u001B[0mmodel\u001B[0m\u001B[0;34m.\u001B[0m\u001B[0mcoef_\u001B[0m\u001B[0;34m\u001B[0m\u001B[0;34m\u001B[0m\u001B[0m\n",
      "\u001B[0;32m~/PycharmProjects/demo/africa_poverty_clean/models/linear_model.py\u001B[0m in \u001B[0;36mtrain_ridge_logo\u001B[0;34m(features, labels, group_labels, cv_groups, test_groups, weights, plot, group_names, verbose)\u001B[0m\n\u001B[1;32m     70\u001B[0m             \u001B[0mval_preds\u001B[0m \u001B[0;34m=\u001B[0m \u001B[0mmodel\u001B[0m\u001B[0;34m.\u001B[0m\u001B[0mpredict\u001B[0m\u001B[0;34m(\u001B[0m\u001B[0mval_X\u001B[0m\u001B[0;34m)\u001B[0m\u001B[0;34m\u001B[0m\u001B[0;34m\u001B[0m\u001B[0m\n\u001B[1;32m     71\u001B[0m             \u001B[0mpreds\u001B[0m\u001B[0;34m[\u001B[0m\u001B[0mi\u001B[0m\u001B[0;34m,\u001B[0m \u001B[0mval_indices\u001B[0m\u001B[0;34m]\u001B[0m \u001B[0;34m=\u001B[0m \u001B[0mval_preds\u001B[0m\u001B[0;34m\u001B[0m\u001B[0;34m\u001B[0m\u001B[0m\n\u001B[0;32m---> 72\u001B[0;31m             \u001B[0mgroup_mses\u001B[0m\u001B[0;34m[\u001B[0m\u001B[0mi\u001B[0m\u001B[0;34m,\u001B[0m \u001B[0mg\u001B[0m\u001B[0;34m]\u001B[0m \u001B[0;34m=\u001B[0m \u001B[0mnp\u001B[0m\u001B[0;34m.\u001B[0m\u001B[0maverage\u001B[0m\u001B[0;34m(\u001B[0m\u001B[0;34m(\u001B[0m\u001B[0mval_preds\u001B[0m \u001B[0;34m-\u001B[0m \u001B[0mval_y\u001B[0m\u001B[0;34m)\u001B[0m \u001B[0;34m**\u001B[0m \u001B[0;36m2\u001B[0m\u001B[0;34m,\u001B[0m \u001B[0mweights\u001B[0m\u001B[0;34m=\u001B[0m\u001B[0mval_w\u001B[0m\u001B[0;34m)\u001B[0m\u001B[0;34m\u001B[0m\u001B[0;34m\u001B[0m\u001B[0m\n\u001B[0m\u001B[1;32m     73\u001B[0m             \u001B[0mleftout_group_labels\u001B[0m\u001B[0;34m[\u001B[0m\u001B[0mg\u001B[0m\u001B[0;34m]\u001B[0m \u001B[0;34m=\u001B[0m \u001B[0mgroups\u001B[0m\u001B[0;34m[\u001B[0m\u001B[0mval_indices\u001B[0m\u001B[0;34m[\u001B[0m\u001B[0;36m0\u001B[0m\u001B[0;34m]\u001B[0m\u001B[0;34m]\u001B[0m\u001B[0;34m\u001B[0m\u001B[0;34m\u001B[0m\u001B[0m\n\u001B[1;32m     74\u001B[0m \u001B[0;34m\u001B[0m\u001B[0m\n",
      "\u001B[0;31mIndexError\u001B[0m: index 4 is out of bounds for axis 1 with size 4"
     ]
    }
   ],
   "source": [
    "model_name = 'incountry_resnet_ms'\n",
    "savedir = os.path.join(OUTPUTS_ROOT_DIR, 'dhs_incountry', 'resnet_ms')\n",
    "ridgecv_incountry_wrapper(model_name, savedir)"
   ]
  },
  {
   "cell_type": "code",
   "execution_count": null,
   "id": "1c1e7a56-8700-4076-a020-ea9add6d6c1d",
   "metadata": {
    "id": "1c1e7a56-8700-4076-a020-ea9add6d6c1d"
   },
   "outputs": [],
   "source": [
    "model_name = 'incountry_resnet_nl'\n",
    "savedir = os.path.join(OUTPUTS_ROOT_DIR, 'dhs_incountry', 'resnet_nl')\n",
    "ridgecv_incountry_wrapper(model_name, savedir)"
   ]
  },
  {
   "cell_type": "markdown",
   "id": "319a6a27-d1b1-4a2d-adc0-1b5981d4476a",
   "metadata": {
    "id": "319a6a27-d1b1-4a2d-adc0-1b5981d4476a"
   },
   "source": [
    "### Concatenated MS + NL Features"
   ]
  },
  {
   "cell_type": "code",
   "execution_count": null,
   "id": "f85d96e7-b7b6-493d-a2c7-655345ae7e07",
   "metadata": {
    "id": "f85d96e7-b7b6-493d-a2c7-655345ae7e07"
   },
   "outputs": [],
   "source": [
    "def ridgecv_incountry_concat_wrapper(model_names: Iterable[str], savedir: str) -> None:\n",
    "    '''\n",
    "    Args\n",
    "    - model_names: list of str, correspond to keys in MODEL_DIRS (without the fold suffix)\n",
    "    - savedir: str, path to directory for saving ridge regression weights and predictions\n",
    "    '''\n",
    "    features_dict = {}\n",
    "    for i, f in enumerate(FOLDS):\n",
    "        concat_features = []  # list of np.array, each shape [N, D_i]\n",
    "        for model_name in model_names:\n",
    "            model_dir = MODEL_DIRS[f'{model_name}_{f}']\n",
    "            npz_path = os.path.join(OUTPUTS_ROOT_DIR, 'dhs_incountry', model_dir, 'features.npz')\n",
    "            npz = load_npz(npz_path, check={'labels': labels})\n",
    "            concat_features.append(npz['features'])\n",
    "        concat_features = np.concatenate(concat_features, axis=1)  # shape [N, D_1 + ... + D_m]\n",
    "        features_dict[f] = concat_features\n",
    "\n",
    "    ridge_cv(\n",
    "        features=features_dict,\n",
    "        labels=labels,\n",
    "        group_labels=incountry_group_labels,\n",
    "        group_names=FOLDS,\n",
    "        do_plot=True,\n",
    "        savedir=savedir,\n",
    "        save_weights=True,\n",
    "        verbose=True)"
   ]
  },
  {
   "cell_type": "code",
   "execution_count": null,
   "id": "6b2a433f-91fc-4d5e-86b9-9e6aa99a9a8d",
   "metadata": {
    "id": "6b2a433f-91fc-4d5e-86b9-9e6aa99a9a8d"
   },
   "outputs": [],
   "source": [
    "model_names = ['incountry_resnet_ms', 'incountry_resnet_nl']\n",
    "savedir = os.path.join(OUTPUTS_ROOT_DIR, 'dhs_incountry', 'resnet_msnl_concat')\n",
    "ridgecv_incountry_concat_wrapper(model_names, savedir)"
   ]
  },
  {
   "cell_type": "markdown",
   "id": "97286925-47ea-4af3-a793-43d2b6bb86f2",
   "metadata": {
    "id": "97286925-47ea-4af3-a793-43d2b6bb86f2"
   },
   "source": [
    "### Transfer"
   ]
  },
  {
   "cell_type": "code",
   "execution_count": null,
   "id": "d0305f31-1eb5-4669-b60f-f32b9a200564",
   "metadata": {
    "id": "d0305f31-1eb5-4669-b60f-f32b9a200564"
   },
   "outputs": [],
   "source": [
    "def ridgecv_incountry_transfer_wrapper(model_name: str, savedir: str) -> None:\n",
    "    '''\n",
    "    Args\n",
    "    - model_name: str, corresponds to keys in MODEL_DIRS (without the fold suffix)\n",
    "    - savedir: str, path to directory for saving ridge regression weights and predictions\n",
    "    '''\n",
    "    model_dir = MODEL_DIRS[model_name]\n",
    "    npz_path = os.path.join(OUTPUTS_ROOT_DIR, 'transfer', model_dir, 'features.npz')\n",
    "    features = load_npz(npz_path, check={'labels': labels})['features']\n",
    "    ridge_cv(\n",
    "        features=features,\n",
    "        labels=labels,\n",
    "        group_labels=incountry_group_labels,\n",
    "        group_names=FOLDS,\n",
    "        do_plot=True,\n",
    "        savedir=savedir,\n",
    "        save_weights=False)"
   ]
  },
  {
   "cell_type": "code",
   "execution_count": null,
   "id": "67fb6938-446f-4e20-87ac-83ae08b16fc7",
   "metadata": {
    "id": "67fb6938-446f-4e20-87ac-83ae08b16fc7"
   },
   "outputs": [],
   "source": [
    "model_name = 'transfer_resnet_ms'\n",
    "savedir = os.path.join(OUTPUTS_ROOT_DIR, 'transfer', MODEL_DIRS[model_name])\n",
    "ridgecv_incountry_transfer_wrapper(model_name, savedir)"
   ]
  },
  {
   "cell_type": "code",
   "execution_count": null,
   "id": "87fc7750-f20b-4328-8476-afe859682e49",
   "metadata": {
    "id": "87fc7750-f20b-4328-8476-afe859682e49"
   },
   "outputs": [],
   "source": [
    "model_name = 'transfer_resnet_rgb'\n",
    "savedir = os.path.join(OUTPUTS_ROOT_DIR, 'transfer', MODEL_DIRS[model_name])\n",
    "ridgecv_incountry_transfer_wrapper(model_name, savedir)"
   ]
  },
  {
   "cell_type": "markdown",
   "id": "Ce_cEwTdt1wD",
   "metadata": {
    "id": "Ce_cEwTdt1wD"
   },
   "source": [
    "#Github"
   ]
  },
  {
   "cell_type": "code",
   "execution_count": null,
   "id": "Wt-HZupHy2Ti",
   "metadata": {
    "colab": {
     "base_uri": "https://localhost:8080/"
    },
    "id": "Wt-HZupHy2Ti",
    "outputId": "e608c0bd-6164-4a5d-c40c-f21a02f82786"
   },
   "outputs": [],
   "source": [
    "%cd '/content/africa_poverty_clean'"
   ]
  },
  {
   "cell_type": "code",
   "execution_count": null,
   "id": "klAtPsGgzOD-",
   "metadata": {
    "colab": {
     "base_uri": "https://localhost:8080/"
    },
    "id": "klAtPsGgzOD-",
    "outputId": "8f6846d3-c64a-40d0-b829-3136dafb858f"
   },
   "outputs": [],
   "source": [
    "!git init"
   ]
  },
  {
   "cell_type": "code",
   "execution_count": null,
   "id": "GJv-yAAfzWMU",
   "metadata": {
    "id": "GJv-yAAfzWMU"
   },
   "outputs": [],
   "source": [
    "!git config --global user.name 'AMNAALMGLY'"
   ]
  },
  {
   "cell_type": "code",
   "execution_count": null,
   "id": "eA_U4S4MzbtP",
   "metadata": {
    "id": "eA_U4S4MzbtP"
   },
   "outputs": [],
   "source": [
    "!git config --global user.email 'mnmnalmagly@gmail.com'"
   ]
  },
  {
   "cell_type": "code",
   "execution_count": null,
   "id": "WP-shjwgzyBP",
   "metadata": {
    "id": "WP-shjwgzyBP"
   },
   "outputs": [],
   "source": [
    "!git add ."
   ]
  },
  {
   "cell_type": "code",
   "execution_count": null,
   "id": "xiQPzgnrz0qy",
   "metadata": {
    "colab": {
     "base_uri": "https://localhost:8080/"
    },
    "id": "xiQPzgnrz0qy",
    "outputId": "28aa7b9d-cf59-49d0-a758-84fa5656f801"
   },
   "outputs": [],
   "source": [
    "!git commit -m 'Amna'"
   ]
  }
 ],
 "metadata": {
  "accelerator": "GPU",
  "colab": {
   "collapsed_sections": [],
   "name": "dhs_resnet_ridge.ipynb",
   "provenance": []
  },
  "kernelspec": {
   "display_name": "Python 3 (ipykernel)",
   "language": "python",
   "name": "python3"
  },
  "language_info": {
   "codemirror_mode": {
    "name": "ipython",
    "version": 3
   },
   "file_extension": ".py",
   "mimetype": "text/x-python",
   "name": "python",
   "nbconvert_exporter": "python",
   "pygments_lexer": "ipython3",
   "version": "3.7.3"
  },
  "toc-autonumbering": false,
  "toc-showcode": false,
  "toc-showmarkdowntxt": false,
  "toc-showtags": false
 },
 "nbformat": 4,
 "nbformat_minor": 5
}